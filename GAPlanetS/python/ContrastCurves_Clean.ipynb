{
 "cells": [
  {
   "cell_type": "code",
   "execution_count": 1,
   "metadata": {},
   "outputs": [
    {
     "name": "stdout",
     "output_type": "stream",
     "text": [
      "core file size          (blocks, -c) 0\r\n",
      "data seg size           (kbytes, -d) unlimited\r\n",
      "file size               (blocks, -f) unlimited\r\n",
      "max locked memory       (kbytes, -l) unlimited\r\n",
      "max memory size         (kbytes, -m) unlimited\r\n",
      "open files                      (-n) 10000\r\n",
      "pipe size            (512 bytes, -p) 1\r\n",
      "stack size              (kbytes, -s) 8192\r\n",
      "cpu time               (seconds, -t) unlimited\r\n",
      "max user processes              (-u) 709\r\n",
      "virtual memory          (kbytes, -v) unlimited\r\n"
     ]
    }
   ],
   "source": [
    "import os\n",
    "import glob\n",
    "import numpy as np\n",
    "\n",
    "import matplotlib.pylab as plt\n",
    "%matplotlib inline\n",
    "import astropy.io.fits as fits\n",
    "\n",
    "import pyklip.klip as klip\n",
    "import pyklip.fakes as fakes\n",
    "import pyklip.instruments.MagAO as MagAO\n",
    "import pyklip.parallelized as parallelized\n",
    "\n",
    "#from scipy import ndimage\n",
    "from importlib import reload\n",
    "\n",
    "#if you get number of open file errors, it's probably because \"open files\" below is small (e.g. 256 by default).\n",
    "#To fix this, close the notebook and terminate the python process with control + c in the terminal\n",
    "# Type ulimit -n 10000 in the terminal and then restart the notebook process with jupyter notebook\n",
    "!ulimit -a"
   ]
  },
  {
   "cell_type": "markdown",
   "metadata": {},
   "source": [
    "# Inject Fakes and run KLIP on these data\n",
    "\n",
    "Nominally, all you should have to change in this notebook to generate a new contrast measurement is the directory name and prefix in the cell below. It will run through the fake planet injection, recovery, throughput calculation, and contrast calculation and write out a file called {prefix}_contrast.fits"
   ]
  },
  {
   "cell_type": "code",
   "execution_count": 2,
   "metadata": {},
   "outputs": [],
   "source": [
    "#if need to add missing header keywords before running KLIP, uncomment this cell and fill in RA, Dec, wl, Peak, FWHM\n",
    "#import pyklip_headers as pykh\n",
    "#pykh.addradec('./sliced_Cont_80pctcut',RA, Dec)\n",
    "#pykh.addwl('./sliced_Cont_80pctcut', wl)\n",
    "#pykh.addstarpeak('./sliced_Cont_80pctcut', peak, FWHM, debug=True)"
   ]
  },
  {
   "cell_type": "code",
   "execution_count": 3,
   "metadata": {},
   "outputs": [],
   "source": [
    "### directory where sliced data lives\n",
    "direc = './sliced_Cont_80pctcut'\n",
    "###load data - CHANGE FOR EACH WFE REDUCTION\n",
    "filelist = glob.glob(direc+\"/sliced*.fits\")\n",
    "# sorts file list so it's sequential\n",
    "filelist = sorted(filelist, key=len)\n",
    "\n",
    "### set up naming and saving. modify according to which KLIP parameters you're running (e.g. a1m4) and dataset above\n",
    "#CHANGE FOR EACH REDUCTION OR YOUR FILES WILL BE OVERWRITTEN\n",
    "#Naming scheme is object_date_cut_wl_klipparams\n",
    "prefix = \"hd169142_8Apr14_80pctcut_cont_a3m6_iwa10\"\n",
    "\n",
    "### CHANGE FOR EACH DATE/DATASET\n",
    "### NOTE THAT THIS DIRECTORY NEEDS TO EXIST ALREADY, so create it by hand\n",
    "outputdir = \"./contrastcurves\" \n",
    "prefix_fakes = prefix + '_FAKES'\n",
    "\n",
    "### pull the values of the star peak from the headers\n",
    "starpeak = []\n",
    "for i in np.arange(len(filelist)):\n",
    "    head = fits.getheader(filelist[i])\n",
    "    starpeak.append(head[\"STARPEAK\"])\n",
    "\n",
    "### specify KLIP parameters here. note filename prefix above should match this\n",
    "#annuli parameter\n",
    "numann = 3\n",
    "#movement parameter\n",
    "movm = 4\n",
    "#KL modes to extract. Can be a list\n",
    "KLlist= [50]\n",
    "#Inner Working Angle\n",
    "IWA = 8"
   ]
  },
  {
   "cell_type": "code",
   "execution_count": 4,
   "metadata": {},
   "outputs": [
    {
     "name": "stdout",
     "output_type": "stream",
     "text": [
      "reading data, num files:  2212\n"
     ]
    },
    {
     "name": "stderr",
     "output_type": "stream",
     "text": [
      "/Users/kfollette/pyklip/pyklip/instruments/MagAO.py:445: RuntimeWarning: cdelt will be ignored since cd is present\n",
      "  w.wcs.cdelt = np.array([header['CDELT1'], header['CDELT2']])\n"
     ]
    }
   ],
   "source": [
    "#import the dataset. Wait to highpass filter until the KLIP call in the next cell \n",
    "dataset = MagAO.MagAOData(filelist, highpass=False)\n",
    "#uncomment the line below and set it if you want to change the inner working angle (central mask)\n",
    "dataset.IWA=IWA"
   ]
  },
  {
   "cell_type": "code",
   "execution_count": null,
   "metadata": {
    "collapsed": true
   },
   "outputs": [],
   "source": []
  },
  {
   "cell_type": "code",
   "execution_count": 5,
   "metadata": {
    "scrolled": true
   },
   "outputs": [],
   "source": [
    "#divide by starpeak values again to get input images in contrast units\n",
    "for i in np.arange(0,len(starpeak)):\n",
    "    dataset.input[i,:,:] /= starpeak[i]\n",
    "\n",
    "#make a \"star stamp\" image to multiply by contrast and inject into the data to create a false planet\n",
    "imsz = dataset.input.shape[1]\n",
    "stmpsz=imsz #edge effects are apparent, so using entire image as \"stamp\"\n",
    "starstamp = dataset.input[:,int((imsz-1)/2-stmpsz/2):int((imsz-1)/2+stmpsz/2+1),int((imsz-1)/2-stmpsz/2):int((imsz-1)/2+stmpsz/2+1)]\n",
    "\n",
    "#if need to check that the starstamp looks reasonable (should just look like image cube), uncomment the line below\n",
    "#fits.writeto('starstamp.fits', starstamp, overwrite=True)"
   ]
  },
  {
   "cell_type": "code",
   "execution_count": 6,
   "metadata": {},
   "outputs": [
    {
     "name": "stdout",
     "output_type": "stream",
     "text": [
      "I will inject  11  planets\n"
     ]
    }
   ],
   "source": [
    "#specify contrast for injected planets. \n",
    "#Can specify difference contrast values as list of same length as number of planets\n",
    "contrast = 1e-2  \n",
    "\n",
    "#radial spacing at which you want to inject false planets (in pixels)\n",
    "spacing = 10\n",
    "\n",
    "#location of first planet to inject (radius in pixels) - should be outside IWA\n",
    "first = 15\n",
    "\n",
    "#compute number of planets to inject\n",
    "n_planets = (dataset.input.shape[1]/2.-first)/spacing\n",
    "n_planets = int(n_planets)\n",
    "print('I will inject ', n_planets, ' planets')"
   ]
  },
  {
   "cell_type": "code",
   "execution_count": 7,
   "metadata": {},
   "outputs": [
    {
     "name": "stdout",
     "output_type": "stream",
     "text": [
      "injecting planets at the following radii: [15, 25, 35, 45, 55, 65, 75, 85, 95, 105, 115]\n"
     ]
    }
   ],
   "source": [
    "#separations (in pixels) where you want to inject planets\n",
    "throughput_seps=[]\n",
    "sep=first\n",
    "for i in np.arange(n_planets):\n",
    "    throughput_seps.append(sep)\n",
    "    sep+=spacing\n",
    "    \n",
    "print(\"injecting planets at the following radii:\", throughput_seps)\n",
    "    \n",
    "#approximate FWHM of dataset\n",
    "fwhm = 5 \n",
    "\n",
    "#PA of first injected planet\n",
    "theta = 0.\n",
    "\n",
    "#number added to PA of injected planet for each new separation (so planets are at different PAs). May be 0. \n",
    "clockang=120."
   ]
  },
  {
   "cell_type": "code",
   "execution_count": 8,
   "metadata": {
    "scrolled": true
   },
   "outputs": [],
   "source": [
    "#multiply starstamp image by contrast to create your false planets\n",
    "to_inject = contrast*starstamp\n",
    "\n",
    "#inject planets\n",
    "for sep in throughput_seps:     \n",
    "    fakes.inject_planet(dataset.input, dataset.centers, to_inject, dataset.wcs, sep, theta, fwhm=fwhm, stampsize=imsz)#, thetas=thetas) \n",
    "    theta+=clockang"
   ]
  },
  {
   "cell_type": "code",
   "execution_count": 9,
   "metadata": {
    "scrolled": false
   },
   "outputs": [
    {
     "name": "stdout",
     "output_type": "stream",
     "text": [
      "Begin align and scale images for each wavelength\n",
      "Wavelength 0.642 with index 0 has finished align and scale. Queuing for KLIP\n",
      "Total number of tasks for KLIP processing is 3\n",
      "Closing threadpool\n",
      "Derotating Images...\n",
      "Writing Images to directory /Users/kfollette/Desktop/HD169142_SNRs/contrastcurves\n"
     ]
    },
    {
     "name": "stderr",
     "output_type": "stream",
     "text": [
      "/Users/kfollette/pyklip/pyklip/parallelized.py:1561: RuntimeWarning: Mean of empty slice\n",
      "  KLmode_cube = np.nanmean(pixel_weights * dataset.output, axis=(1,2))\n",
      "WARNING: AstropyDeprecationWarning: \"clobber\" was deprecated in version 2.0 and will be removed in a future version. Use argument \"overwrite\" instead. [pyklip.instruments.MagAO]\n"
     ]
    }
   ],
   "source": [
    "#KLIP dataset with fake planets. Highpass filter here. \n",
    "parallelized.klip_dataset(dataset, outputdir=outputdir, fileprefix=prefix_fakes,algo = 'klip', \n",
    "                          annuli=numann, subsections=1, movement=movm, numbasis=KLlist, calibrate_flux=False, \n",
    "                          mode=\"ADI\", highpass=True, save_aligned=False)"
   ]
  },
  {
   "cell_type": "code",
   "execution_count": 10,
   "metadata": {},
   "outputs": [],
   "source": [
    "#uncomment this line if you need a sanity check of what's going into klip\n",
    "#fits.writeto('KLIP_input_withfakes.fits', dataset.input, overwrite=True)\n",
    "## uncomment if want to see raw KLIP output (individual images)\n",
    "#fits.writeto('KLIP_output_withfakes.fits', dataset.output, overwrite=True)"
   ]
  },
  {
   "cell_type": "markdown",
   "metadata": {},
   "source": [
    "# Recover Injected fakes"
   ]
  },
  {
   "cell_type": "code",
   "execution_count": 11,
   "metadata": {},
   "outputs": [
    {
     "name": "stdout",
     "output_type": "stream",
     "text": [
      "fake planet at  15  pixels has a mean throughput of 0.480810478699 median of 0.479984790727  and stdev of  0.0917511802764\n",
      "fake planet at  25  pixels has a mean throughput of 0.656941128435 median of 0.656459601557  and stdev of  0.0675281791668\n",
      "fake planet at  35  pixels has a mean throughput of 0.727709495678 median of 0.731677729168  and stdev of  0.0657745539393\n",
      "fake planet at  45  pixels has a mean throughput of 0.822515918819 median of 0.826150194028  and stdev of  0.0410572728659\n",
      "fake planet at  55  pixels has a mean throughput of 0.629363549473 median of 0.631457305181  and stdev of  0.0551896557672\n",
      "fake planet at  65  pixels has a mean throughput of 0.686664165349 median of 0.687755184219  and stdev of  0.049616072723\n",
      "fake planet at  75  pixels has a mean throughput of 0.721520521411 median of 0.722359471024  and stdev of  0.0437508392011\n",
      "fake planet at  85  pixels has a mean throughput of 0.75976445186 median of 0.760658668798  and stdev of  0.0323543195173\n",
      "fake planet at  95  pixels has a mean throughput of 0.655204278767 median of 0.655126047086  and stdev of  0.0632704148425\n",
      "fake planet at  105  pixels has a mean throughput of 0.694501494028 median of 0.690106331774  and stdev of  0.343066288142\n",
      "fake planet at  115  pixels has a mean throughput of 0.725149104497 median of 0.726629443773  and stdev of  0.0409382283244\n"
     ]
    }
   ],
   "source": [
    "#reset initial theta\n",
    "theta=0.\n",
    "#create a list that will store throughputs\n",
    "thrpt_list=[]\n",
    "\n",
    "#loop through planet locations and retrieve flux\n",
    "i=0\n",
    "nimages = dataset.output.shape[1]\n",
    "fake_fluxes=np.zeros((n_planets, nimages))\n",
    "\n",
    "for sep in throughput_seps: \n",
    "    #thetas for retrieve planet call are measured from +x axis, so should always add 90 to pa for thetas keyword\n",
    "    #dataset shape is [KL modes, n images, 1(wl dim), xdim, ydim]\n",
    "    fake_flux = fakes.retrieve_planet_flux(dataset.output[0,:,0,:,:], dataset.centers, dataset.wcs, sep, theta, searchrad=8, guessfwhm=fwhm, \n",
    "                                            guesspeak=contrast*np.median(dataset.star_flux),\n",
    "                                            thetas=np.repeat(theta+90,dataset.output.shape[1]), refinefit=True)\n",
    "    fake_fluxes[i,:]=fake_flux\n",
    "    thrpt_list.append(np.mean(fake_flux/(contrast)))\n",
    "    print(\"fake planet at \", sep, \" pixels has a mean throughput of\", np.mean(fake_flux/(contrast)),\n",
    "          \"median of\", np.median(fake_flux/(contrast)), \" and stdev of \", np.std(fake_flux/(contrast)))\n",
    "    theta += clockang\n",
    "    i+=1"
   ]
  },
  {
   "cell_type": "code",
   "execution_count": 12,
   "metadata": {},
   "outputs": [
    {
     "name": "stdout",
     "output_type": "stream",
     "text": [
      "38.5\n"
     ]
    }
   ],
   "source": [
    "annspacing = (imsz/2.-dataset.IWA)/numann\n",
    "print(annspacing)"
   ]
  },
  {
   "cell_type": "code",
   "execution_count": 13,
   "metadata": {},
   "outputs": [
    {
     "name": "stdout",
     "output_type": "stream",
     "text": [
      "[ 48.5  87. ]\n"
     ]
    }
   ],
   "source": [
    "zone_boundaries = np.arange(1,numann)*annspacing+dataset.IWA\n",
    "print(zone_boundaries)"
   ]
  },
  {
   "cell_type": "code",
   "execution_count": 14,
   "metadata": {},
   "outputs": [
    {
     "name": "stdout",
     "output_type": "stream",
     "text": [
      "[ 0.00474504  0.00518514  0.00545572 ...,  0.004692    0.00243344\n",
      "  0.00375657]\n"
     ]
    }
   ],
   "source": [
    "print(fake_fluxes[0])"
   ]
  },
  {
   "cell_type": "code",
   "execution_count": 16,
   "metadata": {},
   "outputs": [
    {
     "data": {
      "image/png": "[encoded data removed]",
      "text/plain": [
       "<matplotlib.figure.Figure at 0x1a0b847ba8>"
      ]
     },
     "metadata": {},
     "output_type": "display_data"
    }
   ],
   "source": [
    "#plot the throughput values (should all be <1 and should increase outward until they hit a zone boundary)\n",
    "plt.plot(throughput_seps, thrpt_list,'bo', label=\"data\")\n",
    "for bd in zone_boundaries:\n",
    "    plt.plot((bd,bd),(0,1),'--',label='zone boundary')\n",
    "plt.legend()\n",
    "plt.savefig(outputdir+'/'+prefix+'_throughput')"
   ]
  },
  {
   "cell_type": "markdown",
   "metadata": {},
   "source": [
    "# Run KLIP on data without fakes and measure contrast"
   ]
  },
  {
   "cell_type": "code",
   "execution_count": 17,
   "metadata": {
    "collapsed": true
   },
   "outputs": [],
   "source": [
    "# specify directory and read in data again. This time we will NOT inject fakes\n",
    "filelist = glob.glob(direc+\"/sliced*.fits\")\n",
    "filelist = sorted(filelist, key=len)"
   ]
  },
  {
   "cell_type": "code",
   "execution_count": 18,
   "metadata": {},
   "outputs": [
    {
     "name": "stdout",
     "output_type": "stream",
     "text": [
      "reading data, num files:  2212\n"
     ]
    },
    {
     "name": "stderr",
     "output_type": "stream",
     "text": [
      "/Users/kfollette/pyklip/pyklip/instruments/MagAO.py:445: RuntimeWarning: cdelt will be ignored since cd is present\n",
      "  w.wcs.cdelt = np.array([header['CDELT1'], header['CDELT2']])\n"
     ]
    }
   ],
   "source": [
    "## create dataset object for processing\n",
    "dataset = MagAO.MagAOData(filelist, highpass=False)\n",
    "## set inner working angle to match previous\n",
    "dataset.IWA=IWA"
   ]
  },
  {
   "cell_type": "code",
   "execution_count": 19,
   "metadata": {
    "collapsed": true
   },
   "outputs": [],
   "source": [
    "#get image units in terms of contrast rather than counts by dividing each image by the star peak\n",
    "for i in np.arange(0,len(starpeak)):\n",
    "    dataset.input[i,:,:] /= starpeak[i]"
   ]
  },
  {
   "cell_type": "code",
   "execution_count": 20,
   "metadata": {
    "collapsed": true
   },
   "outputs": [],
   "source": [
    "#if need sanity check of what is going into KLIP, uncomment the next line\n",
    "#fits.writeto('KLIP_input.fits', dataset.input, overwrite=True)"
   ]
  },
  {
   "cell_type": "code",
   "execution_count": 21,
   "metadata": {},
   "outputs": [
    {
     "name": "stdout",
     "output_type": "stream",
     "text": [
      "Begin align and scale images for each wavelength\n",
      "Wavelength 0.642 with index 0 has finished align and scale. Queuing for KLIP\n",
      "Total number of tasks for KLIP processing is 3\n",
      "Closing threadpool\n",
      "Derotating Images...\n",
      "Writing Images to directory /Users/kfollette/Desktop/HD169142_SNRs/contrastcurves\n"
     ]
    },
    {
     "name": "stderr",
     "output_type": "stream",
     "text": [
      "/Users/kfollette/pyklip/pyklip/parallelized.py:1561: RuntimeWarning: Mean of empty slice\n",
      "  KLmode_cube = np.nanmean(pixel_weights * dataset.output, axis=(1,2))\n",
      "WARNING: AstropyDeprecationWarning: \"clobber\" was deprecated in version 2.0 and will be removed in a future version. Use argument \"overwrite\" instead. [pyklip.instruments.MagAO]\n"
     ]
    }
   ],
   "source": [
    "#klip the dataset with same set of KLIP parameters as fake planets\n",
    "parallelized.klip_dataset(dataset, outputdir=outputdir, fileprefix=prefix, annuli = numann, subsections = 1, algo = 'klip',\n",
    "                             movement=movm, numbasis=KLlist, calibrate_flux=False, mode=\"ADI\", highpass=True)"
   ]
  },
  {
   "cell_type": "code",
   "execution_count": 44,
   "metadata": {},
   "outputs": [],
   "source": [
    "##pull some needed info from headers\n",
    "kl_hdulist = fits.open(\"{out}/{pre}-KLmodes-all.fits\".format(out=outputdir, pre=prefix))\n",
    "klcube = kl_hdulist[1].data\n",
    "#first number is KL mode index of cube. Don't change unless you ran multiple KL modes. \n",
    "klim=klcube[0,:,:]\n",
    "klheader = kl_hdulist[0].header\n",
    "dataset_center = [kl_hdulist[0].header['PSFCENTX'], kl_hdulist[0].header['PSFCENTY'] ]   "
   ]
  },
  {
   "cell_type": "code",
   "execution_count": 45,
   "metadata": {
    "collapsed": true
   },
   "outputs": [],
   "source": [
    "##if need to sanity check KLIP output, uncomment line below\n",
    "#fits.writeto('KLIP_output.fits', dataset.output, overwrite=True)"
   ]
  },
  {
   "cell_type": "code",
   "execution_count": 46,
   "metadata": {},
   "outputs": [],
   "source": [
    "dataset_owa = 125 # 1\" is the furthest out we will go for computing contrast. Can change if needed.\n",
    "dataset_fwhm = 5.1 # fwhm of PSF. needed for correction for small number statistics"
   ]
  },
  {
   "cell_type": "code",
   "execution_count": 47,
   "metadata": {},
   "outputs": [],
   "source": [
    "## Uncomment and change parameters if there is a REAL object in your data that needs to be masked\n",
    "## separation and PA of object\n",
    "#obj_sep = 30.11 # pixels\n",
    "#obj_pa = 212.2 # degrees\n",
    "#obj_x = obj_sep * -np.sin(np.radians(obj_pa)) + dataset_center[0]\n",
    "#obj_y = obj_sep * np.cos(np.radians(obj_pa)) + dataset_center[1]\n",
    "## now mask the data\n",
    "##create xdim x ydim array to store distances from planets\n",
    "#ydat, xdat = np.indices(klim.shape)\n",
    "##populate array with distances from planets\n",
    "#distance_from_planet = np.sqrt((xdat - obj_x)**2 + (ydat - obj_y)**2)\n",
    "##mask anything within 1.5*FWHM\n",
    "#klim[np.where(distance_from_planet <= 1.5*dataset_fwhm)] = np.nan"
   ]
  },
  {
   "cell_type": "code",
   "execution_count": 48,
   "metadata": {},
   "outputs": [
    {
     "data": {
      "text/plain": [
       "<matplotlib.colorbar.Colorbar at 0x1a286ada20>"
      ]
     },
     "execution_count": 48,
     "metadata": {},
     "output_type": "execute_result"
    },
    {
     "data": {
      "image/png": "[encoded data removed]",
      "text/plain": [
       "<matplotlib.figure.Figure at 0x1a296d69b0>"
      ]
     },
     "metadata": {},
     "output_type": "display_data"
    }
   ],
   "source": [
    "#Another sanity check. Display KLIPed image. Should not have fake planets. Masks hould cover planet if masking. \n",
    "#You may wish to change vmin and vmax\n",
    "cen=int((imsz-1)/2.)\n",
    "plt.imshow(klim[cen-50:cen+50,cen-50:cen+50],vmin=-0.0005,vmax=0.0005,origin='lower')\n",
    "plt.colorbar()"
   ]
  },
  {
   "cell_type": "code",
   "execution_count": 49,
   "metadata": {},
   "outputs": [],
   "source": [
    "#extract contrast values at designated separations\n",
    "contrast_seps, contrast = klip.meas_contrast(klim, dataset.IWA, dataset_owa, \\\n",
    "                                             dataset_fwhm, \n",
    "                                             center=dataset_center, low_pass_filter=False)\n",
    "#print(contrast_seps, contrast)"
   ]
  },
  {
   "cell_type": "code",
   "execution_count": 50,
   "metadata": {},
   "outputs": [
    {
     "data": {
      "image/png": "[encoded data removed]",
      "text/plain": [
       "<matplotlib.figure.Figure at 0x1a258be748>"
      ]
     },
     "metadata": {},
     "output_type": "display_data"
    }
   ],
   "source": [
    "platescale=0.0078513\n",
    "plt.plot(contrast_seps*platescale, contrast)\n",
    "#plt.plot(contrast_seps*platescale, contrast, 'bx')\n",
    "plt.yscale(\"log\")\n",
    "plt.ylim(1e-5, 1e-1)\n",
    "plt.xlabel(\"distance in arcseconds\")\n",
    "plt.ylabel(\"contrast\")\n",
    "if dataset.IWA > 0:\n",
    "    plt.plot((dataset.IWA*platescale,dataset.IWA*platescale),(1e-5,1e-1), label='IWA')\n",
    "for bd in zone_boundaries*platescale:\n",
    "    plt.plot((bd,bd),(0,1),'--',label='zone boundary')\n",
    "plt.legend()\n",
    "plt.savefig(outputdir+'/'+prefix+'_rawcontrast')"
   ]
  },
  {
   "cell_type": "markdown",
   "metadata": {},
   "source": [
    "# Put them together - Corrected Contrast Curves"
   ]
  },
  {
   "cell_type": "code",
   "execution_count": 51,
   "metadata": {},
   "outputs": [],
   "source": [
    "corrected_contrast_curve = np.copy(contrast)\n",
    "for i, sep in enumerate(contrast_seps):\n",
    "    closest_throughput_index = np.argmin(np.abs(throughput_seps - sep))\n",
    "    # uncomment next line for sanity check \n",
    "    # print('for separation', sep, \" closest throughput is at separation \", throughput_seps[closest_throughput_index])\n",
    "    corrected_contrast_curve[i] /= thrpt_list[closest_throughput_index]"
   ]
  },
  {
   "cell_type": "code",
   "execution_count": 52,
   "metadata": {},
   "outputs": [
    {
     "data": {
      "image/png": "[encoded data removed]",
      "text/plain": [
       "<matplotlib.figure.Figure at 0x1a187b45c0>"
      ]
     },
     "metadata": {},
     "output_type": "display_data"
    }
   ],
   "source": [
    "plt.plot(contrast_seps*platescale, corrected_contrast_curve, label='corrected 5$\\sigma$ contrast')\n",
    "plt.plot(contrast_seps*platescale, contrast, label='raw 5$\\sigma$ contrast', color='gray')\n",
    "plt.yscale(\"log\")\n",
    "plt.ylim(1e-5, 1e-1)\n",
    "plt.xlabel(\"distance in arcseconds\")\n",
    "plt.ylabel(\"contrast\")\n",
    "if dataset.IWA > 0:\n",
    "    plt.plot((dataset.IWA*platescale,dataset.IWA*platescale),(1e-5,1e-1), 'k--', label='IWA')\n",
    "#for bd in zone_boundaries*platescale:\n",
    " #   plt.plot((bd,bd),(0,1),'--',label='zone boundary')\n",
    "plt.legend()\n",
    "plt.savefig(outputdir+'/'+prefix+'_contrastcurve')"
   ]
  },
  {
   "cell_type": "code",
   "execution_count": null,
   "metadata": {
    "collapsed": true
   },
   "outputs": [],
   "source": [
    "#run snr map and compare value as sanity check\n",
    "planetspecs = ([20],[187],[4,20])\n",
    "snr.create_map(klim, fwhm, planets=planetspecs, saveOutput=True, checkmask=True, noisemap=True)"
   ]
  },
  {
   "cell_type": "code",
   "execution_count": null,
   "metadata": {
    "collapsed": true
   },
   "outputs": [],
   "source": []
  },
  {
   "cell_type": "code",
   "execution_count": null,
   "metadata": {
    "collapsed": true
   },
   "outputs": [],
   "source": []
  }
 ],
 "metadata": {
  "anaconda-cloud": {},
  "kernelspec": {
   "display_name": "Python 3",
   "language": "python",
   "name": "python3"
  },
  "language_info": {
   "codemirror_mode": {
    "name": "ipython",
    "version": 3
   },
   "file_extension": ".py",
   "mimetype": "text/x-python",
   "name": "python",
   "nbconvert_exporter": "python",
   "pygments_lexer": "ipython3",
   "version": "3.6.7"
  }
 },
 "nbformat": 4,
 "nbformat_minor": 1
}
