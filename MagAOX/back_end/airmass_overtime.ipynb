{
 "cells": [
  {
   "cell_type": "markdown",
   "metadata": {},
   "source": [
    "# Goal: Make an iObserve clone"
   ]
  },
  {
   "cell_type": "markdown",
   "metadata": {},
   "source": [
    "## Imports"
   ]
  },
  {
   "cell_type": "code",
   "execution_count": null,
   "metadata": {},
   "outputs": [],
   "source": [
    "from astroplan import FixedTarget, Observer\n",
    "from astropy.coordinates import EarthLocation\n",
    "from astroplan.plots import plot_airmass\n",
    "from astroplan.plots import plot_sky\n",
    "from astropy.time import Time\n",
    "\n",
    "import astropy.units as u\n",
    "import matplotlib.pyplot as plt\n",
    "import numpy as np"
   ]
  },
  {
   "cell_type": "markdown",
   "metadata": {},
   "source": [
    "## Time and Observing Site"
   ]
  },
  {
   "cell_type": "code",
   "execution_count": null,
   "metadata": {},
   "outputs": [],
   "source": [
    "#both las and los are the locations of MagAO, but one is used for the plot and the other for the time\n",
    "las = Observer.at_site('LCO')\n",
    "lco = EarthLocation.of_site('Las Campanas Observatory')"
   ]
  },
  {
   "cell_type": "code",
   "execution_count": null,
   "metadata": {},
   "outputs": [],
   "source": [
    "start_time = Time('2019-07-18 21:00:00', location = lco)"
   ]
  },
  {
   "cell_type": "code",
   "execution_count": null,
   "metadata": {},
   "outputs": [],
   "source": [
    "end_time = Time('2019-07-19 13:00:00', location = lco)"
   ]
  },
  {
   "cell_type": "code",
   "execution_count": null,
   "metadata": {},
   "outputs": [],
   "source": [
    "date = str(start_time)[:10] + ' to ' + str(end_time)[:10]"
   ]
  },
  {
   "cell_type": "code",
   "execution_count": null,
   "metadata": {},
   "outputs": [],
   "source": [
    "date"
   ]
  },
  {
   "cell_type": "code",
   "execution_count": null,
   "metadata": {},
   "outputs": [],
   "source": [
    "delta_t = end_time - start_time"
   ]
  },
  {
   "cell_type": "code",
   "execution_count": null,
   "metadata": {},
   "outputs": [],
   "source": [
    "observe_time = start_time + delta_t*np.linspace(0, 1, 75)"
   ]
  },
  {
   "cell_type": "markdown",
   "metadata": {},
   "source": [
    "## Stars"
   ]
  },
  {
   "cell_type": "code",
   "execution_count": null,
   "metadata": {},
   "outputs": [],
   "source": [
    "target_list = ['Vega', 'Sirius', 'HD 168607', 'HD 167356', 'HD 168625']"
   ]
  },
  {
   "cell_type": "code",
   "execution_count": null,
   "metadata": {},
   "outputs": [],
   "source": [
    "#guide_stars = ['HD 200466B', 'HD 207966']"
   ]
  },
  {
   "cell_type": "code",
   "execution_count": null,
   "metadata": {},
   "outputs": [],
   "source": [
    "x = 0\n",
    "for i in target_list:\n",
    "    target_list[x] = FixedTarget.from_name(target_list[x])\n",
    "    x = x + 1"
   ]
  },
  {
   "cell_type": "code",
   "execution_count": null,
   "metadata": {},
   "outputs": [],
   "source": [
    "target_list"
   ]
  },
  {
   "cell_type": "markdown",
   "metadata": {},
   "source": [
    "## Airmass Curve"
   ]
  },
  {
   "cell_type": "code",
   "execution_count": null,
   "metadata": {
    "scrolled": true
   },
   "outputs": [],
   "source": [
    "plt.rcParams['font.family'] = \"Times New Roman\"\n",
    "plt.rcParams['legend.loc'] = \"Upper Right\"\n",
    "plt.rcParams['figure.dpi'] = 300\n",
    "\n",
    "\n",
    "x = 0\n",
    "for i in target_list:\n",
    "    plot_airmass(target_list[x], las, observe_time, brightness_shading=True, altitude_yaxis=True)\n",
    "    x = x + 1\n",
    "\n",
    "\n",
    "plt.legend(shadow=True, loc='center left', bbox_to_anchor=(1.1, 1))\n",
    "plt.title('Airmass Curve for Night of ' + date)\n",
    "\n",
    "plt.savefig('airmass.png', bbox_inches='tight', pad_inches=0.25)"
   ]
  },
  {
   "cell_type": "code",
   "execution_count": null,
   "metadata": {},
   "outputs": [],
   "source": []
  },
  {
   "cell_type": "markdown",
   "metadata": {},
   "source": [
    "## Overtime (Multiple)"
   ]
  },
  {
   "cell_type": "code",
   "execution_count": null,
   "metadata": {},
   "outputs": [],
   "source": [
    "midnight = Time('2019-07-19 00:00:00')\n",
    "observe_time = midnight\n",
    "observe_time = observe_time + np.linspace(-3, 12, 16)*u.hour\n",
    "\n",
    "print(observe_time)"
   ]
  },
  {
   "cell_type": "code",
   "execution_count": null,
   "metadata": {},
   "outputs": [],
   "source": [
    "x = 0\n",
    "for i in target_list:\n",
    "    plot_sky(target_list[x], las, observe_time)\n",
    "    x = x + 1\n",
    "\n",
    "plt.title('Location of Targets on ' + date, y = 1.15)\n",
    "plt.legend(shadow=True, loc='center left', bbox_to_anchor=(1.1, 1))\n",
    "plt.savefig('targets_overtime.png', bbox_inches='tight', pad_inches=0.25)"
   ]
  },
  {
   "cell_type": "code",
   "execution_count": null,
   "metadata": {},
   "outputs": [],
   "source": []
  },
  {
   "cell_type": "code",
   "execution_count": null,
   "metadata": {},
   "outputs": [],
   "source": []
  },
  {
   "cell_type": "code",
   "execution_count": null,
   "metadata": {},
   "outputs": [],
   "source": [
    "## Following is for ip we want to implement this fun feature"
   ]
  },
  {
   "cell_type": "code",
   "execution_count": null,
   "metadata": {},
   "outputs": [],
   "source": [
    "# Snapshot of Instance (Multiple)"
   ]
  },
  {
   "cell_type": "code",
   "execution_count": null,
   "metadata": {},
   "outputs": [],
   "source": [
    "observe_time = Time('2019-07-18 21:00:00')\n",
    "observe_time = observe_time\n",
    "\n",
    "print(observe_time)"
   ]
  },
  {
   "cell_type": "code",
   "execution_count": null,
   "metadata": {},
   "outputs": [],
   "source": [
    "x = 0\n",
    "for i in target_list:\n",
    "    plot_sky(target_list[x], las, observe_time)\n",
    "    x = x + 1\n",
    "    \n",
    "plt.title('Location of Targets at ' + str(observe_time), y = 1.15)\n",
    "plt.legend(shadow=True)"
   ]
  }
 ],
 "metadata": {
  "kernelspec": {
   "display_name": "Python 3",
   "language": "python",
   "name": "python3"
  },
  "language_info": {
   "codemirror_mode": {
    "name": "ipython",
    "version": 3
   },
   "file_extension": ".py",
   "mimetype": "text/x-python",
   "name": "python",
   "nbconvert_exporter": "python",
   "pygments_lexer": "ipython3",
   "version": "3.7.3"
  }
 },
 "nbformat": 4,
 "nbformat_minor": 2
}
