{
 "cells": [
  {
   "cell_type": "markdown",
   "metadata": {},
   "source": [
    "# Goal: Create a prototype web tool that turns a list of Simbad-resolvable astronomical object names into a properly formatted Magellan catalog entry."
   ]
  },
  {
   "cell_type": "markdown",
   "metadata": {},
   "source": [
    "## Imports"
   ]
  },
  {
   "cell_type": "code",
   "execution_count": null,
   "metadata": {},
   "outputs": [],
   "source": [
    "import numpy as np\n",
    "import pandas as pd \n",
    "from astroquery.simbad import Simbad\n",
    "from subprocess import *"
   ]
  },
  {
   "cell_type": "markdown",
   "metadata": {},
   "source": [
    "## Objects & Guide Stars & Instrument Rotator & Equinox & Epoch of PM"
   ]
  },
  {
   "cell_type": "code",
   "execution_count": null,
   "metadata": {},
   "outputs": [],
   "source": [
    "target_list = ['Vega', 'Sirius', 'HD 168607', 'HD 167356', 'HD 168625']"
   ]
  },
  {
   "cell_type": "code",
   "execution_count": null,
   "metadata": {},
   "outputs": [],
   "source": [
    "guide_stars = ['HD 200466B', 'HD 207966']"
   ]
  },
  {
   "cell_type": "code",
   "execution_count": null,
   "metadata": {},
   "outputs": [],
   "source": [
    "InstRotOffset = -140.75\n",
    "InstRotOffsetMode = 'OFF'"
   ]
  },
  {
   "cell_type": "code",
   "execution_count": null,
   "metadata": {},
   "outputs": [],
   "source": [
    "equinox = 2000"
   ]
  },
  {
   "cell_type": "code",
   "execution_count": null,
   "metadata": {},
   "outputs": [],
   "source": [
    "epoch_pm = 2019.7"
   ]
  },
  {
   "cell_type": "markdown",
   "metadata": {},
   "source": [
    "## Magellan Catalog Entry"
   ]
  },
  {
   "cell_type": "code",
   "execution_count": null,
   "metadata": {},
   "outputs": [],
   "source": [
    "MagCatEntry = pd.DataFrame(columns = ['#',  \n",
    "                                      ' ', \n",
    "                                      'RA', \n",
    "                                      'Dec', \n",
    "                                      'equinox', \n",
    "                                      'RApm', \n",
    "                                      'Decpm', \n",
    "                                      'offset', \n",
    "                                      'rot', \n",
    "                                      'RA_probe1', \n",
    "                                      'Dec_probe1', \n",
    "                                      'equinox_probe1', \n",
    "                                      'RA_probe2', \n",
    "                                      'Dec_probe2', \n",
    "                                      'equinox_probe2', \n",
    "                                      'pm_epoch'], \n",
    "                           index = [' '])\n",
    "\n",
    "#Appending Header\n",
    "MagCatEntry.at['0', '#'] = '###'\n",
    "MagCatEntry.at['0', ' '] = 'name'\n",
    "MagCatEntry.at['0', 'RA'] = 'hh:mm:ss.s'\n",
    "MagCatEntry.at['0', 'Dec'] = 'sdd:mm:ss'\n",
    "MagCatEntry.at['0', 'equinox'] = 'yyyy.0'\n",
    "MagCatEntry.at['0', 'RApm'] = 's.ss'\n",
    "MagCatEntry.at['0', 'Decpm'] = 's.ss'\n",
    "MagCatEntry.at['0', 'equinox'] = 'yyyy.0'\n",
    "MagCatEntry.at['0', 'offset'] = 'angle'\n",
    "MagCatEntry.at['0', 'rot'] = 'mode'\n",
    "MagCatEntry.at['0', 'RA_probe1'] = 'hh:mm:ss.s'\n",
    "MagCatEntry.at['0', 'Dec_probe1'] = 'sdd:mm:ss'\n",
    "MagCatEntry.at['0', 'equinox_probe1'] = 'yyyy.0'\n",
    "MagCatEntry.at['0', 'RA_probe2'] = 'hh:mm:ss.s'\n",
    "MagCatEntry.at['0', 'Dec_probe2'] = 'sdd:mm:ss'\n",
    "MagCatEntry.at['0', 'equinox_probe2'] = 'yyyy.0'\n",
    "MagCatEntry.at['0', 'pm_epoch'] = 'yyyy.0'\n",
    "\n",
    "\n",
    "x = 0\n",
    "for i in target_list:\n",
    "    MagCatEntry = MagCatEntry.append(pd.Series(), ignore_index = True)\n",
    "    x = x + 1\n",
    "\n",
    "MagCatEntry = MagCatEntry.drop([0])\n",
    "MagCatEntry = MagCatEntry.reset_index()\n",
    "MagCatEntry = MagCatEntry.drop(columns=['index'])"
   ]
  },
  {
   "cell_type": "code",
   "execution_count": null,
   "metadata": {
    "scrolled": true
   },
   "outputs": [],
   "source": [
    "MagCatEntry"
   ]
  },
  {
   "cell_type": "markdown",
   "metadata": {
    "scrolled": true
   },
   "source": [
    "## Custom Simbad"
   ]
  },
  {
   "cell_type": "code",
   "execution_count": null,
   "metadata": {},
   "outputs": [],
   "source": [
    "customSimbad = Simbad()\n",
    "customSimbad.add_votable_fields('ra(s)')\n",
    "customSimbad.add_votable_fields('dec(s)')\n",
    "customSimbad.add_votable_fields('pmra')\n",
    "customSimbad.add_votable_fields('pmdec')"
   ]
  },
  {
   "cell_type": "code",
   "execution_count": null,
   "metadata": {},
   "outputs": [],
   "source": [
    "#Simbad.list_votable_fields()"
   ]
  },
  {
   "cell_type": "code",
   "execution_count": null,
   "metadata": {},
   "outputs": [],
   "source": [
    "#Simbad.get_field_description('propermotions')"
   ]
  },
  {
   "cell_type": "markdown",
   "metadata": {},
   "source": [
    "## Fields 1 – 7"
   ]
  },
  {
   "cell_type": "code",
   "execution_count": null,
   "metadata": {},
   "outputs": [],
   "source": [
    "columns = {'MAIN_ID': [0], 'RA': [0], 'DEC': [0], 'PMRA': [0], 'PMDEC': [0]}\n",
    "targets = pd.DataFrame(data = columns)\n",
    "\n",
    "x = 0\n",
    "for i in target_list:\n",
    "    star = customSimbad.query_object(target_list[x])\n",
    "    star.keep_columns(['MAIN_ID', 'RA', 'DEC', 'PMRA', 'PMDEC'])\n",
    "    star = star.to_pandas()\n",
    "    targets = targets.append(star)\n",
    "    x = x + 1\n",
    "    \n",
    "    \n",
    "targets = targets.iloc[1:]"
   ]
  },
  {
   "cell_type": "code",
   "execution_count": null,
   "metadata": {
    "scrolled": false
   },
   "outputs": [],
   "source": [
    "targets"
   ]
  },
  {
   "cell_type": "code",
   "execution_count": null,
   "metadata": {},
   "outputs": [],
   "source": [
    "targets = targets.values.tolist()"
   ]
  },
  {
   "cell_type": "code",
   "execution_count": null,
   "metadata": {},
   "outputs": [],
   "source": [
    "targets"
   ]
  },
  {
   "cell_type": "markdown",
   "metadata": {},
   "source": [
    "## Fields 10 – 15"
   ]
  },
  {
   "cell_type": "code",
   "execution_count": null,
   "metadata": {},
   "outputs": [],
   "source": [
    "columns = {'RA': [0], 'DEC': [0]}\n",
    "guides = pd.DataFrame(data = columns)\n",
    "\n",
    "x = 0\n",
    "for i in guide_stars:\n",
    "    star = customSimbad.query_object(guide_stars[x])\n",
    "    star.keep_columns(['RA', 'DEC'])\n",
    "    star = star.to_pandas()\n",
    "    guides = guides.append(star)\n",
    "    x = x + 1\n",
    "    \n",
    "    \n",
    "guides = guides.iloc[1:]"
   ]
  },
  {
   "cell_type": "code",
   "execution_count": null,
   "metadata": {},
   "outputs": [],
   "source": [
    "guides"
   ]
  },
  {
   "cell_type": "code",
   "execution_count": null,
   "metadata": {},
   "outputs": [],
   "source": [
    "guides = guides.values.tolist()"
   ]
  },
  {
   "cell_type": "markdown",
   "metadata": {},
   "source": [
    "## Appending the Series"
   ]
  },
  {
   "cell_type": "markdown",
   "metadata": {},
   "source": [
    "### Appending Rows 5, 8 – 16 (static)"
   ]
  },
  {
   "cell_type": "code",
   "execution_count": null,
   "metadata": {},
   "outputs": [],
   "source": [
    "x = 1\n",
    "for i in target_list:\n",
    "    MagCatEntry.at[x, 'equinox'] = equinox\n",
    "    MagCatEntry.at[x, 'offset'] = InstRotOffset\n",
    "    MagCatEntry.at[x, 'rot'] = InstRotOffsetMode\n",
    "    MagCatEntry.at[x, 'RA_probe1'] = guides[0][0]\n",
    "    MagCatEntry.at[x, 'Dec_probe1'] = guides[0][1]\n",
    "    MagCatEntry.at[x, 'equinox_probe1'] = equinox\n",
    "    MagCatEntry.at[x, 'RA_probe2'] = guides[1][0]\n",
    "    MagCatEntry.at[x, 'Dec_probe2'] = guides[1][1]\n",
    "    MagCatEntry.at[x, 'equinox_probe2'] = equinox\n",
    "    MagCatEntry.at[x, 'pm_epoch'] = epoch_pm\n",
    "    x = x + 1"
   ]
  },
  {
   "cell_type": "code",
   "execution_count": null,
   "metadata": {},
   "outputs": [],
   "source": [
    "MagCatEntry"
   ]
  },
  {
   "cell_type": "markdown",
   "metadata": {},
   "source": [
    "### Appending Rows 1-4"
   ]
  },
  {
   "cell_type": "code",
   "execution_count": null,
   "metadata": {},
   "outputs": [],
   "source": [
    "x = 1\n",
    "y = 0\n",
    "for i in target_list:\n",
    "    MagCatEntry.at[x, '#'] = '{0:03}'.format(x)\n",
    "    MagCatEntry.at[x, ' '] = targets[y][0].decode('utf-8')\n",
    "    MagCatEntry.at[x, 'RA'] = targets[y][1]\n",
    "    MagCatEntry.at[x, 'Dec'] = targets[y][2]\n",
    "    MagCatEntry.at[x, 'equinox'] = equinox\n",
    "    MagCatEntry.at[x, 'RApm'] = targets[y][3]\n",
    "    MagCatEntry.at[x, 'Decpm'] = targets[y][4]\n",
    "    x = x + 1\n",
    "    y = y + 1"
   ]
  },
  {
   "cell_type": "code",
   "execution_count": null,
   "metadata": {},
   "outputs": [],
   "source": [
    "MagCatEntry"
   ]
  },
  {
   "cell_type": "markdown",
   "metadata": {},
   "source": [
    "## Saving as .txt"
   ]
  },
  {
   "cell_type": "code",
   "execution_count": null,
   "metadata": {},
   "outputs": [],
   "source": [
    "np.savetxt('catalog.txt', MagCatEntry, fmt=\"%-15s\", header = '                              RA              Dec             equinox         RApm            Decpm           offset          rot             RA_probe1       Dec_probe1      equinox_probe1  RA_probe2       Dec_probe2      equinox_probe2  pm_epoch')"
   ]
  },
  {
   "cell_type": "code",
   "execution_count": null,
   "metadata": {},
   "outputs": [],
   "source": []
  }
 ],
 "metadata": {
  "kernelspec": {
   "display_name": "Python 3",
   "language": "python",
   "name": "python3"
  },
  "language_info": {
   "codemirror_mode": {
    "name": "ipython",
    "version": 3
   },
   "file_extension": ".py",
   "mimetype": "text/x-python",
   "name": "python",
   "nbconvert_exporter": "python",
   "pygments_lexer": "ipython3",
   "version": "3.7.3"
  }
 },
 "nbformat": 4,
 "nbformat_minor": 2
}
