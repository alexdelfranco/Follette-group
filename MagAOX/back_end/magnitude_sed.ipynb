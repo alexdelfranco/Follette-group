{
 "cells": [
  {
   "cell_type": "markdown",
   "metadata": {},
   "source": [
    "# Goal: Create a tool that will find relevant data and display guide star magnitude and an SED for every object in a Magellan-formatted catalog"
   ]
  },
  {
   "cell_type": "markdown",
   "metadata": {},
   "source": [
    "\n",
    "## Imports"
   ]
  },
  {
   "cell_type": "code",
   "execution_count": null,
   "metadata": {},
   "outputs": [],
   "source": [
    "import numpy as np\n",
    "import pandas as pd\n",
    "\n",
    "import matplotlib.pyplot as plt\n",
    "%matplotlib inline\n",
    "\n",
    "plt.rcParams['font.family'] = \"Times New Roman\"\n",
    "plt.rcParams['legend.loc'] = \"Upper Right\"\n",
    "plt.rcParams['figure.dpi'] = 900\n",
    "\n",
    "import scipy.stats as st\n",
    "import seaborn as sb\n",
    "\n",
    "\n",
    "pd.set_option('display.max_columns', None)\n",
    "pd.set_option('display.max_rows', None)\n",
    "\n",
    "from astropy.io import ascii\n",
    "from astroplan import (AltitudeConstraint, AirmassConstraint, AtNightConstraint)\n",
    "from astroplan import FixedTarget, Observer\n",
    "from astroplan import is_observable, is_always_observable, months_observable\n",
    "from astroplan import observability_table\n",
    "from astropy import constants as const\n",
    "from astropy.time import Time\n",
    "from astropy import units as u\n",
    "from astropy.coordinates import *\n",
    "from astropy.modeling.blackbody import blackbody_lambda\n",
    "from astropy.table import Table\n",
    "from astroquery.simbad import Simbad\n",
    "\n",
    "import scipy.optimize as optimization\n",
    "from scipy.optimize import curve_fit\n",
    "from scipy.stats import linregress\n",
    "from sklearn.neighbors import KernelDensity\n",
    "from subprocess import *"
   ]
  },
  {
   "cell_type": "markdown",
   "metadata": {},
   "source": [
    "## Custom Simbad"
   ]
  },
  {
   "cell_type": "code",
   "execution_count": null,
   "metadata": {},
   "outputs": [],
   "source": [
    "customSimbad = Simbad()\n",
    "customSimbad.add_votable_fields('sptype')"
   ]
  },
  {
   "cell_type": "markdown",
   "metadata": {},
   "source": [
    "## Stars"
   ]
  },
  {
   "cell_type": "code",
   "execution_count": null,
   "metadata": {},
   "outputs": [],
   "source": [
    "target_list = ['Vega', 'Sirius', 'HD 168607', 'HD 168625']\n",
    "guide_stars = ['HD 200466B', 'HD 207966']\n",
    "\n",
    "stars = guide_stars + target_list\n",
    "constraint_stars = stars"
   ]
  },
  {
   "cell_type": "code",
   "execution_count": null,
   "metadata": {},
   "outputs": [],
   "source": [
    "stars"
   ]
  },
  {
   "cell_type": "code",
   "execution_count": null,
   "metadata": {},
   "outputs": [],
   "source": [
    "lco = Observer.at_site('LCO')"
   ]
  },
  {
   "cell_type": "markdown",
   "metadata": {},
   "source": [
    "## Spectral type CSVs get to temp, absolute mag, and solar luminosities"
   ]
  },
  {
   "cell_type": "code",
   "execution_count": null,
   "metadata": {},
   "outputs": [],
   "source": [
    "main_key = pd.read_csv('mainsequence.csv')\n",
    "giantsiii_key = pd.read_csv('giantsiii.csv')\n",
    "supergiantsi_key = pd.read_csv('supergiantsi.csv')\n",
    "\n",
    "# Setting indexer as spectral type\n",
    "main_key.set_index('SP_TYPE', inplace=True)\n",
    "giantsiii_key.set_index('SP_TYPE', inplace=True)\n",
    "supergiantsi_key.set_index('SP_TYPE', inplace=True)"
   ]
  },
  {
   "cell_type": "markdown",
   "metadata": {},
   "source": [
    "## Spectral Type"
   ]
  },
  {
   "cell_type": "code",
   "execution_count": null,
   "metadata": {},
   "outputs": [],
   "source": [
    "columns = {'MAIN_ID': [0], 'SP_TYPE': [0]}\n",
    "vis = pd.DataFrame(data = columns)\n",
    "\n",
    "x = 0\n",
    "for i in stars:\n",
    "    obj = customSimbad.query_object(stars[x])\n",
    "    obj.keep_columns(['MAIN_ID', 'SP_TYPE'])\n",
    "    obj = obj.to_pandas()\n",
    "    vis = vis.append(obj)\n",
    "    x = x + 1\n",
    "    \n",
    "    \n",
    "vis = vis.iloc[1:]\n",
    "\n",
    "vis = vis.values.tolist()\n",
    "\n",
    "print(vis[3][1])"
   ]
  },
  {
   "cell_type": "code",
   "execution_count": null,
   "metadata": {},
   "outputs": [],
   "source": [
    "x = 0\n",
    "for i in stars:\n",
    "    vis[x][0] = vis[x][0].decode(\"utf-8\")\n",
    "    vis[x][1] = vis[x][1].decode(\"utf-8\")\n",
    "    x = x + 1\n",
    "    \n",
    "\n",
    "vis"
   ]
  },
  {
   "cell_type": "markdown",
   "metadata": {},
   "source": [
    "## Temp (k), Absolute Magnitude, Solar Luminosities"
   ]
  },
  {
   "cell_type": "code",
   "execution_count": null,
   "metadata": {},
   "outputs": [],
   "source": [
    "x = 0\n",
    "for i in stars:\n",
    "    sp = vis[x][1][0:2]\n",
    "    app = main_key.loc[sp]\n",
    "    app = app.tolist()\n",
    "    print(app)\n",
    "    vis[x].extend(app)\n",
    "    x = x + 1\n",
    "    \n",
    "\n",
    "vis"
   ]
  },
  {
   "cell_type": "markdown",
   "metadata": {},
   "source": [
    "### The list is now [name, spectral type, temp in kelvin,  absolute magnitude, solar luminosities]"
   ]
  },
  {
   "cell_type": "markdown",
   "metadata": {},
   "source": [
    "## SED"
   ]
  },
  {
   "cell_type": "code",
   "execution_count": null,
   "metadata": {},
   "outputs": [],
   "source": [
    "# Courtesy of gist.github.com/mfouesneau, an astrophd dude in Germany\n",
    "\n",
    "try:  # python 3\n",
    "    from io import BytesIO\n",
    "    from http.client import HTTPConnection\n",
    "except ImportError:  # python 2\n",
    "    from StringIO import StringIO as BytesIO\n",
    "    from httplib import HTTPConnection\n",
    "\n",
    "from astropy.table import Table\n",
    "\n",
    "\n",
    "def query_sed(pos, radius=5):\n",
    "    \"\"\" Query VizieR Photometry \n",
    "    The VizieR photometry tool extracts photometry points around a given position \n",
    "    or object name from photometry-enabled catalogs in VizieR.\n",
    "    \n",
    "    The VizieR photometry tool is developed by Anne-Camille Simon and Thomas Boch\n",
    "    .. url:: http://vizier.u-strasbg.fr/vizier/sed/doc/\n",
    "    \n",
    "    Parameters\n",
    "    ----------\n",
    "    pos: tuple or str\n",
    "        position tuple or object name\n",
    "    radius: float\n",
    "        position matching in arseconds.\n",
    "    \n",
    "    Returns\n",
    "    -------\n",
    "    table: astropy.Table\n",
    "        VO table returned by the Vizier service.\n",
    "        \n",
    "    >>> query_sed((1.286804, 67.840))\n",
    "    >>> query_sed(\"HD1\")\n",
    "    \"\"\"\n",
    "    try:\n",
    "        ra, dec = pos\n",
    "        target = \"{0:f},{1:f}\".format(ra, dec)\n",
    "    except:\n",
    "        target = pos\n",
    "    \n",
    "    url = \"http:///viz-bin/sed?-c={target:s}&-c.rs={radius:f}\"\n",
    "    host = \"vizier.u-strasbg.fr\"\n",
    "    port = 80\n",
    "    path = \"/viz-bin/sed?-c={target:s}&-c.rs={radius:f}\".format(target=target, radius=radius)\n",
    "    connection = HTTPConnection(host, port)\n",
    "    connection.request(\"GET\", path)\n",
    "    response = connection.getresponse()\n",
    "   \n",
    "    table = Table.read(BytesIO(response.read()), format=\"votable\")\n",
    "    return table"
   ]
  },
  {
   "cell_type": "code",
   "execution_count": null,
   "metadata": {},
   "outputs": [],
   "source": [
    "x = 0\n",
    "\n",
    "for i in stars:\n",
    "    s = query_sed(vis[x][0].replace(\" \", \"\"))\n",
    "    del s['_ID'], s['_tabname'], s['_RAJ2000'], s['_DEJ2000']\n",
    "    s = s.to_pandas()\n",
    "    #wavelength micrometer = speed of light / frequency in hz\n",
    "    s['wavelength'] = (299792458/(s['sed_freq']*(1e+9)))*(1e+6)\n",
    "    #sed_freq sed_flux sed_eflux sed_filter\n",
    "    #GHz Jy Jy\n",
    "    #float64 float32 float32 bytes32\n",
    "    #1 Jy = 10-23 erg s-1 cm-2 Hz-1 = 10-26 Watts m-2 Hz-1 = FsubV\n",
    "    print(vis[x])\n",
    "    a = plt.scatter(np.log10(s['wavelength']), np.log10(s['sed_flux']), s=5, color = 'r')\n",
    "    plt.xlim(-1, 4)\n",
    "    plt.xlabel('Wavelength (log(λ/μm))')\n",
    "    plt.ylabel('Flux in Janskys')\n",
    "    \n",
    "    labels, locations = plt.xticks()\n",
    "    plt.xticks(labels, 10**labels)\n",
    "\n",
    "    \n",
    "    #plt.legend(shadow=True, loc='center left', bbox_to_anchor=(1.1, 1))\n",
    "    plt.title('Spectral Energy Distribution of: ' + constraint_stars[x])\n",
    "\n",
    "    plt.savefig(constraint_stars[x]+'_sed.png', bbox_inches='tight', pad_inches=0.25)\n",
    "    plt.clf()\n",
    "    plt.rcParams['figure.dpi'] = 900\n",
    "    \n",
    "    x = x+1"
   ]
  },
  {
   "cell_type": "code",
   "execution_count": null,
   "metadata": {},
   "outputs": [],
   "source": []
  },
  {
   "cell_type": "markdown",
   "metadata": {},
   "source": [
    "## Other Relevant Data — Table of Visibilty"
   ]
  },
  {
   "cell_type": "code",
   "execution_count": null,
   "metadata": {},
   "outputs": [],
   "source": [
    "time_range = Time([\"2019-07-18 21:00\", \"2019-07-19 13:00\"])"
   ]
  },
  {
   "cell_type": "code",
   "execution_count": null,
   "metadata": {},
   "outputs": [],
   "source": [
    "x = 0\n",
    "for i in constraint_stars:\n",
    "    constraint_stars[x] = FixedTarget.from_name(constraint_stars[x])\n",
    "    x = x + 1"
   ]
  },
  {
   "cell_type": "code",
   "execution_count": null,
   "metadata": {},
   "outputs": [],
   "source": [
    "constraint_stars"
   ]
  },
  {
   "cell_type": "code",
   "execution_count": null,
   "metadata": {},
   "outputs": [],
   "source": [
    "#constraints = [AltitudeConstraint(10*u.deg, 80*u.deg),\n",
    "#               AirmassConstraint(5), AtNightConstraint.twilight_civil()]\n",
    "\n",
    "#table = observability_table(constraints, lco, constraint_stars, time_range = time_range)\n",
    "#print(table)"
   ]
  },
  {
   "cell_type": "code",
   "execution_count": null,
   "metadata": {},
   "outputs": [],
   "source": []
  },
  {
   "cell_type": "code",
   "execution_count": null,
   "metadata": {},
   "outputs": [],
   "source": []
  },
  {
   "cell_type": "code",
   "execution_count": null,
   "metadata": {},
   "outputs": [],
   "source": []
  },
  {
   "cell_type": "code",
   "execution_count": null,
   "metadata": {},
   "outputs": [],
   "source": [
    "target_table = Table.read('targets.txt', format='ascii')\n",
    "targets = [FixedTarget(coord=SkyCoord(ra=ra*u.deg, dec=dec*u.deg), name='Vega')\n",
    "           for name, ra, dec in target_table]\n",
    "\n",
    "constraints = [AltitudeConstraint(10*u.deg, 80*u.deg),\n",
    "               AirmassConstraint(5), AtNightConstraint.twilight_civil()]"
   ]
  },
  {
   "cell_type": "code",
   "execution_count": null,
   "metadata": {},
   "outputs": [],
   "source": [
    "# Are targets *ever* observable in the time range?\n",
    "ever_observable = is_observable(constraints, lco, targets, time_range=time_range)\n",
    "\n",
    "# Are targets *always* observable in the time range?\n",
    "always_observable = is_always_observable(constraints, lco, targets, time_range=time_range)\n",
    "\n",
    "# During what months are the targets ever observable?\n",
    "best_months = months_observable(constraints, lco, targets)"
   ]
  },
  {
   "cell_type": "code",
   "execution_count": null,
   "metadata": {},
   "outputs": [],
   "source": [
    "table = observability_table(constraints, lco, constraint_stars, time_range=time_range)\n",
    "print(table)\n",
    "\n",
    "table = table.to_pandas()\n",
    "\n",
    "np.savetxt('visibility.txt', table, fmt=\"%-30s\", header = 'Target name                  ever observable                always observable              fraction of time observable')"
   ]
  },
  {
   "cell_type": "code",
   "execution_count": null,
   "metadata": {},
   "outputs": [],
   "source": [
    "table"
   ]
  },
  {
   "cell_type": "code",
   "execution_count": null,
   "metadata": {},
   "outputs": [],
   "source": []
  }
 ],
 "metadata": {
  "kernelspec": {
   "display_name": "Python 3",
   "language": "python",
   "name": "python3"
  },
  "language_info": {
   "codemirror_mode": {
    "name": "ipython",
    "version": 3
   },
   "file_extension": ".py",
   "mimetype": "text/x-python",
   "name": "python",
   "nbconvert_exporter": "python",
   "pygments_lexer": "ipython3",
   "version": "3.7.3"
  }
 },
 "nbformat": 4,
 "nbformat_minor": 2
}
