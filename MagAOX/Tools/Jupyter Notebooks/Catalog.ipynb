{
 "cells": [
  {
   "cell_type": "markdown",
   "metadata": {},
   "source": [
    "# FolletteLab MagAOX Catalog Tool #"
   ]
  },
  {
   "cell_type": "markdown",
   "metadata": {},
   "source": [
    "> Goal: Create a prototype web tool that turns a list of Simbad-resolvable astronomical object names into a properly formatted Magellan catalog entry.\n",
    "\n",
    "> Please consult the Las Campanas Observatory website: http://www.lco.cl/telescopes-information/magellan/instruments/observing-catalogs/observing-catalogs-format/?searchterm=catalog\n",
    "\n",
    "If a module in not currently in your Jupyter Notebook kernel, Python installation, or are just having import issues, execute the following two lines of code:\n",
    "\n",
    "For example, if you did not have astroplan\n",
    "\n",
    ">import sys\n",
    "\n",
    ">!{sys.executable} -m pip install astroplan"
   ]
  },
  {
   "cell_type": "markdown",
   "metadata": {},
   "source": [
    "### Imports ###"
   ]
  },
  {
   "cell_type": "code",
   "execution_count": null,
   "metadata": {},
   "outputs": [],
   "source": [
    "import numpy as np, pandas as pd\n",
    "from astroquery.simbad import Simbad"
   ]
  },
  {
   "cell_type": "markdown",
   "metadata": {},
   "source": [
    "### Targets, Instrument Rotator Mode, Equinox & Epoch of PM ###"
   ]
  },
  {
   "cell_type": "code",
   "execution_count": null,
   "metadata": {},
   "outputs": [],
   "source": [
    "entered_list = ['Vega', 'Sirius', 'HD 167356', 'ieguieiuiug', 'not a real star']\n",
    "InstRotOffset = -140.75\n",
    "InstRotOffsetMode = 'OFF'\n",
    "equinox = 2000\n",
    "epoch_pm = 2020.10"
   ]
  },
  {
   "cell_type": "markdown",
   "metadata": {},
   "source": [
    "> There will not be a guide star specified for MagAOX observations, so fields 10-15 are 0's. These 6 required fields are to specify positions of the guide probes, which there will be none."
   ]
  },
  {
   "cell_type": "markdown",
   "metadata": {},
   "source": [
    "### Initializing Simbad Query ###"
   ]
  },
  {
   "cell_type": "code",
   "execution_count": null,
   "metadata": {},
   "outputs": [],
   "source": [
    "#Initializes Simbad queryability\n",
    "customSimbad = Simbad()\n",
    "\n",
    "#Fields we wish to query\n",
    "customSimbad.add_votable_fields('ra(s)')\n",
    "customSimbad.add_votable_fields('dec(s)')\n",
    "customSimbad.add_votable_fields('pmra')\n",
    "customSimbad.add_votable_fields('pmdec')"
   ]
  },
  {
   "cell_type": "markdown",
   "metadata": {},
   "source": [
    "### Checking if Names are Resolvable, returns Resolvable Targets ###"
   ]
  },
  {
   "cell_type": "code",
   "execution_count": null,
   "metadata": {},
   "outputs": [],
   "source": [
    "target_list = []\n",
    "x = 0\n",
    "\n",
    "for i in entered_list:\n",
    "    star = customSimbad.query_object(entered_list[x])\n",
    "    if type(star) == type(None):\n",
    "        print('\\033[1m' +'ERROR: The star ||' \n",
    "              + entered_list[x] + '|| was not resolvable in Simbad. Please check the spelling of the name.')\n",
    "        print('\\033[0m')\n",
    "    else:\n",
    "        target_list.append(entered_list[x])\n",
    "    x += 1\n",
    "    \n",
    "#target_list"
   ]
  },
  {
   "cell_type": "markdown",
   "metadata": {},
   "source": [
    "### Magellan Catalog Entry Format ###"
   ]
  },
  {
   "cell_type": "code",
   "execution_count": null,
   "metadata": {},
   "outputs": [],
   "source": [
    "#Pandas Dataframe will Construct/Set-up our Entry\n",
    "MagCatEntry = pd.DataFrame(columns = ['#',  \n",
    "                                      ' ', \n",
    "                                      'RA', \n",
    "                                      'Dec', \n",
    "                                      'equinox', \n",
    "                                      'RApm', \n",
    "                                      'Decpm', \n",
    "                                      'offset', \n",
    "                                      'rot', \n",
    "                                      'RA_probe1', \n",
    "                                      'Dec_probe1', \n",
    "                                      'equinox_probe1', \n",
    "                                      'RA_probe2', \n",
    "                                      'Dec_probe2', \n",
    "                                      'equinox_probe2', \n",
    "                                      'pm_epoch'], \n",
    "                           index = [' '])\n",
    "\n",
    "#Appending Header\n",
    "MagCatEntry.at['0', '#'] = '###'\n",
    "MagCatEntry.at['0', ' '] = 'name'\n",
    "MagCatEntry.at['0', 'RA'] = 'hh:mm:ss.s'\n",
    "MagCatEntry.at['0', 'Dec'] = 'sdd:mm:ss'\n",
    "MagCatEntry.at['0', 'equinox'] = 'yyyy.0'\n",
    "MagCatEntry.at['0', 'RApm'] = 's.ss'\n",
    "MagCatEntry.at['0', 'Decpm'] = 's.ss'\n",
    "MagCatEntry.at['0', 'equinox'] = 'yyyy.0'\n",
    "MagCatEntry.at['0', 'offset'] = 'angle'\n",
    "MagCatEntry.at['0', 'rot'] = 'mode'\n",
    "MagCatEntry.at['0', 'RA_probe1'] = 'hh:mm:ss.s'\n",
    "MagCatEntry.at['0', 'Dec_probe1'] = 'sdd:mm:ss'\n",
    "MagCatEntry.at['0', 'equinox_probe1'] = 'yyyy.0'\n",
    "MagCatEntry.at['0', 'RA_probe2'] = 'hh:mm:ss.s'\n",
    "MagCatEntry.at['0', 'Dec_probe2'] = 'sdd:mm:ss'\n",
    "MagCatEntry.at['0', 'equinox_probe2'] = 'yyyy.0'\n",
    "MagCatEntry.at['0', 'pm_epoch'] = 'yyyy.0'\n",
    "\n",
    "\n",
    "x = 0\n",
    "for i in target_list:\n",
    "    MagCatEntry = MagCatEntry.append(pd.Series(), ignore_index = True)\n",
    "    x += 1\n",
    "\n",
    "MagCatEntry = MagCatEntry.drop([0])\n",
    "MagCatEntry = MagCatEntry.reset_index()\n",
    "MagCatEntry = MagCatEntry.drop(columns=['index'])\n",
    "\n",
    "#MagCatEntry"
   ]
  },
  {
   "cell_type": "markdown",
   "metadata": {},
   "source": [
    "### Catalog Fields 1-7 ###"
   ]
  },
  {
   "cell_type": "code",
   "execution_count": null,
   "metadata": {},
   "outputs": [],
   "source": [
    "columns = {'MAIN_ID': [0], 'RA': [0], 'DEC': [0], 'PMRA': [0], 'PMDEC': [0]}\n",
    "targets = pd.DataFrame(data = columns)\n",
    "\n",
    "x = 0\n",
    "for i in target_list:\n",
    "    star = customSimbad.query_object(target_list[x])\n",
    "    star.keep_columns(['MAIN_ID', 'RA', 'DEC', 'PMRA', 'PMDEC'])\n",
    "    star = star.to_pandas()\n",
    "    targets = targets.append(star)\n",
    "    x = x + 1\n",
    "    \n",
    "    \n",
    "targets = targets.iloc[1:]\n",
    "targets = targets.values.tolist()\n",
    "#targets"
   ]
  },
  {
   "cell_type": "markdown",
   "metadata": {},
   "source": [
    "### Appending the Series of Data to the Dataframe ###"
   ]
  },
  {
   "cell_type": "code",
   "execution_count": null,
   "metadata": {},
   "outputs": [],
   "source": [
    "#Appending Rows 5, 8-16 (static, non-target dependent values)\n",
    "x = 1\n",
    "for i in target_list:\n",
    "    MagCatEntry.at[x, 'equinox'] = equinox\n",
    "    MagCatEntry.at[x, 'offset'] = InstRotOffset\n",
    "    MagCatEntry.at[x, 'rot'] = InstRotOffsetMode\n",
    "    MagCatEntry.at[x, 'pm_epoch'] = epoch_pm\n",
    "    x = x + 1\n",
    "\n",
    "#Appending Rows 1-4\n",
    "x = 1\n",
    "y = 0\n",
    "for i in target_list:\n",
    "    MagCatEntry.at[x, '#'] = '{0:03}'.format(x)\n",
    "    MagCatEntry.at[x, ' '] = targets[y][0].decode('utf-8')\n",
    "    MagCatEntry.at[x, 'RA'] = targets[y][1]\n",
    "    MagCatEntry.at[x, 'Dec'] = targets[y][2]\n",
    "    MagCatEntry.at[x, 'equinox'] = equinox\n",
    "    MagCatEntry.at[x, 'RApm'] = targets[y][3]\n",
    "    MagCatEntry.at[x, 'Decpm'] = targets[y][4]\n",
    "    x = x + 1\n",
    "    y = y + 1\n",
    "    \n",
    "MagCatEntry = MagCatEntry.fillna(0)\n",
    "MagCatEntry"
   ]
  },
  {
   "cell_type": "markdown",
   "metadata": {},
   "source": [
    "### Saving as .txt file ###"
   ]
  },
  {
   "cell_type": "code",
   "execution_count": null,
   "metadata": {},
   "outputs": [],
   "source": [
    "np.savetxt('catalog.txt', MagCatEntry, fmt=\"%-15s\", header = '                              RA              Dec             equinox         RApm            Decpm           offset          rot             RA_probe1       Dec_probe1      equinox         RA_probe2       Dec_probe2      equinox         pm_epoch')"
   ]
  }
 ],
 "metadata": {
  "kernelspec": {
   "display_name": "Python 3",
   "language": "python",
   "name": "python3"
  },
  "language_info": {
   "codemirror_mode": {
    "name": "ipython",
    "version": 3
   },
   "file_extension": ".py",
   "mimetype": "text/x-python",
   "name": "python",
   "nbconvert_exporter": "python",
   "pygments_lexer": "ipython3",
   "version": "3.7.6"
  }
 },
 "nbformat": 4,
 "nbformat_minor": 4
}
