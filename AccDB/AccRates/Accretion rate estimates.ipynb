{
 "cells": [
  {
   "cell_type": "code",
   "execution_count": 1,
   "metadata": {},
   "outputs": [],
   "source": [
    "from numpy import *\n",
    "import astropy.units as u\n",
    "from astropy.constants import G, M_jup, R_jup, M_earth, R_earth, L_sun, M_sun"
   ]
  },
  {
   "cell_type": "markdown",
   "metadata": {},
   "source": [
    "[Rigliaco et al. 2012](http://adsabs.harvard.edu/abs/2012A%26A...548A..56R)"
   ]
  },
  {
   "cell_type": "code",
   "execution_count": 2,
   "metadata": {},
   "outputs": [],
   "source": [
    "def line_lum(dist,zeropt,filtwid,star_mag,contr):\n",
    "    \"\"\"\n",
    "    Given distance, flux zeropoint, stellar R-band magnitude, and H-alpha contrast (or contrast limit),\n",
    "    calculate line luminosity in Watts. \n",
    "    \"\"\"\n",
    "    delta_mag = -2.5*log10(contr)\n",
    "    L_line = 4*pi*dist**2*zeropt*filtwid*10**((star_mag+delta_mag)/-2.5)\n",
    "    L_line = L_line.decompose().to(u.W)\n",
    "    return(L_line)\n",
    "\n",
    "#next two are empirical T-Tauri relationships from Rigliaco 2012\n",
    "\n",
    "def acc_lum(L_line):\n",
    "    \"\"\"\n",
    "    Translate H-alpha line luminosity to accretion luminosity. From empirical \n",
    "    T-Tauri relationships in Rigliaco et al. 2102\n",
    "    \"\"\"\n",
    "    b = 2.27\n",
    "    a = 1.25\n",
    "    log_acc = b+a*log10(L_line/L_sun)\n",
    "    L_acc=10**log_acc*L_sun\n",
    "    return(L_acc)\n",
    "\n",
    "def acc_rate(L_acc, R, M):\n",
    "    \"\"\"\n",
    "    Translate an accretion luminosity and planet mass/radius to accretion rate in jupiter masses per year.\n",
    "    Also following Rigliaco et al. 2012.\n",
    "    \"\"\"\n",
    "    mdot = 1.25*L_acc*R/(G*M)\n",
    "    mdot = mdot.decompose().to(u.Mjup/u.yr)\n",
    "    return(mdot)"
   ]
  },
  {
   "cell_type": "code",
   "execution_count": 3,
   "metadata": {},
   "outputs": [
    {
     "data": {
      "text/latex": [
       "$1.7887359 \\times 10^{-6} \\; \\mathrm{\\frac{M_{\\rm J}}{yr}}$"
      ],
      "text/plain": [
       "<Quantity 1.78873585e-06 jupiterMass / yr>"
      ]
     },
     "execution_count": 3,
     "metadata": {},
     "output_type": "execute_result"
    }
   ],
   "source": [
    "## check HD142527 calculation from Close et al. 2014\n",
    "\n",
    "mag = 11.6-0.57\n",
    "contr = 1e-2\n",
    "dist = 145*u.pc\n",
    "zeropt = 2.339e-5*u.erg/u.cm**2/u.s/u.um\n",
    "L_line = line_lum(dist,zeropt,0.006*u.um,mag,contr)\n",
    "log10(L_line/L_sun)\n",
    "L_acc=acc_lum(L_line)\n",
    "mdot=acc_rate(L_acc,1.55*R_jup,2*M_jup)\n",
    "mdot\n",
    "\n",
    "#interestingly, it appears that Laird used the incorrect L_sun \n",
    "#(he used 3.28e33, but it should have been 3.85e33). Otherwise, same answer"
   ]
  },
  {
   "cell_type": "code",
   "execution_count": 4,
   "metadata": {},
   "outputs": [
    {
     "data": {
      "text/latex": [
       "$1.3671886 \\times 10^{22} \\; \\mathrm{W}$"
      ],
      "text/plain": [
       "<Quantity 1.36718861e+22 W>"
      ]
     },
     "execution_count": 4,
     "metadata": {},
     "output_type": "execute_result"
    }
   ],
   "source": [
    "L_line"
   ]
  },
  {
   "cell_type": "code",
   "execution_count": 17,
   "metadata": {},
   "outputs": [
    {
     "data": {
      "text/plain": [
       "-9.096611172975074"
      ]
     },
     "execution_count": 17,
     "metadata": {},
     "output_type": "execute_result"
    }
   ],
   "source": [
    "import numpy as np\n",
    "Acc_lum = 10**(-2.9)*L_sun\n",
    "Mdot = acc_rate(Acc_lum,4.6*R_jup,31*M_jup)\n",
    "Mnew = Mdot.to(u.Msun/u.yr)\n",
    "np.log10(Mnew.value)"
   ]
  },
  {
   "cell_type": "code",
   "execution_count": 5,
   "metadata": {},
   "outputs": [
    {
     "name": "stdout",
     "output_type": "stream",
     "text": [
      "1.3671886083836084e+22 W\n",
      "-7.286144871546158\n",
      "-6.768929979746482\n",
      "-8.425355038593022\n"
     ]
    }
   ],
   "source": [
    "## Zhou 2014 results\n",
    "GSC_logL = -5.03\n",
    "GSC_Lacc=acc_lum(10**GSC_logL*L_sun)\n",
    "GSC_Mdot = acc_rate(GSC_Lacc,1.8*R_jup,15*M_jup)\n",
    "print(L_line)\n",
    "print(log10(GSC_Mdot.value))\n",
    "\n",
    "GQLup_logL = -4.69\n",
    "GQLup_Lacc=acc_lum(10**GQLup_logL*L_sun)\n",
    "GQLup_Mdot = acc_rate(GQLup_Lacc,4.6*R_jup,31*M_jup)\n",
    "print(log10(GQLup_Mdot.value))\n",
    "\n",
    "DHTau_logL = -6.19\n",
    "DHTau_Lacc=acc_lum(10**DHTau_logL*L_sun)\n",
    "DHTau_Mdot = acc_rate(DHTau_Lacc,2.7*R_jup,11*M_jup)\n",
    "print(log10(DHTau_Mdot.value))"
   ]
  },
  {
   "cell_type": "code",
   "execution_count": 6,
   "metadata": {},
   "outputs": [
    {
     "name": "stdout",
     "output_type": "stream",
     "text": [
      "-9.69293561753221\n",
      "-7.835592034167181\n",
      "-10.065041025082742\n"
     ]
    }
   ],
   "source": [
    "#sanity check of line luminosity\n",
    "GSC_Hamag = 15.7\n",
    "GSC_AV = 0.2\n",
    "GSC_mag = GSC_Hamag-GSC_AV\n",
    "GSC_contr =  7.33e-18/7.08e-16 #from Table 1 cont/Ha flux\n",
    "GSC_dist = 145*u.pc\n",
    "filterwid = 18*u.AA\n",
    "zeropt = 1.434e-9*u.erg/u.cm**2/u.s/u.AA #19.863 mag\n",
    "\n",
    "GSC_L_line = line_lum(GSC_dist,zeropt,filterwid,GSC_mag,GSC_contr)\n",
    "GSC_Lacc=acc_lum(GSC_L_line)\n",
    "GSC_Mdot = acc_rate(GSC_Lacc,1.8*R_jup,15*M_jup)\n",
    "print(log10(GSC_Mdot.value))\n",
    "\n",
    "GQLup_Hamag = 15.9\n",
    "GQLup_AV = 1.5\n",
    "GQLup_mag = GQLup_Hamag-GQLup_AV\n",
    "GQLup_contr = 5.03e-17/5.92e-16\n",
    "GQLup_dist = 155*u.pc\n",
    "GQLup_L_line = line_lum(GQLup_dist,zeropt,filterwid,GQLup_mag,GQLup_contr)\n",
    "GQLup_Lacc=acc_lum(GQLup_L_line)\n",
    "GQLup_Mdot = acc_rate(GQLup_Lacc,4.6*R_jup,31*M_jup)\n",
    "print(log10(GQLup_Mdot.value))\n",
    "\n",
    "DHTau_Hamag = 19\n",
    "DHTau_AV = 0.7\n",
    "DHTau_mag = DHTau_Hamag-DHTau_AV\n",
    "DHTau_contr = 1.35e-18/3.48e-17\n",
    "DHTau_dist = 145*u.pc\n",
    "DHTau_L_line = line_lum(DHTau_dist,zeropt,filterwid,DHTau_mag,DHTau_contr)\n",
    "DHTau_Lacc=acc_lum(DHTau_L_line)\n",
    "DHTau_Mdot = acc_rate(DHTau_Lacc,2.7*R_jup,11*M_jup)\n",
    "print(log10(DHTau_Mdot.value))"
   ]
  },
  {
   "cell_type": "markdown",
   "metadata": {},
   "source": [
    "## Potential WFIRST Filter Widths\n",
    "\n",
    "**Filters:**\n",
    "Narrowband (Hubble WFC3 F656N) 14A = 0.0014 micron\n",
    "Wider (Hubble WFC3 F657N incl. [NIII]) 94A ~ 0.01 micron\n",
    "\n",
    "**R~50 IFS**\n",
    "Bandpass = 600-970nm —>  width ~ 8nm = 0.008\n"
   ]
  },
  {
   "cell_type": "code",
   "execution_count": 14,
   "metadata": {},
   "outputs": [
    {
     "data": {
      "text/latex": [
       "$1.5711411 \\times 10^{-7} \\; \\mathrm{\\frac{M_{\\oplus}}{yr}}$"
      ],
      "text/plain": [
       "<Quantity 1.57114114e-07 earthMass / yr>"
      ]
     },
     "execution_count": 14,
     "metadata": {},
     "output_type": "execute_result"
    },
    {
     "data": {
      "text/latex": [
       "$1.5711411 \\times 10^{-7} \\; \\mathrm{\\frac{M_{\\oplus}}{yr}}$"
      ],
      "text/plain": [
       "<Quantity 1.57114114e-07 earthMass / yr>"
      ]
     },
     "execution_count": 14,
     "metadata": {},
     "output_type": "execute_result"
    }
   ],
   "source": [
    "#Accreting Earth in HL Tau at contrast threshhold 1e-5\n",
    "\n",
    "zeropt = 2.25e-5*u.erg/u.cm**2/u.s/u.um #R band Johnson zeropoint\n",
    "dist = 140*u.pc\n",
    "mag = 14.21\n",
    "filterwid = 0.01*u.um\n",
    "contrast = 1e-5\n",
    "\n",
    "L_line = line_lum(dist,zeropt,filterwid,mag,contrast)\n",
    "L_acc = acc_lum(L_line)\n",
    "mdot=acc_rate(L_acc,R_earth,M_earth)\n",
    "mdot.to(u.Mearth/u.yr)"
   ]
  },
  {
   "cell_type": "code",
   "execution_count": null,
   "metadata": {},
   "outputs": [],
   "source": []
  }
 ],
 "metadata": {
  "anaconda-cloud": {},
  "kernelspec": {
   "display_name": "Python 3",
   "language": "python",
   "name": "python3"
  },
  "language_info": {
   "codemirror_mode": {
    "name": "ipython",
    "version": 3
   },
   "file_extension": ".py",
   "mimetype": "text/x-python",
   "name": "python",
   "nbconvert_exporter": "python",
   "pygments_lexer": "ipython3",
   "version": "3.7.4"
  }
 },
 "nbformat": 4,
 "nbformat_minor": 1
}
