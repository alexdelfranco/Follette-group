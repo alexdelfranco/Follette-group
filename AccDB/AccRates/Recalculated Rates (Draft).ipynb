{
 "cells": [
  {
   "cell_type": "code",
   "execution_count": null,
   "metadata": {},
   "outputs": [],
   "source": [
    "from numpy import *\n",
    "import astropy.units as u\n",
    "from astropy.constants import G, M_jup, R_jup, M_earth, R_earth, L_sun, M_sun, R_sun\n",
    "import pandas as pd\n",
    "import matplotlib.pyplot as plt\n",
    "%matplotlib inline\n",
    "import extinction as ex\n",
    "import scipy.stats as st"
   ]
  },
  {
   "cell_type": "code",
   "execution_count": null,
   "metadata": {},
   "outputs": [],
   "source": [
    "#import scaling relation coefficients\n",
    "rel = pd.read_csv('scalingrels_a17.csv')\n",
    "rel.set_index('Tracer', inplace=True)"
   ]
  },
  {
   "cell_type": "markdown",
   "metadata": {},
   "source": [
    "# 0. Functions:\n",
    "\n",
    "Cell 1: Line luminosity (additional ones in Test notebook)\n",
    "\n",
    "Cell 2: Accretion luminosity. Has error analysis capability built in, but is not utilized right now.\n",
    "\n",
    "Cell 3: Accretion rate\n",
    "\n",
    "Cell 4: Get rate (run through 1, 2, and 3 sequentially)\n"
   ]
  },
  {
   "cell_type": "code",
   "execution_count": null,
   "metadata": {},
   "outputs": [],
   "source": [
    "def line_lum(line_flux, dist):\n",
    "    \"\"\"\n",
    "    Calculate line luminosity given line flux and distance\n",
    "    assuming line flux is extinction corrected.\n",
    "    \"\"\"\n",
    "    #future: could add extinction correction in there? Not sure how that works.\n",
    "    \n",
    "    line_lum = 4 * pi * (dist*u.pc)**2 * line_flux * u.erg / (u.s * (u.cm)**2)\n",
    "    line_lum = line_lum.decompose().to(u.W)\n",
    "    return line_lum/u.W"
   ]
  },
  {
   "cell_type": "code",
   "execution_count": null,
   "metadata": {},
   "outputs": [],
   "source": [
    "def accr_lum(L_line, tracer, L_line_err = 0*u.W):\n",
    "    \"\"\"\n",
    "    Translate a line luminosity to accretion luminosity using empirical\n",
    "    relationships from Alcala et al. 2017.\n",
    "    \n",
    "    Included tracers are:\n",
    "    'Ha'\n",
    "    'PaB'\n",
    "    'BrG'\n",
    "    \"\"\"\n",
    "        \n",
    "    a, a_err, b, b_err = rel['a'][tracer],rel['a_err'][tracer],rel['b'][tracer],rel['b_err'][tracer]\n",
    "    \n",
    "    log_L_acc = b + a * log10(L_line*u.W/L_sun)\n",
    "    \n",
    "    L_acc = 10**log_L_acc*L_sun/u.W\n",
    "    \n",
    "    #error propagation\n",
    "    \n",
    "    #c_err = (L_line_err)/(log(10) * L_line)\n",
    "    #ac_err = a * log10(L_line/L_sun) * ((a_err/a)**2 + (c_err/log10(L_line/L_sun))**2)**0.5\n",
    "    #log_L_acc_err = (b_err**2 + ac_err**2)**0.5\n",
    "    #L_acc_err = L_acc * log(10) * log_L_acc_err\n",
    "\n",
    "    return L_acc"
   ]
  },
  {
   "cell_type": "code",
   "execution_count": null,
   "metadata": {},
   "outputs": [],
   "source": [
    "def acc_rate(L_acc, R, M):\n",
    "    \"\"\"\n",
    "    Translate an accretion luminosity and planet mass/radius to accretion rate in Solar masses per year.\n",
    "    \"\"\"\n",
    "    mdot = 1.25*L_acc*u.W*R*u.R_sun/(G*M*u.M_sun)\n",
    "    mdot = mdot.decompose().to(u.M_sun/u.yr)\n",
    "    return(mdot/(u.M_sun/u.yr))"
   ]
  },
  {
   "cell_type": "code",
   "execution_count": null,
   "metadata": {},
   "outputs": [],
   "source": [
    "def get_rate(line_flux, d, t, R, M):\n",
    "    \"\"\"\n",
    "    Turn a line flux into an accretion rate, \n",
    "    given the distance, tracer, object radius, and object mass.\n",
    "    \n",
    "    Line flux should be in erg/s/cm^2; distance in pc;\n",
    "    tracer either Ha, PaB, or BrG; radius in solar radii,\n",
    "    and mass in solar masses.\n",
    "    \"\"\"\n",
    "    l_line = line_lum(line_flux,d)\n",
    "    l_acc = accr_lum(l_line, t)\n",
    "    mdot = acc_rate(l_acc, R, M)\n",
    "    \n",
    "    return mdot"
   ]
  },
  {
   "cell_type": "markdown",
   "metadata": {},
   "source": [
    "# 1. New distances, old masses, uniform scaling relations:\n",
    "\n",
    "Recalculate accretion rates for Ha, PaB, and BrG tracers"
   ]
  },
  {
   "cell_type": "code",
   "execution_count": null,
   "metadata": {},
   "outputs": [],
   "source": [
    "#read in CSV and make list of tracers\n",
    "db = pd.read_csv('recalculations.csv')\n",
    "tracers = ['Ha','PaB','BrG']"
   ]
  },
  {
   "cell_type": "code",
   "execution_count": null,
   "metadata": {},
   "outputs": [],
   "source": [
    "#get accretion rate for each tracer for each object\n",
    "\n",
    "for i in db.index:\n",
    "    \n",
    "    #get relevant parameters: d, R, M\n",
    "    \n",
    "        #use new distance if it's available\n",
    "        #else, use arbitrary distance\n",
    "        #(some are legitimately pulled from papers but other just assume 140)\n",
    "    d = db.loc[i,'Plx Distance']\n",
    "    if isnan(d):\n",
    "        d = db.loc[i,'Object Distance']\n",
    "    \n",
    "    R = db.loc[i,'Object Radius']\n",
    "    M = db.loc[i,'Object Mass, Original']\n",
    "    \n",
    "    #ignore if missing M or R\n",
    "    if (isnan(M) or isnan(R)):\n",
    "        continue\n",
    "        \n",
    "    for t in tracers:\n",
    "        lf = db.loc[i,t + ' Line Flux']\n",
    "        \n",
    "        if isnan(lf)==False:\n",
    "            \n",
    "            #extinction correction for N06 fluxes\n",
    "            if db.loc[i,'Reference']=='Natta 2006':\n",
    "                lf = ex.remove(db.loc[i,'A_J'],lf)\n",
    "            \n",
    "            #get the accretion rate\n",
    "            db.at[i,t + ' Accr Rate'] = get_rate(lf, d, t, R, M)"
   ]
  },
  {
   "cell_type": "code",
   "execution_count": null,
   "metadata": {},
   "outputs": [],
   "source": [
    "pd.set_option('display.max_rows',None)"
   ]
  },
  {
   "cell_type": "code",
   "execution_count": null,
   "metadata": {},
   "outputs": [],
   "source": [
    "#take average accretion rate across the three tracers\n",
    "db['Avg Accr Rate'] = db[[t + ' Accr Rate' for t in tracers]].mean(axis=1)"
   ]
  },
  {
   "cell_type": "markdown",
   "metadata": {},
   "source": [
    "Now, switch to plotting and analysis"
   ]
  },
  {
   "cell_type": "code",
   "execution_count": null,
   "metadata": {},
   "outputs": [],
   "source": [
    "#Take relevant columns and drop NaNs\n",
    "aa = db[['Source','Reference','Object Mass, Original', 'Avg Accr Rate','Old Accr Rate']].dropna()"
   ]
  },
  {
   "cell_type": "code",
   "execution_count": null,
   "metadata": {},
   "outputs": [],
   "source": [
    "#lists of mass, old accr rate, and new accr rate\n",
    "m = log10(aa['Object Mass, Original'].tolist())\n",
    "md_old = log10(aa['Old Accr Rate'].tolist())\n",
    "md_new = log10(aa['Avg Accr Rate'].tolist())"
   ]
  },
  {
   "cell_type": "code",
   "execution_count": null,
   "metadata": {},
   "outputs": [],
   "source": [
    "#best-fit parameters\n",
    "sl_old, incpt_old = polyfit(m,md_old,1)\n",
    "sl_new, incpt_new = polyfit(m,md_new,1)\n",
    "print('Old Best-Fit: y = ', sl_old,'x ', incpt_old)\n",
    "print('New Best-Fit: y = ', sl_new,'x ', incpt_new)"
   ]
  },
  {
   "cell_type": "code",
   "execution_count": null,
   "metadata": {
    "scrolled": true
   },
   "outputs": [],
   "source": [
    "#correlations\n",
    "r_old = st.pearsonr(m,md_old)\n",
    "r_new = st.pearsonr(m,md_new)\n",
    "print('Old r:', r_old)\n",
    "print('New r:', r_new)"
   ]
  },
  {
   "cell_type": "code",
   "execution_count": null,
   "metadata": {},
   "outputs": [],
   "source": [
    "print('Number of rows included:', len(aa))"
   ]
  },
  {
   "cell_type": "code",
   "execution_count": null,
   "metadata": {
    "scrolled": false
   },
   "outputs": [],
   "source": [
    "#plotting:\n",
    "plt.figure(figsize=(10,10/1.625),dpi=750)\n",
    "\n",
    "plt.scatter(m,md_old,color='r',alpha=0.4,label='r='+str(round(r_old[0],2)))\n",
    "plt.scatter(m,md_new,color='g',alpha=0.4,label='r='+str(round(r_new[0],2)))\n",
    "\n",
    "x = arange(-2.5,1,0.5)\n",
    "plt.xlim(-2.5,0.5)\n",
    "plt.ylim(-14,-6)\n",
    "\n",
    "plt.plot(x, sl_old*x+incpt_old, color='r', label='y='+str(round(sl_old,2))+'x'+str(round(incpt_old,2)))\n",
    "plt.plot(x, sl_new*x+incpt_new, color='g', label='y='+str(round(sl_new,2))+'x'+str(round(incpt_new,2)))\n",
    "\n",
    "plt.legend(frameon=False)\n",
    "plt.title('Accretion Rate vs Mass')\n",
    "\n",
    "plt.xlabel('log $M$  $(M_{\\odot})$')\n",
    "plt.ylabel('log $\\dot M$  $(M_{\\odot}/yr)$')"
   ]
  },
  {
   "cell_type": "markdown",
   "metadata": {},
   "source": [
    "**Above: Plot of $M$ vs $\\dot M$ for originally estimated accretion rates (red) and new estimates (green). New estimates are averages of those obtained by Ha, PaB, and BrG tracers. The best-fit line for each population is overplotted in its respective color.**\n",
    "\n",
    "Notice the correlation decreases slightly for the new estimates; this may be due to the lack of mass updates. Let's find out."
   ]
  },
  {
   "cell_type": "markdown",
   "metadata": {},
   "source": [
    "# 2. New distances, new masses, uniform scaling relations\n",
    "\n",
    "Still using old radii, however"
   ]
  },
  {
   "cell_type": "code",
   "execution_count": null,
   "metadata": {},
   "outputs": [],
   "source": [
    "#read in CSV again\n",
    "db2 = pd.read_csv('recalculations.csv')"
   ]
  },
  {
   "cell_type": "code",
   "execution_count": null,
   "metadata": {},
   "outputs": [],
   "source": [
    "#get accretion rates\n",
    "\n",
    "#mass_used: one list of the masses used to recalculate accretion rate\n",
    "mass_used = []\n",
    "\n",
    "for i in db2.index:\n",
    "    \n",
    "    #use new distance if it's available\n",
    "        #else, use arbitrary distance\n",
    "        #(some are legitimately pulled from papers but others just assume 140)\n",
    "    \n",
    "    d = db2.loc[i,'Plx Distance']\n",
    "    if isnan(d):\n",
    "        d = db2.loc[i,'Object Distance']\n",
    "    \n",
    "    R = db2.loc[i,'Object Radius']\n",
    "    \n",
    "    M = db2.loc[i,'New Mass']\n",
    "    if isnan(M):\n",
    "        M = db2.loc[i,'Object Mass, Original']\n",
    "        \n",
    "    mass_used.append(M)\n",
    "\n",
    "    #ignore if missing M or R\n",
    "    if (isnan(M) or isnan(R)):\n",
    "        continue\n",
    "            \n",
    "    for t in tracers:\n",
    "        lf = db2.loc[i,t + ' Line Flux']\n",
    "        \n",
    "        if isnan(lf):\n",
    "            continue\n",
    "            \n",
    "        #extinction corrections when necessary\n",
    "        #note this is not automatic—there's no 'requires extinction correction' flag.\n",
    "        \n",
    "        if db2.loc[i,'Reference']=='Natta 2006':\n",
    "            lf = ex.remove(db2.loc[i,'A_J'],lf)\n",
    "        \n",
    "        if db2.loc[i,'Reference']=='Kalari 2015':\n",
    "            lf = ex.remove(db2.loc[i,'A_V'],lf)\n",
    "            \n",
    "        #get the accretion rate\n",
    "        db2.at[i,t + ' Accr Rate'] = get_rate(lf, d, t, R, M)"
   ]
  },
  {
   "cell_type": "code",
   "execution_count": null,
   "metadata": {},
   "outputs": [],
   "source": [
    "#add mass used as a database column. This enables pulling all the masses as one list.\n",
    "db2['mass_used'] = mass_used"
   ]
  },
  {
   "cell_type": "code",
   "execution_count": null,
   "metadata": {},
   "outputs": [],
   "source": [
    "#Take average accretion rate across the three tracers\n",
    "db2['Avg Accr Rate'] = db2[[t + ' Accr Rate' for t in tracers]].mean(axis=1)"
   ]
  },
  {
   "cell_type": "code",
   "execution_count": null,
   "metadata": {},
   "outputs": [],
   "source": [
    "#Take relevant columns and drop NaNs\n",
    "aa2 = db2[['Source','Reference','Object Mass, Original','mass_used',\n",
    "           'Avg Accr Rate','Old Accr Rate']].dropna()"
   ]
  },
  {
   "cell_type": "code",
   "execution_count": null,
   "metadata": {},
   "outputs": [],
   "source": [
    "#lists of mass, old accr rate, and new accr rate\n",
    "m_old = log10(aa2['Object Mass, Original'].tolist())\n",
    "m_new = log10(aa2['mass_used'].tolist())\n",
    "md_old2 = log10(aa2['Old Accr Rate'].tolist())\n",
    "md_new2 = log10(aa2['Avg Accr Rate'].tolist())"
   ]
  },
  {
   "cell_type": "code",
   "execution_count": null,
   "metadata": {},
   "outputs": [],
   "source": [
    "#best fit parameters\n",
    "sl_old2, incpt_old2 = polyfit(m_old,md_old2,1)\n",
    "sl_new2, incpt_new2 = polyfit(m_new,md_new2,1)\n",
    "print('Old Best-Fit: y = ', sl_old2,'x ', incpt_old2)\n",
    "print('New Best-Fit: y = ', sl_new2,'x ', incpt_new2)"
   ]
  },
  {
   "cell_type": "code",
   "execution_count": null,
   "metadata": {
    "scrolled": true
   },
   "outputs": [],
   "source": [
    "#correlations\n",
    "r_old2 = st.pearsonr(m_old,md_old2)\n",
    "r_new2 = st.pearsonr(m_new,md_new2)\n",
    "print('Old r:', r_old2)\n",
    "print('New r:', r_new2)"
   ]
  },
  {
   "cell_type": "code",
   "execution_count": null,
   "metadata": {},
   "outputs": [],
   "source": [
    "print('Number of rows included:', len(aa2))\n",
    "print('This is not the number of points, as there are duplicate rows that have not been corrected in the database')"
   ]
  },
  {
   "cell_type": "code",
   "execution_count": null,
   "metadata": {
    "scrolled": false
   },
   "outputs": [],
   "source": [
    "#plotting\n",
    "plt.figure(figsize=(10,10.1,625),dpi=400)\n",
    "\n",
    "plt.scatter(m_old,md_old2,color='r',alpha=0.5,label='r='+str(round(r_old2[0],2)))\n",
    "plt.scatter(m_new,md_new2,color='g',alpha=0.5,label='r='+str(round(r_new2[0],2)))\n",
    "\n",
    "x = arange(-2.5,1,0.5)\n",
    "plt.xlim(-2.5,0.5)\n",
    "plt.ylim(-14,-6)\n",
    "\n",
    "plt.plot(x, sl_old2*x+incpt_old2, color='r', label='y='+str(round(sl_old2,2))+'x'+str(round(incpt_old2,2)))\n",
    "plt.plot(x, sl_new2*x+incpt_new2, color='g', label='y='+str(round(sl_new2,2))+'x'+str(round(incpt_new2,2)))\n",
    "\n",
    "plt.legend(frameon=False)\n",
    "plt.title('Accretion Rate vs Mass')\n",
    "\n",
    "plt.xlabel('log $M$  $(M_{\\odot})$')\n",
    "plt.ylabel('log $\\dot M$  $(M_{\\odot}/yr)$')"
   ]
  },
  {
   "cell_type": "markdown",
   "metadata": {},
   "source": [
    "**Above: Plot of $M$ vs $\\dot M$ for originally estimated masses and accretion rates (red) and new estimates for masses and accretion rates (green). New estimates are averages of those obtained by Ha, PaB, and BrG tracers. The best-fit line for each population is overplotted in its respective color.**"
   ]
  },
  {
   "cell_type": "code",
   "execution_count": null,
   "metadata": {
    "scrolled": true
   },
   "outputs": [],
   "source": [
    "plt.figure(figsize=(10,10/1.625),dpi=400)\n",
    "\n",
    "plt.scatter(m_old,md_old2,color='r',alpha=0.6,label='r=0.70')\n",
    "plt.scatter(m_new,md_new2,color='g',alpha=0.6,label='r=0.67')\n",
    "\n",
    "x = arange(-2.5,1,0.5)\n",
    "plt.xlim(-2.5,0.5)\n",
    "plt.ylim(-14,-6)\n",
    "\n",
    "plt.plot(x, sl_old2*x+incpt_old2, color='r', label='y=1.90x-8.07')\n",
    "plt.plot(x, sl_new2*x+incpt_new2, color='g', label='y=1.63x-8.23')\n",
    "\n",
    "plt.legend(frameon=False)\n",
    "\n",
    "for i in range(len(m_old)):\n",
    "    plt.plot([m_old[i],m_new[i]],[md_old2[i],md_new2[i]],color='k',linestyle='dotted',alpha=0.35)\n",
    "\n",
    "\n",
    "plt.xlabel('log $M$  $(M_{\\odot})$')\n",
    "plt.ylabel('log $\\dot M$  $(M_{\\odot}/yr)$')"
   ]
  },
  {
   "cell_type": "markdown",
   "metadata": {},
   "source": [
    "**Same plot as above, but with old and new estimates connected by gray dotted lines.**"
   ]
  },
  {
   "cell_type": "markdown",
   "metadata": {},
   "source": [
    "# 3. Money Plot\n",
    "## Plotting the original \"money plot\" and the new \"money plot\""
   ]
  },
  {
   "cell_type": "code",
   "execution_count": null,
   "metadata": {},
   "outputs": [],
   "source": [
    "#For old plot, dropping Natta 2006 to fit with what Annie did in her thesis\n",
    "money_old = db2[db2['Reference']!='Natta 2006']\n",
    "money_old = money_old[['Object Mass, Original','Old Accr Rate']].dropna()\n",
    "M_old = log10(money_old['Object Mass, Original'].tolist())\n",
    "Md_old = log10(money_old['Old Accr Rate'].tolist())\n",
    "\n",
    "#For new plot, keeping Natta 2006\n",
    "money = db2[['mass_used','Avg Accr Rate']].dropna()\n",
    "M = log10(money['mass_used'].tolist())\n",
    "Md = log10(money['Avg Accr Rate'].tolist())"
   ]
  },
  {
   "cell_type": "code",
   "execution_count": null,
   "metadata": {},
   "outputs": [],
   "source": [
    "#best-fit slopes, incpts, and correlations\n",
    "mo_s,mo_i = polyfit(M_old,Md_old,1)\n",
    "mo_r = st.pearsonr(M_old,Md_old)[0]\n",
    "\n",
    "mn_s,mn_i = polyfit(M,Md,1)\n",
    "mn_r = st.pearsonr(M,Md)[0]"
   ]
  },
  {
   "cell_type": "markdown",
   "metadata": {},
   "source": [
    "### Original \"money plot\" with limits and text on plot"
   ]
  },
  {
   "cell_type": "code",
   "execution_count": null,
   "metadata": {},
   "outputs": [],
   "source": [
    "plt.figure(figsize=(10,10/1.625),dpi=400)\n",
    "\n",
    "plt.scatter(M_old,Md_old,label='r='+str(round(mo_r,2)),alpha=0.5)\n",
    "\n",
    "x = arange(-2.5,1.5,0.5)\n",
    "plt.plot(x,mo_s*x+mo_i,color='b',label='y='+str(round(mo_s,2))+'x'+str(round(mo_i,2)),alpha=0.8)\n",
    "\n",
    "plt.xlim(-2.5,0.5)\n",
    "plt.ylim(-14,-6)\n",
    "\n",
    "#limits:\n",
    "plt.plot([log10(13/1048),log10(13/1048)],[-14,-6],color='k',linewidth=3)\n",
    "plt.plot([log10(80/1048),log10(80/1048)],[-14,-6],color='k',linewidth=3)\n",
    "\n",
    "#text:\n",
    "plt.text(log10(13/1048)+.02,-9.6,'Deuterium burning limit',rotation='vertical',fontsize=11)\n",
    "plt.text(log10(80/1048)+.02,-9.5,'Hydrogen burning limit',rotation='vertical',fontsize=11)\n",
    "plt.text(-2.3,-6.5,'Planets',fontsize=12)\n",
    "plt.text(-1.7,-6.5,'Brown Dwarfs',fontsize=12)\n",
    "plt.text(-0.4,-6.5,'Stars',fontsize=12)\n",
    "\n",
    "\n",
    "plt.legend(frameon=False,loc='lower right',fontsize=11)\n",
    "\n",
    "plt.xlabel('log $M$  $(M_{\\odot})$')\n",
    "plt.ylabel('log $\\dot M$  $(M_{\\odot}/yr)$')"
   ]
  },
  {
   "cell_type": "markdown",
   "metadata": {},
   "source": [
    "### New \"Money Plot\""
   ]
  },
  {
   "cell_type": "code",
   "execution_count": null,
   "metadata": {
    "scrolled": false
   },
   "outputs": [],
   "source": [
    "plt.figure(figsize=(6.5,4),dpi=750)\n",
    "\n",
    "plt.scatter(M,Md,color='b',label='r='+str(round(mn_r,2)),alpha=0.2)\n",
    "\n",
    "x = arange(-2.5,1.5,0.5)\n",
    "plt.plot(x,mn_s*x+mn_i,color='k',label='y='+str(round(mn_s,2))+'x'+str(round(mn_i,2)),alpha=0.8)\n",
    "\n",
    "plt.xlim(-2.5,0.5)\n",
    "plt.ylim(-14,-6)\n",
    "\n",
    "#limits:\n",
    "plt.plot([log10(13/1048),log10(13/1048)],[-14,-6],color='k',linewidth=3)\n",
    "plt.plot([log10(80/1048),log10(80/1048)],[-14,-6],color='k',linewidth=3)\n",
    "\n",
    "#text:\n",
    "plt.text(log10(13/1048)-.09,-10,'Deuterium burning limit',rotation='vertical',fontsize=9)\n",
    "plt.text(log10(80/1048)-.09,-9.9,'Hydrogen burning limit',rotation='vertical',fontsize=9)\n",
    "plt.text(-2.35,-6.5,'Planets',fontsize=10)\n",
    "plt.text(-1.8,-6.5,'Brown Dwarfs',fontsize=10)\n",
    "plt.text(-0.5,-6.5,'Stars',fontsize=10)\n",
    "\n",
    "plt.title('Accretion Rate vs Mass')\n",
    "\n",
    "plt.legend(frameon=False,loc='lower right',fontsize=10)\n",
    "\n",
    "plt.xlabel('log $M$  $(M_{\\odot})$')\n",
    "plt.ylabel('log $\\dot M$  $(M_{\\odot}/yr)$')"
   ]
  },
  {
   "cell_type": "markdown",
   "metadata": {},
   "source": [
    "# 4. Money plot with lines connecting same sources\n",
    "Also, flag and print pairs of objects with discrepant masses."
   ]
  },
  {
   "cell_type": "code",
   "execution_count": null,
   "metadata": {
    "scrolled": true
   },
   "outputs": [],
   "source": [
    "#sort by source and display entire database\n",
    "\n",
    "pd.set_option('display.max_rows',None)\n",
    "s = aa2.sort_values(by='Source')\n",
    "s"
   ]
  },
  {
   "cell_type": "code",
   "execution_count": null,
   "metadata": {},
   "outputs": [],
   "source": [
    "sm = log10(s['mass_used'].tolist())\n",
    "smd = log10(s['Avg Accr Rate'].tolist())"
   ]
  },
  {
   "cell_type": "code",
   "execution_count": null,
   "metadata": {
    "scrolled": true
   },
   "outputs": [],
   "source": [
    "#print the objects that have instances with different masses\n",
    "#print their names, indices, masses, difference in dex, and references\n",
    "\n",
    "for i in range(len(s)-1):\n",
    "    if s.loc[s.index[i],'Source']==s.loc[s.index[i+1],'Source']:\n",
    "        if abs(sm[i]-sm[i+1]) >0:\n",
    "            print(s.loc[s.index[i],'Source'], ':\\n Indices:',s.index[i],s.index[i+1],\n",
    "                  '\\n Masses: ', round(10**sm[i],3),'and',round(10**sm[i+1],3),\n",
    "                  '\\n Difference:', round(sm[i]-sm[i+1],2),\n",
    "                  'dex \\n References:',s.loc[s.index[i],'Reference'],s.loc[s.index[i+1],'Reference'],'\\n')"
   ]
  },
  {
   "cell_type": "code",
   "execution_count": null,
   "metadata": {
    "scrolled": false
   },
   "outputs": [],
   "source": [
    "#plotting\n",
    "\n",
    "plt.figure(figsize=(10,10/1.625),dpi=400)\n",
    "\n",
    "plt.scatter(sm,smd,color='b',alpha=0.5,label='r='+str(round(mn_r,2)))\n",
    "\n",
    "plt.plot(x,mn_s*x+mn_i,color='k',label='y='+str(round(mn_s,2))+'x'+str(round(mn_i,2)),alpha=0.8)\n",
    "\n",
    "#connect same sources with dotted lines\n",
    "for i in range(len(s)-1):\n",
    "    if s.loc[s.index[i],'Source']==s.loc[s.index[i+1],'Source']:\n",
    "        plt.plot([sm[i],sm[i+1]],[smd[i],smd[i+1]],\n",
    "                 color='k',linestyle='-.',alpha=0.4)\n",
    "\n",
    "plt.xlabel('log $M$  $(M_{\\odot})$')\n",
    "plt.ylabel('log $\\dot M$  $(M_{\\odot}/yr)$')\n",
    "plt.xlim(-2.5,0.5)\n",
    "plt.ylim(-14,-6)\n",
    "plt.legend(frameon=False,loc='upper left')"
   ]
  }
 ],
 "metadata": {
  "kernelspec": {
   "display_name": "Python 3",
   "language": "python",
   "name": "python3"
  },
  "language_info": {
   "codemirror_mode": {
    "name": "ipython",
    "version": 3
   },
   "file_extension": ".py",
   "mimetype": "text/x-python",
   "name": "python",
   "nbconvert_exporter": "python",
   "pygments_lexer": "ipython3",
   "version": "3.7.4"
  }
 },
 "nbformat": 4,
 "nbformat_minor": 2
}
