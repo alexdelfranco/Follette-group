{
 "cells": [
  {
   "cell_type": "markdown",
   "metadata": {},
   "source": [
    "# Age Effect:\n",
    "## Goal: Analyze the impact of system age on the mass-mass accretion rate relation"
   ]
  },
  {
   "cell_type": "code",
   "execution_count": null,
   "metadata": {},
   "outputs": [],
   "source": [
    "#import relevant libraries and functions\n",
    "\n",
    "from numpy import *\n",
    "import astropy.units as u\n",
    "from astropy.constants import G, M_jup, R_jup, M_earth, R_earth, L_sun, M_sun, R_sun\n",
    "import pandas as pd\n",
    "import matplotlib.pyplot as plt\n",
    "%matplotlib inline\n",
    "import extinction as ex\n",
    "import scipy.stats as st\n",
    "import matplotlib.cm as cm\n",
    "\n",
    "import importlib, functions\n",
    "importlib.reload(functions)\n",
    "from functions import line_lum, accr_lum, acc_rate, get_rate"
   ]
  },
  {
   "cell_type": "code",
   "execution_count": null,
   "metadata": {},
   "outputs": [],
   "source": [
    "#read in CSV\n",
    "db = pd.read_csv('recalculations.csv')\n",
    "#optional: remove N06 points. They congregate at high accretion rates\n",
    "#and make the age effect bigger than it likely is\n",
    "#db = db[db['Reference']!='Natta 2006']\n",
    "tracers = ['Ha','PaB','BrG']"
   ]
  },
  {
   "cell_type": "code",
   "execution_count": null,
   "metadata": {},
   "outputs": [],
   "source": [
    "#get accretion rates\n",
    "mass_used = []\n",
    "for i in db.index:  \n",
    "    d = db.loc[i,'Plx Distance']\n",
    "    if isnan(d):\n",
    "        d = db.loc[i,'Object Distance']\n",
    "    R = db.loc[i,'Object Radius']\n",
    "    M = db.loc[i,'New Mass']\n",
    "    if isnan(M):\n",
    "        M = db.loc[i,'Object Mass, Original']\n",
    "    mass_used.append(M)\n",
    "    #ignore if missing M or R\n",
    "    if (isnan(M) or isnan(R)):\n",
    "        continue\n",
    "    for t in tracers:\n",
    "        lf = db.loc[i,t + ' Line Flux']\n",
    "        if isnan(lf):\n",
    "            continue   \n",
    "        #extinction corrections when necessary\n",
    "        if db.loc[i,'Reference']=='Natta 2006':\n",
    "            lf = ex.remove(db.loc[i,'A_J'],lf) \n",
    "        if (db.loc[i,'Reference']=='Kalari 2015' or db.loc[i,'Reference']=='Zhou 2014' or\n",
    "            db.loc[i,'Reference']=='Wagner 2018' or db.loc[i,'Reference']=='Petrus 2020'):\n",
    "            lf = ex.remove(db.loc[i,'A_V'],lf)      \n",
    "        #get the accretion rate\n",
    "        db.at[i,t + ' Accr Rate'] = get_rate(lf, d, t, R, M)\n",
    "db['Adopted Mass'] = mass_used\n",
    "db['Avg Accr Rate'] = db[[t + ' Accr Rate' for t in tracers]].mean(axis=1)"
   ]
  },
  {
   "cell_type": "code",
   "execution_count": null,
   "metadata": {},
   "outputs": [],
   "source": [
    "test_age_orig = db[['Source','Object Mass, Original', 'Old Accr Rate', 'System Age']].dropna()\n",
    "test_age_orig = test_age_orig[test_age_orig['System Age']!=0]\n",
    "\n",
    "test_age = db[['Source','Adopted Mass', 'Avg Accr Rate', 'System Age']].dropna()\n",
    "\n",
    "test_age_all = db[['Source','Object Mass, Original', 'Old Accr Rate', 'Adopted Mass', 'Avg Accr Rate','System Age']].dropna()"
   ]
  },
  {
   "cell_type": "code",
   "execution_count": null,
   "metadata": {},
   "outputs": [],
   "source": [
    "#lists of parameters: \n",
    "mass_orig = log10(test_age_orig['Object Mass, Original'].tolist())\n",
    "rate_orig = log10(test_age_orig['Old Accr Rate'].tolist())\n",
    "age_orig = log10([1000000*i for i in test_age_orig['System Age'].tolist()])\n",
    "\n",
    "mass = log10(test_age['Adopted Mass'].tolist())\n",
    "rate = log10(test_age['Avg Accr Rate'].tolist())\n",
    "age = log10([1000000*i for i in test_age['System Age'].tolist()])"
   ]
  },
  {
   "cell_type": "markdown",
   "metadata": {},
   "source": [
    "## 1. Reproduce Figures 5.6 and 5.7 in Peck's Thesis: \n",
    "### 5.6: accretion rate as a function of age with points colored by mass\n",
    "### 5.7: accretion rate as a function of mass with points colored by age"
   ]
  },
  {
   "cell_type": "code",
   "execution_count": null,
   "metadata": {},
   "outputs": [],
   "source": [
    "#colormaps:\n",
    "norm_mass_orig = [(i-min(mass_orig))/(max(mass_orig)-min(mass_orig)) for i in mass_orig]\n",
    "norm_age_orig = [(i-min(age_orig))/(max(age_orig)-min(age_orig)) for i in age_orig]\n",
    "massMap_orig = cm.viridis(norm_mass_orig)\n",
    "ageMap_orig = cm.viridis(norm_age_orig)\n",
    "\n",
    "norm_mass = [(i-min(mass))/(max(mass)-min(mass)) for i in mass]\n",
    "norm_age = [(i-min(age))/(max(age)-min(age)) for i in age]\n",
    "massMap = cm.viridis(norm_mass)\n",
    "ageMap = cm.viridis(norm_age)"
   ]
  },
  {
   "cell_type": "code",
   "execution_count": null,
   "metadata": {},
   "outputs": [],
   "source": [
    "f, (a1, a2) = plt.subplots(1,2,figsize=(12,4),dpi=400)\n",
    "\n",
    "im1 = a1.scatter(age_orig,rate_orig,color=massMap_orig,s=120,alpha=0.6,edgecolors='none')\n",
    "im2 = a2.scatter(age,rate,color=massMap,s=120,alpha=0.6,edgecolors='none')\n",
    "\n",
    "plt.viridis()\n",
    "c1 = f.colorbar(im1, ax=a1, label = 'log Mass ($M_{\\odot}$)')\n",
    "c2 = f.colorbar(im2, ax=a2, label = 'log Mass ($M_{\\odot}$)')\n",
    "\n",
    "im1.set_clim(min(mass_orig),max(mass_orig))\n",
    "im2.set_clim(min(mass),max(mass))\n",
    "\n",
    "a1.set_ylabel('$log \\dot M$ ($M_{\\odot}/yr$)')\n",
    "a2.set_ylabel('$log \\dot M$ ($M_{\\odot}/yr$)')\n",
    "a1.set_xlabel('log Age (Myr)')\n",
    "a2.set_xlabel('log Age (Myr)')\n",
    "\n",
    "a1.set_title('Original Data')\n",
    "a2.set_title('Re-estimated Data')"
   ]
  },
  {
   "cell_type": "code",
   "execution_count": null,
   "metadata": {
    "scrolled": false
   },
   "outputs": [],
   "source": [
    "plt.figure(figsize=(7,7/1.625),dpi=400)\n",
    "\n",
    "plt.scatter(mass,rate,color=ageMap,s=100,alpha=0.4,edgecolors='none')\n",
    "\n",
    "plt.viridis()\n",
    "plt.colorbar(label = 'log age (Myr)')\n",
    "plt.clim(min(age),max(age))"
   ]
  },
  {
   "cell_type": "markdown",
   "metadata": {},
   "source": [
    "## 2. Divide into age bins and plot each separately"
   ]
  },
  {
   "cell_type": "markdown",
   "metadata": {},
   "source": [
    "Decide here whether you want to plot all of the original data, or only the original data points that were involved in our recalculations.\n",
    "\n",
    "This matters: when you plot the recalculated data, you see a strong slope-steepening-with-age trend.\n",
    "\n",
    "When you plot all of the original data, you do not see a slope-steepening-with-age trend. This might appear to show that the uniformly estimated data reveals a slope dependence on age.\n",
    "\n",
    "However, when you only plot the original data that was then recalculated, you see the same steepening trend. This indicates this trend is, at least in part, due to selection bias and the samples included in our re-estimation."
   ]
  },
  {
   "cell_type": "code",
   "execution_count": null,
   "metadata": {},
   "outputs": [],
   "source": [
    "y1 = test_age_all[test_age_all['System Age']<=1]\n",
    "y2 = test_age_all[(test_age_all['System Age']>1) & (test_age_all['System Age']<=3)]\n",
    "y3 = test_age_all[test_age_all['System Age']>3]\n",
    "\n",
    "#y1 = db[db['System Age']<=1]\n",
    "#y2 = db[(db['System Age']>1) & (db['System Age']<=3)]\n",
    "#y3 = db[db['System Age']>3]"
   ]
  },
  {
   "cell_type": "code",
   "execution_count": null,
   "metadata": {
    "scrolled": true
   },
   "outputs": [],
   "source": [
    "y1o = y1[['Object Mass, Original', 'Old Accr Rate']].dropna()\n",
    "y2o = y2[['Object Mass, Original', 'Old Accr Rate']].dropna()\n",
    "y3o = y3[['Object Mass, Original', 'Old Accr Rate']].dropna()\n",
    "\n",
    "m1o, r1o = log10(y1o['Object Mass, Original'].tolist()),log10(y1o['Old Accr Rate'].tolist())\n",
    "m2o, r2o = log10(y2o['Object Mass, Original'].tolist()),log10(y2o['Old Accr Rate'].tolist())\n",
    "m3o, r3o = log10(y3o['Object Mass, Original'].tolist()),log10(y3o['Old Accr Rate'].tolist())\n",
    "\n",
    "y1 = y1[['Adopted Mass', 'Avg Accr Rate']].dropna()\n",
    "y2 = y2[['Adopted Mass', 'Avg Accr Rate']].dropna()\n",
    "y3 = y3[['Adopted Mass', 'Avg Accr Rate']].dropna()\n",
    "\n",
    "m1, r1 = log10(y1['Adopted Mass'].tolist()),log10(y1['Avg Accr Rate'].tolist())\n",
    "m2, r2 = log10(y2['Adopted Mass'].tolist()),log10(y2['Avg Accr Rate'].tolist())\n",
    "m3, r3 = log10(y3['Adopted Mass'].tolist()),log10(y3['Avg Accr Rate'].tolist())"
   ]
  },
  {
   "cell_type": "code",
   "execution_count": null,
   "metadata": {},
   "outputs": [],
   "source": [
    "s1o,i1o = polyfit(m1o,r1o,1)\n",
    "s2o,i2o = polyfit(m2o,r2o,1)\n",
    "s3o,i3o = polyfit(m3o,r3o,1)\n",
    "\n",
    "s1,i1 = polyfit(m1,r1,1)\n",
    "s2,i2 = polyfit(m2,r2,1)\n",
    "s3,i3 = polyfit(m3,r3,1)\n",
    "\n",
    "R1o = st.pearsonr(m1o,r1o)[0]\n",
    "R2o = st.pearsonr(m2o,r2o)[0]\n",
    "R3o = st.pearsonr(m3o,r3o)[0]\n",
    "\n",
    "R1 = st.pearsonr(m1,r1)[0]\n",
    "R2 = st.pearsonr(m2,r2)[0]\n",
    "R3 = st.pearsonr(m3,r3)[0]"
   ]
  },
  {
   "cell_type": "code",
   "execution_count": null,
   "metadata": {
    "scrolled": false
   },
   "outputs": [],
   "source": [
    "f = plt.figure(figsize=(10,7),dpi=750)\n",
    "\n",
    "#set subplots grid: two rows, two plots on first row, one centered plot on the bottom row\n",
    "grid = plt.GridSpec(ncols=4,nrows=2,figure=f,wspace=0.4,hspace=0.3)\n",
    "ax1 = f.add_subplot(grid[0,0:2])\n",
    "ax2 = f.add_subplot(grid[0,2:],sharey=ax1)\n",
    "ax3 = f.add_subplot(grid[1,1:3])\n",
    "\n",
    "#scatterplot new masses and accretion rates\n",
    "ax1.scatter(m1,r1,alpha=0.6,color='b',label='r='+str(round(R1,2)),edgecolors='none')\n",
    "ax2.scatter(m2,r2,alpha=0.6,color='r',label='r='+str(round(R2,2)),edgecolors='none')\n",
    "ax3.scatter(m3,r3,alpha=0.6,color='g',label='r='+str(round(R3,2)),edgecolors='none')\n",
    "\n",
    "#scatterplot old masses and accretion rates in gray\n",
    "ax1.scatter(m1o,r1o,alpha=0.15,color='k',label='r='+str(round(R1o,2)),edgecolors='none')\n",
    "ax2.scatter(m2o,r2o,alpha=0.15,color='k',label='r='+str(round(R2o,2)),edgecolors='none')\n",
    "ax3.scatter(m3o,r3o,alpha=0.15,color='k',label='r='+str(round(R3o,2)),edgecolors='none')\n",
    "\n",
    "x=arange(-3,2,1)\n",
    "#plot new best-fit lines\n",
    "ax1.plot(x,s1*x+i1,color='b',label='y='+str(round(s1,2))+'x'+str(round(i1,2)))\n",
    "ax2.plot(x,s2*x+i2,color='r',label='y='+str(round(s2,2))+'x'+str(round(i2,2)))\n",
    "ax3.plot(x,s3*x+i3,color='g',label='y='+str(round(s3,2))+'x'+str(round(i3,2)))\n",
    "\n",
    "#plot old best-fit lines\n",
    "ax1.plot(x,s1o*x+i1o,alpha=0.15,color='k',label='y='+str(round(s1o,2))+'x'+str(round(i1o,2)))\n",
    "ax2.plot(x,s2o*x+i2o,alpha=0.15,color='k',label='y='+str(round(s2o,2))+'x'+str(round(i2o,2)))\n",
    "ax3.plot(x,s3o*x+i3o,alpha=0.15,color='k',label='y='+str(round(s3o,2))+'x'+str(round(i3o,2)))\n",
    "\n",
    "ax1.set_xlim(-2.5,1); ax1.set_ylim(-14,-6)\n",
    "ax2.set_xlim(-2.5,1); ax2.set_ylim(-14,-6)\n",
    "ax3.set_xlim(-2.5,1); ax3.set_ylim(-14,-6)\n",
    "\n",
    "ax1.set_title('$\\leq$ 1 Myr')\n",
    "ax2.set_title('1-3 Myr')\n",
    "ax3.set_title('>3 Myr')\n",
    "\n",
    "ax1.legend(frameon=False,fontsize=7)\n",
    "ax2.legend(frameon=False,fontsize=7)\n",
    "ax3.legend(frameon=False,fontsize=7)\n",
    "\n",
    "f.text(0.04,0.5,'log $\\dot M (M_{\\odot}/yr)$',va='center',rotation='vertical',fontsize=12)\n",
    "f.text(0.5,0.05,'log $M (M_{\\odot})$',ha='center',fontsize=12)\n",
    "f.suptitle('Mass vs Accretion Rate')"
   ]
  }
 ],
 "metadata": {
  "kernelspec": {
   "display_name": "Python 3",
   "language": "python",
   "name": "python3"
  },
  "language_info": {
   "codemirror_mode": {
    "name": "ipython",
    "version": 3
   },
   "file_extension": ".py",
   "mimetype": "text/x-python",
   "name": "python",
   "nbconvert_exporter": "python",
   "pygments_lexer": "ipython3",
   "version": "3.7.4"
  }
 },
 "nbformat": 4,
 "nbformat_minor": 2
}
