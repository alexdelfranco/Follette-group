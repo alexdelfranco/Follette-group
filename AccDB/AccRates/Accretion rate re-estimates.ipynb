{
 "cells": [
  {
   "cell_type": "markdown",
   "metadata": {},
   "source": [
    "# Recalculating Accretion Rates:\n",
    "\n",
    "### 1. Accretion luminosity:\n",
    "    \n",
    "*Variables needed:*\n",
    "        \n",
    "1. name of emission line\n",
    "    \n",
    "2. emission line flux\n",
    "    \n",
    "3. object distance\n",
    "\n",
    "*Procedure:*\n",
    "\n",
    "1. Turn line flux into line luminosity using distance estimate, or existing line luminosity into an updated one using updated distance estimate\n",
    "\n",
    "2. Turn line luminosity into accretion luminosity using scaling relations from Alcala (2017).\n",
    "\n",
    "### 2. Accretion rate:\n",
    "\n",
    "*Variables needed:*\n",
    "\n",
    "1. accretion luminosity\n",
    "\n",
    "2. object mass (from spectral type to temperature to evolutionary tracks)\n",
    "\n",
    "3. object radius (from evolutionary tracks as well)\n",
    "\n",
    "4. magnetospheric radius (assumed to be 5 \\* object radius)"
   ]
  },
  {
   "cell_type": "code",
   "execution_count": null,
   "metadata": {},
   "outputs": [],
   "source": [
    "from numpy import *\n",
    "import astropy.units as u\n",
    "from astropy.constants import G, M_jup, R_jup, M_earth, R_earth, L_sun, M_sun, R_sun\n",
    "import pandas as pd"
   ]
  },
  {
   "cell_type": "code",
   "execution_count": null,
   "metadata": {},
   "outputs": [],
   "source": [
    "#import scaling relation coefficients\n",
    "rel = pd.read_csv('scaling_relations_alcala2017_copy.csv')\n",
    "rel.set_index('Tracer', inplace=True)"
   ]
  },
  {
   "cell_type": "code",
   "execution_count": null,
   "metadata": {},
   "outputs": [],
   "source": [
    "#line luminosity functions\n",
    "\n",
    "def line_lum_distconv(line_lum_old, dist_old, dist_new):\n",
    "    \"\"\"\n",
    "    Calculate the line luminosity at a distance\n",
    "    given the line luminosity at another distance.\n",
    "    \n",
    "    \"\"\"\n",
    "    line_lum_new = line_lum_old * (dist_old**2)/(dist_new**2)\n",
    "    return line_lum_new\n",
    "\n",
    "def line_lum(line_flux, dist):\n",
    "    \"\"\"\n",
    "    Calculate line luminosity given line flux and distance\n",
    "    assuming line flux is extinction corrected.\n",
    "    \"\"\"\n",
    "    #future: could add extinction correction in there? Not sure how that works.\n",
    "    \n",
    "    line_lum = 4 * pi * dist**2 * line_flux\n",
    "    return line_lum"
   ]
  },
  {
   "cell_type": "code",
   "execution_count": null,
   "metadata": {},
   "outputs": [],
   "source": [
    "def accr_lum(L_line, tracer, L_line_err = 0*u.W):\n",
    "    \"\"\"\n",
    "    Translate a line luminosity to accretion luminosity using empirical\n",
    "    relationships from Alcala et al. 2017.\n",
    "    \n",
    "    Included tracers are:\n",
    "    'H_alpha'\n",
    "    'H_beta'\n",
    "    'H_gamma'\n",
    "    'H_delta'\n",
    "    'H_epsilon'\n",
    "    'Pa_beta'\n",
    "    'Pa_gamma'\n",
    "    'He_I_587.6'\n",
    "    'He_I_667.8'\n",
    "    'Ca_II_K'\n",
    "    'Ca_II_H'\n",
    "    'Ca_II_866.2'\n",
    "    \"\"\"\n",
    "        \n",
    "    a, a_err, b, b_err = rel['a'][tracer],rel['a_err'][tracer],rel['b'][tracer],rel['b_err'][tracer]\n",
    "    \n",
    "    log_L_acc = b + a * log10(L_line*u.W/L_sun)\n",
    "    \n",
    "    L_acc = 10**log_L_acc*L_sun\n",
    "    \n",
    "    #attempt at error propagation\n",
    "    \n",
    "    #c_err = (L_line_err)/(log(10) * L_line)\n",
    "    #ac_err = a * log10(L_line/L_sun) * ((a_err/a)**2 + (c_err/log10(L_line/L_sun))**2)**0.5\n",
    "    #log_L_acc_err = (b_err**2 + ac_err**2)**0.5\n",
    "    #L_acc_err = L_acc * log(10) * log_L_acc_err\n",
    "\n",
    "    return L_acc"
   ]
  },
  {
   "cell_type": "code",
   "execution_count": null,
   "metadata": {},
   "outputs": [],
   "source": [
    "def L_acc_list(L_line_list, tracer):\n",
    "    laccl = [accr_lum(i,tracer) for i in L_line_list]\n",
    "    return laccl"
   ]
  },
  {
   "cell_type": "markdown",
   "metadata": {},
   "source": [
    "***Error propagation:*** *this is how I **think** the error propagation should work for the scaling relation. Need to check this.*\n",
    "\n",
    "Overall formula: $\\log (L_{acc}/L_{\\odot}) = a \\cdot \\log(L_{line}/L_{\\odot}) + b$\n",
    "\n",
    "Errors:\n",
    "\n",
    "$\\delta c = \\delta \\log(L_{line}/L_{\\odot}) = \\frac{1}{\\ln10} \\frac{\\delta L_{line}}{L_{line}}$\n",
    "\n",
    "$\\delta ac = ac \\cdot \\sqrt{(\\frac{\\delta a}{a})^2 + (\\frac{\\delta c}{c})^2}$\n",
    "\n",
    "$\\delta \\log(L_{acc}) = \\delta (ac + b)= \\sqrt{(\\delta ac)^2 + (\\delta b)^2}$"
   ]
  },
  {
   "cell_type": "code",
   "execution_count": null,
   "metadata": {},
   "outputs": [],
   "source": [
    "def acc_rate(L_acc, R, M):\n",
    "    \"\"\"\n",
    "    Translate an accretion luminosity and planet mass/radius to accretion rate in Solar masses per year.\n",
    "    \"\"\"\n",
    "    mdot = 1.25*L_acc*R*u.R_sun/(G*M*u.M_sun)\n",
    "    mdot = mdot.decompose().to(u.M_sun/u.yr)\n",
    "    return(mdot)"
   ]
  },
  {
   "cell_type": "markdown",
   "metadata": {},
   "source": [
    "### Cells above: functions for conversions and calculations\n",
    "\n",
    "### Cells below: tests with the database\n",
    "\n",
    "***Goal of 7/4:***\n",
    "\n",
    "1. write out in words the exact process needed to convert the database's line fluxes into line luminosities, line luminosities to accretion luminosities, then l_acc to mdot for each tracer in the database. note that i will need to have a lot of data columns, many of which will be mostly NaN. Making a new column for every tracer was easier than making a new row, but it means it'll be harder to plot. I guess I can iterate over list of lists and plot M vs Mdot[0], M vs Mdot[1], etc.\n",
    "\n",
    "2. draft the code that can do that. note that I cannot actually run it without distance estimate for the points. Could create a fake distance column of all 100 pc, for example."
   ]
  },
  {
   "cell_type": "markdown",
   "metadata": {},
   "source": [
    "***1. Import database. Keep only relevant columns, which are:***\n",
    "\n",
    "**Source, Mass, Radius, Distance, Line Flux (each tracer)**\n",
    "\n",
    "*Additional considerations:*\n",
    "\n",
    "1. Do I want to import age and disk type etc, too? Probably, as we will want to use them to narrow down the physical causes of scatter in the relation.\n",
    "\n",
    "2. Do I want a flag for line flux from EW? Not sure.\n",
    "\n",
    "3. Do I want to have empty columns for L_line for each tracer? Or create them as I go?\n",
    "\n",
    "4. It really would be easier to do this if I had a row for each instance of each source, rather than columns for each tracer. Then I could simply take acc_lum(db['tracer'][i], db['Line Lum'][i]) once for each row. Is there a way I can easily make the database into that style now? I don't think so."
   ]
  },
  {
   "cell_type": "markdown",
   "metadata": {},
   "source": [
    "***2. Convert every line flux to a line luminosity***\n",
    "\n",
    "    for i in range(len(db)):\n",
    "\n",
    "        #do i need to specify that the line_flux value is not NaN? If so, above each line here, add if isnan(db['tracerj line flux'][i])==False\n",
    "        \n",
    "        db.at[i,'tracer1 line lum'] = line_lum(db['tracer1 line flux'][i], db['distance'][i]\n",
    "        db.at[i,'tracer2 line lum'] = line_lum(db['tracer2 line flux'][i], db['distance'][i]\n",
    "        ...    \n",
    "        db.at[i,'tracern line lum'] = line_lum(db['tracern line flux'][i], db['distance'][i]\n",
    "\n",
    "\n",
    "Alternatively, get a list of tracers: ['t1','t2','t3',...,'tn']\n",
    "Then:\n",
    "\n",
    "    for i in range(len(db)):\n",
    "        for t in tracers:\n",
    "            if isnan(db[t + 'line flux'][i]) == False:\n",
    "                db.at[i,t + 'line lum'] = line_lum(db[t + 'line flux'][i], db['distance'][i]\n",
    "        \n",
    "Yeah this solution is better. If it works :)"
   ]
  },
  {
   "cell_type": "markdown",
   "metadata": {},
   "source": [
    "***3. Convert every line luminosity to an accretion luminosity***\n",
    "\n",
    "    for i in range(len(db)):\n",
    "        for t in tracers:\n",
    "            db.at[i,t + 'acc lum'] = acc_lum(db[t + 'line lum'][i], t)\n",
    "\n",
    "***4. Convert every accretion luminosity into an accretion rate***\n",
    "\n",
    "Follow similar procedure as above. Do I want to average them yet? I think not. We could do a plot of averaged for each source and not averaged.\n",
    "\n",
    "    for i in range(len(db)):\n",
    "        for t in tracers:\n",
    "            db.at[i,t + 'acc rate'] = acc_rate(db[t + 'acc lum'][i], db['radius'][i], db['mass'][i])\n",
    "        \n",
    "**Additional considerations:**\n",
    "\n",
    "This procedure does *not* account for 1. The papers that only report EW. 2. The papers that report L but not flux. 3. The other ones that do none of these things. Can do these by:\n",
    "\n",
    "1. Getting flux *from* EW using either R band magnitude or a complex spectral type fitting method.\n",
    "\n",
    "2. Turning L_line into new L_line using distance conversion. To do so, need the old distance estimate (ex Natta 2006 only reports L(Pa$\\beta$).\n",
    "\n",
    "3. ???\n",
    "\n",
    "This is the basic procedure, though.\n",
    "\n",
    "***5. Plotting***\n",
    "\n"
   ]
  },
  {
   "cell_type": "code",
   "execution_count": null,
   "metadata": {},
   "outputs": [],
   "source": []
  },
  {
   "cell_type": "code",
   "execution_count": null,
   "metadata": {},
   "outputs": [],
   "source": []
  },
  {
   "cell_type": "code",
   "execution_count": null,
   "metadata": {},
   "outputs": [],
   "source": [
    "db = pd.read_csv('accdb_master_copy.csv')"
   ]
  },
  {
   "cell_type": "markdown",
   "metadata": {},
   "source": [
    "Example/test: Natta 2006\n",
    "\n",
    "Given Pa$\\beta$ luminosity, convert to accretion luminosity"
   ]
  },
  {
   "cell_type": "code",
   "execution_count": null,
   "metadata": {},
   "outputs": [],
   "source": [
    "natta06 = db[db['Reference']=='Natta 2006']\n",
    "n06 = natta06[['Source', 'Object Mass M_Solar','Object Radius from L and T','PaB Line Lum (L_solar)','Log Accretion Luminosity (solar)']]\n",
    "n06 = n06.dropna()"
   ]
  },
  {
   "cell_type": "code",
   "execution_count": null,
   "metadata": {},
   "outputs": [],
   "source": [
    "n06['accr rate'] = zeros(len(n06))"
   ]
  },
  {
   "cell_type": "code",
   "execution_count": null,
   "metadata": {},
   "outputs": [],
   "source": [
    "l_line = [float(i) for i in n06['PaB Line Lum (L_solar)'].tolist()]\n",
    "log_l_acc_orig = [float(i) for i in n06['Log Accretion Luminosity (solar)'].tolist()]\n",
    "l_acc = L_acc_list(l_line,'Pa_beta')"
   ]
  },
  {
   "cell_type": "code",
   "execution_count": null,
   "metadata": {},
   "outputs": [],
   "source": [
    "l_line"
   ]
  },
  {
   "cell_type": "code",
   "execution_count": null,
   "metadata": {},
   "outputs": [],
   "source": [
    "m = [float(i) for i in n06['Object Mass M_Solar'].tolist()]\n",
    "r = [float(i) for i in n06['Object Radius from L and T'].tolist()]\n",
    "acc = [acc_rate(l_acc[i],r[i],m[i]) for i in range(len(l_acc))]"
   ]
  },
  {
   "cell_type": "code",
   "execution_count": null,
   "metadata": {},
   "outputs": [],
   "source": [
    "import matplotlib.pyplot as plt"
   ]
  },
  {
   "cell_type": "code",
   "execution_count": null,
   "metadata": {},
   "outputs": [],
   "source": [
    "polyfit(log_l_acc_orig, log_l_acc,1)"
   ]
  },
  {
   "cell_type": "code",
   "execution_count": null,
   "metadata": {
    "scrolled": true
   },
   "outputs": [],
   "source": [
    "plt.figure(figsize = (6.5,4), dpi = 250)\n",
    "plt.scatter(log_l_acc_orig, log_l_acc,label='y=0.78x-0.36 \\nr=0.999')\n",
    "labx = plt.xlabel('$L_{acc}$ (N06)')\n",
    "laby = plt.ylabel('$L_{acc}$ (A17)')\n",
    "x = arange(-6.3,0.5,.1)\n",
    "plt.plot(x,x, color = 'r',label = 'y=x')\n",
    "plt.legend(frameon=False)"
   ]
  },
  {
   "cell_type": "code",
   "execution_count": null,
   "metadata": {},
   "outputs": [],
   "source": []
  }
 ],
 "metadata": {
  "kernelspec": {
   "display_name": "Python 3",
   "language": "python",
   "name": "python3"
  },
  "language_info": {
   "codemirror_mode": {
    "name": "ipython",
    "version": 3
   },
   "file_extension": ".py",
   "mimetype": "text/x-python",
   "name": "python",
   "nbconvert_exporter": "python",
   "pygments_lexer": "ipython3",
   "version": "3.7.4"
  }
 },
 "nbformat": 4,
 "nbformat_minor": 2
}
