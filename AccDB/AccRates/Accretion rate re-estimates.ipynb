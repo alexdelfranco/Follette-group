{
 "cells": [
  {
   "cell_type": "markdown",
   "metadata": {},
   "source": [
    "# Recalculating Accretion Rates:\n",
    "\n",
    "### 1. Accretion luminosity:\n",
    "    \n",
    "*Variables needed:*\n",
    "        \n",
    "1. name of emission line\n",
    "    \n",
    "2. emission line flux\n",
    "    \n",
    "3. object distance\n",
    "\n",
    "*Procedure:*\n",
    "\n",
    "1. Turn line flux into line luminosity using distance estimate, or existing line luminosity into an updated one using updated distance estimate\n",
    "\n",
    "2. Turn line luminosity into accretion luminosity using scaling relations from Alcala (2017).\n",
    "\n",
    "### 2. Accretion rate:\n",
    "\n",
    "*Variables needed:*\n",
    "\n",
    "1. accretion luminosity\n",
    "\n",
    "2. object mass (from spectral type to temperature to evolutionary tracks)\n",
    "\n",
    "3. object radius (from evolutionary tracks as well)\n",
    "\n",
    "4. magnetospheric radius (assumed to be 5 \\* object radius)"
   ]
  },
  {
   "cell_type": "code",
   "execution_count": 1,
   "metadata": {},
   "outputs": [],
   "source": [
    "from numpy import *\n",
    "import astropy.units as u\n",
    "from astropy.constants import G, M_jup, R_jup, M_earth, R_earth, L_sun, M_sun\n",
    "import pandas as pd"
   ]
  },
  {
   "cell_type": "code",
   "execution_count": 2,
   "metadata": {},
   "outputs": [],
   "source": [
    "#import scaling relation coefficients\n",
    "rel = pd.read_csv('scaling_relations_alcala2017_copy.csv')\n",
    "rel.set_index('Tracer', inplace=True)"
   ]
  },
  {
   "cell_type": "code",
   "execution_count": 3,
   "metadata": {},
   "outputs": [],
   "source": [
    "#line luminosity functions\n",
    "\n",
    "def line_lum_distconv(line_lum_old, dist_old, dist_new):\n",
    "    \"\"\"\n",
    "    Calculate the line luminosity at a distance\n",
    "    given the line luminosity at another distance.\n",
    "    \n",
    "    \"\"\"\n",
    "    line_lum_new = line_lum_old * (dist_old**2)/(dist_new**2)\n",
    "    return line_lum_new\n",
    "\n",
    "def line_lum(line_flux, dist):\n",
    "    \"\"\"\n",
    "    Calculate line luminosity given line flux and distance\n",
    "    assuming line flux is extinction corrected.\n",
    "    \"\"\"\n",
    "    #future: could add extinction correction in there? Not sure how that works.\n",
    "    \n",
    "    line_lum = 4 * pi * dist**2 * line_flux\n",
    "    return line_lum"
   ]
  },
  {
   "cell_type": "code",
   "execution_count": 51,
   "metadata": {},
   "outputs": [],
   "source": [
    "def accr_lum(L_line, tracer, L_line_err = 0*u.W):\n",
    "    \"\"\"\n",
    "    Translate a line luminosity to accretion luminosity using empirical\n",
    "    relationships from Alcala et al. 2017.\n",
    "    \n",
    "    Included tracers are:\n",
    "    'H_alpha'\n",
    "    'H_beta'\n",
    "    'H_gamma'\n",
    "    'H_delta'\n",
    "    'H_epsilon'\n",
    "    'Pa_beta'\n",
    "    'Pa_gamma'\n",
    "    'He_I_587.6'\n",
    "    'He_I_667.8'\n",
    "    'Ca_II_K'\n",
    "    'Ca_II_H'\n",
    "    'Ca_II_866.2'\n",
    "    \"\"\"\n",
    "        \n",
    "    a, a_err, b, b_err = rel['a'][tracer],rel['a_err'][tracer],rel['b'][tracer],rel['b_err'][tracer]\n",
    "    \n",
    "    log_L_acc = b + a * log10(L_line/L_sun)\n",
    "    \n",
    "    L_acc = 10**log_L_acc*L_sun\n",
    "    \n",
    "    \n",
    "    #attempt at error propagation\n",
    "    #having problems with units here\n",
    "    \n",
    "    c_err = (L_line_err)/(log(10) * L_line)\n",
    "    ac_err = a * log10(L_line/L_sun) * ((a_err/a)**2 + (c_err/log10(L_line/L_sun))**2)**0.5\n",
    "    log_L_acc_err = (b_err**2 + ac_err**2)**0.5\n",
    "    L_acc_err = L_acc * log(10) * log_L_acc_err\n",
    "\n",
    "    return L_acc/L_sun, L_acc_err/L_sun"
   ]
  },
  {
   "cell_type": "markdown",
   "metadata": {},
   "source": [
    "***Error propagation:*** *this is how I **think** the error propagation should work for the scaling relation. Need to check this.*\n",
    "\n",
    "Overall formula: $\\log (L_{acc}/L_{\\odot}) = a \\cdot \\log(L_{line}/L_{\\odot}) + b$\n",
    "\n",
    "Errors:\n",
    "\n",
    "$\\delta c = \\delta \\log(L_{line}/L_{\\odot}) = \\frac{1}{\\ln10} \\frac{\\delta L_{line}}{L_{line}}$\n",
    "\n",
    "$\\delta ac = ac \\cdot \\sqrt{(\\frac{\\delta a}{a})^2 + (\\frac{\\delta c}{c})^2}$\n",
    "\n",
    "$\\delta L_{acc} = \\delta (ac + b)= \\sqrt{(\\delta ac)^2 + (\\delta b)^2}$"
   ]
  },
  {
   "cell_type": "code",
   "execution_count": 52,
   "metadata": {},
   "outputs": [
    {
     "data": {
      "text/plain": [
       "(<Quantity 0.00036412>, <Quantity 0.00024961>)"
      ]
     },
     "execution_count": 52,
     "metadata": {},
     "output_type": "execute_result"
    }
   ],
   "source": [
    "accr_lum(10**22 * u.W, 'H_alpha', 10**20 * u.W)"
   ]
  },
  {
   "cell_type": "code",
   "execution_count": null,
   "metadata": {},
   "outputs": [],
   "source": []
  }
 ],
 "metadata": {
  "kernelspec": {
   "display_name": "Python 3",
   "language": "python",
   "name": "python3"
  },
  "language_info": {
   "codemirror_mode": {
    "name": "ipython",
    "version": 3
   },
   "file_extension": ".py",
   "mimetype": "text/x-python",
   "name": "python",
   "nbconvert_exporter": "python",
   "pygments_lexer": "ipython3",
   "version": "3.7.4"
  }
 },
 "nbformat": 4,
 "nbformat_minor": 2
}
