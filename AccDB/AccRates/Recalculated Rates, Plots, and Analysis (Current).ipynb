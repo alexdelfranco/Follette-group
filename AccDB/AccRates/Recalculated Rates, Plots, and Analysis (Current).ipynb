{
 "cells": [
  {
   "cell_type": "markdown",
   "metadata": {},
   "source": [
    "# Recalculations, Plots, and Analysis of Data"
   ]
  },
  {
   "cell_type": "code",
   "execution_count": null,
   "metadata": {},
   "outputs": [],
   "source": [
    "from numpy import *\n",
    "import astropy.units as u\n",
    "from astropy.constants import G, M_jup, R_jup, M_earth, R_earth, L_sun, M_sun, R_sun\n",
    "import pandas as pd\n",
    "import matplotlib.pyplot as plt\n",
    "%matplotlib inline\n",
    "import extinction as ex\n",
    "import scipy.stats as st"
   ]
  },
  {
   "cell_type": "code",
   "execution_count": null,
   "metadata": {},
   "outputs": [],
   "source": [
    "#import scaling relation coefficients\n",
    "rel = pd.read_csv('scalingrels_a17.csv')\n",
    "rel.set_index('Tracer', inplace=True)"
   ]
  },
  {
   "cell_type": "markdown",
   "metadata": {},
   "source": [
    "## Functions:\n",
    "1. Flux to luminosity\n",
    "\n",
    "2. Luminosity to accretion luminosity\n",
    "\n",
    "3. Accretion luminosity to accretion rate\n",
    "\n",
    "4. Get accretion rate starting from line flux"
   ]
  },
  {
   "cell_type": "code",
   "execution_count": null,
   "metadata": {},
   "outputs": [],
   "source": [
    "def line_lum(line_flux, dist):\n",
    "    \"\"\"\n",
    "    Calculate line luminosity given line flux and distance\n",
    "    assuming line flux is extinction corrected.\n",
    "    \"\"\"\n",
    "    \n",
    "    line_lum = 4 * pi * (dist*u.pc)**2 * line_flux * u.erg / (u.s * (u.cm)**2)\n",
    "    line_lum = line_lum.decompose().to(u.W)\n",
    "    return line_lum/u.W\n",
    "\n",
    "def accr_lum(L_line, tracer, L_line_err = 0*u.W):\n",
    "    \"\"\"\n",
    "    Translate a line luminosity to accretion luminosity using empirical\n",
    "    relationships from Alcala et al. 2017.\n",
    "    \n",
    "    Included tracers are:\n",
    "    'Ha'\n",
    "    'PaB'\n",
    "    'BrG'\n",
    "    \"\"\"\n",
    "        \n",
    "    a, a_err, b, b_err = rel['a'][tracer],rel['a_err'][tracer],rel['b'][tracer],rel['b_err'][tracer]\n",
    "    \n",
    "    log_L_acc = b + a * log10(L_line*u.W/L_sun)\n",
    "    \n",
    "    L_acc = 10**log_L_acc*L_sun/u.W\n",
    "    \n",
    "    #error propagation\n",
    "    \n",
    "    #c_err = (L_line_err)/(log(10) * L_line)\n",
    "    #ac_err = a * log10(L_line/L_sun) * ((a_err/a)**2 + (c_err/log10(L_line/L_sun))**2)**0.5\n",
    "    #log_L_acc_err = (b_err**2 + ac_err**2)**0.5\n",
    "    #L_acc_err = L_acc * log(10) * log_L_acc_err\n",
    "\n",
    "    return L_acc\n",
    "\n",
    "def acc_rate(L_acc, R, M):\n",
    "    \"\"\"\n",
    "    Translate an accretion luminosity and planet mass/radius\n",
    "    to accretion rate in Solar masses per year.\n",
    "    \"\"\"\n",
    "    mdot = 1.25*L_acc*u.W*R*u.R_sun/(G*M*u.M_sun)\n",
    "    mdot = mdot.decompose().to(u.M_sun/u.yr)\n",
    "    return(mdot/(u.M_sun/u.yr))\n",
    "\n",
    "def get_rate(line_flux, d, t, R, M):\n",
    "    \"\"\"\n",
    "    Turn a line flux into an accretion rate, \n",
    "    given the distance, tracer, object radius, and object mass.\n",
    "    \n",
    "    Line flux should be in erg/s/cm^2; distance in pc;\n",
    "    tracer either Ha, PaB, or BrG; radius in solar radii,\n",
    "    and mass in solar masses.\n",
    "    \"\"\"\n",
    "    l_line = line_lum(line_flux,d)\n",
    "    l_acc = accr_lum(l_line, t)\n",
    "    mdot = acc_rate(l_acc, R, M)\n",
    "    \n",
    "    return mdot"
   ]
  },
  {
   "cell_type": "markdown",
   "metadata": {},
   "source": [
    "## Uniform scaling relations and new distances"
   ]
  },
  {
   "cell_type": "code",
   "execution_count": null,
   "metadata": {},
   "outputs": [],
   "source": [
    "#read in CSV and make list of tracers\n",
    "db = pd.read_csv('recalculations.csv')\n",
    "tracers = ['Ha','PaB','BrG']"
   ]
  },
  {
   "cell_type": "markdown",
   "metadata": {},
   "source": [
    "Recalculation:"
   ]
  },
  {
   "cell_type": "code",
   "execution_count": null,
   "metadata": {},
   "outputs": [],
   "source": [
    "#get accretion rate for each tracer for each object\n",
    "\n",
    "for i in db.index:\n",
    "    #get relevant parameters: d, R, M\n",
    "    \n",
    "        #use new distance if it's available; else, use existing distance\n",
    "    d = db.loc[i,'Plx Distance']\n",
    "    if isnan(d):\n",
    "        d = db.loc[i,'Object Distance']\n",
    "    R = db.loc[i,'Object Radius']\n",
    "    M = db.loc[i,'Object Mass, Original']\n",
    "    #ignore point if missing M or R\n",
    "    if (isnan(M) or isnan(R)):\n",
    "        continue\n",
    "        \n",
    "    for t in tracers:\n",
    "        lf = db.loc[i,t + ' Line Flux']\n",
    "        \n",
    "        if isnan(lf)==False:\n",
    "            \n",
    "            #extinction corrections: this is not automatic—need to know which need correction\n",
    "            if db.loc[i,'Reference']=='Natta 2006':\n",
    "                lf = ex.remove(db.loc[i,'A_J'],lf)\n",
    "            if db.loc[i,'Reference']=='Kalari 2015':\n",
    "                lf = ex.remove(db.loc[i,'A_V'],lf)\n",
    "            \n",
    "            #get the accretion rate\n",
    "            db.at[i,t + ' Accr Rate'] = get_rate(lf, d, t, R, M)"
   ]
  },
  {
   "cell_type": "code",
   "execution_count": null,
   "metadata": {},
   "outputs": [],
   "source": [
    "#take average accretion rate across the three tracers\n",
    "db['Avg Accr Rate'] = db[[t + ' Accr Rate' for t in tracers]].mean(axis=1)"
   ]
  },
  {
   "cell_type": "markdown",
   "metadata": {},
   "source": [
    "Plotting and analysis:"
   ]
  },
  {
   "cell_type": "code",
   "execution_count": null,
   "metadata": {},
   "outputs": [],
   "source": [
    "#Take relevant columns and drop NaNs\n",
    "new_est = db[['Source','Reference','Object Mass, Original', 'Avg Accr Rate','Old Accr Rate']].dropna()\n",
    "\n",
    "#lists of mass (m), old accr rate (m dot, or md), and new accr rate\n",
    "m = log10(new_est['Object Mass, Original'].tolist())\n",
    "md_old = log10(new_est['Old Accr Rate'].tolist())\n",
    "md_new = log10(new_est['Avg Accr Rate'].tolist())"
   ]
  },
  {
   "cell_type": "code",
   "execution_count": null,
   "metadata": {},
   "outputs": [],
   "source": [
    "#best-fit parameters\n",
    "sl_old, incpt_old = polyfit(m,md_old,1)\n",
    "sl_new, incpt_new = polyfit(m,md_new,1)\n",
    "print('Old Best-Fit: Mdot =', sl_old,'M', incpt_old)\n",
    "print('New Best-Fit: Mdot =', sl_new,'M', incpt_new)"
   ]
  },
  {
   "cell_type": "code",
   "execution_count": null,
   "metadata": {},
   "outputs": [],
   "source": [
    "#correlations\n",
    "r_old = st.pearsonr(m,md_old)\n",
    "r_new = st.pearsonr(m,md_new)\n",
    "print('Old r:', r_old)\n",
    "print('New r:', r_new)"
   ]
  },
  {
   "cell_type": "code",
   "execution_count": null,
   "metadata": {},
   "outputs": [],
   "source": [
    "print('Number of rows included:', len(new_est))"
   ]
  },
  {
   "cell_type": "markdown",
   "metadata": {},
   "source": [
    "Plot 1: Compare old and new"
   ]
  },
  {
   "cell_type": "code",
   "execution_count": null,
   "metadata": {
    "scrolled": false
   },
   "outputs": [],
   "source": [
    "#plotting:\n",
    "plt.figure(figsize=(7,7/1.625),dpi=750)\n",
    "\n",
    "plt.scatter(m,md_old,color='k',alpha=0.1,label='r='+str(round(r_old[0],2)),\n",
    "           edgecolors='none',s=70)\n",
    "plt.scatter(m,md_new,color='b',alpha=0.25,label='r='+str(round(r_new[0],2)),\n",
    "           edgecolors='none',s=70)\n",
    "\n",
    "x = arange(-2.5,1,0.5)\n",
    "plt.xlim(-2.5,0.5); plt.ylim(-14,-6)\n",
    "\n",
    "plt.plot(x, sl_old*x+incpt_old, color='k', alpha=0.5,label='y='+str(round(sl_old,2))+'x'+str(round(incpt_old,2)))\n",
    "plt.plot(x, sl_new*x+incpt_new, color='b', label='y='+str(round(sl_new,2))+'x'+str(round(incpt_new,2)))\n",
    "\n",
    "plt.legend(frameon=False); plt.title('Accretion Rate vs Mass')\n",
    "\n",
    "plt.xlabel('log $M$  $(M_{\\odot})$'); plt.ylabel('log $\\dot M$  $(M_{\\odot}/yr)$')"
   ]
  },
  {
   "cell_type": "markdown",
   "metadata": {},
   "source": [
    "Plot 2: Only new"
   ]
  },
  {
   "cell_type": "code",
   "execution_count": null,
   "metadata": {
    "scrolled": true
   },
   "outputs": [],
   "source": [
    "#plotting:\n",
    "plt.figure(figsize=(7,7/1.625),dpi=750)\n",
    "\n",
    "plt.scatter(m,md_new,color='b',alpha=0.2,label='r='+str(round(r_new[0],2)),\n",
    "           edgecolors='none',s=70)\n",
    "\n",
    "x = arange(-2.5,1,0.5)\n",
    "plt.xlim(-2.5,0.5); plt.ylim(-14,-6)\n",
    "\n",
    "plt.plot(x, sl_new*x+incpt_new, color='k', label='y='+str(round(sl_new,2))+'x'+str(round(incpt_new,2)))\n",
    "\n",
    "plt.legend(frameon=False); plt.title('Accretion Rate vs Mass')\n",
    "\n",
    "plt.xlabel('log $M$  $(M_{\\odot})$'); plt.ylabel('log $\\dot M$  $(M_{\\odot}/yr)$')"
   ]
  },
  {
   "cell_type": "markdown",
   "metadata": {},
   "source": [
    "## Uniform scaling relations, new distances, new masses"
   ]
  },
  {
   "cell_type": "code",
   "execution_count": null,
   "metadata": {},
   "outputs": [],
   "source": [
    "#read in CSV again\n",
    "db2 = pd.read_csv('recalculations.csv')"
   ]
  },
  {
   "cell_type": "markdown",
   "metadata": {},
   "source": [
    "Recalculation:"
   ]
  },
  {
   "cell_type": "code",
   "execution_count": null,
   "metadata": {},
   "outputs": [],
   "source": [
    "#get accretion rates\n",
    "#mass_used: one list of the masses used to recalculate accretion rate\n",
    "mass_used = []\n",
    "\n",
    "for i in db2.index:  \n",
    "    #use new distance, mass, and radius if it's available; else, use existing value\n",
    "    d = db2.loc[i,'Plx Distance']\n",
    "    if isnan(d):\n",
    "        d = db2.loc[i,'Object Distance']\n",
    "    R = db2.loc[i,'Object Radius']\n",
    "    M = db2.loc[i,'New Mass']\n",
    "    if isnan(M):\n",
    "        M = db2.loc[i,'Object Mass, Original']\n",
    "        \n",
    "    mass_used.append(M)\n",
    "\n",
    "    #ignore if missing M or R\n",
    "    if (isnan(M) or isnan(R)):\n",
    "        continue\n",
    "            \n",
    "    for t in tracers:\n",
    "        lf = db2.loc[i,t + ' Line Flux']\n",
    "        if isnan(lf):\n",
    "            continue   \n",
    "        #extinction corrections when necessary\n",
    "        if db2.loc[i,'Reference']=='Natta 2006':\n",
    "            lf = ex.remove(db2.loc[i,'A_J'],lf) \n",
    "        if db2.loc[i,'Reference']=='Kalari 2015':\n",
    "            lf = ex.remove(db2.loc[i,'A_V'],lf)\n",
    "            \n",
    "        #get the accretion rate\n",
    "        db2.at[i,t + ' Accr Rate'] = get_rate(lf, d, t, R, M)"
   ]
  },
  {
   "cell_type": "code",
   "execution_count": null,
   "metadata": {},
   "outputs": [],
   "source": [
    "#add mass used as a database column. This enables pulling all the masses as one list.\n",
    "db2['Adopted Mass'] = mass_used"
   ]
  },
  {
   "cell_type": "code",
   "execution_count": null,
   "metadata": {},
   "outputs": [],
   "source": [
    "#Take average accretion rate across the three tracers\n",
    "db2['Avg Accr Rate'] = db2[[t + ' Accr Rate' for t in tracers]].mean(axis=1)"
   ]
  },
  {
   "cell_type": "markdown",
   "metadata": {},
   "source": [
    "Plotting and analysis:"
   ]
  },
  {
   "cell_type": "code",
   "execution_count": null,
   "metadata": {},
   "outputs": [],
   "source": [
    "#Take relevant columns and drop NaNs\n",
    "new_est2 = db2[['Source','Reference','Object Mass, Original','Adopted Mass',\n",
    "           'Avg Accr Rate','Old Accr Rate']].dropna()"
   ]
  },
  {
   "cell_type": "code",
   "execution_count": null,
   "metadata": {},
   "outputs": [],
   "source": [
    "#lists of mass, old accr rate, and new accr rate\n",
    "m_old = log10(new_est2['Object Mass, Original'].tolist())\n",
    "m_new = log10(new_est2['Adopted Mass'].tolist())\n",
    "md_old2 = log10(new_est2['Old Accr Rate'].tolist())\n",
    "md_new2 = log10(new_est2['Avg Accr Rate'].tolist())"
   ]
  },
  {
   "cell_type": "code",
   "execution_count": null,
   "metadata": {},
   "outputs": [],
   "source": [
    "#best fit parameters\n",
    "sl_old2, incpt_old2 = polyfit(m_old,md_old2,1)\n",
    "sl_new2, incpt_new2 = polyfit(m_new,md_new2,1)\n",
    "print('Old Best-Fit: y = ', sl_old2,'x ', incpt_old2)\n",
    "print('New Best-Fit: y = ', sl_new2,'x ', incpt_new2)"
   ]
  },
  {
   "cell_type": "code",
   "execution_count": null,
   "metadata": {},
   "outputs": [],
   "source": [
    "#correlations\n",
    "r_old2 = st.pearsonr(m_old,md_old2)\n",
    "r_new2 = st.pearsonr(m_new,md_new2)\n",
    "print('Old r:', r_old2)\n",
    "print('New r:', r_new2)"
   ]
  },
  {
   "cell_type": "code",
   "execution_count": null,
   "metadata": {},
   "outputs": [],
   "source": [
    "print('Number of rows included:', len(new_est2))"
   ]
  },
  {
   "cell_type": "markdown",
   "metadata": {},
   "source": [
    "Plot 1: compare old and new"
   ]
  },
  {
   "cell_type": "code",
   "execution_count": null,
   "metadata": {
    "scrolled": true
   },
   "outputs": [],
   "source": [
    "plt.figure(figsize=(7,7/1.625),dpi=400)\n",
    "\n",
    "plt.scatter(m_old,md_old2,color='k',alpha=0.1,label='r='+str(round(r_old2[0],2)),\n",
    "           edgecolors='none',s=70)\n",
    "plt.scatter(m_new,md_new2,color='b',alpha=0.25,label='r='+str(round(r_new2[0],2)),\n",
    "           edgecolors='none',s=70)\n",
    "\n",
    "x = arange(-2.5,1,0.5)\n",
    "plt.xlim(-2.5,0.5); plt.ylim(-14,-6)\n",
    "\n",
    "plt.plot(x, sl_old2*x+incpt_old2, color='k', alpha=0.5,label='y='+str(round(sl_old2,2))+'x'+str(round(incpt_old2,2)))\n",
    "plt.plot(x, sl_new2*x+incpt_new2, color='b', label='y='+str(round(sl_new2,2))+'x'+str(round(incpt_new2,2)))\n",
    "\n",
    "plt.legend(frameon=False); plt.title('Accretion Rate vs Mass')\n",
    "\n",
    "plt.xlabel('log $M$  $(M_{\\odot})$'); plt.ylabel('log $\\dot M$  $(M_{\\odot}/yr)$')"
   ]
  },
  {
   "cell_type": "markdown",
   "metadata": {},
   "source": [
    "Plot 2: only new"
   ]
  },
  {
   "cell_type": "code",
   "execution_count": null,
   "metadata": {},
   "outputs": [],
   "source": [
    "plt.figure(figsize=(7,7/1.625),dpi=400)\n",
    "\n",
    "plt.scatter(m_new,md_new2,color='b',alpha=0.25,label='r='+str(round(r_new2[0],2)),\n",
    "            edgecolors='none',s=70)\n",
    "\n",
    "x = arange(-2.5,1,0.5)\n",
    "plt.xlim(-2.5,0.5); plt.ylim(-14,-6)\n",
    "\n",
    "plt.plot(x, sl_new2*x+incpt_new2, color='k', label='y='+str(round(sl_new2,2))+'x'+str(round(incpt_new2,2)))\n",
    "\n",
    "plt.legend(frameon=False); plt.title('Accretion Rate vs Mass')\n",
    "\n",
    "plt.xlabel('log $M$  $(M_{\\odot})$'); plt.ylabel('log $\\dot M$  $(M_{\\odot}/yr)$')"
   ]
  },
  {
   "cell_type": "markdown",
   "metadata": {},
   "source": [
    "Plot 3: \"Money Plot\": new plot with limits and text"
   ]
  },
  {
   "cell_type": "code",
   "execution_count": null,
   "metadata": {},
   "outputs": [],
   "source": [
    "plt.figure(figsize=(7,7/1.625),dpi=400)\n",
    "\n",
    "plt.scatter(m_new,md_new2,color='b',alpha=0.25,label='r='+str(round(r_new2[0],2)),\n",
    "            edgecolors='none',s=70)\n",
    "\n",
    "x = arange(-2.5,1,0.5)\n",
    "plt.xlim(-2.5,0.5); plt.ylim(-14,-6)\n",
    "\n",
    "plt.plot(x, sl_new2*x+incpt_new2, color='k', label='y='+str(round(sl_new2,2))+'x'+str(round(incpt_new2,2)))\n",
    "\n",
    "plt.legend(frameon=False); plt.title('Accretion Rate vs Mass')\n",
    "plt.xlabel('log $M$  $(M_{\\odot})$'); plt.ylabel('log $\\dot M$  $(M_{\\odot}/yr)$')\n",
    "\n",
    "#limits:\n",
    "plt.plot([log10(13/1048),log10(13/1048)],[-14,-6],color='k',linewidth=3)\n",
    "plt.plot([log10(80/1048),log10(80/1048)],[-14,-6],color='k',linewidth=3)\n",
    "\n",
    "#text:\n",
    "plt.text(log10(13/1048)-.09,-10,'Deuterium burning limit',rotation='vertical',fontsize=9)\n",
    "plt.text(log10(80/1048)-.09,-9.9,'Hydrogen burning limit',rotation='vertical',fontsize=9)\n",
    "plt.text(-2.35,-6.5,'Planets',fontsize=10)\n",
    "plt.text(-1.8,-6.5,'Brown Dwarfs',fontsize=10)\n",
    "plt.text(-0.5,-6.5,'Stars',fontsize=10)"
   ]
  },
  {
   "cell_type": "markdown",
   "metadata": {},
   "source": [
    "## Connect identical sources on \"money plot\""
   ]
  },
  {
   "cell_type": "code",
   "execution_count": null,
   "metadata": {},
   "outputs": [],
   "source": [
    "sourceSorted = new_est2.sort_values(by='Source')"
   ]
  },
  {
   "cell_type": "code",
   "execution_count": null,
   "metadata": {},
   "outputs": [],
   "source": [
    "sourceSortedM = log10(sourceSorted['Adopted Mass'].tolist())\n",
    "sourceSortedMdot = log10(sourceSorted['Avg Accr Rate'].tolist())"
   ]
  },
  {
   "cell_type": "code",
   "execution_count": null,
   "metadata": {},
   "outputs": [],
   "source": [
    "#plotting: can use \n",
    "\n",
    "plt.figure(figsize=(7,7/1.625),dpi=400)\n",
    "\n",
    "plt.scatter(sourceSortedM,sourceSortedMdot,\n",
    "            color='b',alpha=0.15,label='r='+str(round(r_new2[0],2)),\n",
    "            edgecolors='none',s=70)\n",
    "\n",
    "plt.plot(x, sl_new2*x+incpt_new2, color='k', label='y='+str(round(sl_new2,2))+'x'+str(round(incpt_new2,2)))\n",
    "\n",
    "#connect same sources with dotted lines\n",
    "for i in range(len(sourceSorted)-1):\n",
    "    if sourceSorted.loc[sourceSorted.index[i],'Source']==sourceSorted.loc[sourceSorted.index[i+1],'Source']:\n",
    "        plt.plot([sourceSortedM[i],sourceSortedM[i+1]],[sourceSortedMdot[i],sourceSortedMdot[i+1]],\n",
    "                 color='b',linestyle='-.',alpha=0.6)\n",
    "\n",
    "plt.xlabel('log $M$  $(M_{\\odot})$'); plt.ylabel('log $\\dot M$  $(M_{\\odot}/yr)$')\n",
    "plt.xlim(-2.5,0.5); plt.ylim(-14,-6)\n",
    "plt.legend(frameon=False,loc='lower right'); plt.title('Accretion Rate vs Mass') \n",
    "\n",
    "#limits:\n",
    "plt.plot([log10(13/1048),log10(13/1048)],[-14,-6],color='k',linewidth=3)\n",
    "plt.plot([log10(80/1048),log10(80/1048)],[-14,-6],color='k',linewidth=3)\n",
    "\n",
    "#text:\n",
    "plt.text(log10(13/1048)-.09,-10,'Deuterium burning limit',rotation='vertical',fontsize=9)\n",
    "plt.text(log10(80/1048)-.09,-9.9,'Hydrogen burning limit',rotation='vertical',fontsize=9)\n",
    "plt.text(-2.35,-6.5,'Planets',fontsize=10)\n",
    "plt.text(-1.8,-6.5,'Brown Dwarfs',fontsize=10)\n",
    "plt.text(-0.5,-6.5,'Stars',fontsize=10)"
   ]
  },
  {
   "cell_type": "code",
   "execution_count": null,
   "metadata": {},
   "outputs": [],
   "source": []
  }
 ],
 "metadata": {
  "kernelspec": {
   "display_name": "Python 3",
   "language": "python",
   "name": "python3"
  },
  "language_info": {
   "codemirror_mode": {
    "name": "ipython",
    "version": 3
   },
   "file_extension": ".py",
   "mimetype": "text/x-python",
   "name": "python",
   "nbconvert_exporter": "python",
   "pygments_lexer": "ipython3",
   "version": "3.7.4"
  }
 },
 "nbformat": 4,
 "nbformat_minor": 2
}
