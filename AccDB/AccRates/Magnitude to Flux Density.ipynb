{
 "cells": [
  {
   "cell_type": "code",
   "execution_count": null,
   "metadata": {},
   "outputs": [],
   "source": [
    "from numpy import *\n",
    "import astropy.units as u\n",
    "from astropy.constants import G, M_jup, R_jup, M_earth, R_earth, L_sun, M_sun, R_sun\n",
    "import pandas as pd\n",
    "import matplotlib.pyplot as plt\n",
    "%matplotlib inline"
   ]
  },
  {
   "cell_type": "code",
   "execution_count": null,
   "metadata": {},
   "outputs": [],
   "source": [
    "M = [20,19,18,17,16,\n",
    "     15,14,13,12,11,\n",
    "     10,9,8,7,6,\n",
    "     19.5,16.5,13.5,10.5,7.5]\n",
    "Jfd = [3.14E-18,7.88E-18,1.98E-17,4.97E-17,1.25E-16,\n",
    "       3.14E-16,7.88E-16,1.98E-15,4.97E-15,1.25E-14,\n",
    "       3.14E-14,7.88E-14,1.98E-13,4.97E-13,1.25E-12,\n",
    "       4.97E-18,7.88E-17,1.25E-15,1.98E-14,3.14E-13]\n",
    "\n",
    "Kfd = [4.29E-19,1.08E-18,2.71E-18,6.8E-18,1.71E-17,\n",
    "       4.29E-17,1.08E-16,2.71E-16,6.8E-16,1.71E-15,\n",
    "       4.29E-15,1.08E-14,2.71E-14,6.8E-14,1.71E-13,\n",
    "       6.8E-19,1.08E-17,1.71E-16,2.71E-15,4.29E-14]\n",
    "\n",
    "Rfd = [1.8E-17,4.52E-17,1.14E-16,2.85E-16,7.17E-16,\n",
    "      1.8E-15,4.52E-15,1.14E-14,2.85E-14,7.17E-14,\n",
    "      1.8E-13,4.52E-13,1.14E-12,2.85E-12,7.17E-12,\n",
    "      2.85E-17,4.52E-16,7.17E-15,1.14E-13,1.8E-12]"
   ]
  },
  {
   "cell_type": "code",
   "execution_count": null,
   "metadata": {},
   "outputs": [],
   "source": [
    "MtoJfd = polyfit(M,log10(Jfd),1)\n",
    "MtoKfd = polyfit(M,log10(Kfd),1)\n",
    "MtoRfd = polyfit(M,log10(Rfd),1)\n",
    "print(MtoJfd)\n",
    "print(MtoKfd)\n",
    "print(MtoRfd)"
   ]
  },
  {
   "cell_type": "code",
   "execution_count": null,
   "metadata": {},
   "outputs": [],
   "source": [
    "plt.scatter(M,log10(Kfd))\n",
    "#plt.ylim(10**-19,10**-15)"
   ]
  },
  {
   "cell_type": "code",
   "execution_count": null,
   "metadata": {},
   "outputs": [],
   "source": []
  }
 ],
 "metadata": {
  "kernelspec": {
   "display_name": "Python 3",
   "language": "python",
   "name": "python3"
  },
  "language_info": {
   "codemirror_mode": {
    "name": "ipython",
    "version": 3
   },
   "file_extension": ".py",
   "mimetype": "text/x-python",
   "name": "python",
   "nbconvert_exporter": "python",
   "pygments_lexer": "ipython3",
   "version": "3.7.4"
  }
 },
 "nbformat": 4,
 "nbformat_minor": 2
}
