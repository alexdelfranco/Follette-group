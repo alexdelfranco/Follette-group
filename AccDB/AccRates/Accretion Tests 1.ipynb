{
 "cells": [
  {
   "cell_type": "markdown",
   "metadata": {},
   "source": [
    "# Recalculating Accretion Rates:\n",
    "\n",
    "### 1. Accretion luminosity:\n",
    "    \n",
    "*Variables needed:*\n",
    "        \n",
    "1. name of emission line\n",
    "    \n",
    "2. emission line flux\n",
    "    \n",
    "3. object distance\n",
    "\n",
    "4. extinction (for some)\n",
    "\n",
    "5. equivalent width (for some)\n",
    "\n",
    "6. band magnitude (for some)\n",
    "\n",
    "*Procedure:*\n",
    "\n",
    "1. Turn EW into line flux using the band magnitude (already done in the database. Written here for completion).\n",
    "\n",
    "2. Correct line flux for extinction if it is not already corrected (note: need a list of which are/aren't).\n",
    "\n",
    "3. Turn line flux into line luminosity using distance estimate, or existing line luminosity into an updated one using updated distance estimate\n",
    "\n",
    "4. Turn line luminosity into accretion luminosity using scaling relations from Alcala (2017).\n",
    "\n",
    "### 2. Accretion rate:\n",
    "\n",
    "*Variables needed:*\n",
    "\n",
    "1. accretion luminosity\n",
    "\n",
    "2. object mass (from spectral type to temperature to evolutionary tracks)\n",
    "\n",
    "3. object radius (from evolutionary tracks as well)\n",
    "\n",
    "4. magnetospheric radius (assumed to be 5 \\* object radius)"
   ]
  },
  {
   "cell_type": "code",
   "execution_count": null,
   "metadata": {},
   "outputs": [],
   "source": [
    "from numpy import *\n",
    "import astropy.units as u\n",
    "from astropy.constants import G, M_jup, R_jup, M_earth, R_earth, L_sun, M_sun, R_sun\n",
    "import pandas as pd\n",
    "import matplotlib.pyplot as plt\n",
    "%matplotlib inline\n",
    "import extinction as ex"
   ]
  },
  {
   "cell_type": "code",
   "execution_count": null,
   "metadata": {},
   "outputs": [],
   "source": [
    "#import scaling relation coefficients\n",
    "rel = pd.read_csv('scalingrels_a17.csv')\n",
    "rel.set_index('Tracer', inplace=True)"
   ]
  },
  {
   "cell_type": "code",
   "execution_count": null,
   "metadata": {},
   "outputs": [],
   "source": [
    "def line_lum_distconv(line_lum_old, dist_old, dist_new):\n",
    "    \"\"\"\n",
    "    Calculate the line luminosity at a distance\n",
    "    given the line luminosity at another distance.\n",
    "    \n",
    "    \"\"\"\n",
    "    line_lum_new = line_lum_old * (dist_old**2)/(dist_new**2)\n",
    "    return line_lum_new\n",
    "\n",
    "def line_lum(line_flux, dist):\n",
    "    \"\"\"\n",
    "    Calculate line luminosity given line flux and distance\n",
    "    assuming line flux is extinction corrected.\n",
    "    \"\"\"\n",
    "    #future: could add extinction correction in there? Not sure how that works.\n",
    "    \n",
    "    line_lum = 4 * pi * (dist*u.pc)**2 * line_flux * u.erg / (u.s * (u.cm)**2)\n",
    "    line_lum = line_lum.decompose().to(u.W)\n",
    "    return line_lum/u.W\n",
    "\n",
    "def l_to_f(lum,dist,lsun_units=False):\n",
    "    \"\"\"\n",
    "    Converts a line luminosity into line flux in erg/s/cm^2.\n",
    "    Specify whether luminosity is in units of L_sun. Default is False\n",
    "    (in W (but actually dimensionless)).\n",
    "    \n",
    "    \"\"\"\n",
    "    f = lum*u.W/(4 * pi * (dist*u.pc)**2)\n",
    "    f = f.decompose().to(u.erg / (u.s * (u.cm)**2))\n",
    "    if lsun_units == True:\n",
    "        f*=L_sun/u.W\n",
    "    return f/(u.erg / (u.s * (u.cm)**2))\n",
    "\n",
    "def get_dist(L, F):\n",
    "    \"\"\"\n",
    "    Get distance in pc given luminosity and flux, in W and erg/s/cm^2, respectively\n",
    "    \"\"\"\n",
    "    d = (L*u.W / (F*(u.erg/(u.s*(u.cm)**2))*4*pi))**0.5\n",
    "    d = d.decompose().to(u.pc)\n",
    "    return d/u.pc"
   ]
  },
  {
   "cell_type": "code",
   "execution_count": null,
   "metadata": {},
   "outputs": [],
   "source": [
    "def accr_lum(L_line, tracer, L_line_err = 0*u.W):\n",
    "    \"\"\"\n",
    "    Translate a line luminosity to accretion luminosity using empirical\n",
    "    relationships from Alcala et al. 2017.\n",
    "    \n",
    "    Included tracers are:\n",
    "    'Ha'\n",
    "    'Hb'\n",
    "    'Hg'\n",
    "    'PaB'\n",
    "    'PaG'\n",
    "    'He I 587.6'\n",
    "    'He I 667.8'\n",
    "    'Ca II K'\n",
    "    'Ca II H'\n",
    "    \"\"\"\n",
    "        \n",
    "    a, a_err, b, b_err = rel['a'][tracer],rel['a_err'][tracer],rel['b'][tracer],rel['b_err'][tracer]\n",
    "    \n",
    "    log_L_acc = b + a * log10(L_line*u.W/L_sun)\n",
    "    \n",
    "    L_acc = 10**log_L_acc*L_sun/u.W\n",
    "    \n",
    "    #attempt at error propagation\n",
    "    \n",
    "    #c_err = (L_line_err)/(log(10) * L_line)\n",
    "    #ac_err = a * log10(L_line/L_sun) * ((a_err/a)**2 + (c_err/log10(L_line/L_sun))**2)**0.5\n",
    "    #log_L_acc_err = (b_err**2 + ac_err**2)**0.5\n",
    "    #L_acc_err = L_acc * log(10) * log_L_acc_err\n",
    "\n",
    "    return L_acc"
   ]
  },
  {
   "cell_type": "markdown",
   "metadata": {},
   "source": [
    "***Error propagation:*** *this is how I **think** the error propagation should work for the scaling relation. Need to check this.*\n",
    "\n",
    "Overall formula: $\\log (L_{acc}/L_{\\odot}) = a \\cdot \\log(L_{line}/L_{\\odot}) + b$\n",
    "\n",
    "Errors:\n",
    "\n",
    "$\\delta c = \\delta \\log(L_{line}/L_{\\odot}) = \\frac{1}{\\ln10} \\frac{\\delta L_{line}}{L_{line}}$\n",
    "\n",
    "$\\delta ac = ac \\cdot \\sqrt{(\\frac{\\delta a}{a})^2 + (\\frac{\\delta c}{c})^2}$\n",
    "\n",
    "$\\delta \\log(L_{acc}) = \\delta (ac + b)= \\sqrt{(\\delta ac)^2 + (\\delta b)^2}$"
   ]
  },
  {
   "cell_type": "code",
   "execution_count": null,
   "metadata": {},
   "outputs": [],
   "source": [
    "def acc_rate(L_acc, R, M):\n",
    "    \"\"\"\n",
    "    Translate an accretion luminosity and planet mass/radius to accretion rate in Solar masses per year.\n",
    "    \"\"\"\n",
    "    mdot = 1.25*L_acc*u.W*R*u.R_sun/(G*M*u.M_sun)\n",
    "    mdot = mdot.decompose().to(u.M_sun/u.yr)\n",
    "    return(mdot/(u.M_sun/u.yr))"
   ]
  },
  {
   "cell_type": "code",
   "execution_count": null,
   "metadata": {},
   "outputs": [],
   "source": [
    "def get_rate(line_flux, d, t, R, M):\n",
    "    \"\"\"\n",
    "    Turn a line flux into an accretion rate, \n",
    "    given the distance, tracer, object radius, and object mass.\n",
    "    \"\"\"\n",
    "    l_line = line_lum(line_flux,d)\n",
    "    l_acc = accr_lum(l_line, t)\n",
    "    mdot = acc_rate(l_acc, R, M)\n",
    "    \n",
    "    return mdot"
   ]
  },
  {
   "cell_type": "markdown",
   "metadata": {},
   "source": [
    "# Cells above: functions for conversions and calculations\n",
    "\n",
    "# Cells below: tests with the database"
   ]
  },
  {
   "cell_type": "markdown",
   "metadata": {},
   "source": [
    "***1. Import database. Keep only relevant columns, which are:***\n",
    "\n",
    "**Source, Mass, Radius, Distance, Line Flux (each tracer)**\n",
    "\n",
    "*Additional considerations:*\n",
    "\n",
    "1. Do I want to import age and disk type etc, too? Probably, as we will want to use them to narrow down the physical causes of scatter in the relation.\n",
    "\n",
    "2. Do I want a flag for line flux from EW? Not sure.\n",
    "\n",
    "3. Do I want to have empty columns for L_line for each tracer? Or create them as I go?\n",
    "\n",
    "4. It really would be easier to do this if I had a row for each instance of each source, rather than columns for each tracer. Then I could simply take acc_lum(db['tracer'][i], db['Line Lum'][i]) once for each row. Is there a way I can easily make the database into that style now? I don't think so.\n",
    "\n",
    "***2. Convert every line flux to a line luminosity***\n",
    "\n",
    "***3. Convert every line luminosity to an accretion luminosity***\n",
    "\n",
    "***4. Convert every accretion luminosity into an accretion rate***\n",
    "\n",
    "**Additional considerations:**\n",
    "\n",
    "This procedure does *not* account for 1. The papers that only report EW. 2. The papers that report L but not flux. 3. The other ones that do none of these things. Can do these by:\n",
    "\n",
    "1. Getting flux *from* EW using either R band magnitude or a complex spectral type fitting method.\n",
    "\n",
    "2. Turning L_line into new L_line using distance conversion. To do so, need the old distance estimate (ex Natta 2006 only reports L(Pa$\\beta$).\n",
    "\n",
    "3. ???\n",
    "\n",
    "\n",
    "# Part 2:       "
   ]
  },
  {
   "cell_type": "markdown",
   "metadata": {},
   "source": [
    "## Test 4: Figure out distance used in N06\n",
    "\n",
    "They don't report distance. Manara 2015 says they used 160 pc, while the newest estimates are of 125 pc.\n",
    "\n",
    "I've converted the reported EWs into line fluxes using the SIMBAD J-band magnitude. Theoretically, if I correct for extinction using either $A_V$ or $A_J$, when I run the fluxes and luminosities through the get_dist function, I should get them all around 160 pc. I do not. This is confusing. Will stop worrying about it for now, though."
   ]
  },
  {
   "cell_type": "code",
   "execution_count": null,
   "metadata": {},
   "outputs": [],
   "source": [
    "db = pd.read_csv('recalculations.csv')\n",
    "tracers = ['Ha','Hb','Hg','PaB','PaG','BrG','He I 587.6','He I 667.8','Ca II K','Ca II H']"
   ]
  },
  {
   "cell_type": "code",
   "execution_count": null,
   "metadata": {
    "scrolled": true
   },
   "outputs": [],
   "source": [
    "n6 = db.loc[db['Reference']=='Natta 2006']"
   ]
  },
  {
   "cell_type": "code",
   "execution_count": null,
   "metadata": {},
   "outputs": [],
   "source": [
    "aj = n6.loc[:,'A_J'].tolist()\n",
    "pab = n6.loc[:,'PaB Line Flux'].tolist()\n",
    "cf = [ex.remove(aj[i],pab[i]) for i in arange(len(aj))]\n",
    "n6.loc[:,'cf']=cf"
   ]
  },
  {
   "cell_type": "code",
   "execution_count": null,
   "metadata": {},
   "outputs": [],
   "source": [
    "di2 = []\n",
    "for i in n6.index:\n",
    "    d2=float(get_dist(n6.loc[i,'PaB Line Luminosity']*L_sun/u.W,n6.loc[i,'cf']))\n",
    "    di2.append(d2)"
   ]
  },
  {
   "cell_type": "code",
   "execution_count": null,
   "metadata": {},
   "outputs": [],
   "source": [
    "plt.figure(figsize=(6.5,4),dpi=300)\n",
    "dd = plt.hist(di2,bins=100)"
   ]
  },
  {
   "cell_type": "markdown",
   "metadata": {},
   "source": [
    "## Test 3: Recalculate all accretion rates using Alcala (2017) relations"
   ]
  },
  {
   "cell_type": "code",
   "execution_count": null,
   "metadata": {},
   "outputs": [],
   "source": [
    "db = pd.read_csv('recalculations.csv')\n",
    "tracers = ['Ha','Hb','Hg','PaB','PaG','BrG','He I 587.6','He I 667.8','Ca II K','Ca II H']"
   ]
  },
  {
   "cell_type": "code",
   "execution_count": null,
   "metadata": {},
   "outputs": [],
   "source": [
    "#Natta 06 PaB line lum is in L_solar instead of W.\n",
    "#So converting that here since all the others are in W\n",
    "for i in db.index:\n",
    "    if db.loc[i,'Reference']=='Natta 2006':\n",
    "        db.at[i,'PaB Line Luminosity'] *=L_sun/u.W"
   ]
  },
  {
   "cell_type": "code",
   "execution_count": null,
   "metadata": {},
   "outputs": [],
   "source": [
    "#for all objects in the recalculations sheet, calculate an accretion rate\n",
    "#for whatever tracers are available\n",
    "\n",
    "for i in db.index:\n",
    "    d = db.loc[i,'Object Distance']\n",
    "    R = db.loc[i,'Object Radius']\n",
    "    M = db.loc[i,'Object Mass, Original']\n",
    "    if (isnan(M) or isnan(R)):\n",
    "        continue\n",
    "    for t in tracers:\n",
    "        lf = db.loc[i,t + ' Line Flux']\n",
    "        if isnan(lf)==False:\n",
    "            db.at[i,t + ' Accr Rate'] = get_rate(lf, d, t, R, M)"
   ]
  },
  {
   "cell_type": "code",
   "execution_count": null,
   "metadata": {},
   "outputs": [],
   "source": [
    "#special stuff for our friends natta '06\n",
    "for i in db.loc[db['Reference']=='Natta 2006'].index:\n",
    "    ll = db.loc[i,'PaB Line Luminosity']\n",
    "    R = db.loc[i,'Object Radius']\n",
    "    M = db.loc[i,'Object Mass, Original']\n",
    "    if isnan(ll)==False:\n",
    "        la = accr_lum(ll, 'PaB')\n",
    "        db.at[i,'PaB Accr Rate'] = acc_rate(la, R, M)"
   ]
  },
  {
   "cell_type": "code",
   "execution_count": null,
   "metadata": {},
   "outputs": [],
   "source": [
    "#take average accretion rate\n",
    "db['Avg Accr Rate'] = db[[t + ' Accr Rate' for t in tracers]].mean(axis=1)"
   ]
  },
  {
   "cell_type": "code",
   "execution_count": null,
   "metadata": {},
   "outputs": [],
   "source": [
    "aa = db[['Source','Reference','Object Mass, Original', 'Avg Accr Rate','Old Accr Rate']].dropna()"
   ]
  },
  {
   "cell_type": "code",
   "execution_count": null,
   "metadata": {},
   "outputs": [],
   "source": [
    "m = log10(aa['Object Mass, Original'].tolist())\n",
    "md_old = log10(aa['Old Accr Rate'].tolist())\n",
    "md_new = log10(aa['Avg Accr Rate'].tolist())"
   ]
  },
  {
   "cell_type": "code",
   "execution_count": null,
   "metadata": {
    "scrolled": false
   },
   "outputs": [],
   "source": [
    "#plot M vs Mdot for both old and new accr rates\n",
    "\n",
    "plt.figure(figsize=(10,10/1.625),dpi=400)\n",
    "\n",
    "plt.scatter(m,md_old,color='r',alpha=0.6)\n",
    "plt.scatter(m,md_new,color='g',alpha=0.6)\n",
    "\n",
    "#connect highly discrepant points with lines\n",
    "for i in range(len(md_old)):\n",
    "    if abs(md_old[i]-md_new[i])>1:\n",
    "        plt.plot([m[i],m[i]],[md_old[i],md_new[i]],color='k',linestyle='-.',alpha=0.5)\n",
    "    elif abs(md_old[i]-md_new[i])>0.5:\n",
    "        plt.plot([m[i],m[i]],[md_old[i],md_new[i]],color='k',linestyle='dotted',alpha=0.3)\n",
    "\n",
    "plt.ylim(-15,-6)\n",
    "plt.xlim(-2.5,0.5)\n",
    "plt.xlabel('log $M$  $(M_{\\odot})$')\n",
    "plt.ylabel('log $\\dot M$  $(M_{\\odot}/yr)$')"
   ]
  },
  {
   "cell_type": "markdown",
   "metadata": {},
   "source": [
    "## Test 2: Reproduce Manara 2015\n",
    "\n",
    "They use an average of several emission lines with scaling relations from Alcala (2014). I was going to reproduce Herczeg 2009, but that ended up being more complicated than I wanted it to be. Not that this is particularly simple."
   ]
  },
  {
   "cell_type": "code",
   "execution_count": null,
   "metadata": {},
   "outputs": [],
   "source": [
    "rels2 = pd.read_csv('scalingrels_a14.csv')\n",
    "rels2.set_index('Tracer', inplace=True)\n",
    "db = pd.read_csv('recalculations.csv')\n",
    "tracers = ['Ha','Hb','Hg','PaB','PaG','BrG','He I 587.6','He I 667.8','Ca II K','Ca II H']"
   ]
  },
  {
   "cell_type": "code",
   "execution_count": null,
   "metadata": {},
   "outputs": [],
   "source": [
    "M15 = db[db['Reference']=='Manara 2015']\n",
    "#changing 2 names so they're consistent with the M15 paper (changed to 2mass in db)\n",
    "M15.at[29,'Source'] = 'ISO-Oph 164'\n",
    "M15.at[30,'Source'] = 'ISO-Oph 176'\n",
    "M15 = M15.sort_values(by='Source')\n",
    "\n",
    "#create table that looks like the table in M15 so it's easy to compare\n",
    "\n",
    "name = M15['Source'].tolist()\n",
    "L_acc = zeros(17)\n",
    "M_acc = zeros(17)\n",
    "Detected_Lines = zeros(17)\n",
    "res = {'Name':name,'L_acc':L_acc,'M_acc':M_acc,'Detected_Lines':Detected_Lines}\n",
    "results = pd.DataFrame(res,columns=['Name','L_acc','M_acc','Detected_Lines'])"
   ]
  },
  {
   "cell_type": "code",
   "execution_count": null,
   "metadata": {},
   "outputs": [],
   "source": [
    "def m15_Lacc(i):\n",
    "    \"\"\"\n",
    "    Calculates mean accretion luminosity and number of tracers used to compute L_acc\n",
    "    for sources in Manara 2015. Must input an index (this is very specific to the exact\n",
    "    version of the database we have).\n",
    "    \"\"\"\n",
    "    la = []\n",
    "    for t in tracers:\n",
    "        a,b = rels2['a'][t],rels2['b'][t]\n",
    "        lf = M15[t + ' Line Flux'][i]\n",
    "        if isnan(lf)==False:\n",
    "            L_line = line_lum(lf, 125)\n",
    "            log_L_acc = b + a * log10(L_line*u.W/L_sun)\n",
    "            la.append(log_L_acc)\n",
    "    \n",
    "    return (mean(la),len(la))"
   ]
  },
  {
   "cell_type": "code",
   "execution_count": null,
   "metadata": {},
   "outputs": [],
   "source": [
    "#calculate mean L_acc and M_acc and make into a table like in M15\n",
    "L_acc = []\n",
    "M_acc = []\n",
    "Num_Lines = []\n",
    "for i in M15.index:\n",
    "    lacc = m15_Lacc(i)\n",
    "    L_acc.append(round(float(lacc[0]),2))\n",
    "    Num_Lines.append(lacc[1])\n",
    "    rate = log10(acc_rate(L_sun * 10**lacc[0] / u.W,M15['Object Radius'][i],M15['Object Mass, Original'][i]))\n",
    "    M_acc.append(round(float(rate),2))\n",
    "\n",
    "res = {'Name':name,'L_acc':L_acc,'M_acc':M_acc,'Num_Lines':Num_Lines}\n",
    "results = pd.DataFrame(res,columns=['Name','L_acc','M_acc','Num_Lines'])\n",
    "results"
   ]
  },
  {
   "cell_type": "markdown",
   "metadata": {},
   "source": [
    "### Test 1: Natta 2006: compare old vs new $L_{acc}$\n",
    "\n",
    "Given Pa$\\beta$ luminosity, convert to accretion luminosity"
   ]
  },
  {
   "cell_type": "code",
   "execution_count": null,
   "metadata": {},
   "outputs": [],
   "source": [
    "db = pd.read_csv('accdb_master_copy.csv')\n",
    "\n",
    "natta06 = db[db['Reference']=='Natta 2006']\n",
    "n06 = natta06[['Source', 'Object Mass M_Solar','Object Radius from L and T','PaB Line Lum (L_solar)','Log Accretion Luminosity (solar)']]\n",
    "n06 = n06.dropna()"
   ]
  },
  {
   "cell_type": "code",
   "execution_count": null,
   "metadata": {},
   "outputs": [],
   "source": [
    "l_line = [float(i) for i in n06['PaB Line Lum (L_solar)'].tolist()]\n",
    "log_l_acc_orig = [float(i) for i in n06['Log Accretion Luminosity (solar)'].tolist()]\n",
    "l_acc = []\n",
    "for i in l_line:\n",
    "    l_acc.append(accr_lum(i,'PaB'))\n",
    "log_l_acc = log10(l_acc)"
   ]
  },
  {
   "cell_type": "code",
   "execution_count": null,
   "metadata": {},
   "outputs": [],
   "source": [
    "m = [float(i) for i in n06['Object Mass M_Solar'].tolist()]\n",
    "r = [float(i) for i in n06['Object Radius from L and T'].tolist()]\n",
    "acc = [acc_rate(l_acc[i],r[i],m[i]) for i in range(len(l_acc))]"
   ]
  },
  {
   "cell_type": "code",
   "execution_count": null,
   "metadata": {},
   "outputs": [],
   "source": [
    "polyfit(log_l_acc_orig, log_l_acc,1)"
   ]
  },
  {
   "cell_type": "code",
   "execution_count": null,
   "metadata": {
    "scrolled": false
   },
   "outputs": [],
   "source": [
    "plt.figure(figsize = (6.5,4), dpi = 250)\n",
    "plt.scatter(log_l_acc_orig, log_l_acc,label='y=0.78x-0.36 \\nr=0.999')\n",
    "labx = plt.xlabel('$L_{acc}$ (N06)')\n",
    "laby = plt.ylabel('$L_{acc}$ (A17)')\n",
    "x = arange(-6.3,0.5,.1)\n",
    "plt.plot(x,x, color = 'r',label = 'y=x')\n",
    "plt.legend(frameon=False)"
   ]
  },
  {
   "cell_type": "code",
   "execution_count": null,
   "metadata": {},
   "outputs": [],
   "source": []
  }
 ],
 "metadata": {
  "kernelspec": {
   "display_name": "Python 3",
   "language": "python",
   "name": "python3"
  },
  "language_info": {
   "codemirror_mode": {
    "name": "ipython",
    "version": 3
   },
   "file_extension": ".py",
   "mimetype": "text/x-python",
   "name": "python",
   "nbconvert_exporter": "python",
   "pygments_lexer": "ipython3",
   "version": "3.7.4"
  }
 },
 "nbformat": 4,
 "nbformat_minor": 2
}
