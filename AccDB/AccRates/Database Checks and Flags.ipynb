{
 "cells": [
  {
   "cell_type": "code",
   "execution_count": 1,
   "metadata": {},
   "outputs": [],
   "source": [
    "from numpy import *\n",
    "import astropy.units as u\n",
    "from astropy.constants import G, M_jup, R_jup, M_earth, R_earth, L_sun, M_sun, R_sun\n",
    "import pandas as pd\n",
    "import matplotlib.pyplot as plt\n",
    "%matplotlib inline\n",
    "import extinction as ex\n",
    "import scipy.stats as st"
   ]
  },
  {
   "cell_type": "code",
   "execution_count": 2,
   "metadata": {},
   "outputs": [],
   "source": [
    "db = pd.read_csv('recalculations.csv')\n",
    "tracers = ['Ha','PaB','BrG']"
   ]
  },
  {
   "cell_type": "markdown",
   "metadata": {},
   "source": [
    "## Usable objects:\n",
    "Count the number of objects we can re-estimate and those we cannot. For those we cannot, tabulate how many are missing line flux as opposed to mass or radius.\n",
    "\n",
    "Optional: print index and source name of each object as well as what parameters it is missing."
   ]
  },
  {
   "cell_type": "code",
   "execution_count": 3,
   "metadata": {},
   "outputs": [
    {
     "name": "stdout",
     "output_type": "stream",
     "text": [
      "Total usable: 260\n",
      "Need radius: 8\n",
      "Need mass: 4\n",
      "No flux: 259\n"
     ]
    }
   ],
   "source": [
    "total = 0\n",
    "no_r = 0\n",
    "no_m = 0\n",
    "no_f = 0\n",
    "for i in db.index:\n",
    "    \n",
    "    #for each parameter, set it to a boolean\n",
    "    #if it is True, that parameter is NOT nan.\n",
    "    \n",
    "    d = not isnan(db.loc[i,'Plx Distance'])\n",
    "    R = not isnan(db.loc[i,'Object Radius'])\n",
    "    M = not isnan(db.loc[i,'Object Mass, Original'])\n",
    "    flux = False\n",
    "    for t in tracers:\n",
    "        if not isnan(db.loc[i,t + ' Line Flux']):\n",
    "            flux = True\n",
    "    \n",
    "    if (d and R and M and flux):\n",
    "        #print(i,db.loc[i,'Source'],': good')\n",
    "        total+=1\n",
    "    elif (not d and R and M and flux):\n",
    "        #print(i,db.loc[i,'Source'],': just distance')\n",
    "        total+=1\n",
    "    elif (not flux):\n",
    "        #print(i,db.loc[i,'Source'],': NO FLUX')\n",
    "        no_f+=1\n",
    "    elif (R and not M):\n",
    "        #print(i,db.loc[i,'Source'],': no mass')\n",
    "        no_m+=1\n",
    "    elif (not R and M):\n",
    "        #print(i,db.loc[i,'Source'],': no radius')\n",
    "        no_r+=1\n",
    "    \n",
    "print('Total usable:', total)\n",
    "print('Need radius:',no_r)\n",
    "print('Need mass:',no_m)\n",
    "print('No flux:',no_f)"
   ]
  },
  {
   "cell_type": "markdown",
   "metadata": {},
   "source": [
    "## Discrepant values for the same object:\n",
    "\n",
    "Print objects that appear in the database multiple times with different mass estimates.\n",
    "\n",
    "Print their names, indices, the mass difference in dex, and their references."
   ]
  },
  {
   "cell_type": "code",
   "execution_count": 4,
   "metadata": {},
   "outputs": [],
   "source": [
    "#collect the mass used into one list: some are re-estimated while some are original\n",
    "mass_used = []\n",
    "\n",
    "for i in db.index:\n",
    "    M = db.loc[i,'New Mass']\n",
    "    if isnan(M):\n",
    "        M = db.loc[i,'Object Mass, Original']    \n",
    "    mass_used.append(M)\n",
    "\n",
    "db['Adopted Mass'] = mass_used"
   ]
  },
  {
   "cell_type": "code",
   "execution_count": 5,
   "metadata": {},
   "outputs": [],
   "source": [
    "#sort database by source name. Make a list of masses used.\n",
    "sourceSorted = db.sort_values(by='Source')\n",
    "sm = log10(sourceSorted['Adopted Mass'].tolist())"
   ]
  },
  {
   "cell_type": "code",
   "execution_count": 6,
   "metadata": {
    "scrolled": true
   },
   "outputs": [
    {
     "name": "stdout",
     "output_type": "stream",
     "text": [
      "2MASS J05380097-0226079 :\n",
      " Indices: 393 394 \n",
      " Masses:  0.15 and 0.35 \n",
      " Difference: -0.37 dex \n",
      " References: Rigliaco 2011 Rigliaco 2011 \n",
      "\n",
      "2MASS J16262152-2426009 :\n",
      " Indices: 162 88 \n",
      " Masses:  0.12 and 0.058 \n",
      " Difference: 0.31 dex \n",
      " References: Mohanty 2005 Natta 2004 \n",
      "\n",
      "ISO-Oph 037 :\n",
      " Indices: 204 205 \n",
      " Masses:  1.02 and 0.132 \n",
      " Difference: 0.89 dex \n",
      " References: Manara 2015 Natta 2006 \n",
      "\n",
      "ISO-Oph 037 :\n",
      " Indices: 205 203 \n",
      " Masses:  0.132 and 0.7 \n",
      " Difference: -0.73 dex \n",
      " References: Natta 2006 Gatti 2006 \n",
      "\n",
      "ISO-Oph 072 :\n",
      " Indices: 227 226 \n",
      " Masses:  0.135 and 0.3 \n",
      " Difference: -0.35 dex \n",
      " References: Natta 2006 Manara 2015 \n",
      "\n",
      "ISO-Oph 087 :\n",
      " Indices: 239 238 \n",
      " Masses:  0.091 and 0.22 \n",
      " Difference: -0.38 dex \n",
      " References: Natta 2006 Manara 2015 \n",
      "\n",
      "ISO-Oph 115 :\n",
      " Indices: 263 261 \n",
      " Masses:  0.083 and 0.6 \n",
      " Difference: -0.86 dex \n",
      " References: Natta 2006 Gatti 2006 \n",
      "\n",
      "ISO-Oph 117 :\n",
      " Indices: 265 266 \n",
      " Masses:  0.6 and 0.33 \n",
      " Difference: 0.26 dex \n",
      " References: Gatti 2006 Manara 2015 \n",
      "\n",
      "ISO-Oph 123 :\n",
      " Indices: 273 272 \n",
      " Masses:  0.083 and 0.62 \n",
      " Difference: -0.87 dex \n",
      " References: Natta 2006 Manara 2015 \n",
      "\n",
      "PDS 70 c :\n",
      " Indices: 521 527 \n",
      " Masses:  0.004 and 0.01 \n",
      " Difference: -0.36 dex \n",
      " References: Haffert 2019 Aoyama 2019 \n",
      "\n",
      "V* SX Cha :\n",
      " Indices: 516 515 \n",
      " Masses:  0.73 and 0.35 \n",
      " Difference: 0.32 dex \n",
      " References: Muzerolle 2005 Muzerolle 2005 \n",
      "\n",
      "[GY92] 322 :\n",
      " Indices: 302 301 \n",
      " Masses:  0.141 and 0.269 \n",
      " Difference: -0.28 dex \n",
      " References: Natta 2006 Natta 2006 \n",
      "\n"
     ]
    }
   ],
   "source": [
    "#Iterate through sorted database.\n",
    "#If a source appears more than once, check whether the adopted masses are identical.\n",
    "#If not, print relevant information.\n",
    "\n",
    "#Set how much of a difference in mass (in dex) you want to flag.\n",
    "mass_diff_limit = 0.25\n",
    "\n",
    "for i in range(len(sourceSorted)-1):\n",
    "    \n",
    "    #check if source appears more than once\n",
    "    if sourceSorted.loc[sourceSorted.index[i],'Source']==sourceSorted.loc[sourceSorted.index[i+1],'Source']:\n",
    "        \n",
    "        #check if adopted masses are identical\n",
    "        if abs(sm[i]-sm[i+1]) > mass_diff_limit:\n",
    "            \n",
    "            #print relevant information:\n",
    "            #source name and the pair of indices\n",
    "            #the two masses\n",
    "            #the difference between the masses\n",
    "            #the paper references for the objects\n",
    "            print(sourceSorted.loc[sourceSorted.index[i],'Source'], ':\\n Indices:',\n",
    "                  sourceSorted.index[i],sourceSorted.index[i+1],\n",
    "                  '\\n Masses: ', round(10**sm[i],3),'and',round(10**sm[i+1],3),\n",
    "                  '\\n Difference:', round(sm[i]-sm[i+1],2), 'dex',\n",
    "                  '\\n References:',sourceSorted.loc[sourceSorted.index[i],'Reference'],\n",
    "                  sourceSorted.loc[sourceSorted.index[i+1],'Reference'],'\\n')"
   ]
  },
  {
   "cell_type": "code",
   "execution_count": null,
   "metadata": {},
   "outputs": [],
   "source": []
  }
 ],
 "metadata": {
  "kernelspec": {
   "display_name": "Python 3",
   "language": "python",
   "name": "python3"
  },
  "language_info": {
   "codemirror_mode": {
    "name": "ipython",
    "version": 3
   },
   "file_extension": ".py",
   "mimetype": "text/x-python",
   "name": "python",
   "nbconvert_exporter": "python",
   "pygments_lexer": "ipython3",
   "version": "3.7.4"
  }
 },
 "nbformat": 4,
 "nbformat_minor": 2
}
