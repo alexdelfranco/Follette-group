{
 "cells": [
  {
   "cell_type": "code",
   "execution_count": null,
   "metadata": {},
   "outputs": [],
   "source": [
    "from numpy import *\n",
    "import astropy.units as u\n",
    "from astropy.constants import G, M_jup, R_jup, M_earth, R_earth, L_sun, M_sun, R_sun\n",
    "import pandas as pd\n",
    "import matplotlib.pyplot as plt\n",
    "%matplotlib inline\n",
    "import extinction as ex\n",
    "import scipy.stats as st"
   ]
  },
  {
   "cell_type": "code",
   "execution_count": null,
   "metadata": {},
   "outputs": [],
   "source": [
    "db = pd.read_csv('recalculations.csv')\n",
    "tracers = ['Ha','PaB','BrG']"
   ]
  },
  {
   "cell_type": "markdown",
   "metadata": {},
   "source": [
    "## Usable objects:\n",
    "Count the number of objects we can re-estimate and those we cannot. For those we cannot, tabulate how many are missing line flux as opposed to mass or radius.\n",
    "\n",
    "Optional: print index and source name of each object as well as what parameters it is missing."
   ]
  },
  {
   "cell_type": "code",
   "execution_count": null,
   "metadata": {},
   "outputs": [],
   "source": [
    "total = 0\n",
    "no_r = 0\n",
    "no_m = 0\n",
    "no_f = 0\n",
    "for i in db.index:\n",
    "    \n",
    "    #for each parameter, set it to a boolean\n",
    "    #if it is True, that parameter is NOT nan.\n",
    "    \n",
    "    d = not isnan(db.loc[i,'Plx Distance'])\n",
    "    R = not isnan(db.loc[i,'Object Radius'])\n",
    "    M = not isnan(db.loc[i,'Object Mass, Original'])\n",
    "    flux = False\n",
    "    for t in tracers:\n",
    "        if not isnan(db.loc[i,t + ' Line Flux']):\n",
    "            flux = True\n",
    "    \n",
    "    if (d and R and M and flux):\n",
    "        #print(i,db.loc[i,'Source'],': good')\n",
    "        total+=1\n",
    "    elif (not d and R and M and flux):\n",
    "        #print(i,db.loc[i,'Source'],': just distance')\n",
    "        total+=1\n",
    "    elif (not flux):\n",
    "        #print(i,db.loc[i,'Source'],': NO FLUX')\n",
    "        no_f+=1\n",
    "    elif (R and not M):\n",
    "        #print(i,db.loc[i,'Source'],': no mass')\n",
    "        no_m+=1\n",
    "    elif (not R and M):\n",
    "        #print(i,db.loc[i,'Source'],': no radius')\n",
    "        no_r+=1\n",
    "    \n",
    "print('Total usable:', total)\n",
    "print('Need radius:',no_r)\n",
    "print('Need mass:',no_m)\n",
    "print('No flux:',no_f)"
   ]
  },
  {
   "cell_type": "markdown",
   "metadata": {},
   "source": [
    "## Discrepant values for the same object:\n",
    "\n",
    "Print objects that appear in the database multiple times with different mass estimates.\n",
    "\n",
    "Print their names, indices, the mass difference in dex, and their references."
   ]
  },
  {
   "cell_type": "code",
   "execution_count": null,
   "metadata": {},
   "outputs": [],
   "source": [
    "#collect the mass used into one list: some are re-estimated while some are original\n",
    "mass_used = []\n",
    "\n",
    "for i in db.index:\n",
    "    M = db.loc[i,'New Mass']\n",
    "    if isnan(M):\n",
    "        M = db.loc[i,'Object Mass, Original']    \n",
    "    mass_used.append(M)\n",
    "\n",
    "db['Adopted Mass'] = mass_used"
   ]
  },
  {
   "cell_type": "code",
   "execution_count": null,
   "metadata": {},
   "outputs": [],
   "source": [
    "#sort database by source name. Make a list of masses used.\n",
    "sourceSorted = db.sort_values(by='Source')\n",
    "sm = log10(sourceSorted['Adopted Mass'].tolist())"
   ]
  },
  {
   "cell_type": "code",
   "execution_count": null,
   "metadata": {
    "scrolled": true
   },
   "outputs": [],
   "source": [
    "#Iterate through sorted database.\n",
    "#If a source appears more than once, check whether the adopted masses are identical.\n",
    "#If not, print relevant information.\n",
    "\n",
    "#Set how much of a difference in mass (in dex) you want to flag.\n",
    "mass_diff_limit = 0.25\n",
    "\n",
    "for i in range(len(sourceSorted)-1):\n",
    "    \n",
    "    #check if source appears more than once\n",
    "    if sourceSorted.loc[sourceSorted.index[i],'Source']==sourceSorted.loc[sourceSorted.index[i+1],'Source']:\n",
    "        \n",
    "        #check if adopted masses are identical\n",
    "        if abs(sm[i]-sm[i+1]) > mass_diff_limit:\n",
    "            \n",
    "            #print relevant information:\n",
    "            #source name and the pair of indices\n",
    "            #the two masses\n",
    "            #the difference between the masses\n",
    "            #the paper references for the objects\n",
    "            print(sourceSorted.loc[sourceSorted.index[i],'Source'], ':\\n Indices:',\n",
    "                  sourceSorted.index[i],sourceSorted.index[i+1],\n",
    "                  '\\n Masses: ', round(10**sm[i],3),'and',round(10**sm[i+1],3),\n",
    "                  '\\n Difference:', round(sm[i]-sm[i+1],2), 'dex',\n",
    "                  '\\n References:',sourceSorted.loc[sourceSorted.index[i],'Reference'],\n",
    "                  sourceSorted.loc[sourceSorted.index[i+1],'Reference'],'\\n')"
   ]
  }
 ],
 "metadata": {
  "kernelspec": {
   "display_name": "Python 3",
   "language": "python",
   "name": "python3"
  },
  "language_info": {
   "codemirror_mode": {
    "name": "ipython",
    "version": 3
   },
   "file_extension": ".py",
   "mimetype": "text/x-python",
   "name": "python",
   "nbconvert_exporter": "python",
   "pygments_lexer": "ipython3",
   "version": "3.7.4"
  }
 },
 "nbformat": 4,
 "nbformat_minor": 2
}
