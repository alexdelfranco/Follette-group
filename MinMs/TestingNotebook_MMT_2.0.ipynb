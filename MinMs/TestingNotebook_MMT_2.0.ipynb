{
 "cells": [
  {
   "cell_type": "code",
   "execution_count": 1,
   "metadata": {},
   "outputs": [],
   "source": [
    "from MMT_reduce_module import *"
   ]
  },
  {
   "cell_type": "code",
   "execution_count": 2,
   "metadata": {},
   "outputs": [],
   "source": [
    "from __future__ import print_function\n",
    "import numpy as np\n",
    "import scipy as sp\n",
    "import scipy.ndimage\n",
    "from astropy.io import fits\n",
    "import sys\n",
    "import numpy.ma as ma\n",
    "import math\n",
    "import pidly\n",
    "import os\n",
    "import glob\n",
    "import time\n",
    "import matplotlib.pyplot as plt\n",
    "\n",
    "from shift_methods import *\n",
    "\n",
    "%matplotlib inline\n",
    "%load_ext autoreload\n",
    "%autoreload 2\n",
    "\n",
    "from astropy.visualization import ZScaleInterval\n",
    "interval = ZScaleInterval()"
   ]
  },
  {
   "cell_type": "markdown",
   "metadata": {},
   "source": [
    "## MMT_reduce_module Testing\n",
    "\n",
    "#### The purpose of this notebook is to test functions in the MMT module one-by-one and examine the outputs at each step.\n",
    "\n",
    "Major to-do items (Updated 7/6/2019): \n",
    "\n",
    "* Fix saturated data!\n",
    "    * Examine how sky frames are being made -- **done, 7/5**\n",
    "    * Examine how sky subtraction is being performed on science data -- **done, 7/5**\n",
    "    * Determine best practice of aligning saturated frames -- **done, 7/6**\n",
    "    * plt.imshow reduced steps -- **done, sometime**\n",
    "    * Stacking size issue -- **done**\n",
    "    * Update placeholder star position in saturated images from 512, 512 (before measuring companion positions)  \n",
    "    \n",
    "    \n",
    "* Determine how flatfield generation is being done and improve if need be\n",
    "    * Debug negative dark frames/negative flat frame issues? -- **done, 5/23**\n",
    "    * Double-check dome flat correction, now that twilight flat correction is working (with correct inputs)\n",
    "    \n",
    "More to-do items (last updated 7/5):\n",
    "* Ensure corquad correction is applied prior to analysis steps - **done, 5/23**\n",
    "* Define location for reduced data to be written -- **done, 7/1**\n",
    "* Check to ensure all flatfields are taken in the same filter - update within module -- **done, 7/1**\n",
    "* Rotation angle correction and image flip for MMT data (appears to be same VLT conventions) - update within module and here -- **done, 7/5**\n",
    "* Make sure align flag opens ds9 with frames opening in correct order -- **done, 7/5**\n",
    "* Cross-check sky subtraction in case of very saturated data, and if small changes in rotation angle make difference"
   ]
  },
  {
   "cell_type": "markdown",
   "metadata": {},
   "source": [
    "## Cell #1 to Update: Set up paths to raw data and definitions"
   ]
  },
  {
   "cell_type": "code",
   "execution_count": 13,
   "metadata": {},
   "outputs": [],
   "source": [
    "# Always update and double-check the following seven paths and variables:\n",
    "\n",
    "path_to_raw_sci = '/Users/u5ajain/Dropbox (Amherst College)/2016_10_11_run/20161012/HIP_Targets_20161012/HIP15220/30.0_copy/'\n",
    "path_to_raw_darks = '/Users/u5ajain/Dropbox (Amherst College)/2016_10_11_run/Calibrations/darks/'\n",
    "path_to_raw_flats = '/Users/u5ajain/Dropbox (Amherst College)/2016_10_11_run/Calibrations/twilight/sky flat/20.0/'\n",
    "\n",
    "objname = 'HIP15220_30s'\n",
    "\n",
    "flattype = 0 # 0 for sky, 1 for lamp\n",
    "saturated = 1 # 0 if unsaturated, 1 if saturated\n",
    "alignflag = 0 # 0 if single star or faint companion, 1 if equal brightness binary or difficult to align for some reason"
   ]
  },
  {
   "cell_type": "markdown",
   "metadata": {},
   "source": [
    "## Cell #2 to Update: Define the x-y position of the saturated star from the first \"qim\" image"
   ]
  },
  {
   "cell_type": "code",
   "execution_count": 10,
   "metadata": {},
   "outputs": [],
   "source": [
    "# Update the following with your estimate from ds9\n",
    "ref_imagex = 493\n",
    "ref_imagey =  395\n",
    "\n",
    "# No need to edit these two lines\n",
    "ref_imagex = 1024 - ref_imagex\n",
    "imsize = 1024"
   ]
  },
  {
   "cell_type": "markdown",
   "metadata": {},
   "source": [
    "## The following cells are each of the steps of the reduce_raw_sci function"
   ]
  },
  {
   "cell_type": "code",
   "execution_count": null,
   "metadata": {},
   "outputs": [],
   "source": [
    "# Make list of science frames and check exposure time \n",
    "scilist = glob.glob(path_to_raw_sci + 'q*.fits')\n",
    "\n",
    "scilist.sort()\n",
    "\n",
    "print(f\"Number of science frames found: {len(scilist)} \\n\")"
   ]
  },
  {
   "cell_type": "code",
   "execution_count": null,
   "metadata": {},
   "outputs": [],
   "source": [
    "scitimes = [fits.getheader(im, ignore_missing_end = True)['EXPTIME'] for im in scilist]\n",
    "\n",
    "# check if all of the exposure times in the current directory are the same:\n",
    "if all(x == scitimes[0] for x in scitimes):\n",
    "    print(\"Science frame exposure time: \" + str(scitimes[0]) + \"\\n\")\n",
    "else:\n",
    "    raise Exception(\"Exposure times for given list of files do not match. \\\n",
    "    You may need to make/define separate subfolders for different exptimes.\")\n",
    "\n",
    "sci_exptime = scitimes[0]\n",
    "\n",
    "n = len(scilist)\n",
    "\n",
    "\n",
    "# get header from science frames to work with\n",
    "sciheader = fits.getheader(scilist[0])\n"
   ]
  },
  {
   "cell_type": "code",
   "execution_count": null,
   "metadata": {},
   "outputs": [],
   "source": [
    "# check for datacubes\n",
    "if len(fits.getdata(scilist[0]).shape) == 3: # check for data cubes of science frames\n",
    "    sciarray = np.zeros([imsize,imsize,n*fits.getdata(scilist[0]).shape[0]])\n",
    "else:\n",
    "    sciarray = np.zeros([imsize,imsize,n])\n",
    "\n",
    "if len(fits.getdata(scilist[0]).shape) == 3: # check for data cubes of science frames    \n",
    "    totalframes = n*fits.getdata(scilist[0]).shape[0]\n",
    "else:\n",
    "    totalframes = n"
   ]
  },
  {
   "cell_type": "code",
   "execution_count": null,
   "metadata": {},
   "outputs": [],
   "source": [
    "# in case data were rotated during observing sequence, set up empty array of rotation angles\n",
    "angle = np.zeros(totalframes)\n",
    "\n",
    "im_index = 0\n",
    "\n",
    "\n",
    "for ii in range(0, n):\n",
    "    im = fits.getdata(scilist[ii], ignore_missing_end=True)\n",
    "    header = fits.getheader(scilist[ii],ignore_missing_end=True)\n",
    "\n",
    "    # flip image left-right, as required for MMT data:\n",
    "    im = np.fliplr(im)\n",
    "\n",
    "    if len(im.shape) == 3: # check for data cubes of science frames\n",
    "        assert not np.any(np.isnan(im))\n",
    "        for jj in range(0, im.shape[0]):\n",
    "            sciarray[:,:,im_index] = im[jj,:,:]\n",
    "            angle[im_index] = (header['PA'] - header['ROT']) * (np.pi/180.0)\n",
    "            im_index += 1\n",
    "    else: \n",
    "        sciarray[:,:,ii] = im  \n",
    "        angle[ii] = (header['PA'] - header['ROT']) * (np.pi/180.0)\n",
    "    header = fits.getheader(scilist[ii], ignore_missing_end=True)    \n",
    "\n",
    "\n",
    "\n"
   ]
  },
  {
   "cell_type": "code",
   "execution_count": null,
   "metadata": {
    "scrolled": false
   },
   "outputs": [],
   "source": [
    "print(angle)\n",
    "print(im)"
   ]
  },
  {
   "cell_type": "code",
   "execution_count": null,
   "metadata": {
    "scrolled": true
   },
   "outputs": [],
   "source": [
    "#MASTER_DARK\n",
    "\n",
    "print(\"Creating and applying master darks and flats...\\n\")    \n",
    "\n",
    "# create master dark matching science exposure times\n",
    "med_dark = dark_combine(path_to_raw_sci, path_to_raw_darks, sci_exptime, imsize, objname) \n",
    "\n",
    "vmin, vmax = interval.get_limits(med_dark)\n",
    "plt.imshow(med_dark, vmin=vmin, vmax=vmax, origin='lower')"
   ]
  },
  {
   "cell_type": "code",
   "execution_count": null,
   "metadata": {},
   "outputs": [],
   "source": [
    "# subtract off the median dark frame from each of the science frames\n",
    "for ii in range (0, totalframes):\n",
    "    sciarray[:,:,ii] -= med_dark\n"
   ]
  },
  {
   "cell_type": "code",
   "execution_count": null,
   "metadata": {},
   "outputs": [],
   "source": [
    "flatlist = glob.glob(path_to_raw_flats + '**/q*fits',recursive = True)"
   ]
  },
  {
   "cell_type": "code",
   "execution_count": null,
   "metadata": {
    "scrolled": false
   },
   "outputs": [],
   "source": [
    "#MEDIAN_AND_MASTER_FLAT\n",
    "\n",
    "# create the masterflat \n",
    "med_flat, master_flat, flatheader = process_flats(path_to_raw_sci, path_to_raw_flats, path_to_raw_darks, imsize, flattype, objname)\n",
    "\n",
    "vmin, vmax = interval.get_limits(med_flat)\n",
    "plt.imshow(med_flat, vmin=vmin, vmax=vmax, origin='lower')"
   ]
  },
  {
   "cell_type": "code",
   "execution_count": null,
   "metadata": {},
   "outputs": [],
   "source": [
    "# divide each science frame by the masterflat frame\n",
    "for ii in range(0, totalframes):\n",
    "    sciarray[:,:,ii] /= master_flat\n",
    "\n"
   ]
  },
  {
   "cell_type": "code",
   "execution_count": null,
   "metadata": {},
   "outputs": [],
   "source": [
    "#BAD_PIXEL_MAP\n",
    "\n",
    "print(\"Creating bad pixel map and correcting for bad pixels and cosmic rays. \\n\",\n",
    "     \"This may take a moment... \\n\") \n",
    "\n",
    "# create bad pixel map\n",
    "badflat = badpixelmap(path_to_raw_sci, med_flat, objname, flatheader)  \n",
    "\n",
    "vmin, vmax = interval.get_limits(badflat)\n",
    "plt.imshow(badflat, vmin=vmin, vmax=vmax, origin='lower')"
   ]
  },
  {
   "cell_type": "code",
   "execution_count": null,
   "metadata": {},
   "outputs": [],
   "source": [
    "# correct the bad pixels and cosmic rays\n",
    "reduced_sciarray = correct_bad_pixels(sciarray, badflat)\n"
   ]
  },
  {
   "cell_type": "code",
   "execution_count": null,
   "metadata": {},
   "outputs": [],
   "source": [
    "# write out a test reduced science image \n",
    "fits.writeto(path_to_raw_sci+'test_reduced_science.fits', reduced_sciarray[:,:,0], overwrite=True)"
   ]
  },
  {
   "cell_type": "code",
   "execution_count": null,
   "metadata": {},
   "outputs": [],
   "source": [
    "#MASTER_SKY\n",
    "print(\"Creating master sky from science frames...\\n\") \n",
    "\n",
    "# create median sky from stack of science images\n",
    "sky_output = create_sky_frames(path_to_raw_sci, reduced_sciarray, sciheader, objname, angle)\n",
    "\n"
   ]
  },
  {
   "cell_type": "code",
   "execution_count": null,
   "metadata": {},
   "outputs": [],
   "source": [
    "# get median and examine sky output:\n",
    "print(np.median(sky_output[1]))\n",
    "vmin, vmax = interval.get_limits(sky_output[1])\n",
    "plt.imshow(sky_output[1], vmin=vmin, vmax=vmax, origin='lower')"
   ]
  },
  {
   "cell_type": "code",
   "execution_count": null,
   "metadata": {},
   "outputs": [],
   "source": [
    "# apply sky subtraction to each science image \n",
    "skysub_science_array, rot_flag = sky_subtract(reduced_sciarray, sky_output, angle)"
   ]
  },
  {
   "cell_type": "code",
   "execution_count": null,
   "metadata": {},
   "outputs": [],
   "source": [
    "#INDIVIDUAL_REDUCED_SCI_IMAGES\n",
    "t0=time.time()\n",
    "\n",
    "# initialize blank list to hold all of the reduced science image names\n",
    "scinames_list = []\n",
    "\n",
    "\n",
    "for ii in range(0, totalframes):\n",
    "    print(f\"Saving reduced frame #{ii}\")\n",
    "    sciname = 'reducedsci_00' + str(ii) + '.fits'\n",
    "    if ii >= 10:\n",
    "        sciname = 'reducedsci_0' + str(ii) + '.fits'\n",
    "    if ii >= 100:\n",
    "        sciname = 'reducedsci_' + str(ii) + '.fits'\n",
    "    fits.writeto(path_to_raw_sci+sciname, skysub_science_array[:,:,ii], sciheader, overwrite = True, output_verify='silentfix')\n",
    "    scinames_list.append(sciname)\n",
    "    \n",
    "t1=time.time()\n",
    "print(\"Time taken: \", (t1-t0)/60.)"
   ]
  },
  {
   "cell_type": "markdown",
   "metadata": {},
   "source": [
    "## Measure Star Centers"
   ]
  },
  {
   "cell_type": "code",
   "execution_count": null,
   "metadata": {},
   "outputs": [],
   "source": [
    "# get directory where reduced frames are written\n",
    "current_dir = path_to_raw_sci\n",
    "\n",
    "# measure star positions in all of the images\n",
    "if saturated == 0:\n",
    "    xcen, ycen = measure_star_centers(path_to_raw_sci, skysub_science_array, scinames_list, sciheader, saturated, alignflag, current_dir, saveframes = True)\n",
    "\n",
    "elif saturated == 1:    \n",
    "    xcen, ycen = cross_correlate_centers(path_to_raw_sci, skysub_science_array, scinames_list, ref_imagex, ref_imagey)    \n",
    "\n",
    "else:\n",
    "    raiseException(\"Saturated flag not recognized.\")"
   ]
  },
  {
   "cell_type": "code",
   "execution_count": null,
   "metadata": {},
   "outputs": [],
   "source": [
    "print('xcen:', xcen, 'ycen:', ycen)"
   ]
  },
  {
   "cell_type": "code",
   "execution_count": null,
   "metadata": {},
   "outputs": [],
   "source": [
    "#SHIFTED_IMAGES\n",
    "#STACKED\n",
    "#FINAL\n",
    "\n",
    "# get current directory where reduced frames are written\n",
    "current_dir = path_to_raw_sci\n",
    "\n",
    "t0=time.time()\n",
    "# final step (!) - shift and combine all of the images.\n",
    "rotate_shift_align(path_to_raw_sci, xcen, ycen, angle, skysub_science_array, objname, sciheader, current_dir, imsize=1024)\n",
    "\n",
    "t1 = time.time()\n",
    "timetaken = (t1-t0)/60.\n",
    "print(f\"Completed reduction of {totalframes} images in {timetaken} minutes.\")"
   ]
  },
  {
   "cell_type": "markdown",
   "metadata": {},
   "source": [
    "\n",
    "\n",
    "\n",
    "\n",
    "\n",
    "\n",
    "\n",
    "## Run all of the above reduction steps in one go:"
   ]
  },
  {
   "cell_type": "code",
   "execution_count": 14,
   "metadata": {
    "scrolled": false
   },
   "outputs": [
    {
     "name": "stdout",
     "output_type": "stream",
     "text": [
      "Number of science frames found: 20 \n",
      "\n",
      "Science frame exposure time: 30.0\n",
      "\n",
      "Creating and applying master darks and flats...\n",
      "\n",
      "Found 16 darks with exposure times of 30.0. \n",
      "\n",
      "Found 30 total flats taken in Ks band filter.\n",
      "\n",
      "Found 30 twilight flats with exposure times of 20.0. \n",
      "\n",
      "Creating new master dark for flats with 20.0s exposure. \n",
      "\n",
      "Found 5 darks with exposure times of 20.0. \n",
      "\n",
      "Creating bad pixel map and correcting for bad pixels and cosmic rays. \n",
      " This may take a moment... \n",
      "\n",
      "Correcting image #0\n",
      "Correcting image #1\n",
      "Correcting image #2\n",
      "Correcting image #3\n",
      "Correcting image #4\n",
      "Correcting image #5\n",
      "Correcting image #6\n",
      "Correcting image #7\n",
      "Correcting image #8\n",
      "Correcting image #9\n",
      "Correcting image #10\n",
      "Correcting image #11\n",
      "Correcting image #12\n",
      "Correcting image #13\n",
      "Correcting image #14\n",
      "Correcting image #15\n",
      "Correcting image #16\n",
      "Correcting image #17\n",
      "Correcting image #18\n",
      "Correcting image #19\n",
      "Creating master sky from science frames...\n",
      "\n",
      "Saving reduced frame #0\n",
      "Saving reduced frame #1\n",
      "Saving reduced frame #2\n",
      "Saving reduced frame #3\n",
      "Saving reduced frame #4\n",
      "Saving reduced frame #5\n",
      "Saving reduced frame #6\n",
      "Saving reduced frame #7\n",
      "Saving reduced frame #8\n",
      "Saving reduced frame #9\n",
      "Saving reduced frame #10\n",
      "Saving reduced frame #11\n",
      "Saving reduced frame #12\n",
      "Saving reduced frame #13\n",
      "Saving reduced frame #14\n",
      "Saving reduced frame #15\n",
      "Saving reduced frame #16\n",
      "Saving reduced frame #17\n",
      "Saving reduced frame #18\n",
      "Saving reduced frame #19\n",
      "0.0 0.0\n",
      "Overwriting existing science frames with star position values: reducedsci_000.fits\n",
      "11.31372641228893 -5.7101190484148105\n",
      "Overwriting existing science frames with star position values: reducedsci_001.fits\n",
      "5.117945773014071 -33.79047358196311\n",
      "Overwriting existing science frames with star position values: reducedsci_002.fits\n",
      "-11.077807245253098 -21.816258157361915\n",
      "Overwriting existing science frames with star position values: reducedsci_003.fits\n",
      "-248.7124750146691 112.1383438508318\n",
      "Overwriting existing science frames with star position values: reducedsci_004.fits\n",
      "-232.66059662611946 98.33746420437035\n",
      "Overwriting existing science frames with star position values: reducedsci_005.fits\n",
      "-243.77027193833493 73.0344042234326\n",
      "Overwriting existing science frames with star position values: reducedsci_006.fits\n",
      "-259.98599405539153 84.99300834336577\n",
      "Overwriting existing science frames with star position values: reducedsci_007.fits\n",
      "-226.27324299562633 -375.69340988003273\n",
      "Overwriting existing science frames with star position values: reducedsci_008.fits\n",
      "-202.0908165681517 -391.0285862134038\n",
      "Overwriting existing science frames with star position values: reducedsci_009.fits\n",
      "-215.37593507295327 -409.6162904638152\n",
      "Overwriting existing science frames with star position values: reducedsci_010.fits\n",
      "-234.90591399188685 -403.7648903696719\n",
      "Overwriting existing science frames with star position values: reducedsci_011.fits\n",
      "253.492024815979 -360.93987077743225\n",
      "Overwriting existing science frames with star position values: reducedsci_012.fits\n",
      "270.4287047075529 -361.7215104785282\n",
      "Overwriting existing science frames with star position values: reducedsci_013.fits\n",
      "267.15079852169913 -379.1051438805978\n",
      "Overwriting existing science frames with star position values: reducedsci_014.fits\n",
      "234.76586238546804 -375.65588671136703\n",
      "Overwriting existing science frames with star position values: reducedsci_015.fits\n",
      "220.88509913354926 141.03288457037172\n",
      "Overwriting existing science frames with star position values: reducedsci_016.fits\n",
      "243.98409612961336 131.05756441446727\n",
      "Overwriting existing science frames with star position values: reducedsci_017.fits\n",
      "229.51786257579704 108.08113979986149\n",
      "Overwriting existing science frames with star position values: reducedsci_018.fits\n",
      "212.52247789899877 116.03751689323951\n",
      "Overwriting existing science frames with star position values: reducedsci_019.fits\n",
      "2022 2018\n",
      "Shifting image 0 of 20...\n",
      "Shifting image 1 of 20...\n",
      "Shifting image 2 of 20...\n",
      "Shifting image 3 of 20...\n",
      "Shifting image 4 of 20...\n",
      "Shifting image 5 of 20...\n",
      "Shifting image 6 of 20...\n",
      "Shifting image 7 of 20...\n",
      "Shifting image 8 of 20...\n",
      "Shifting image 9 of 20...\n",
      "Shifting image 10 of 20...\n",
      "Shifting image 11 of 20...\n",
      "Shifting image 12 of 20...\n",
      "Shifting image 13 of 20...\n",
      "Shifting image 14 of 20...\n",
      "Shifting image 15 of 20...\n",
      "Shifting image 16 of 20...\n",
      "Shifting image 17 of 20...\n",
      "Shifting image 18 of 20...\n",
      "Shifting image 19 of 20...\n",
      "% Compiled module: MRDFITS.\n",
      "% Compiled module: FXPOSIT.\n",
      "% Compiled module: MRD_HREAD.\n",
      "% Compiled module: FXPAR.\n",
      "% Compiled module: GETTOK.\n",
      "% Compiled module: VALID_NUM.\n",
      "% Compiled module: MRD_SKIP.\n",
      "% Compiled module: MWRFITS.\n",
      "% Compiled module: FXADDPAR.\n",
      "% Compiled module: SXDELPAR.\n",
      "Completed reduction of 20 images in 0.5224910855293274 minutes.\n"
     ]
    }
   ],
   "source": [
    "#Running all the above reduction steps in one go\n",
    "reduce_raw_sci(path_to_raw_sci, path_to_raw_darks, path_to_raw_flats, objname, flattype, saturated, alignflag, ref_imagex, ref_imagey, imsize = 1024)"
   ]
  },
  {
   "cell_type": "code",
   "execution_count": null,
   "metadata": {},
   "outputs": [],
   "source": []
  }
 ],
 "metadata": {
  "kernelspec": {
   "display_name": "Python 3",
   "language": "python",
   "name": "python3"
  },
  "language_info": {
   "codemirror_mode": {
    "name": "ipython",
    "version": 3
   },
   "file_extension": ".py",
   "mimetype": "text/x-python",
   "name": "python",
   "nbconvert_exporter": "python",
   "pygments_lexer": "ipython3",
   "version": "3.7.1"
  }
 },
 "nbformat": 4,
 "nbformat_minor": 2
}
