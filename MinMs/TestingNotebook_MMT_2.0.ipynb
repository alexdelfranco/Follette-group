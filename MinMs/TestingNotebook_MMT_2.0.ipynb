{
 "cells": [
  {
   "cell_type": "code",
   "execution_count": null,
   "metadata": {},
   "outputs": [],
   "source": [
    "from MMT_reduce_module import *"
   ]
  },
  {
   "cell_type": "code",
   "execution_count": null,
   "metadata": {},
   "outputs": [],
   "source": [
    "from __future__ import print_function\n",
    "import numpy as np\n",
    "import scipy as sp\n",
    "import scipy.ndimage\n",
    "from astropy.io import fits\n",
    "import sys\n",
    "import numpy.ma as ma\n",
    "import math\n",
    "import pidly\n",
    "import os\n",
    "import glob\n",
    "import time\n",
    "import matplotlib.pyplot as plt\n",
    "\n",
    "from shift_methods import *\n",
    "\n",
    "%matplotlib inline\n",
    "%load_ext autoreload\n",
    "%autoreload 2\n",
    "\n",
    "from astropy.visualization import ZScaleInterval\n",
    "interval = ZScaleInterval()"
   ]
  },
  {
   "cell_type": "markdown",
   "metadata": {},
   "source": [
    "## MMT_reduce_module Testing\n",
    "\n",
    "#### The purpose of this notebook is to test functions in the MMT module one-by-one and examine the outputs at each step.\n",
    "\n",
    "Major to-do items (Updated 7/6/2019): \n",
    "\n",
    "* Fix saturated data!\n",
    "    * Examine how sky frames are being made -- **done, 7/5**\n",
    "    * Examine how sky subtraction is being performed on science data -- **done, 7/5**\n",
    "    * Determine best practice of aligning saturated frames -- **done, 7/6**\n",
    "    * plt.imshow reduced steps -- **done, sometime**\n",
    "    * Stacking size issue -- **done**\n",
    "    * Update placeholder star position in saturated images from 512, 512 (before measuring companion positions)  \n",
    "    \n",
    "    \n",
    "* Determine how flatfield generation is being done and improve if need be\n",
    "    * Debug negative dark frames/negative flat frame issues? -- **done, 5/23**\n",
    "    * Double-check dome flat correction, now that twilight flat correction is working (with correct inputs)\n",
    "    \n",
    "More to-do items (last updated 7/5):\n",
    "* Ensure corquad correction is applied prior to analysis steps - **done, 5/23**\n",
    "* Define location for reduced data to be written -- **done, 7/1**\n",
    "* Check to ensure all flatfields are taken in the same filter - update within module -- **done, 7/1**\n",
    "* Rotation angle correction and image flip for MMT data (appears to be same VLT conventions) - update within module and here -- **done, 7/5**\n",
    "* Make sure align flag opens ds9 with frames opening in correct order -- **done, 7/5**\n",
    "* Cross-check sky subtraction in case of very saturated data, and if small changes in rotation angle make difference"
   ]
  },
  {
   "cell_type": "markdown",
   "metadata": {},
   "source": [
    "## Cell #1 to Update: Set up paths to raw data and definitions"
   ]
  },
  {
   "cell_type": "code",
   "execution_count": null,
   "metadata": {},
   "outputs": [],
   "source": [
    "# Always update and double-check the following seven paths and variables:\n",
    "\n",
    "path_to_raw_sci = '/Volumes/Passport4TB/MinMs_Data_Testing/HIP12097_MMT_20161012/30.0/'\n",
    "path_to_raw_darks = '/Volumes/Passport4TB/MinMs_Data_Testing/20161012_Calibrations/darks/'\n",
    "path_to_raw_flats = '/Volumes/Passport4TB/MinMs_Data_Testing/20161012_Calibrations/twilight/'\n",
    "\n",
    "objname = 'HIP12097_30s'\n",
    "\n",
    "flattype = 0 # 0 for sky, 1 for lamp\n",
    "saturated = 1 # 0 if unsaturated, 1 if saturated\n",
    "alignflag = 0 # 0 if single star or faint companion, 1 if equal brightness binary or difficult to align for some reason"
   ]
  },
  {
   "cell_type": "markdown",
   "metadata": {},
   "source": [
    "## Cell #2 to Update: Define the x-y position of the saturated star from the first \"qim\" image"
   ]
  },
  {
   "cell_type": "code",
   "execution_count": null,
   "metadata": {},
   "outputs": [],
   "source": [
    "# Update the following with your estimate from ds9\n",
    "ref_imagex = 810\n",
    "ref_imagey =  301"
   ]
  },
  {
   "cell_type": "code",
   "execution_count": null,
   "metadata": {},
   "outputs": [],
   "source": [
    "# No need to edit this cell\n",
    "ref_imagex = 1024 - ref_imagex\n",
    "imsize = 1024"
   ]
  },
  {
   "cell_type": "markdown",
   "metadata": {},
   "source": [
    "## The following cells are each of the steps of the reduce_raw_sci function"
   ]
  },
  {
   "cell_type": "code",
   "execution_count": null,
   "metadata": {},
   "outputs": [],
   "source": [
    "# Make list of science frames and check exposure time \n",
    "scilist = glob.glob(path_to_raw_sci + 'q*.fits')\n",
    "\n",
    "scilist.sort()\n",
    "\n",
    "print(f\"Number of science frames found: {len(scilist)} \\n\")"
   ]
  },
  {
   "cell_type": "code",
   "execution_count": null,
   "metadata": {},
   "outputs": [],
   "source": [
    "scitimes = [fits.getheader(im, ignore_missing_end = True)['EXPTIME'] for im in scilist]\n",
    "\n",
    "# check if all of the exposure times in the current directory are the same:\n",
    "if all(x == scitimes[0] for x in scitimes):\n",
    "    print(\"Science frame exposure time: \" + str(scitimes[0]) + \"\\n\")\n",
    "else:\n",
    "    raise Exception(\"Exposure times for given list of files do not match. \\\n",
    "    You may need to make/define separate subfolders for different exptimes.\")\n",
    "\n",
    "sci_exptime = scitimes[0]\n",
    "\n",
    "n = len(scilist)\n",
    "\n",
    "\n",
    "# get header from science frames to work with\n",
    "sciheader = fits.getheader(scilist[0])\n"
   ]
  },
  {
   "cell_type": "code",
   "execution_count": null,
   "metadata": {},
   "outputs": [],
   "source": [
    "# check for datacubes\n",
    "if len(fits.getdata(scilist[0]).shape) == 3: # check for data cubes of science frames\n",
    "    sciarray = np.zeros([imsize,imsize,n*fits.getdata(scilist[0]).shape[0]])\n",
    "else:\n",
    "    sciarray = np.zeros([imsize,imsize,n])\n",
    "\n",
    "if len(fits.getdata(scilist[0]).shape) == 3: # check for data cubes of science frames    \n",
    "    totalframes = n*fits.getdata(scilist[0]).shape[0]\n",
    "else:\n",
    "    totalframes = n"
   ]
  },
  {
   "cell_type": "code",
   "execution_count": null,
   "metadata": {},
   "outputs": [],
   "source": [
    "# in case data were rotated during observing sequence, set up empty array of rotation angles\n",
    "angle = np.zeros(totalframes)\n",
    "\n",
    "im_index = 0\n",
    "\n",
    "\n",
    "for ii in range(0, n):\n",
    "    im = fits.getdata(scilist[ii], ignore_missing_end=True)\n",
    "    header = fits.getheader(scilist[ii],ignore_missing_end=True)\n",
    "\n",
    "    # flip image left-right, as required for MMT data:\n",
    "    im = np.fliplr(im)\n",
    "\n",
    "    if len(im.shape) == 3: # check for data cubes of science frames\n",
    "        assert not np.any(np.isnan(im))\n",
    "        for jj in range(0, im.shape[0]):\n",
    "            sciarray[:,:,im_index] = im[jj,:,:]\n",
    "            angle[im_index] = (header['PA'] - header['ROT']) * (np.pi/180.0)\n",
    "            im_index += 1\n",
    "    else: \n",
    "        sciarray[:,:,ii] = im  \n",
    "        angle[ii] = (header['PA'] - header['ROT']) * (np.pi/180.0)\n",
    "    header = fits.getheader(scilist[ii], ignore_missing_end=True)    \n",
    "\n",
    "\n",
    "\n"
   ]
  },
  {
   "cell_type": "code",
   "execution_count": null,
   "metadata": {
    "scrolled": false
   },
   "outputs": [],
   "source": [
    "print(angle)\n",
    "print(im)"
   ]
  },
  {
   "cell_type": "code",
   "execution_count": null,
   "metadata": {
    "scrolled": true
   },
   "outputs": [],
   "source": [
    "#MASTER_DARK\n",
    "\n",
    "print(\"Creating and applying master darks and flats...\\n\")    \n",
    "\n",
    "# create master dark matching science exposure times\n",
    "med_dark = dark_combine(path_to_raw_sci, path_to_raw_darks, sci_exptime, imsize, objname) \n",
    "\n",
    "vmin, vmax = interval.get_limits(med_dark)\n",
    "plt.imshow(med_dark, vmin=vmin, vmax=vmax, origin='lower')"
   ]
  },
  {
   "cell_type": "code",
   "execution_count": null,
   "metadata": {},
   "outputs": [],
   "source": [
    "# subtract off the median dark frame from each of the science frames\n",
    "for ii in range (0, totalframes):\n",
    "    sciarray[:,:,ii] -= med_dark\n"
   ]
  },
  {
   "cell_type": "code",
   "execution_count": null,
   "metadata": {},
   "outputs": [],
   "source": [
    "flatlist = glob.glob(path_to_raw_flats + '**/q*fits',recursive = True)"
   ]
  },
  {
   "cell_type": "code",
   "execution_count": null,
   "metadata": {
    "scrolled": false
   },
   "outputs": [],
   "source": [
    "#MEDIAN_AND_MASTER_FLAT\n",
    "\n",
    "# create the masterflat \n",
    "med_flat, master_flat, flatheader = process_flats(path_to_raw_sci, path_to_raw_flats, path_to_raw_darks, imsize, flattype, objname)\n",
    "\n",
    "vmin, vmax = interval.get_limits(med_flat)\n",
    "plt.imshow(med_flat, vmin=vmin, vmax=vmax, origin='lower')"
   ]
  },
  {
   "cell_type": "code",
   "execution_count": null,
   "metadata": {},
   "outputs": [],
   "source": [
    "# divide each science frame by the masterflat frame\n",
    "for ii in range(0, totalframes):\n",
    "    sciarray[:,:,ii] /= master_flat\n",
    "\n"
   ]
  },
  {
   "cell_type": "code",
   "execution_count": null,
   "metadata": {},
   "outputs": [],
   "source": [
    "#BAD_PIXEL_MAP\n",
    "\n",
    "print(\"Creating bad pixel map and correcting for bad pixels and cosmic rays. \\n\",\n",
    "     \"This may take a moment... \\n\") \n",
    "\n",
    "# create bad pixel map\n",
    "badflat = badpixelmap(path_to_raw_sci, med_flat, objname, flatheader)  \n",
    "\n",
    "vmin, vmax = interval.get_limits(badflat)\n",
    "plt.imshow(badflat, vmin=vmin, vmax=vmax, origin='lower')"
   ]
  },
  {
   "cell_type": "code",
   "execution_count": null,
   "metadata": {},
   "outputs": [],
   "source": [
    "# correct the bad pixels and cosmic rays\n",
    "reduced_sciarray = correct_bad_pixels(sciarray, badflat)\n"
   ]
  },
  {
   "cell_type": "code",
   "execution_count": null,
   "metadata": {},
   "outputs": [],
   "source": [
    "# write out a test reduced science image \n",
    "fits.writeto(path_to_raw_sci+'test_reduced_science.fits', reduced_sciarray[:,:,0], overwrite=True)"
   ]
  },
  {
   "cell_type": "code",
   "execution_count": null,
   "metadata": {},
   "outputs": [],
   "source": [
    "#MASTER_SKY\n",
    "print(\"Creating master sky from science frames...\\n\") \n",
    "\n",
    "# create median sky from stack of science images\n",
    "sky_output = create_sky_frames(path_to_raw_sci, reduced_sciarray, sciheader, objname, angle)\n",
    "\n"
   ]
  },
  {
   "cell_type": "code",
   "execution_count": null,
   "metadata": {},
   "outputs": [],
   "source": [
    "# get median and examine sky output:\n",
    "print(np.median(sky_output[1]))\n",
    "vmin, vmax = interval.get_limits(sky_output[1])\n",
    "plt.imshow(sky_output[1], vmin=vmin, vmax=vmax, origin='lower')"
   ]
  },
  {
   "cell_type": "code",
   "execution_count": null,
   "metadata": {},
   "outputs": [],
   "source": [
    "# apply sky subtraction to each science image \n",
    "skysub_science_array, rot_flag = sky_subtract(reduced_sciarray, sky_output, angle)"
   ]
  },
  {
   "cell_type": "code",
   "execution_count": null,
   "metadata": {},
   "outputs": [],
   "source": [
    "#INDIVIDUAL_REDUCED_SCI_IMAGES\n",
    "t0=time.time()\n",
    "\n",
    "# initialize blank list to hold all of the reduced science image names\n",
    "scinames_list = []\n",
    "\n",
    "\n",
    "for ii in range(0, totalframes):\n",
    "    print(f\"Saving reduced frame #{ii}\")\n",
    "    sciname = 'reducedsci_00' + str(ii) + '.fits'\n",
    "    if ii >= 10:\n",
    "        sciname = 'reducedsci_0' + str(ii) + '.fits'\n",
    "    if ii >= 100:\n",
    "        sciname = 'reducedsci_' + str(ii) + '.fits'\n",
    "    fits.writeto(path_to_raw_sci+sciname, skysub_science_array[:,:,ii], sciheader, overwrite = True, output_verify='silentfix')\n",
    "    scinames_list.append(sciname)\n",
    "    \n",
    "t1=time.time()\n",
    "print(\"Time taken: \", (t1-t0)/60.)"
   ]
  },
  {
   "cell_type": "markdown",
   "metadata": {},
   "source": [
    "## Measure Star Centers"
   ]
  },
  {
   "cell_type": "code",
   "execution_count": null,
   "metadata": {},
   "outputs": [],
   "source": [
    "# get directory where reduced frames are written\n",
    "current_dir = path_to_raw_sci\n",
    "\n",
    "# measure star positions in all of the images\n",
    "if saturated == 0:\n",
    "    xcen, ycen = measure_star_centers(path_to_raw_sci, skysub_science_array, scinames_list, sciheader, saturated, alignflag, current_dir, saveframes = True)\n",
    "\n",
    "elif saturated == 1:    \n",
    "    xcen, ycen = cross_correlate_centers(path_to_raw_sci, skysub_science_array, scinames_list, ref_imagex, ref_imagey)    \n",
    "\n",
    "else:\n",
    "    raiseException(\"Saturated flag not recognized.\")"
   ]
  },
  {
   "cell_type": "code",
   "execution_count": null,
   "metadata": {},
   "outputs": [],
   "source": [
    "print('xcen:', xcen, 'ycen:', ycen)"
   ]
  },
  {
   "cell_type": "code",
   "execution_count": null,
   "metadata": {},
   "outputs": [],
   "source": [
    "#SHIFTED_IMAGES\n",
    "#STACKED\n",
    "#FINAL\n",
    "\n",
    "# get current directory where reduced frames are written\n",
    "current_dir = path_to_raw_sci\n",
    "\n",
    "t0=time.time()\n",
    "# final step (!) - shift and combine all of the images.\n",
    "rotate_shift_align(path_to_raw_sci, xcen, ycen, angle, skysub_science_array, objname, sciheader, current_dir, imsize=1024)\n",
    "\n",
    "t1 = time.time()\n",
    "timetaken = (t1-t0)/60.\n",
    "print(f\"Completed reduction of {totalframes} images in {timetaken} minutes.\")"
   ]
  },
  {
   "cell_type": "markdown",
   "metadata": {},
   "source": [
    "\n",
    "\n",
    "\n",
    "\n",
    "\n",
    "\n",
    "\n",
    "## Run all of the above reduction steps in one go:"
   ]
  },
  {
   "cell_type": "code",
   "execution_count": null,
   "metadata": {
    "scrolled": false
   },
   "outputs": [],
   "source": [
    "#Running all the above reduction steps in one go\n",
    "reduce_raw_sci(path_to_raw_sci, path_to_raw_darks, path_to_raw_flats, objname, flattype, saturated, alignflag, ref_imagex, ref_imagey, imsize = 1024)"
   ]
  },
  {
   "cell_type": "code",
   "execution_count": null,
   "metadata": {},
   "outputs": [],
   "source": []
  }
 ],
 "metadata": {
  "kernelspec": {
   "display_name": "Python 3",
   "language": "python",
   "name": "python3"
  },
  "language_info": {
   "codemirror_mode": {
    "name": "ipython",
    "version": 3
   },
   "file_extension": ".py",
   "mimetype": "text/x-python",
   "name": "python",
   "nbconvert_exporter": "python",
   "pygments_lexer": "ipython3",
   "version": "3.7.2"
  }
 },
 "nbformat": 4,
 "nbformat_minor": 2
}
