{
 "cells": [
  {
   "cell_type": "code",
   "execution_count": 1,
   "metadata": {},
   "outputs": [],
   "source": [
    "from MMT_reduce_module import *"
   ]
  },
  {
   "cell_type": "code",
   "execution_count": 2,
   "metadata": {},
   "outputs": [],
   "source": [
    "from __future__ import print_function\n",
    "import numpy as np\n",
    "import scipy as sp\n",
    "import scipy.ndimage\n",
    "from astropy.io import fits\n",
    "import sys\n",
    "import numpy.ma as ma\n",
    "import math\n",
    "import pidly\n",
    "import os\n",
    "import glob\n",
    "import time\n",
    "import matplotlib.pyplot as plt\n",
    "\n",
    "from shift_methods import *\n",
    "\n",
    "%matplotlib inline\n",
    "%load_ext autoreload\n",
    "%autoreload 2\n",
    "\n",
    "from astropy.visualization import ZScaleInterval\n",
    "interval = ZScaleInterval()"
   ]
  },
  {
   "cell_type": "markdown",
   "metadata": {},
   "source": [
    "## MMT_reduce_module Testing\n",
    "\n",
    "#### The purpose of this notebook is to test functions in the MMT module one-by-one and examine the outputs at each step.\n",
    "\n",
    "Major to-do items (Updated 7/6/2019): \n",
    "\n",
    "* Fix saturated data!\n",
    "    * Examine how sky frames are being made -- **done, 7/5**\n",
    "    * Examine how sky subtraction is being performed on science data -- **done, 7/5**\n",
    "    * Determine best practice of aligning saturated frames -- **done, 7/6**\n",
    "    * plt.imshow reduced steps -- **done, sometime**\n",
    "    * Stacking size issue -- **done**\n",
    "    * Update placeholder star position in saturated images from 512, 512 (before measuring companion positions)  \n",
    "    \n",
    "    \n",
    "* Determine how flatfield generation is being done and improve if need be\n",
    "    * Debug negative dark frames/negative flat frame issues? -- **done, 5/23**\n",
    "    * Double-check dome flat correction, now that twilight flat correction is working (with correct inputs)\n",
    "    \n",
    "More to-do items (last updated 7/5):\n",
    "* Ensure corquad correction is applied prior to analysis steps - **done, 5/23**\n",
    "* Define location for reduced data to be written -- **done, 7/1**\n",
    "* Check to ensure all flatfields are taken in the same filter - update within module -- **done, 7/1**\n",
    "* Rotation angle correction and image flip for MMT data (appears to be same VLT conventions) - update within module and here -- **done, 7/5**\n",
    "* Make sure align flag opens ds9 with frames opening in correct order -- **done, 7/5**\n",
    "* Cross-check sky subtraction in case of very saturated data, and if small changes in rotation angle make difference"
   ]
  },
  {
   "cell_type": "markdown",
   "metadata": {},
   "source": [
    "## Cell #1 to Update: Set up paths to raw data and definitions"
   ]
  },
  {
   "cell_type": "code",
   "execution_count": 8,
   "metadata": {},
   "outputs": [],
   "source": [
    "# Always update and double-check the following seven paths and variables:\n",
    "\n",
    "path_to_raw_sci = '/Users/u5ajain/Dropbox (Amherst College)/2016_10_11_run/20161014/HIP_Targets_20161014/HIP93101/0.8/Ks/'\n",
    "path_to_raw_darks = '/Users/u5ajain/Dropbox (Amherst College)/2016_10_11_run/Calibrations/darks/'\n",
    "path_to_raw_flats = '/Users/u5ajain/Dropbox (Amherst College)/2016_10_11_run/Calibrations/twilight/sky flat/20.0/'\n",
    "\n",
    "objname = 'HIP93101_0.8s'\n",
    "\n",
    "flattype = 0 # 0 for sky, 1 for lamp\n",
    "saturated = 1 # 0 if unsaturated, 1 if saturated\n",
    "alignflag = 0 # 0 if single star or faint companion, 1 if equal brightness binary or difficult to align for some reason"
   ]
  },
  {
   "cell_type": "markdown",
   "metadata": {},
   "source": [
    "## Cell #2 to Update: Define the x-y position of the saturated star from the first \"qim\" image"
   ]
  },
  {
   "cell_type": "code",
   "execution_count": 9,
   "metadata": {},
   "outputs": [],
   "source": [
    "# Update the following with your estimate from ds9\n",
    "ref_imagex = 794\n",
    "ref_imagey =  286\n",
    "\n",
    "# No need to edit these two lines\n",
    "ref_imagex = 1024 - ref_imagex\n",
    "imsize = 1024"
   ]
  },
  {
   "cell_type": "markdown",
   "metadata": {},
   "source": [
    "## The following cells are each of the steps of the reduce_raw_sci function"
   ]
  },
  {
   "cell_type": "code",
   "execution_count": null,
   "metadata": {},
   "outputs": [],
   "source": [
    "# Make list of science frames and check exposure time \n",
    "scilist = glob.glob(path_to_raw_sci + 'q*.fits')\n",
    "\n",
    "scilist.sort()\n",
    "\n",
    "print(f\"Number of science frames found: {len(scilist)} \\n\")"
   ]
  },
  {
   "cell_type": "code",
   "execution_count": null,
   "metadata": {},
   "outputs": [],
   "source": [
    "scitimes = [fits.getheader(im, ignore_missing_end = True)['EXPTIME'] for im in scilist]\n",
    "\n",
    "# check if all of the exposure times in the current directory are the same:\n",
    "if all(x == scitimes[0] for x in scitimes):\n",
    "    print(\"Science frame exposure time: \" + str(scitimes[0]) + \"\\n\")\n",
    "else:\n",
    "    raise Exception(\"Exposure times for given list of files do not match. \\\n",
    "    You may need to make/define separate subfolders for different exptimes.\")\n",
    "\n",
    "sci_exptime = scitimes[0]\n",
    "\n",
    "n = len(scilist)\n",
    "\n",
    "\n",
    "# get header from science frames to work with\n",
    "sciheader = fits.getheader(scilist[0])\n"
   ]
  },
  {
   "cell_type": "code",
   "execution_count": null,
   "metadata": {},
   "outputs": [],
   "source": [
    "# check for datacubes\n",
    "if len(fits.getdata(scilist[0]).shape) == 3: # check for data cubes of science frames\n",
    "    sciarray = np.zeros([imsize,imsize,n*fits.getdata(scilist[0]).shape[0]])\n",
    "else:\n",
    "    sciarray = np.zeros([imsize,imsize,n])\n",
    "\n",
    "if len(fits.getdata(scilist[0]).shape) == 3: # check for data cubes of science frames    \n",
    "    totalframes = n*fits.getdata(scilist[0]).shape[0]\n",
    "else:\n",
    "    totalframes = n"
   ]
  },
  {
   "cell_type": "code",
   "execution_count": null,
   "metadata": {},
   "outputs": [],
   "source": [
    "# in case data were rotated during observing sequence, set up empty array of rotation angles\n",
    "angle = np.zeros(totalframes)\n",
    "\n",
    "im_index = 0\n",
    "\n",
    "\n",
    "for ii in range(0, n):\n",
    "    im = fits.getdata(scilist[ii], ignore_missing_end=True)\n",
    "    header = fits.getheader(scilist[ii],ignore_missing_end=True)\n",
    "\n",
    "    # flip image left-right, as required for MMT data:\n",
    "    im = np.fliplr(im)\n",
    "\n",
    "    if len(im.shape) == 3: # check for data cubes of science frames\n",
    "        assert not np.any(np.isnan(im))\n",
    "        for jj in range(0, im.shape[0]):\n",
    "            sciarray[:,:,im_index] = im[jj,:,:]\n",
    "            angle[im_index] = (header['PA'] - header['ROT']) * (np.pi/180.0)\n",
    "            im_index += 1\n",
    "    else: \n",
    "        sciarray[:,:,ii] = im  \n",
    "        angle[ii] = (header['PA'] - header['ROT']) * (np.pi/180.0)\n",
    "    header = fits.getheader(scilist[ii], ignore_missing_end=True)    \n",
    "\n",
    "\n",
    "\n"
   ]
  },
  {
   "cell_type": "code",
   "execution_count": null,
   "metadata": {
    "scrolled": false
   },
   "outputs": [],
   "source": [
    "print(angle)\n",
    "print(im)"
   ]
  },
  {
   "cell_type": "code",
   "execution_count": null,
   "metadata": {
    "scrolled": true
   },
   "outputs": [],
   "source": [
    "#MASTER_DARK\n",
    "\n",
    "print(\"Creating and applying master darks and flats...\\n\")    \n",
    "\n",
    "# create master dark matching science exposure times\n",
    "med_dark = dark_combine(path_to_raw_sci, path_to_raw_darks, sci_exptime, imsize, objname) \n",
    "\n",
    "vmin, vmax = interval.get_limits(med_dark)\n",
    "plt.imshow(med_dark, vmin=vmin, vmax=vmax, origin='lower')"
   ]
  },
  {
   "cell_type": "code",
   "execution_count": null,
   "metadata": {},
   "outputs": [],
   "source": [
    "# subtract off the median dark frame from each of the science frames\n",
    "for ii in range (0, totalframes):\n",
    "    sciarray[:,:,ii] -= med_dark\n"
   ]
  },
  {
   "cell_type": "code",
   "execution_count": null,
   "metadata": {},
   "outputs": [],
   "source": [
    "flatlist = glob.glob(path_to_raw_flats + '**/q*fits',recursive = True)"
   ]
  },
  {
   "cell_type": "code",
   "execution_count": null,
   "metadata": {
    "scrolled": false
   },
   "outputs": [],
   "source": [
    "#MEDIAN_AND_MASTER_FLAT\n",
    "\n",
    "# create the masterflat \n",
    "med_flat, master_flat, flatheader = process_flats(path_to_raw_sci, path_to_raw_flats, path_to_raw_darks, imsize, flattype, objname)\n",
    "\n",
    "vmin, vmax = interval.get_limits(med_flat)\n",
    "plt.imshow(med_flat, vmin=vmin, vmax=vmax, origin='lower')"
   ]
  },
  {
   "cell_type": "code",
   "execution_count": null,
   "metadata": {},
   "outputs": [],
   "source": [
    "# divide each science frame by the masterflat frame\n",
    "for ii in range(0, totalframes):\n",
    "    sciarray[:,:,ii] /= master_flat\n",
    "\n"
   ]
  },
  {
   "cell_type": "code",
   "execution_count": null,
   "metadata": {},
   "outputs": [],
   "source": [
    "#BAD_PIXEL_MAP\n",
    "\n",
    "print(\"Creating bad pixel map and correcting for bad pixels and cosmic rays. \\n\",\n",
    "     \"This may take a moment... \\n\") \n",
    "\n",
    "# create bad pixel map\n",
    "badflat = badpixelmap(path_to_raw_sci, med_flat, objname, flatheader)  \n",
    "\n",
    "vmin, vmax = interval.get_limits(badflat)\n",
    "plt.imshow(badflat, vmin=vmin, vmax=vmax, origin='lower')"
   ]
  },
  {
   "cell_type": "code",
   "execution_count": null,
   "metadata": {},
   "outputs": [],
   "source": [
    "# correct the bad pixels and cosmic rays\n",
    "reduced_sciarray = correct_bad_pixels(sciarray, badflat)\n"
   ]
  },
  {
   "cell_type": "code",
   "execution_count": null,
   "metadata": {},
   "outputs": [],
   "source": [
    "# write out a test reduced science image \n",
    "fits.writeto(path_to_raw_sci+'test_reduced_science.fits', reduced_sciarray[:,:,0], overwrite=True)"
   ]
  },
  {
   "cell_type": "code",
   "execution_count": null,
   "metadata": {},
   "outputs": [],
   "source": [
    "#MASTER_SKY\n",
    "print(\"Creating master sky from science frames...\\n\") \n",
    "\n",
    "# create median sky from stack of science images\n",
    "sky_output = create_sky_frames(path_to_raw_sci, reduced_sciarray, sciheader, objname, angle)\n",
    "\n"
   ]
  },
  {
   "cell_type": "code",
   "execution_count": null,
   "metadata": {},
   "outputs": [],
   "source": [
    "# get median and examine sky output:\n",
    "print(np.median(sky_output[1]))\n",
    "vmin, vmax = interval.get_limits(sky_output[1])\n",
    "plt.imshow(sky_output[1], vmin=vmin, vmax=vmax, origin='lower')"
   ]
  },
  {
   "cell_type": "code",
   "execution_count": null,
   "metadata": {},
   "outputs": [],
   "source": [
    "# apply sky subtraction to each science image \n",
    "skysub_science_array, rot_flag = sky_subtract(reduced_sciarray, sky_output, angle)"
   ]
  },
  {
   "cell_type": "code",
   "execution_count": null,
   "metadata": {},
   "outputs": [],
   "source": [
    "#INDIVIDUAL_REDUCED_SCI_IMAGES\n",
    "t0=time.time()\n",
    "\n",
    "# initialize blank list to hold all of the reduced science image names\n",
    "scinames_list = []\n",
    "\n",
    "\n",
    "for ii in range(0, totalframes):\n",
    "    print(f\"Saving reduced frame #{ii}\")\n",
    "    sciname = 'reducedsci_00' + str(ii) + '.fits'\n",
    "    if ii >= 10:\n",
    "        sciname = 'reducedsci_0' + str(ii) + '.fits'\n",
    "    if ii >= 100:\n",
    "        sciname = 'reducedsci_' + str(ii) + '.fits'\n",
    "    fits.writeto(path_to_raw_sci+sciname, skysub_science_array[:,:,ii], sciheader, overwrite = True, output_verify='silentfix')\n",
    "    scinames_list.append(sciname)\n",
    "    \n",
    "t1=time.time()\n",
    "print(\"Time taken: \", (t1-t0)/60.)"
   ]
  },
  {
   "cell_type": "markdown",
   "metadata": {},
   "source": [
    "## Measure Star Centers"
   ]
  },
  {
   "cell_type": "code",
   "execution_count": null,
   "metadata": {},
   "outputs": [],
   "source": [
    "# get directory where reduced frames are written\n",
    "current_dir = path_to_raw_sci\n",
    "\n",
    "# measure star positions in all of the images\n",
    "if saturated == 0:\n",
    "    xcen, ycen = measure_star_centers(path_to_raw_sci, skysub_science_array, scinames_list, sciheader, saturated, alignflag, current_dir, saveframes = True)\n",
    "\n",
    "elif saturated == 1:    \n",
    "    xcen, ycen = cross_correlate_centers(path_to_raw_sci, skysub_science_array, scinames_list, ref_imagex, ref_imagey)    \n",
    "\n",
    "else:\n",
    "    raiseException(\"Saturated flag not recognized.\")"
   ]
  },
  {
   "cell_type": "code",
   "execution_count": null,
   "metadata": {},
   "outputs": [],
   "source": [
    "print('xcen:', xcen, 'ycen:', ycen)"
   ]
  },
  {
   "cell_type": "code",
   "execution_count": null,
   "metadata": {},
   "outputs": [],
   "source": [
    "#SHIFTED_IMAGES\n",
    "#STACKED\n",
    "#FINAL\n",
    "\n",
    "# get current directory where reduced frames are written\n",
    "current_dir = path_to_raw_sci\n",
    "\n",
    "t0=time.time()\n",
    "# final step (!) - shift and combine all of the images.\n",
    "rotate_shift_align(path_to_raw_sci, xcen, ycen, angle, skysub_science_array, objname, sciheader, current_dir, imsize=1024)\n",
    "\n",
    "t1 = time.time()\n",
    "timetaken = (t1-t0)/60.\n",
    "print(f\"Completed reduction of {totalframes} images in {timetaken} minutes.\")"
   ]
  },
  {
   "cell_type": "markdown",
   "metadata": {},
   "source": [
    "\n",
    "\n",
    "\n",
    "\n",
    "\n",
    "\n",
    "\n",
    "## Run all of the above reduction steps in one go:"
   ]
  },
  {
   "cell_type": "code",
   "execution_count": 10,
   "metadata": {
    "scrolled": false
   },
   "outputs": [
    {
     "name": "stdout",
     "output_type": "stream",
     "text": [
      "Number of science frames found: 46 \n",
      "\n",
      "Science frame exposure time: 0.8\n",
      "\n",
      "Creating and applying master darks and flats...\n",
      "\n",
      "Found 52 darks with exposure times of 0.8. \n",
      "\n",
      "Found 30 total flats taken in Ks band filter.\n",
      "\n",
      "Found 30 twilight flats with exposure times of 20.0. \n",
      "\n",
      "Creating new master dark for flats with 20.0s exposure. \n",
      "\n",
      "Found 5 darks with exposure times of 20.0. \n",
      "\n",
      "Creating bad pixel map and correcting for bad pixels and cosmic rays. \n",
      " This may take a moment... \n",
      "\n",
      "Correcting image #0\n",
      "Correcting image #1\n",
      "Correcting image #2\n",
      "Correcting image #3\n",
      "Correcting image #4\n",
      "Correcting image #5\n",
      "Correcting image #6\n",
      "Correcting image #7\n",
      "Correcting image #8\n",
      "Correcting image #9\n",
      "Correcting image #10\n",
      "Correcting image #11\n",
      "Correcting image #12\n",
      "Correcting image #13\n",
      "Correcting image #14\n",
      "Correcting image #15\n",
      "Correcting image #16\n",
      "Correcting image #17\n",
      "Correcting image #18\n",
      "Correcting image #19\n",
      "Correcting image #20\n",
      "Correcting image #21\n",
      "Correcting image #22\n",
      "Correcting image #23\n",
      "Correcting image #24\n",
      "Correcting image #25\n",
      "Correcting image #26\n",
      "Correcting image #27\n",
      "Correcting image #28\n",
      "Correcting image #29\n",
      "Correcting image #30\n",
      "Correcting image #31\n",
      "Correcting image #32\n",
      "Correcting image #33\n",
      "Correcting image #34\n",
      "Correcting image #35\n",
      "Correcting image #36\n",
      "Correcting image #37\n",
      "Correcting image #38\n",
      "Correcting image #39\n",
      "Correcting image #40\n",
      "Correcting image #41\n",
      "Correcting image #42\n",
      "Correcting image #43\n",
      "Correcting image #44\n",
      "Correcting image #45\n",
      "Creating master sky from science frames...\n",
      "\n",
      "Saving reduced frame #0\n",
      "Saving reduced frame #1\n",
      "Saving reduced frame #2\n",
      "Saving reduced frame #3\n",
      "Saving reduced frame #4\n",
      "Saving reduced frame #5\n",
      "Saving reduced frame #6\n",
      "Saving reduced frame #7\n",
      "Saving reduced frame #8\n",
      "Saving reduced frame #9\n",
      "Saving reduced frame #10\n",
      "Saving reduced frame #11\n",
      "Saving reduced frame #12\n",
      "Saving reduced frame #13\n",
      "Saving reduced frame #14\n",
      "Saving reduced frame #15\n",
      "Saving reduced frame #16\n",
      "Saving reduced frame #17\n",
      "Saving reduced frame #18\n",
      "Saving reduced frame #19\n",
      "Saving reduced frame #20\n",
      "Saving reduced frame #21\n",
      "Saving reduced frame #22\n",
      "Saving reduced frame #23\n",
      "Saving reduced frame #24\n",
      "Saving reduced frame #25\n",
      "Saving reduced frame #26\n",
      "Saving reduced frame #27\n",
      "Saving reduced frame #28\n",
      "Saving reduced frame #29\n",
      "Saving reduced frame #30\n",
      "Saving reduced frame #31\n",
      "Saving reduced frame #32\n",
      "Saving reduced frame #33\n",
      "Saving reduced frame #34\n",
      "Saving reduced frame #35\n",
      "Saving reduced frame #36\n",
      "Saving reduced frame #37\n",
      "Saving reduced frame #38\n",
      "Saving reduced frame #39\n",
      "Saving reduced frame #40\n",
      "Saving reduced frame #41\n",
      "Saving reduced frame #42\n",
      "Saving reduced frame #43\n",
      "Saving reduced frame #44\n",
      "Saving reduced frame #45\n",
      "0.0 0.0\n",
      "Overwriting existing science frames with star position values: reducedsci_000.fits\n",
      "2.904973010594972 -71.69743400010577\n",
      "Overwriting existing science frames with star position values: reducedsci_001.fits\n",
      "-35.227369464667674 -40.25135912175682\n",
      "Overwriting existing science frames with star position values: reducedsci_002.fits\n",
      "-65.89917122463953 6.180107324787286\n",
      "Overwriting existing science frames with star position values: reducedsci_003.fits\n",
      "-33.92921972268658 35.87225444772969\n",
      "Overwriting existing science frames with star position values: reducedsci_004.fits\n",
      "2.8553149659560404 0.06744670423915977\n",
      "Overwriting existing science frames with star position values: reducedsci_005.fits\n",
      "28.84305773055894 -34.83999185466428\n",
      "Overwriting existing science frames with star position values: reducedsci_006.fits\n",
      "65.95320195120337 -9.19761844978484\n",
      "Overwriting existing science frames with star position values: reducedsci_007.fits\n",
      "33.88461054363927 25.882984482884126\n",
      "Overwriting existing science frames with star position values: reducedsci_008.fits\n",
      "6.975092758091478 68.98275959537614\n",
      "Overwriting existing science frames with star position values: reducedsci_009.fits\n",
      "-481.7492167835713 -95.38278623601184\n",
      "Overwriting existing science frames with star position values: reducedsci_010.fits\n",
      "-511.0 -65.0\n",
      "Overwriting existing science frames with star position values: reducedsci_011.fits\n",
      "-512.0 -26.0\n",
      "Overwriting existing science frames with star position values: reducedsci_012.fits\n",
      "-509.0 0.0\n",
      "Overwriting existing science frames with star position values: reducedsci_013.fits\n",
      "-472.9466545593308 -26.94204605856794\n",
      "Overwriting existing science frames with star position values: reducedsci_014.fits\n",
      "-444.9730796018069 -60.97568589369439\n",
      "Overwriting existing science frames with star position values: reducedsci_015.fits\n",
      "-414.0936747252565 -32.09408582114878\n",
      "Overwriting existing science frames with star position values: reducedsci_016.fits\n",
      "-438.0196772480332 1.080964080225499\n",
      "Overwriting existing science frames with star position values: reducedsci_017.fits\n",
      "-475.88619219891615 38.77581299292285\n",
      "Overwriting existing science frames with star position values: reducedsci_018.fits\n",
      "4.249097055761013 -181.41531183553872\n",
      "Overwriting existing science frames with star position values: reducedsci_019.fits\n",
      "-486.0 -512.0\n",
      "Overwriting existing science frames with star position values: reducedsci_020.fits\n",
      "-510.0 -512.0\n",
      "Overwriting existing science frames with star position values: reducedsci_021.fits\n",
      "-476.91923012487575 -483.1408184969229\n",
      "Overwriting existing science frames with star position values: reducedsci_022.fits\n",
      "-451.0 -512.0\n",
      "Overwriting existing science frames with star position values: reducedsci_023.fits\n",
      "-426.0 -512.0\n",
      "Overwriting existing science frames with star position values: reducedsci_024.fits\n",
      "-381.0 -512.0\n",
      "Overwriting existing science frames with star position values: reducedsci_025.fits\n",
      "-413.4617416772908 -482.82573573523314\n",
      "Overwriting existing science frames with star position values: reducedsci_026.fits\n",
      "-440.83195620658387 -451.81511499504666\n",
      "Overwriting existing science frames with star position values: reducedsci_027.fits\n",
      "15.0 -512.0\n",
      "Overwriting existing science frames with star position values: reducedsci_028.fits\n",
      "-6.0 -512.0\n",
      "Overwriting existing science frames with star position values: reducedsci_029.fits\n",
      "-41.05032665884835 -485.79688785151785\n",
      "Overwriting existing science frames with star position values: reducedsci_030.fits\n",
      "-4.807151218197987 -451.77375591385714\n",
      "Overwriting existing science frames with star position values: reducedsci_031.fits\n",
      "32.68785305738152 -491.28995159977916\n",
      "Overwriting existing science frames with star position values: reducedsci_032.fits\n",
      "58.0 -512.0\n",
      "Overwriting existing science frames with star position values: reducedsci_033.fits\n",
      "87.92199381381135 -493.2853115612483\n",
      "Overwriting existing science frames with star position values: reducedsci_034.fits\n",
      "63.27959656712687 -463.0267036723198\n",
      "Overwriting existing science frames with star position values: reducedsci_035.fits\n",
      "33.75113409207745 -416.3729451911332\n",
      "Overwriting existing science frames with star position values: reducedsci_036.fits\n",
      "-244.81114472265511 -324.86559551891213\n",
      "Overwriting existing science frames with star position values: reducedsci_037.fits\n",
      "-274.70570510694586 -290.596479462885\n",
      "Overwriting existing science frames with star position values: reducedsci_038.fits\n",
      "-304.9248385702431 -249.17172557655874\n",
      "Overwriting existing science frames with star position values: reducedsci_039.fits\n",
      "-268.4924114555439 -218.0327268778596\n",
      "Overwriting existing science frames with star position values: reducedsci_040.fits\n",
      "-239.91835713459744 -247.05121724923004\n",
      "Overwriting existing science frames with star position values: reducedsci_041.fits\n",
      "-210.04891888574002 -290.3570769749892\n",
      "Overwriting existing science frames with star position values: reducedsci_042.fits\n",
      "-172.0473108842229 -261.725163945181\n",
      "Overwriting existing science frames with star position values: reducedsci_043.fits\n",
      "-204.70344827914806 -216.09355806679764\n",
      "Overwriting existing science frames with star position values: reducedsci_044.fits\n",
      "-230.34960434931725 -178.56272376692942\n",
      "Overwriting existing science frames with star position values: reducedsci_045.fits\n",
      "2212 2213\n",
      "Shifting image 0 of 46...\n",
      "Shifting image 1 of 46...\n",
      "Shifting image 2 of 46...\n",
      "Shifting image 3 of 46...\n",
      "Shifting image 4 of 46...\n",
      "Shifting image 5 of 46...\n",
      "Shifting image 6 of 46...\n",
      "Shifting image 7 of 46...\n",
      "Shifting image 8 of 46...\n",
      "Shifting image 9 of 46...\n",
      "Shifting image 10 of 46...\n",
      "Shifting image 11 of 46...\n"
     ]
    },
    {
     "name": "stdout",
     "output_type": "stream",
     "text": [
      "Shifting image 12 of 46...\n",
      "Shifting image 13 of 46...\n",
      "Shifting image 14 of 46...\n",
      "Shifting image 15 of 46...\n",
      "Shifting image 16 of 46...\n",
      "Shifting image 17 of 46...\n",
      "Shifting image 18 of 46...\n",
      "Shifting image 19 of 46...\n",
      "Shifting image 20 of 46...\n",
      "Shifting image 21 of 46...\n",
      "Shifting image 22 of 46...\n",
      "Shifting image 23 of 46...\n",
      "Shifting image 24 of 46...\n",
      "Shifting image 25 of 46...\n",
      "Shifting image 26 of 46...\n",
      "Shifting image 27 of 46...\n",
      "Shifting image 28 of 46...\n",
      "Shifting image 29 of 46...\n",
      "Shifting image 30 of 46...\n",
      "Shifting image 31 of 46...\n",
      "Shifting image 32 of 46...\n",
      "Shifting image 33 of 46...\n",
      "Shifting image 34 of 46...\n",
      "Shifting image 35 of 46...\n",
      "Shifting image 36 of 46...\n",
      "Shifting image 37 of 46...\n",
      "Shifting image 38 of 46...\n",
      "Shifting image 39 of 46...\n",
      "Shifting image 40 of 46...\n",
      "Shifting image 41 of 46...\n",
      "Shifting image 42 of 46...\n",
      "Shifting image 43 of 46...\n",
      "Shifting image 44 of 46...\n",
      "Shifting image 45 of 46...\n",
      "% Compiled module: MRDFITS.\n",
      "% Compiled module: FXPOSIT.\n",
      "% Compiled module: MRD_HREAD.\n",
      "% Compiled module: FXPAR.\n",
      "% Compiled module: GETTOK.\n",
      "% Compiled module: VALID_NUM.\n",
      "% Compiled module: MRD_SKIP.\n",
      "% Compiled module: MWRFITS.\n",
      "% Compiled module: FXADDPAR.\n",
      "% Compiled module: SXDELPAR.\n",
      "Completed reduction of 46 images in 1.476691448688507 minutes.\n"
     ]
    }
   ],
   "source": [
    "#Running all the above reduction steps in one go\n",
    "reduce_raw_sci(path_to_raw_sci, path_to_raw_darks, path_to_raw_flats, objname, flattype, saturated, alignflag, ref_imagex, ref_imagey, imsize = 1024)"
   ]
  },
  {
   "cell_type": "code",
   "execution_count": null,
   "metadata": {},
   "outputs": [],
   "source": []
  }
 ],
 "metadata": {
  "kernelspec": {
   "display_name": "Python 3",
   "language": "python",
   "name": "python3"
  },
  "language_info": {
   "codemirror_mode": {
    "name": "ipython",
    "version": 3
   },
   "file_extension": ".py",
   "mimetype": "text/x-python",
   "name": "python",
   "nbconvert_exporter": "python",
   "pygments_lexer": "ipython3",
   "version": "3.7.1"
  }
 },
 "nbformat": 4,
 "nbformat_minor": 2
}
