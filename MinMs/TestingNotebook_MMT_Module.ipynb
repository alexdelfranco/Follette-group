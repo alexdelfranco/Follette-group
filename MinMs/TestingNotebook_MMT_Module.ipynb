{
 "cells": [
  {
   "cell_type": "code",
   "execution_count": 1,
   "metadata": {},
   "outputs": [],
   "source": [
    "from MMT_reduce_module import *"
   ]
  },
  {
   "cell_type": "markdown",
   "metadata": {},
   "source": [
    "## MMT_reduce_module Testing\n",
    "\n",
    "#### The purpose of this notebook is to test functions in the MMT module one-by-one and examine the outputs at each step.\n",
    "\n",
    "Major to-do items (April 4, 2019): \n",
    "\n",
    "* Fix saturated data!\n",
    "    * Examine how sky frames are being made \n",
    "    * Examine how sky subtraction is being performed on science data\n",
    "    * Determine best practice of aligning saturated frames\n",
    "    \n",
    "    \n",
    "* Determine how flatfield generation is being done and improve if need be\n",
    "    * Debug negative dark frames/negative flat frame issues?"
   ]
  },
  {
   "cell_type": "markdown",
   "metadata": {},
   "source": [
    "### Set up paths to raw data and definitions"
   ]
  },
  {
   "cell_type": "code",
   "execution_count": null,
   "metadata": {},
   "outputs": [],
   "source": [
    "path_to_raw_sci =\n",
    "path_to_raw_darks = \n",
    "path_to_raw_flats =\n",
    "objname =\n",
    "flattype =\n",
    "saturated = \n",
    "alignflag = "
   ]
  },
  {
   "cell_type": "markdown",
   "metadata": {},
   "source": [
    "## The following cells are each of the steps of the reduce_raw_sci function"
   ]
  },
  {
   "cell_type": "code",
   "execution_count": null,
   "metadata": {},
   "outputs": [],
   "source": [
    "# Make list of science frames and check exposure time \n",
    "scilist = glob.glob(path_to_raw_sci + 'im*.fits')\n",
    "\n",
    "print(f\"Number of science frames found: {len(scilist)} \\n\")\n"
   ]
  },
  {
   "cell_type": "code",
   "execution_count": null,
   "metadata": {},
   "outputs": [],
   "source": [
    "scitimes = [fits.getheader(im, ignore_missing_end = True)['EXPTIME'] for im in scilist]\n",
    "\n",
    "# check if all of the exposure times in the current directory are the same:\n",
    "if all(x == scitimes[0] for x in scitimes):\n",
    "    print(\"Science frame exposure time: \" + str(scitimes[0]) + \"\\n\")\n",
    "else:\n",
    "    raise Exception(\"Exposure times for given list of files do not match. \\\n",
    "    You may need to make/define separate subfolders for different exptimes.\")\n",
    "\n",
    "sci_exptime = scitimes[0]       \n",
    "\n",
    "n = len(scilist)\n",
    "\n",
    "# get header from science frames to work with\n",
    "sciheader = fits.getheader(scilist[0])\n"
   ]
  },
  {
   "cell_type": "code",
   "execution_count": null,
   "metadata": {},
   "outputs": [],
   "source": [
    "# check for datacubes\n",
    "if len(fits.getdata(scilist[0]).shape) == 3: # check for data cubes of science frames\n",
    "    sciarray = np.zeros([imsize,imsize,n*fits.getdata(scilist[0]).shape[0]])\n",
    "else:\n",
    "    sciarray = np.zeros([imsize,imsize,n])\n",
    "\n",
    "if len(fits.getdata(scilist[0]).shape) == 3: # check for data cubes of science frames    \n",
    "    totalframes = n*fits.getdata(scilist[0]).shape[0]\n",
    "else:\n",
    "    totalframes = n\n",
    "\n"
   ]
  },
  {
   "cell_type": "code",
   "execution_count": null,
   "metadata": {},
   "outputs": [],
   "source": [
    "# in case data were rotated during observing sequence, set up empty array of rotation angles\n",
    "angle = np.zeros(totalframes)\n",
    "\n",
    "im_index = 0\n",
    "\n",
    "for ii in range(0, n):\n",
    "    im = fits.getdata(scilist[ii], ignore_missing_end=True)\n",
    "    header = fits.getheader(scilist[ii],ignore_missing_end=True)\n",
    "    if len(im.shape) == 3: # check for data cubes of science frames\n",
    "        assert not np.any(np.isnan(im))\n",
    "        for jj in range(0, im.shape[0]):\n",
    "            sciarray[:,:,im_index] = im[jj,:,:]\n",
    "            angle[im_index] = (header['PA'] - header['ROT']) * (np.pi/180.0)\n",
    "            im_index += 1\n",
    "    else: \n",
    "        sciarray[:,:,ii] = im  \n",
    "        angle[ii] = (header['PA'] - header['ROT']) * (np.pi/180.0)\n",
    "    header = fits.getheader(scilist[ii], ignore_missing_end=True)\n",
    "\n",
    "\n",
    "\n"
   ]
  },
  {
   "cell_type": "code",
   "execution_count": null,
   "metadata": {},
   "outputs": [],
   "source": [
    "\n",
    "print(\"Creating and applying master darks and flats...\\n\")    \n",
    "\n",
    "# create master dark matching science exposure times\n",
    "med_dark = dark_combine(path_to_raw_darks, sci_exptime, imsize, objname) \n"
   ]
  },
  {
   "cell_type": "code",
   "execution_count": null,
   "metadata": {},
   "outputs": [],
   "source": [
    "\n",
    "# subtract off the median dark frame from each of the science frames\n",
    "for ii in range (0, totalframes):\n",
    "    sciarray[:,:,ii] -= med_dark\n"
   ]
  },
  {
   "cell_type": "code",
   "execution_count": null,
   "metadata": {},
   "outputs": [],
   "source": [
    "\n",
    "# create the masterflat \n",
    "med_flat, master_flat, flatheader = process_flats(path_to_raw_flats, path_to_raw_darks, imsize, flattype, objname)\n"
   ]
  },
  {
   "cell_type": "code",
   "execution_count": null,
   "metadata": {},
   "outputs": [],
   "source": [
    "\n",
    "# divide each science frame by the masterflat frame\n",
    "for ii in range(0, totalframes):\n",
    "    sciarray[:,:,ii] /= master_flat\n",
    "\n",
    "\n"
   ]
  },
  {
   "cell_type": "code",
   "execution_count": null,
   "metadata": {},
   "outputs": [],
   "source": [
    "\n",
    "print(\"Creating bad pixel map and correcting for bad pixels and cosmic rays. \\n\",\n",
    "     \"This may take a moment... \\n\") \n",
    "\n",
    "# create bad pixel map\n",
    "badflat = badpixelmap(med_flat, objname, flatheader)    \n",
    "\n",
    "# correct the bad pixels and cosmic rays\n",
    "reduced_sciarray = correct_bad_pixels(sciarray, badflat)\n",
    "\n",
    "# some housekeeping to free memory later\n",
    "del sciarray\n",
    "\n",
    "print(\"Creating master sky from science frames...\\n\") \n",
    "\n",
    "# create median sky from stack of science images\n",
    "sky_output = create_sky_frames(reduced_sciarray, sciheader, objname, angle)\n",
    "\n",
    "# apply sky subtraction to each science image \n",
    "skysub_science_array, rot_flag = sky_subtract(reduced_sciarray, sky_output, angle)\n",
    "\n",
    "# initialize blank list to hold all of the reduced science image names\n",
    "scinames_list = []\n",
    "\n",
    "t0=time.time()\n",
    "for ii in range(0, totalframes):\n",
    "    print(f\"Saving reduced frame #{ii}\")\n",
    "    sciname = 'reducedsci_00' + str(ii) + '.fits'\n",
    "    if ii >= 10:\n",
    "        sciname = 'reducedsci_0' + str(ii) + '.fits'\n",
    "    if ii >= 100:\n",
    "        sciname = 'reducedsci_' + str(ii) + '.fits'\n",
    "    fits.writeto(sciname, skysub_science_array[:,:,ii], sciheader, overwrite = True, output_verify='silentfix')\n",
    "    scinames_list.append(sciname)\n",
    "t1=time.time()\n",
    "\n",
    "# get current directory where reduced frames are written\n",
    "current_dir = os.getcwd()\n",
    "\n",
    "# measure star positions in all of the images\n",
    "xcen, ycen = measure_star_centers(skysub_science_array, scinames_list, sciheader, saturated, alignflag, current_dir, saveframes = True)\n",
    "\n",
    "# final step (!) - shift and combine all of the images.\n",
    "rotate_shift_align(xcen, ycen, angle, skysub_science_array, objname, sciheader, current_dir, imsize=1024)\n",
    "\n",
    "t1 = time.time()\n",
    "timetaken = (t1-t0)/60.\n",
    "print(f\"Completed reduction of {totalframes} images in {timetaken} minutes.\")\n",
    "return"
   ]
  },
  {
   "cell_type": "code",
   "execution_count": null,
   "metadata": {},
   "outputs": [],
   "source": [
    "\n",
    "reduce_raw_sci(path_to_raw_sci, path_to_raw_darks, path_to_raw_flats, objname, flattype, saturated, alignflag, imsize = 1024)"
   ]
  }
 ],
 "metadata": {
  "kernelspec": {
   "display_name": "Python 3",
   "language": "python",
   "name": "python3"
  },
  "language_info": {
   "codemirror_mode": {
    "name": "ipython",
    "version": 3
   },
   "file_extension": ".py",
   "mimetype": "text/x-python",
   "name": "python",
   "nbconvert_exporter": "python",
   "pygments_lexer": "ipython3",
   "version": "3.7.2"
  }
 },
 "nbformat": 4,
 "nbformat_minor": 2
}
