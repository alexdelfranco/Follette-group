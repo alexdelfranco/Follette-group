{
 "cells": [
  {
   "cell_type": "code",
   "execution_count": 37,
   "metadata": {},
   "outputs": [],
   "source": [
    "from MMT_reduce_module import *"
   ]
  },
  {
   "cell_type": "markdown",
   "metadata": {},
   "source": [
    "## MMT_reduce_module Testing\n",
    "\n",
    "#### The purpose of this notebook is to test functions in the MMT module one-by-one and examine the outputs at each step.\n",
    "\n",
    "Major to-do items (April 4, 2019): \n",
    "\n",
    "* Fix saturated data!\n",
    "    * Examine how sky frames are being made \n",
    "    * Examine how sky subtraction is being performed on science data\n",
    "    * Determine best practice of aligning saturated frames\n",
    "    \n",
    "    \n",
    "* Determine how flatfield generation is being done and improve if need be\n",
    "    * Debug negative dark frames/negative flat frame issues?"
   ]
  },
  {
   "cell_type": "code",
   "execution_count": 38,
   "metadata": {},
   "outputs": [
    {
     "name": "stdout",
     "output_type": "stream",
     "text": [
      "\u001b[34mCalibrations\u001b[m\u001b[m/                     \u001b[31mTestingNotebook_MMT_Module.ipynb\u001b[m\u001b[m*\n",
      "\u001b[34mHIP_Test\u001b[m\u001b[m/                         \u001b[34m__pycache__\u001b[m\u001b[m/\n"
     ]
    }
   ],
   "source": [
    "ls"
   ]
  },
  {
   "cell_type": "markdown",
   "metadata": {},
   "source": [
    "### Set up paths to raw data and definitions"
   ]
  },
  {
   "cell_type": "code",
   "execution_count": 39,
   "metadata": {},
   "outputs": [],
   "source": [
    "path_to_raw_sci = './HIP_Test/'\n",
    "path_to_raw_darks = './Calibrations/darks/dark_13/30.0/'\n",
    "path_to_raw_flats = './Calibrations/flat/30.0/'\n",
    "objname = 'HIP106811_TEST_30s'\n",
    "flattype = 1\n",
    "saturated = 0\n",
    "alignflag = 0\n",
    "imsize = 1024"
   ]
  },
  {
   "cell_type": "markdown",
   "metadata": {},
   "source": [
    "## The following cells are each of the steps of the reduce_raw_sci function"
   ]
  },
  {
   "cell_type": "code",
   "execution_count": 40,
   "metadata": {},
   "outputs": [
    {
     "name": "stdout",
     "output_type": "stream",
     "text": [
      "Number of science frames found: 4 \n",
      "\n"
     ]
    }
   ],
   "source": [
    "# Make list of science frames and check exposure time \n",
    "scilist = glob.glob(path_to_raw_sci + 'im*.fits')\n",
    "\n",
    "print(f\"Number of science frames found: {len(scilist)} \\n\")\n"
   ]
  },
  {
   "cell_type": "code",
   "execution_count": 41,
   "metadata": {},
   "outputs": [
    {
     "name": "stdout",
     "output_type": "stream",
     "text": [
      "Science frame exposure time: 30.0\n",
      "\n"
     ]
    }
   ],
   "source": [
    "scitimes = [fits.getheader(im, ignore_missing_end = True)['EXPTIME'] for im in scilist]\n",
    "\n",
    "# check if all of the exposure times in the current directory are the same:\n",
    "if all(x == scitimes[0] for x in scitimes):\n",
    "    print(\"Science frame exposure time: \" + str(scitimes[0]) + \"\\n\")\n",
    "else:\n",
    "    raise Exception(\"Exposure times for given list of files do not match. \\\n",
    "    You may need to make/define separate subfolders for different exptimes.\")\n",
    "\n",
    "sci_exptime = scitimes[0]\n",
    "\n",
    "n = len(scilist)\n",
    "\n",
    "\n",
    "# get header from science frames to work with\n",
    "sciheader = fits.getheader(scilist[0])\n"
   ]
  },
  {
   "cell_type": "code",
   "execution_count": 42,
   "metadata": {},
   "outputs": [
    {
     "name": "stdout",
     "output_type": "stream",
     "text": [
      "[[[0. 0. 0. 0.]\n",
      "  [0. 0. 0. 0.]\n",
      "  [0. 0. 0. 0.]\n",
      "  ...\n",
      "  [0. 0. 0. 0.]\n",
      "  [0. 0. 0. 0.]\n",
      "  [0. 0. 0. 0.]]\n",
      "\n",
      " [[0. 0. 0. 0.]\n",
      "  [0. 0. 0. 0.]\n",
      "  [0. 0. 0. 0.]\n",
      "  ...\n",
      "  [0. 0. 0. 0.]\n",
      "  [0. 0. 0. 0.]\n",
      "  [0. 0. 0. 0.]]\n",
      "\n",
      " [[0. 0. 0. 0.]\n",
      "  [0. 0. 0. 0.]\n",
      "  [0. 0. 0. 0.]\n",
      "  ...\n",
      "  [0. 0. 0. 0.]\n",
      "  [0. 0. 0. 0.]\n",
      "  [0. 0. 0. 0.]]\n",
      "\n",
      " ...\n",
      "\n",
      " [[0. 0. 0. 0.]\n",
      "  [0. 0. 0. 0.]\n",
      "  [0. 0. 0. 0.]\n",
      "  ...\n",
      "  [0. 0. 0. 0.]\n",
      "  [0. 0. 0. 0.]\n",
      "  [0. 0. 0. 0.]]\n",
      "\n",
      " [[0. 0. 0. 0.]\n",
      "  [0. 0. 0. 0.]\n",
      "  [0. 0. 0. 0.]\n",
      "  ...\n",
      "  [0. 0. 0. 0.]\n",
      "  [0. 0. 0. 0.]\n",
      "  [0. 0. 0. 0.]]\n",
      "\n",
      " [[0. 0. 0. 0.]\n",
      "  [0. 0. 0. 0.]\n",
      "  [0. 0. 0. 0.]\n",
      "  ...\n",
      "  [0. 0. 0. 0.]\n",
      "  [0. 0. 0. 0.]\n",
      "  [0. 0. 0. 0.]]]\n"
     ]
    }
   ],
   "source": [
    "# check for datacubes\n",
    "if len(fits.getdata(scilist[0]).shape) == 3: # check for data cubes of science frames\n",
    "    sciarray = np.zeros([imsize,imsize,n*fits.getdata(scilist[0]).shape[0]])\n",
    "else:\n",
    "    sciarray = np.zeros([imsize,imsize,n])\n",
    "\n",
    "if len(fits.getdata(scilist[0]).shape) == 3: # check for data cubes of science frames    \n",
    "    totalframes = n*fits.getdata(scilist[0]).shape[0]\n",
    "else:\n",
    "    totalframes = n\n",
    "\n",
    "print(sciarray)"
   ]
  },
  {
   "cell_type": "code",
   "execution_count": 43,
   "metadata": {},
   "outputs": [],
   "source": [
    "# in case data were rotated during observing sequence, set up empty array of rotation angles\n",
    "angle = np.zeros(totalframes)\n",
    "\n",
    "im_index = 0\n",
    "\n",
    "for ii in range(0, n):\n",
    "    \n",
    "    im = fits.getdata(scilist[ii], ignore_missing_end=True)\n",
    "    header = fits.getheader(scilist[ii],ignore_missing_end=True)\n",
    "    \n",
    "    if len(im.shape) == 3: # check for data cubes of science frames\n",
    "        assert not np.any(np.isnan(im))\n",
    "        for jj in range(0, im.shape[0]):\n",
    "            sciarray[:,:,im_index] = im[jj,:,:]\n",
    "            angle[im_index] = (header['PA'] - header['ROT']) * (np.pi/180.0)\n",
    "            im_index += 1\n",
    "    else: \n",
    "        sciarray[:,:,ii] = im  \n",
    "        angle[ii] = (header['PA'] - header['ROT']) * (np.pi/180.0)\n",
    "    header = fits.getheader(scilist[ii], ignore_missing_end=True)\n",
    "\n",
    "\n",
    "\n"
   ]
  },
  {
   "cell_type": "code",
   "execution_count": 44,
   "metadata": {},
   "outputs": [
    {
     "name": "stdout",
     "output_type": "stream",
     "text": [
      "[1.25918801 1.25795522 1.25668215 1.25527345]\n",
      "[[   0 1245 1094 ...  929  918  892]\n",
      " [   0 1064 1032 ...  910  887  956]\n",
      " [   0  889  918 ...  918  973  957]\n",
      " ...\n",
      " [   0 1042 1071 ... 1069 1157 1514]\n",
      " [   0 1023 1074 ... 1075 1303 1915]\n",
      " [   0  905 1053 ... 1219 1574 1904]]\n"
     ]
    }
   ],
   "source": [
    "print(angle)\n",
    "print(im)"
   ]
  },
  {
   "cell_type": "code",
   "execution_count": 45,
   "metadata": {},
   "outputs": [
    {
     "name": "stdout",
     "output_type": "stream",
     "text": [
      "Creating and applying master darks and flats...\n",
      "\n",
      "Found 11 darks with exposure times of 30.0. \n",
      "\n"
     ]
    }
   ],
   "source": [
    "#MASTER_DARK\n",
    "\n",
    "print(\"Creating and applying master darks and flats...\\n\")    \n",
    "\n",
    "# create master dark matching science exposure times\n",
    "med_dark = dark_combine(path_to_raw_darks, sci_exptime, imsize, objname) \n"
   ]
  },
  {
   "cell_type": "code",
   "execution_count": 46,
   "metadata": {},
   "outputs": [],
   "source": [
    "\n",
    "# subtract off the median dark frame from each of the science frames\n",
    "for ii in range (0, totalframes):\n",
    "    sciarray[:,:,ii] -= med_dark\n"
   ]
  },
  {
   "cell_type": "code",
   "execution_count": 47,
   "metadata": {},
   "outputs": [
    {
     "name": "stdout",
     "output_type": "stream",
     "text": [
      "Flatfield exposure time: 30.0\n",
      "\n"
     ]
    }
   ],
   "source": [
    "#MEDIAN_AND_MASTER_FLAT\n",
    "\n",
    "# create the masterflat \n",
    "med_flat, master_flat, flatheader = process_flats(path_to_raw_flats, path_to_raw_darks, imsize, flattype, objname)\n"
   ]
  },
  {
   "cell_type": "code",
   "execution_count": 48,
   "metadata": {},
   "outputs": [],
   "source": [
    "\n",
    "# divide each science frame by the masterflat frame\n",
    "for ii in range(0, totalframes):\n",
    "    sciarray[:,:,ii] /= master_flat\n",
    "\n",
    "\n"
   ]
  },
  {
   "cell_type": "code",
   "execution_count": 49,
   "metadata": {},
   "outputs": [
    {
     "name": "stdout",
     "output_type": "stream",
     "text": [
      "Creating bad pixel map and correcting for bad pixels and cosmic rays. \n",
      " This may take a moment... \n",
      "\n"
     ]
    }
   ],
   "source": [
    "#BAD_PIXEL_MAP\n",
    "\n",
    "print(\"Creating bad pixel map and correcting for bad pixels and cosmic rays. \\n\",\n",
    "     \"This may take a moment... \\n\") \n",
    "\n",
    "# create bad pixel map\n",
    "badflat = badpixelmap(med_flat, objname, flatheader)  "
   ]
  },
  {
   "cell_type": "code",
   "execution_count": 50,
   "metadata": {},
   "outputs": [
    {
     "name": "stdout",
     "output_type": "stream",
     "text": [
      "Correcting image #0\n",
      "Correcting image #1\n",
      "Correcting image #2\n",
      "Correcting image #3\n",
      "[[[1323.97135815 1294.71934927 1296.00802068 1308.26019735]\n",
      "  [1319.27427388 1294.71934927 1300.62678706 1296.02511774]\n",
      "  [1323.97135815 1301.45343254 1308.70944047 1325.5537155 ]\n",
      "  ...\n",
      "  [1333.23233818 1313.96382157 1319.04265741 1316.54756164]\n",
      "  [1333.23233818 1312.46060823 1319.04265741 1314.92846393]\n",
      "  [1333.23233818 1313.20882293 1317.84745848 1312.66154631]]\n",
      "\n",
      " [[1323.97135815 1296.374624   1296.00802068 1301.99076828]\n",
      "  [1319.27427388 1294.71934927 1300.62678706 1296.02511774]\n",
      "  [1323.97135815 1303.86397934 1315.00690546 1312.94662106]\n",
      "  ...\n",
      "  [1332.80895462 1313.20882293 1319.76596393 1322.32655218]\n",
      "  [1332.80895462 1312.46060823 1319.76596393 1322.32655218]\n",
      "  [1332.80895462 1313.20882293 1319.76596393 1322.32655218]]\n",
      "\n",
      " [[1323.97135815 1296.374624   1307.78341014 1301.99076828]\n",
      "  [1321.04914486 1296.374624   1307.78341014 1301.99076828]\n",
      "  [1325.19150878 1315.93589362 1323.61645331 1325.5537155 ]\n",
      "  ...\n",
      "  [1337.97831056 1313.96382157 1318.83138498 1321.02192413]\n",
      "  [1334.31870296 1313.96382157 1319.04265741 1322.32655218]\n",
      "  [1333.23233818 1313.96382157 1317.84745848 1322.32655218]]\n",
      "\n",
      " ...\n",
      "\n",
      " [[1373.77906585 1381.48100152 1364.00652606 1354.24619313]\n",
      "  [1380.93754464 1378.6340625  1364.00652606 1354.24619313]\n",
      "  [1392.26765665 1387.63034371 1387.87798003 1372.87034933]\n",
      "  ...\n",
      "  [1379.00150804 1341.17623157 1332.53045409 1313.07745476]\n",
      "  [1380.73456185 1344.3195844  1340.27347579 1324.08904136]\n",
      "  [1370.86937269 1344.3195844  1340.27347579 1336.06037641]]\n",
      "\n",
      " [[1327.29218539 1258.92825359 1302.78436078 1248.60916954]\n",
      "  [1373.77906585 1376.78481678 1361.35794643 1350.99227679]\n",
      "  [1383.5271919  1381.67950939 1378.2515393  1359.85047734]\n",
      "  ...\n",
      "  [1380.59572229 1357.78493537 1361.04361922 1336.06037641]\n",
      "  [1388.39928821 1368.92274508 1351.30111083 1357.79329187]\n",
      "  [1348.08068028 1338.54237358 1335.67146264 1324.08904136]]\n",
      "\n",
      " [[1327.29218539 1258.92825359 1302.78436078 1248.60916954]\n",
      "  [1380.93754464 1378.6340625  1361.35794643 1350.99227679]\n",
      "  [1383.5271919  1387.63034371 1378.2515393  1359.85047734]\n",
      "  ...\n",
      "  [1348.08068028 1338.54237358 1334.30312616 1313.10688904]\n",
      "  [1358.57576891 1341.17623157 1334.30312616 1313.10688904]\n",
      "  [1380.59572229 1344.3195844  1340.27347579 1324.08904136]]]\n"
     ]
    }
   ],
   "source": [
    "\n",
    "# correct the bad pixels and cosmic rays\n",
    "reduced_sciarray = correct_bad_pixels(sciarray, badflat)\n",
    "\n",
    "\n",
    "# some housekeeping to free memory later\n",
    "#del sciarray\n",
    "print(reduced_sciarray)"
   ]
  },
  {
   "cell_type": "code",
   "execution_count": 51,
   "metadata": {},
   "outputs": [
    {
     "name": "stdout",
     "output_type": "stream",
     "text": [
      "Creating master sky from science frames...\n",
      "\n"
     ]
    },
    {
     "name": "stderr",
     "output_type": "stream",
     "text": [
      "/anaconda3/lib/python3.7/site-packages/numpy/core/fromnumeric.py:2920: RuntimeWarning: Mean of empty slice.\n",
      "  out=out, **kwargs)\n",
      "/anaconda3/lib/python3.7/site-packages/numpy/core/_methods.py:78: RuntimeWarning: invalid value encountered in true_divide\n",
      "  ret, rcount, out=ret, casting='unsafe', subok=False)\n"
     ]
    }
   ],
   "source": [
    "#MASTER_SKY_A_AND_B\n",
    "\n",
    "print(\"Creating master sky from science frames...\\n\") \n",
    "\n",
    "# create median sky from stack of science images\n",
    "sky_output = create_sky_frames(reduced_sciarray, sciheader, objname, angle)"
   ]
  },
  {
   "cell_type": "code",
   "execution_count": 52,
   "metadata": {},
   "outputs": [
    {
     "name": "stderr",
     "output_type": "stream",
     "text": [
      "/anaconda3/lib/python3.7/site-packages/numpy/lib/function_base.py:3250: RuntimeWarning: Invalid value encountered in median\n",
      "  r = func(a, **kwargs)\n"
     ]
    }
   ],
   "source": [
    "# apply sky subtraction to each science image \n",
    "skysub_science_array, rot_flag = sky_subtract(reduced_sciarray, sky_output, angle)"
   ]
  },
  {
   "cell_type": "code",
   "execution_count": 55,
   "metadata": {},
   "outputs": [
    {
     "data": {
      "text/plain": [
       "1"
      ]
     },
     "execution_count": 55,
     "metadata": {},
     "output_type": "execute_result"
    }
   ],
   "source": [
    "rot_flag"
   ]
  },
  {
   "cell_type": "code",
   "execution_count": 56,
   "metadata": {},
   "outputs": [
    {
     "name": "stdout",
     "output_type": "stream",
     "text": [
      "Saving reduced frame #0\n",
      "Saving reduced frame #1\n",
      "Saving reduced frame #2\n",
      "Saving reduced frame #3\n"
     ]
    }
   ],
   "source": [
    "#INDIVIDUAL_REDUCED_SCI_IMAGES\n",
    "\n",
    "# initialize blank list to hold all of the reduced science image names\n",
    "scinames_list = []\n",
    "\n",
    "t0=time.time()\n",
    "for ii in range(0, totalframes):\n",
    "    print(f\"Saving reduced frame #{ii}\")\n",
    "    sciname = 'reducedsci_00' + str(ii) + '.fits'\n",
    "    if ii >= 10:\n",
    "        sciname = 'reducedsci_0' + str(ii) + '.fits'\n",
    "    if ii >= 100:\n",
    "        sciname = 'reducedsci_' + str(ii) + '.fits'\n",
    "    fits.writeto(sciname, skysub_science_array[:,:,ii], sciheader, overwrite = True, output_verify='silentfix')\n",
    "    scinames_list.append(sciname)\n",
    "t1=time.time()"
   ]
  },
  {
   "cell_type": "code",
   "execution_count": 57,
   "metadata": {},
   "outputs": [
    {
     "name": "stdout",
     "output_type": "stream",
     "text": [
      "% Compiled module: MRDFITS.\n",
      "% Compiled module: FXPOSIT.\n",
      "% Compiled module: MRD_HREAD.\n",
      "% Compiled module: FXPAR.\n",
      "% Compiled module: GETTOK.\n",
      "% Compiled module: VALID_NUM.\n",
      "% Compiled module: MRD_SKIP.\n",
      "% Compiled module: ARRAY_INDICES.\n",
      "% Compiled module: GCNTRD.\n",
      "% GCNTRD: Position 20 20 is too far from initial guess\n",
      "Overwriting existing science frames with star position values: reducedsci_000.fits\n",
      "% GCNTRD: Position 20 20 is too far from initial guess\n",
      "Overwriting existing science frames with star position values: reducedsci_001.fits\n",
      "% GCNTRD: Position 20 20 cannot be fit by a Gaussian\n",
      "Overwriting existing science frames with star position values: reducedsci_002.fits\n",
      "Overwriting existing science frames with star position values: reducedsci_003.fits\n"
     ]
    }
   ],
   "source": [
    "# get current directory where reduced frames are written\n",
    "current_dir = os.getcwd()\n",
    "\n",
    "# measure star positions in all of the images\n",
    "xcen, ycen = measure_star_centers(skysub_science_array, scinames_list, sciheader, saturated, alignflag, current_dir, saveframes = True)"
   ]
  },
  {
   "cell_type": "code",
   "execution_count": 59,
   "metadata": {},
   "outputs": [
    {
     "name": "stdout",
     "output_type": "stream",
     "text": [
      "xcen: [698.38623047 716.23120117 707.         721.27734375] ycen: [220.         228.         205.         231.40031433]\n"
     ]
    }
   ],
   "source": [
    "print('xcen:', xcen, 'ycen:', ycen)"
   ]
  },
  {
   "cell_type": "code",
   "execution_count": 60,
   "metadata": {},
   "outputs": [
    {
     "name": "stdout",
     "output_type": "stream",
     "text": [
      "1312 1314\n",
      "Shifting image 0 of 4...\n",
      "Shifting image 1 of 4...\n",
      "Shifting image 2 of 4...\n",
      "Shifting image 3 of 4...\n",
      "% Compiled module: MRDFITS.\n",
      "% Compiled module: FXPOSIT.\n",
      "% Compiled module: MRD_HREAD.\n",
      "% Compiled module: FXPAR.\n",
      "% Compiled module: GETTOK.\n",
      "% Compiled module: VALID_NUM.\n",
      "% Compiled module: MRD_SKIP.\n",
      "% Compiled module: MWRFITS.\n",
      "% Compiled module: FXADDPAR.\n",
      "% Compiled module: SXDELPAR.\n",
      "Completed reduction of 4 images in 3.2855504512786866 minutes.\n"
     ]
    },
    {
     "ename": "SyntaxError",
     "evalue": "'return' outside function (<ipython-input-60-ee5f5ef0df0c>, line 7)",
     "output_type": "error",
     "traceback": [
      "\u001b[0;36m  File \u001b[0;32m\"<ipython-input-60-ee5f5ef0df0c>\"\u001b[0;36m, line \u001b[0;32m7\u001b[0m\n\u001b[0;31m    return\u001b[0m\n\u001b[0m          ^\u001b[0m\n\u001b[0;31mSyntaxError\u001b[0m\u001b[0;31m:\u001b[0m 'return' outside function\n"
     ]
    }
   ],
   "source": [
    "#SHIFTED_IMAGES\n",
    "#STACKED\n",
    "#FINAL\n",
    "\n",
    "# final step (!) - shift and combine all of the images.\n",
    "rotate_shift_align(xcen, ycen, angle, skysub_science_array, objname, sciheader, current_dir, imsize=1024)\n",
    "\n",
    "t1 = time.time()\n",
    "timetaken = (t1-t0)/60.\n",
    "print(f\"Completed reduction of {totalframes} images in {timetaken} minutes.\")\n",
    "return"
   ]
  },
  {
   "cell_type": "code",
   "execution_count": null,
   "metadata": {},
   "outputs": [],
   "source": [
    "\n",
    "reduce_raw_sci(path_to_raw_sci, path_to_raw_darks, path_to_raw_flats, objname, flattype, saturated, alignflag, imsize = 1024)"
   ]
  }
 ],
 "metadata": {
  "kernelspec": {
   "display_name": "Python 3",
   "language": "python",
   "name": "python3"
  },
  "language_info": {
   "codemirror_mode": {
    "name": "ipython",
    "version": 3
   },
   "file_extension": ".py",
   "mimetype": "text/x-python",
   "name": "python",
   "nbconvert_exporter": "python",
   "pygments_lexer": "ipython3",
   "version": "3.7.1"
  }
 },
 "nbformat": 4,
 "nbformat_minor": 2
}
