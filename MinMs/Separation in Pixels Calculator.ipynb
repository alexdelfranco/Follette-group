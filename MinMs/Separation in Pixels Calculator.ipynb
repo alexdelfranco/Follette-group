{
 "cells": [
  {
   "cell_type": "code",
   "execution_count": 1,
   "metadata": {},
   "outputs": [],
   "source": [
    "import numpy as np\n",
    "import datetime"
   ]
  },
  {
   "cell_type": "code",
   "execution_count": 2,
   "metadata": {},
   "outputs": [
    {
     "name": "stdout",
     "output_type": "stream",
     "text": [
      "30672000.0\n"
     ]
    }
   ],
   "source": [
    "##Seconds Between Dates Calculation-Needed for Function    \n",
    "future_date = datetime.datetime(2017, 2, 16)\n",
    "past_date = datetime.datetime(2016, 2, 27)\n",
    "\n",
    "difference = (future_date - past_date)\n",
    "\n",
    "total_seconds = difference.total_seconds()\n",
    "print(total_seconds)"
   ]
  },
  {
   "cell_type": "code",
   "execution_count": 3,
   "metadata": {},
   "outputs": [],
   "source": [
    "##Plate scale .04 arcseconds per pixel\n",
    "\n",
    "def Conversion(Seconds, pmRA, pmDE):\n",
    "    \n",
    "    total_years = Seconds / 31536000\n",
    "\n",
    "    motion = (pmRA * pmRA)+(pmDE * pmDE)\n",
    "    motion = np.sqrt(motion)\n",
    "##Pythagorean theorum total proper motion\n",
    "    motion = motion / 1000\n",
    "##From milliarcseconds to arcseconds\n",
    "    pixels = motion * 25\n",
    "##From arcseconds to pixels based on plate scale factor .04(Pixel movement in one year)\n",
    "    pixels = pixels * total_years\n",
    "    \n",
    "    pixels = str(pixels)\n",
    "    \n",
    "    if pmRA > 0:\n",
    "        NS = \"North\"\n",
    "    else:\n",
    "        NS = \"South\"\n",
    "            \n",
    "    if pmDE > 0:\n",
    "        EW = \"east\"\n",
    "    else: \n",
    "        EW = \"west\"\n",
    "            \n",
    "    print(pixels + \" Pixels \" + NS + EW)"
   ]
  },
  {
   "cell_type": "code",
   "execution_count": 4,
   "metadata": {},
   "outputs": [
    {
     "name": "stdout",
     "output_type": "stream",
     "text": [
      "15.883621914887986 Pixels Northwest\n"
     ]
    }
   ],
   "source": [
    "#Input number of seconds, Proper motion in Right Ascension, and Proper motion in Declination\n",
    "Conversion(30672000 , 223, -614)"
   ]
  },
  {
   "cell_type": "code",
   "execution_count": null,
   "metadata": {},
   "outputs": [],
   "source": []
  }
 ],
 "metadata": {
  "kernelspec": {
   "display_name": "Python 3",
   "language": "python",
   "name": "python3"
  },
  "language_info": {
   "codemirror_mode": {
    "name": "ipython",
    "version": 3
   },
   "file_extension": ".py",
   "mimetype": "text/x-python",
   "name": "python",
   "nbconvert_exporter": "python",
   "pygments_lexer": "ipython3",
   "version": "3.7.4"
  }
 },
 "nbformat": 4,
 "nbformat_minor": 2
}
