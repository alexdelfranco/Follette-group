{
 "cells": [
  {
   "cell_type": "code",
   "execution_count": null,
   "metadata": {},
   "outputs": [],
   "source": [
    "# python 2/3 compatibility\n",
    "from __future__ import print_function\n",
    "\n",
    "# numerical python\n",
    "import numpy as np\n",
    "\n",
    "# file management tools\n",
    "import glob\n",
    "import os\n",
    "\n",
    "# good module for timing tests\n",
    "import time\n",
    "\n",
    "# plotting stuff\n",
    "import matplotlib.pyplot as plt\n",
    "import matplotlib.cm as cm\n",
    "%matplotlib inline\n",
    "\n",
    "# ability to read/write fits files\n",
    "from astropy.io import fits\n",
    "\n",
    "# fancy image combination technique\n",
    "from astropy.stats import sigma_clipping\n",
    "\n",
    "# median absolute deviation: for photometry\n",
    "from astropy.stats import mad_std\n",
    "\n",
    "# photometric utilities\n",
    "from photutils import DAOStarFinder,aperture_photometry, CircularAperture, CircularAnnulus"
   ]
  },
  {
   "cell_type": "code",
   "execution_count": null,
   "metadata": {
    "collapsed": true
   },
   "outputs": [],
   "source": [
    "# make the definitions for reading in images accessible in this notebook.\n",
    "from HDI_io import *\n",
    "# load up shifting methods\n",
    "from shift_methods import *"
   ]
  },
  {
   "cell_type": "markdown",
   "metadata": {},
   "source": [
    "## Define the working directory, reference image, list of images to shift"
   ]
  },
  {
   "cell_type": "code",
   "execution_count": null,
   "metadata": {},
   "outputs": [],
   "source": [
    "datadir = '/Volumes/Passport4TB/MinMs_Data_Testing/HIP12097_MMT_20161012/30.0/reduced/'\n",
    "\n",
    "ref_image = '/Volumes/Passport4TB/MinMs_Data_Testing/HIP12097_MMT_20161012/30.0/reduced/HIP12097_30s-2016-10-12-MMT-022.fits'\n",
    "\n",
    "im_list = glob.glob(datadir + '*.fits')"
   ]
  },
  {
   "cell_type": "markdown",
   "metadata": {},
   "source": [
    "## Image shifting - be sure that HIP images are in their own \"reduced\" directory"
   ]
  },
  {
   "cell_type": "code",
   "execution_count": null,
   "metadata": {
    "collapsed": true
   },
   "outputs": [],
   "source": [
    "def im_shift(datadir, ref_image, im_list, sig_clip = False, verbose = False):\n",
    "    \"\"\"\n",
    "    docstring in progress\n",
    "    \"\"\"\n",
    "    # Check for a shifted directory in current path:\n",
    "    if os.path.exists(datadir+'shifted'):\n",
    "        pass\n",
    "    else:\n",
    "        os.mkdir(datadir+'shifted')\n",
    "        print('Creating new directory for shifted images in ' + datadir+'shifted')\n",
    "    \n",
    "    # get the master reference image\n",
    "    ref = fits.getdata(ref_image)\n",
    "    ref[np.isnan(ref)] = np.nanmedian(ref)\n",
    "    \n",
    "    n_ims = len(im_list)\n",
    "    \n",
    "    for image in im_list:\n",
    "        im, hdr = fits.getdata(image, header=True)\n",
    "        im[np.isnan(im)] = np.nanmedian(im)\n",
    "        print(np.nanmedian(im))\n",
    "        shortname = image.split('/')[-1]\n",
    "        xshift, yshift = cross_image(ref, im, boxsize=10000)\n",
    "        if verbose: print('X-shift, Y-shift for ', shortname, ': ', np.round(xshift,4), np.round(yshift, 4))\n",
    "        output_im = shift_image(im, xshift, yshift)\n",
    "        hdr['ALIGNED'] = ref_image\n",
    "        fits.writeto(datadir + 'shifted/' 's_' + shortname, output_im, hdr, overwrite=True)\n",
    "        if verbose: print('Writing new shifted image: ' + 's_' + shortname)\n",
    "    return        "
   ]
  },
  {
   "cell_type": "markdown",
   "metadata": {},
   "source": [
    "## Some testing first"
   ]
  },
  {
   "cell_type": "code",
   "execution_count": null,
   "metadata": {},
   "outputs": [],
   "source": [
    "ref = fits.getdata(ref_image)"
   ]
  },
  {
   "cell_type": "code",
   "execution_count": null,
   "metadata": {},
   "outputs": [],
   "source": [
    "im = fits.getdata(im_list[0])"
   ]
  },
  {
   "cell_type": "code",
   "execution_count": null,
   "metadata": {},
   "outputs": [],
   "source": [
    "newim = im\n",
    "newim[np.isnan(newim)] = np.nanmedian(im)\n",
    "ref[np.isnan(ref)] = np.nanmedian(ref)"
   ]
  },
  {
   "cell_type": "code",
   "execution_count": null,
   "metadata": {},
   "outputs": [],
   "source": [
    "plt.imshow(ref)"
   ]
  },
  {
   "cell_type": "code",
   "execution_count": null,
   "metadata": {},
   "outputs": [],
   "source": [
    "plt.imshow(newim)"
   ]
  },
  {
   "cell_type": "code",
   "execution_count": null,
   "metadata": {},
   "outputs": [],
   "source": [
    "xshift, yshift = cross_image(ref,newim, boxsize=2000)\n",
    "xshift, yshift"
   ]
  },
  {
   "cell_type": "code",
   "execution_count": null,
   "metadata": {},
   "outputs": [],
   "source": [
    "output_im = shift_image(im, xshift, yshift)"
   ]
  },
  {
   "cell_type": "code",
   "execution_count": null,
   "metadata": {},
   "outputs": [],
   "source": [
    "plt.imshow(output_im) "
   ]
  },
  {
   "cell_type": "markdown",
   "metadata": {},
   "source": [
    "## Run on the full list"
   ]
  },
  {
   "cell_type": "code",
   "execution_count": null,
   "metadata": {},
   "outputs": [],
   "source": [
    "im_shift(datadir, ref_image, im_list, 5.0, verbose=True)"
   ]
  },
  {
   "cell_type": "code",
   "execution_count": null,
   "metadata": {},
   "outputs": [],
   "source": [
    "shift_list = glob.glob('/Volumes/Passport4TB/MinMs_Data_Testing/HIP12097_MMT_20161012/30.0/reduced/shifted/*fits')"
   ]
  },
  {
   "cell_type": "code",
   "execution_count": null,
   "metadata": {},
   "outputs": [],
   "source": [
    "arr = np.zeros([ref.shape[0], ref.shape[1], len(shift_list)])\n",
    "arr.shape\n",
    "for idx,im in enumerate(shift_list):\n",
    "    arr[:,:,idx] = fits.getdata(im)"
   ]
  },
  {
   "cell_type": "code",
   "execution_count": null,
   "metadata": {},
   "outputs": [],
   "source": [
    "!open ."
   ]
  },
  {
   "cell_type": "code",
   "execution_count": null,
   "metadata": {},
   "outputs": [],
   "source": [
    "final = np.median(arr, axis=2)\n",
    "plt.imshow(final)\n",
    "fits.writeto(\"test.fits\", final)"
   ]
  },
  {
   "cell_type": "markdown",
   "metadata": {},
   "source": [
    "## scratch space below"
   ]
  },
  {
   "cell_type": "code",
   "execution_count": null,
   "metadata": {
    "collapsed": true
   },
   "outputs": [],
   "source": []
  }
 ],
 "metadata": {
  "kernelspec": {
   "display_name": "Python 3",
   "language": "python",
   "name": "python3"
  },
  "language_info": {
   "codemirror_mode": {
    "name": "ipython",
    "version": 3
   },
   "file_extension": ".py",
   "mimetype": "text/x-python",
   "name": "python",
   "nbconvert_exporter": "python",
   "pygments_lexer": "ipython3",
   "version": "3.7.2"
  }
 },
 "nbformat": 4,
 "nbformat_minor": 2
}
