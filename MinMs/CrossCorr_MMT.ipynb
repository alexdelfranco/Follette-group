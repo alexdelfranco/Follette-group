{
 "cells": [
  {
   "cell_type": "code",
   "execution_count": 63,
   "metadata": {},
   "outputs": [],
   "source": [
    "# python 2/3 compatibility\n",
    "from __future__ import print_function\n",
    "\n",
    "# numerical python\n",
    "import numpy as np\n",
    "\n",
    "# file management tools\n",
    "import glob\n",
    "import os\n",
    "\n",
    "# good module for timing tests\n",
    "import time\n",
    "\n",
    "# plotting stuff\n",
    "import matplotlib.pyplot as plt\n",
    "import matplotlib.cm as cm\n",
    "%matplotlib inline\n",
    "\n",
    "# ability to read/write fits files\n",
    "from astropy.io import fits\n",
    "\n",
    "# fancy image combination technique\n",
    "from astropy.stats import sigma_clipping\n",
    "\n",
    "# median absolute deviation: for photometry\n",
    "from astropy.stats import mad_std\n",
    "\n",
    "# photometric utilities\n",
    "from photutils import DAOStarFinder,aperture_photometry, CircularAperture, CircularAnnulus"
   ]
  },
  {
   "cell_type": "code",
   "execution_count": 64,
   "metadata": {
    "collapsed": true
   },
   "outputs": [],
   "source": [
    "# make the definitions for reading in images accessible in this notebook.\n",
    "from HDI_io import *\n",
    "# load up shifting methods\n",
    "from shift_methods import *"
   ]
  },
  {
   "cell_type": "markdown",
   "metadata": {},
   "source": [
    "## Define the working directory, reference image, list of images to shift"
   ]
  },
  {
   "cell_type": "code",
   "execution_count": 88,
   "metadata": {},
   "outputs": [],
   "source": [
    "datadir = '/Volumes/Passport4TB/MinMs_Data_Testing/HIP12097_MMT_20161012/30.0/reduced/'\n",
    "\n",
    "ref_image = '/Volumes/Passport4TB/MinMs_Data_Testing/HIP12097_MMT_20161012/30.0/reduced/HIP12097_30s-2016-10-12-MMT-022.fits'\n",
    "\n",
    "im_list = glob.glob(datadir + '*.fits')"
   ]
  },
  {
   "cell_type": "markdown",
   "metadata": {},
   "source": [
    "## Image shifting - be sure that HIP images are in their own \"reduced\" directory"
   ]
  },
  {
   "cell_type": "code",
   "execution_count": 89,
   "metadata": {
    "collapsed": true
   },
   "outputs": [],
   "source": [
    "def im_shift(datadir, ref_image, im_list, sig_clip = False, verbose = False):\n",
    "    \"\"\"\n",
    "    docstring in progress\n",
    "    \"\"\"\n",
    "    # Check for a shifted directory in current path:\n",
    "    if os.path.exists(datadir+'shifted'):\n",
    "        pass\n",
    "    else:\n",
    "        os.mkdir(datadir+'shifted')\n",
    "        print('Creating new directory for shifted images in ' + datadir+'shifted')\n",
    "    \n",
    "    # get the master reference image\n",
    "    ref = fits.getdata(ref_image)\n",
    "    ref[np.isnan(ref)] = np.nanmedian(ref)\n",
    "    \n",
    "    n_ims = len(im_list)\n",
    "    \n",
    "    for image in im_list:\n",
    "        im, hdr = fits.getdata(image, header=True)\n",
    "        im[np.isnan(im)] = np.nanmedian(im)\n",
    "        print(np.nanmedian(im))\n",
    "        shortname = image.split('/')[-1]\n",
    "        xshift, yshift = cross_image(ref, im, boxsize=10000)\n",
    "        if verbose: print('X-shift, Y-shift for ', shortname, ': ', np.round(xshift,4), np.round(yshift, 4))\n",
    "        output_im = shift_image(im, xshift, yshift)\n",
    "        hdr['ALIGNED'] = ref_image\n",
    "        fits.writeto(datadir + 'shifted/' 's_' + shortname, output_im, hdr, overwrite=True)\n",
    "        if verbose: print('Writing new shifted image: ' + 's_' + shortname)\n",
    "    return        "
   ]
  },
  {
   "cell_type": "markdown",
   "metadata": {},
   "source": [
    "## Some testing first"
   ]
  },
  {
   "cell_type": "code",
   "execution_count": 90,
   "metadata": {},
   "outputs": [],
   "source": [
    "ref = fits.getdata(ref_image)"
   ]
  },
  {
   "cell_type": "code",
   "execution_count": 91,
   "metadata": {},
   "outputs": [],
   "source": [
    "im = fits.getdata(im_list[0])"
   ]
  },
  {
   "cell_type": "code",
   "execution_count": 92,
   "metadata": {},
   "outputs": [],
   "source": [
    "newim = im\n",
    "newim[np.isnan(newim)] = np.nanmedian(im)\n",
    "ref[np.isnan(ref)] = np.nanmedian(ref)"
   ]
  },
  {
   "cell_type": "code",
   "execution_count": 93,
   "metadata": {},
   "outputs": [
    {
     "data": {
      "text/plain": [
       "<matplotlib.image.AxesImage at 0x1c242ad0b8>"
      ]
     },
     "execution_count": 93,
     "metadata": {},
     "output_type": "execute_result"
    },
    {
     "data": {
      "image/png": "[encoded data removed]",
      "text/plain": [
       "<Figure size 432x288 with 1 Axes>"
      ]
     },
     "metadata": {
      "needs_background": "light"
     },
     "output_type": "display_data"
    }
   ],
   "source": [
    "plt.imshow(ref)"
   ]
  },
  {
   "cell_type": "code",
   "execution_count": 94,
   "metadata": {},
   "outputs": [
    {
     "data": {
      "text/plain": [
       "<matplotlib.image.AxesImage at 0x1c241ab2e8>"
      ]
     },
     "execution_count": 94,
     "metadata": {},
     "output_type": "execute_result"
    },
    {
     "data": {
      "image/png": "[encoded data removed]",
      "text/plain": [
       "<Figure size 432x288 with 1 Axes>"
      ]
     },
     "metadata": {
      "needs_background": "light"
     },
     "output_type": "display_data"
    }
   ],
   "source": [
    "plt.imshow(newim)"
   ]
  },
  {
   "cell_type": "code",
   "execution_count": 95,
   "metadata": {},
   "outputs": [
    {
     "data": {
      "text/plain": [
       "(30.794522187703933, -0.2638748872363976)"
      ]
     },
     "execution_count": 95,
     "metadata": {},
     "output_type": "execute_result"
    }
   ],
   "source": [
    "xshift, yshift = cross_image(ref,newim, boxsize=2000)\n",
    "xshift, yshift"
   ]
  },
  {
   "cell_type": "code",
   "execution_count": 96,
   "metadata": {},
   "outputs": [],
   "source": [
    "output_im = shift_image(im, xshift, yshift)"
   ]
  },
  {
   "cell_type": "code",
   "execution_count": 97,
   "metadata": {},
   "outputs": [
    {
     "data": {
      "text/plain": [
       "<matplotlib.image.AxesImage at 0x1112bfe48>"
      ]
     },
     "execution_count": 97,
     "metadata": {},
     "output_type": "execute_result"
    },
    {
     "data": {
      "image/png": "[encoded data removed]",
      "text/plain": [
       "<Figure size 432x288 with 1 Axes>"
      ]
     },
     "metadata": {
      "needs_background": "light"
     },
     "output_type": "display_data"
    }
   ],
   "source": [
    "plt.imshow(output_im) "
   ]
  },
  {
   "cell_type": "markdown",
   "metadata": {},
   "source": [
    "## Run on the full list"
   ]
  },
  {
   "cell_type": "code",
   "execution_count": 98,
   "metadata": {},
   "outputs": [
    {
     "name": "stdout",
     "output_type": "stream",
     "text": [
      "-1.4531833009384139\n",
      "X-shift, Y-shift for  HIP12097_30s-2016-10-12-MMT-000.fits :  20.7946 -7.7638\n",
      "Writing new shifted image: s_HIP12097_30s-2016-10-12-MMT-000.fits\n",
      "-0.7810341955911195\n",
      "X-shift, Y-shift for  HIP12097_30s-2016-10-12-MMT-001.fits :  20.9158 2.1073\n",
      "Writing new shifted image: s_HIP12097_30s-2016-10-12-MMT-001.fits\n",
      "1.674031363453651\n",
      "X-shift, Y-shift for  HIP12097_30s-2016-10-12-MMT-002.fits :  21.5714 -7.6381\n",
      "Writing new shifted image: s_HIP12097_30s-2016-10-12-MMT-002.fits\n",
      "2.3808052238962736\n",
      "X-shift, Y-shift for  HIP12097_30s-2016-10-12-MMT-003.fits :  21.7843 -7.9814\n",
      "Writing new shifted image: s_HIP12097_30s-2016-10-12-MMT-003.fits\n",
      "2.667445754921705\n",
      "X-shift, Y-shift for  HIP12097_30s-2016-10-12-MMT-004.fits :  21.1082 -8.2854\n",
      "Writing new shifted image: s_HIP12097_30s-2016-10-12-MMT-004.fits\n",
      "-3.819158784202897\n",
      "X-shift, Y-shift for  HIP12097_30s-2016-10-12-MMT-005.fits :  19.7233 -4.7344\n",
      "Writing new shifted image: s_HIP12097_30s-2016-10-12-MMT-005.fits\n",
      "0.7494955072818792\n",
      "X-shift, Y-shift for  HIP12097_30s-2016-10-12-MMT-006.fits :  21.076 -9.1815\n",
      "Writing new shifted image: s_HIP12097_30s-2016-10-12-MMT-006.fits\n",
      "1.1015796145639203\n",
      "X-shift, Y-shift for  HIP12097_30s-2016-10-12-MMT-007.fits :  20.9793 -9.0509\n",
      "Writing new shifted image: s_HIP12097_30s-2016-10-12-MMT-007.fits\n",
      "-1.1080392342872654\n",
      "X-shift, Y-shift for  HIP12097_30s-2016-10-12-MMT-008.fits :  20.9794 -8.7447\n",
      "Writing new shifted image: s_HIP12097_30s-2016-10-12-MMT-008.fits\n",
      "-1.9595147209225163\n",
      "X-shift, Y-shift for  HIP12097_30s-2016-10-12-MMT-009.fits :  1.2251 5.712\n",
      "Writing new shifted image: s_HIP12097_30s-2016-10-12-MMT-009.fits\n",
      "-2.2247931229229114\n",
      "X-shift, Y-shift for  HIP12097_30s-2016-10-12-MMT-010.fits :  0.1448 -9.8393\n",
      "Writing new shifted image: s_HIP12097_30s-2016-10-12-MMT-010.fits\n",
      "-2.1020873850069965\n",
      "X-shift, Y-shift for  HIP12097_30s-2016-10-12-MMT-011.fits :  18.8636 -9.8735\n",
      "Writing new shifted image: s_HIP12097_30s-2016-10-12-MMT-011.fits\n",
      "-2.4147988457862417\n",
      "X-shift, Y-shift for  HIP12097_30s-2016-10-12-MMT-012.fits :  2.4226 4.4158\n",
      "Writing new shifted image: s_HIP12097_30s-2016-10-12-MMT-012.fits\n",
      "-3.5966195795291798\n",
      "X-shift, Y-shift for  HIP12097_30s-2016-10-12-MMT-013.fits :  15.678 -2.5004\n",
      "Writing new shifted image: s_HIP12097_30s-2016-10-12-MMT-013.fits\n",
      "-1.3857526754905534\n",
      "X-shift, Y-shift for  HIP12097_30s-2016-10-12-MMT-014.fits :  20.7433 1.2593\n",
      "Writing new shifted image: s_HIP12097_30s-2016-10-12-MMT-014.fits\n",
      "0.09935979951670036\n",
      "X-shift, Y-shift for  HIP12097_30s-2016-10-12-MMT-015.fits :  19.7257 -9.599\n",
      "Writing new shifted image: s_HIP12097_30s-2016-10-12-MMT-015.fits\n",
      "0.08037358258109864\n",
      "X-shift, Y-shift for  HIP12097_30s-2016-10-12-MMT-016.fits :  13.5014 -1.3085\n",
      "Writing new shifted image: s_HIP12097_30s-2016-10-12-MMT-016.fits\n",
      "0.34997610435381854\n",
      "X-shift, Y-shift for  HIP12097_30s-2016-10-12-MMT-017.fits :  17.6023 -4.4142\n",
      "Writing new shifted image: s_HIP12097_30s-2016-10-12-MMT-017.fits\n",
      "2.405204328938377\n",
      "X-shift, Y-shift for  HIP12097_30s-2016-10-12-MMT-018.fits :  11.9296 -2.4444\n",
      "Writing new shifted image: s_HIP12097_30s-2016-10-12-MMT-018.fits\n",
      "1.8130060926568652\n",
      "X-shift, Y-shift for  HIP12097_30s-2016-10-12-MMT-019.fits :  8.9993 -1.0483\n",
      "Writing new shifted image: s_HIP12097_30s-2016-10-12-MMT-019.fits\n",
      "0.6188217331655314\n",
      "X-shift, Y-shift for  HIP12097_30s-2016-10-12-MMT-020.fits :  19.1475 -10.4572\n",
      "Writing new shifted image: s_HIP12097_30s-2016-10-12-MMT-020.fits\n",
      "1.4444531380403443\n",
      "X-shift, Y-shift for  HIP12097_30s-2016-10-12-MMT-021.fits :  5.8357 -14.2116\n",
      "Writing new shifted image: s_HIP12097_30s-2016-10-12-MMT-021.fits\n",
      "0.31575443886843496\n",
      "X-shift, Y-shift for  HIP12097_30s-2016-10-12-MMT-022.fits :  0.0 -0.5\n",
      "Writing new shifted image: s_HIP12097_30s-2016-10-12-MMT-022.fits\n"
     ]
    }
   ],
   "source": [
    "im_shift(datadir, ref_image, im_list, 5.0, verbose=True)"
   ]
  },
  {
   "cell_type": "code",
   "execution_count": 99,
   "metadata": {},
   "outputs": [],
   "source": [
    "shift_list = glob.glob('/Volumes/Passport4TB/MinMs_Data_Testing/HIP12097_MMT_20161012/30.0/test/shifted/*fits')"
   ]
  },
  {
   "cell_type": "code",
   "execution_count": 100,
   "metadata": {},
   "outputs": [
    {
     "ename": "ValueError",
     "evalue": "could not broadcast input array from shape (1469,1470) into shape (2154,2149)",
     "output_type": "error",
     "traceback": [
      "\u001b[0;31m---------------------------------------------------------------------------\u001b[0m",
      "\u001b[0;31mValueError\u001b[0m                                Traceback (most recent call last)",
      "\u001b[0;32m<ipython-input-100-1286bcb8a07e>\u001b[0m in \u001b[0;36m<module>\u001b[0;34m()\u001b[0m\n\u001b[1;32m      2\u001b[0m \u001b[0marr\u001b[0m\u001b[0;34m.\u001b[0m\u001b[0mshape\u001b[0m\u001b[0;34m\u001b[0m\u001b[0;34m\u001b[0m\u001b[0m\n\u001b[1;32m      3\u001b[0m \u001b[0;32mfor\u001b[0m \u001b[0midx\u001b[0m\u001b[0;34m,\u001b[0m\u001b[0mim\u001b[0m \u001b[0;32min\u001b[0m \u001b[0menumerate\u001b[0m\u001b[0;34m(\u001b[0m\u001b[0mshift_list\u001b[0m\u001b[0;34m)\u001b[0m\u001b[0;34m:\u001b[0m\u001b[0;34m\u001b[0m\u001b[0;34m\u001b[0m\u001b[0m\n\u001b[0;32m----> 4\u001b[0;31m     \u001b[0marr\u001b[0m\u001b[0;34m[\u001b[0m\u001b[0;34m:\u001b[0m\u001b[0;34m,\u001b[0m\u001b[0;34m:\u001b[0m\u001b[0;34m,\u001b[0m\u001b[0midx\u001b[0m\u001b[0;34m]\u001b[0m \u001b[0;34m=\u001b[0m \u001b[0mfits\u001b[0m\u001b[0;34m.\u001b[0m\u001b[0mgetdata\u001b[0m\u001b[0;34m(\u001b[0m\u001b[0mim\u001b[0m\u001b[0;34m)\u001b[0m\u001b[0;34m\u001b[0m\u001b[0;34m\u001b[0m\u001b[0m\n\u001b[0m",
      "\u001b[0;31mValueError\u001b[0m: could not broadcast input array from shape (1469,1470) into shape (2154,2149)"
     ]
    }
   ],
   "source": [
    "arr = np.zeros([ref.shape[0], ref.shape[1], len(shift_list)])\n",
    "arr.shape\n",
    "for idx,im in enumerate(shift_list):\n",
    "    arr[:,:,idx] = fits.getdata(im)"
   ]
  },
  {
   "cell_type": "code",
   "execution_count": 79,
   "metadata": {},
   "outputs": [],
   "source": [
    "!open ."
   ]
  },
  {
   "cell_type": "code",
   "execution_count": 80,
   "metadata": {},
   "outputs": [
    {
     "data": {
      "image/png": "[encoded data removed]",
      "text/plain": [
       "<Figure size 432x288 with 1 Axes>"
      ]
     },
     "metadata": {
      "needs_background": "light"
     },
     "output_type": "display_data"
    }
   ],
   "source": [
    "final = np.median(arr, axis=2)\n",
    "plt.imshow(final)\n",
    "fits.writeto(\"/Volumes/Passport4TB/MinMs_Data_Testing/HIP12097_MMT_20161012/30.0/test/shifted/combo.fits\", final)"
   ]
  },
  {
   "cell_type": "markdown",
   "metadata": {},
   "source": [
    "## scratch space below"
   ]
  },
  {
   "cell_type": "code",
   "execution_count": null,
   "metadata": {
    "collapsed": true
   },
   "outputs": [],
   "source": []
  }
 ],
 "metadata": {
  "kernelspec": {
   "display_name": "Python 3",
   "language": "python",
   "name": "python3"
  },
  "language_info": {
   "codemirror_mode": {
    "name": "ipython",
    "version": 3
   },
   "file_extension": ".py",
   "mimetype": "text/x-python",
   "name": "python",
   "nbconvert_exporter": "python",
   "pygments_lexer": "ipython3",
   "version": "3.7.2"
  }
 },
 "nbformat": 4,
 "nbformat_minor": 2
}
