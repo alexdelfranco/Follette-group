{
 "cells": [
  {
   "cell_type": "code",
   "execution_count": 80,
   "metadata": {},
   "outputs": [],
   "source": [
    "import numpy as np\n",
    "from astropy.io import ascii\n",
    "import matplotlib.pyplot as plt"
   ]
  },
  {
   "cell_type": "code",
   "execution_count": 89,
   "metadata": {},
   "outputs": [],
   "source": [
    "data = ascii.read('40frac_candidates.txt', format='commented_header')\n",
    "prim = ascii.read('companionprimaries.txt', format='commented_header')\n",
    "Nsigma = np.zeros(37)\n",
    "dec = np.zeros(37)\n",
    "plx = np.zeros(37)"
   ]
  },
  {
   "cell_type": "code",
   "execution_count": 90,
   "metadata": {},
   "outputs": [],
   "source": [
    "#428 \n",
    "Nsigma[0] = np.abs((data['pmra'][0] - prim['pmra'][0])/prim['epmra'][0])\n",
    "dec[0] = np.abs((data['pmdec'][0] - prim['pmdec'][0])/prim['epmdec'][0])\n",
    "plx[0] = np.abs((data['parallax'][0] - prim['plx'][0])/prim['eplx'][0])\n",
    "\n"
   ]
  },
  {
   "cell_type": "code",
   "execution_count": 91,
   "metadata": {},
   "outputs": [],
   "source": [
    "#428 \n",
    "Nsigma[1] = np.abs((data['pmra'][1]-prim['pmra'][0])/prim['epmra'][0])\n",
    "dec[1] = np.abs((data['pmdec'][1]-prim['pmdec'][0])/prim['epmdec'][0])\n",
    "plx[1] = np.abs((data['parallax'][1]-prim['plx'][0])/prim['eplx'][0])\n",
    "\n"
   ]
  },
  {
   "cell_type": "code",
   "execution_count": 151,
   "metadata": {},
   "outputs": [],
   "source": [
    "#1475\n",
    "Nsigma[2] = np.abs((data['pmra'][2] - prim['pmra'][1])/prim['epmra'][1])\n",
    "dec[2] = np.abs((data['pmdec'][2] - prim['pmdec'][1])/prim['epmdec'][1])\n",
    "plx[2] = np.abs((data['parallax'][2] - prim['plx'][1])/prim['eplx'][1])\n"
   ]
  },
  {
   "cell_type": "code",
   "execution_count": 93,
   "metadata": {},
   "outputs": [],
   "source": [
    "#2552\n",
    "Nsigma[3] = np.abs((data['pmra'][3] - prim['pmra'][2])/prim['epmra'][2])\n",
    "dec[3] = np.abs((data['pmdec'][3] - prim['pmdec'][2])/prim['epmdec'][2])\n",
    "plx[3] = np.abs((data['parallax'][3] - prim['plx'][2])/prim['eplx'][2])\n",
    "\n"
   ]
  },
  {
   "cell_type": "code",
   "execution_count": 94,
   "metadata": {},
   "outputs": [],
   "source": [
    "#4872\n",
    "Nsigma[4] = np.abs((data['pmra'][4] - prim['pmra'][3])/prim['epmra'][3])\n",
    "dec[4] = np.abs((data['pmdec'][4] - prim['pmdec'][3])/prim['epmdec'][3])\n",
    "plx[4] = np.abs((data['parallax'][4] - prim['plx'][3])/prim['eplx'][3])\n",
    "\n"
   ]
  },
  {
   "cell_type": "code",
   "execution_count": 95,
   "metadata": {},
   "outputs": [],
   "source": [
    "#10617\n",
    "Nsigma[5] = np.abs((data['pmra'][5] - prim['pmra'][4])/prim['epmra'][4])\n",
    "dec[5] = np.abs((data['pmdec'][5] - prim['pmdec'][4])/prim['epmdec'][4])\n",
    "plx[5] = np.abs((data['parallax'][5] - prim['plx'][4])/prim['eplx'][4])\n",
    "\n"
   ]
  },
  {
   "cell_type": "code",
   "execution_count": 96,
   "metadata": {},
   "outputs": [],
   "source": [
    "#15220\n",
    "Nsigma[6] = np.abs((data['pmra'][6] - prim['pmra'][5])/prim['epmra'][5])\n",
    "dec[6] = np.abs((data['pmdec'][6] - prim['pmdec'][5])/prim['epmdec'][5])\n",
    "plx[6] = np.abs((data['parallax'][6] - prim['plx'][5])/prim['eplx'][5])\n",
    "\n"
   ]
  },
  {
   "cell_type": "code",
   "execution_count": 97,
   "metadata": {},
   "outputs": [],
   "source": [
    "#21088\n",
    "Nsigma[7] = np.abs((data['pmra'][7] - prim['pmra'][6])/prim['epmra'][6])\n",
    "dec[7] = np.abs((data['pmdec'][7] - prim['pmdec'][6])/prim['epmdec'][6])\n",
    "plx[7] = np.abs((data['parallax'][7] - prim['plx'][6])/prim['eplx'][6])\n",
    "\n"
   ]
  },
  {
   "cell_type": "code",
   "execution_count": 98,
   "metadata": {},
   "outputs": [],
   "source": [
    "#22738\n",
    "Nsigma[8] = np.abs((data['pmra'][8] - prim['pmra'][7])/prim['epmra'][7])\n",
    "dec[8] = np.abs((data['pmdec'][8] - prim['pmdec'][7])/prim['epmdec'][7])\n",
    "plx[8] = np.abs((data['parallax'][8] - prim['plx'][7])/prim['eplx'][7])\n"
   ]
  },
  {
   "cell_type": "code",
   "execution_count": 99,
   "metadata": {},
   "outputs": [],
   "source": [
    "#23518\n",
    "Nsigma[9] = np.abs((data['pmra'][9] - prim['pmra'][8])/prim['epmra'][8])\n",
    "dec[9] = np.abs((data['pmdec'][9] - prim['pmdec'][8])/prim['epmdec'][8])\n",
    "plx[9] = np.abs((data['parallax'][9] - prim['plx'][8])/prim['eplx'][8])\n"
   ]
  },
  {
   "cell_type": "code",
   "execution_count": 100,
   "metadata": {},
   "outputs": [],
   "source": [
    "#26801\n",
    "Nsigma[10] = np.abs((data['pmra'][10] - prim['pmra'][9])/prim['epmra'][9])\n",
    "dec[10] = np.abs((data['pmdec'][10] - prim['pmdec'][9])/prim['epmdec'][9])\n",
    "plx[10] = np.abs((data['parallax'][10] - prim['plx'][9])/prim['eplx'][9])\n"
   ]
  },
  {
   "cell_type": "code",
   "execution_count": 101,
   "metadata": {},
   "outputs": [],
   "source": [
    "#31292\n",
    "Nsigma[11] = np.abs((data['pmra'][11] - prim['pmra'][10])/prim['epmra'][10])\n",
    "dec[11] = np.abs((data['pmdec'][11] - prim['pmdec'][10])/prim['epmdec'][10])\n",
    "plx[11] = np.abs((data['parallax'][11] - prim['plx'][10])/prim['eplx'][10])\n"
   ]
  },
  {
   "cell_type": "code",
   "execution_count": 102,
   "metadata": {},
   "outputs": [],
   "source": [
    "#36626\n",
    "Nsigma[12] = np.abs((data['pmra'][13] - prim['pmra'][11])/prim['epmra'][11])\n",
    "dec[12] = np.abs((data['pmdec'][13] - prim['pmdec'][11])/prim['epmdec'][11])\n",
    "plx[12] = np.abs((data['parallax'][13] - prim['plx'][11])/prim['eplx'][11])\n"
   ]
  },
  {
   "cell_type": "code",
   "execution_count": 103,
   "metadata": {},
   "outputs": [],
   "source": [
    "#36626\n",
    "Nsigma[13] = np.abs((data['pmra'][14] - prim['pmra'][11])/prim['epmra'][11])\n",
    "dec[13] = np.abs((data['pmdec'][14] - prim['pmdec'][11])/prim['epmdec'][11])\n",
    "plx[13] = np.abs((data['parallax'][14] - prim['plx'][11])/prim['eplx'][11])\n"
   ]
  },
  {
   "cell_type": "code",
   "execution_count": 104,
   "metadata": {},
   "outputs": [],
   "source": [
    "#41824\n",
    "Nsigma[14] = np.abs((data['pmra'][17] - prim['pmra'][12])/prim['epmra'][12])\n",
    "dec[14] = np.abs((data['pmdec'][17] - prim['pmdec'][12])/prim['epmdec'][12])\n",
    "plx[14] = np.abs((data['parallax'][17] - prim['plx'][12])/prim['eplx'][12])\n"
   ]
  },
  {
   "cell_type": "code",
   "execution_count": 105,
   "metadata": {},
   "outputs": [],
   "source": [
    "#41824\n",
    "Nsigma[15] = np.abs((data['pmra'][18] - prim['pmra'][12])/prim['epmra'][12])\n",
    "dec[15] = np.abs((data['pmdec'][18] - prim['pmdec'][12])/prim['epmdec'][12])\n",
    "plx[15] = np.abs((data['parallax'][18] - prim['plx'][12])/prim['eplx'][12])\n"
   ]
  },
  {
   "cell_type": "code",
   "execution_count": 106,
   "metadata": {},
   "outputs": [],
   "source": [
    "#42762\n",
    "Nsigma[16] = np.abs((data['pmra'][19] - prim['pmra'][13])/prim['epmra'][13])\n",
    "dec[16] = np.abs((data['pmdec'][19] - prim['pmdec'][13])/prim['epmdec'][13])\n",
    "plx[16] = np.abs((data['parallax'][19] - prim['plx'][13])/prim['eplx'][13])\n"
   ]
  },
  {
   "cell_type": "code",
   "execution_count": 107,
   "metadata": {},
   "outputs": [],
   "source": [
    "#42762\n",
    "Nsigma[17] = np.abs((data['pmra'][20] - prim['pmra'][13])/prim['epmra'][13])\n",
    "dec[17] = np.abs((data['pmdec'][20] - prim['pmdec'][13])/prim['epmdec'][13])\n",
    "plx[17] = np.abs((data['parallax'][20] - prim['plx'][13])/prim['eplx'][13])\n"
   ]
  },
  {
   "cell_type": "code",
   "execution_count": 108,
   "metadata": {},
   "outputs": [],
   "source": [
    "#44722\n",
    "Nsigma[18] = np.abs((data['pmra'][21] - prim['pmra'][14])/prim['epmra'][14])\n",
    "dec[18] = np.abs((data['pmdec'][21] - prim['pmdec'][14])/prim['epmdec'][14])\n",
    "plx[18] = np.abs((data['parallax'][21] - prim['plx'][14])/prim['eplx'][14])\n"
   ]
  },
  {
   "cell_type": "code",
   "execution_count": 109,
   "metadata": {},
   "outputs": [],
   "source": [
    "#47620\n",
    "Nsigma[19] = np.abs((data['pmra'][22] - prim['pmra'][15])/prim['epmra'][15])\n",
    "dec[19] = np.abs((data['pmdec'][22] - prim['pmdec'][15])/prim['epmdec'][15])\n",
    "plx[19] = np.abs((data['parallax'][22] - prim['plx'][15])/prim['eplx'][15])\n"
   ]
  },
  {
   "cell_type": "code",
   "execution_count": 110,
   "metadata": {},
   "outputs": [],
   "source": [
    "#59406\n",
    "Nsigma[20] = np.abs((data['pmra'][24] - prim['pmra'][16])/prim['epmra'][16])\n",
    "dec[20] = np.abs((data['pmdec'][24] - prim['pmdec'][16])/prim['epmdec'][16])\n",
    "plx[20] = np.abs((data['parallax'][24] - prim['plx'][16])/prim['eplx'][16])\n"
   ]
  },
  {
   "cell_type": "code",
   "execution_count": 111,
   "metadata": {},
   "outputs": [],
   "source": [
    "#65011\n",
    "Nsigma[21] = np.abs((data['pmra'][25] - prim['pmra'][17])/prim['epmra'][17])\n",
    "dec[21] = np.abs((data['pmdec'][25] - prim['pmdec'][17])/prim['epmdec'][17])\n",
    "plx[21] = np.abs((data['parallax'][25] - prim['plx'][17])/prim['eplx'][17])\n"
   ]
  },
  {
   "cell_type": "code",
   "execution_count": 112,
   "metadata": {},
   "outputs": [],
   "source": [
    "#65714 \n",
    "Nsigma[22] = np.abs((data['pmra'][26] - prim['pmra'][18])/prim['epmra'][18])\n",
    "dec[22] = np.abs((data['pmdec'][26] - prim['pmdec'][18])/prim['epmdec'][18])\n",
    "plx[22] = np.abs((data['parallax'][26] - prim['plx'][18])/prim['eplx'][18])\n"
   ]
  },
  {
   "cell_type": "code",
   "execution_count": 113,
   "metadata": {},
   "outputs": [],
   "source": [
    "#73470\n",
    "Nsigma[23] = np.abs((data['pmra'][27] - prim['pmra'][19])/prim['epmra'][19])\n",
    "dec[23] = np.abs((data['pmdec'][27] - prim['pmdec'][19])/prim['epmdec'][19])\n",
    "plx[23] = np.abs((data['parallax'][27] - prim['plx'][19])/prim['eplx'][19])\n"
   ]
  },
  {
   "cell_type": "code",
   "execution_count": 114,
   "metadata": {},
   "outputs": [],
   "source": [
    "#79755\n",
    "Nsigma[24] = np.abs((data['pmra'][28] - prim['pmra'][20])/prim['epmra'][20])\n",
    "dec[24] = np.abs((data['pmdec'][28] - prim['pmdec'][20])/prim['epmdec'][20])\n",
    "plx[24] = np.abs((data['parallax'][28] - prim['plx'][20])/prim['eplx'][20])\n"
   ]
  },
  {
   "cell_type": "code",
   "execution_count": 115,
   "metadata": {},
   "outputs": [],
   "source": [
    "#82809\n",
    "Nsigma[25] = np.abs((data['pmra'][30] - prim['pmra'][21])/prim['epmra'][21])\n",
    "dec[25] = np.abs((data['pmdec'][30] - prim['pmdec'][21])/prim['epmdec'][21])\n",
    "plx[25] = np.abs((data['parallax'][30] - prim['plx'][21])/prim['eplx'][21])\n"
   ]
  },
  {
   "cell_type": "code",
   "execution_count": 116,
   "metadata": {},
   "outputs": [],
   "source": [
    "#82817\n",
    "Nsigma[26] = np.abs((data['pmra'][31] - prim['pmra'][22])/prim['epmra'][22])\n",
    "dec[26] = np.abs((data['pmdec'][31] - prim['pmdec'][22])/prim['epmdec'][22])\n",
    "plx[26] = np.abs((data['parallax'][31] - prim['plx'][22])/prim['eplx'][22])\n"
   ]
  },
  {
   "cell_type": "code",
   "execution_count": 117,
   "metadata": {},
   "outputs": [],
   "source": [
    "#83599\n",
    "Nsigma[27] = np.abs((data['pmra'][32] - prim['pmra'][23])/prim['epmra'][23])\n",
    "dec[27] = np.abs((data['pmdec'][32] - prim['pmdec'][23])/prim['epmdec'][23])\n",
    "plx[27] = np.abs((data['parallax'][32] - prim['plx'][23])/prim['eplx'][23])\n"
   ]
  },
  {
   "cell_type": "code",
   "execution_count": 118,
   "metadata": {},
   "outputs": [],
   "source": [
    "#84794\n",
    "Nsigma[28] = np.abs((data['pmra'][33] - prim['pmra'][24])/prim['epmra'][24])\n",
    "dec[28] = np.abs((data['pmdec'][33] - prim['pmdec'][24])/prim['epmdec'][24])\n",
    "plx[28] = np.abs((data['parallax'][33] - prim['plx'][24])/prim['eplx'][24])\n"
   ]
  },
  {
   "cell_type": "code",
   "execution_count": 119,
   "metadata": {},
   "outputs": [],
   "source": [
    "#91772\n",
    "Nsigma[29] = np.abs((data['pmra'][35] - prim['pmra'][25])/prim['epmra'][25])\n",
    "dec[29] = np.abs((data['pmdec'][35] - prim['pmdec'][25])/prim['epmdec'][25])\n",
    "plx[29] = np.abs((data['parallax'][35] - prim['plx'][25])/prim['eplx'][25])\n"
   ]
  },
  {
   "cell_type": "code",
   "execution_count": 120,
   "metadata": {},
   "outputs": [],
   "source": [
    "#93899\n",
    "Nsigma[30] = np.abs((data['pmra'][37] - prim['pmra'][26])/prim['epmra'][26])\n",
    "dec[30] = np.abs((data['pmdec'][37] - prim['pmdec'][26])/prim['epmdec'][26])\n",
    "plx[30] = np.abs((data['parallax'][37] - prim['plx'][26])/prim['eplx'][26])\n"
   ]
  },
  {
   "cell_type": "code",
   "execution_count": 121,
   "metadata": {},
   "outputs": [],
   "source": [
    "#94761\n",
    "Nsigma[31] = np.abs((data['pmra'][38] - prim['pmra'][27])/prim['epmra'][27])\n",
    "dec[31] = np.abs((data['pmdec'][38] - prim['pmdec'][27])/prim['epmdec'][27])\n",
    "plx[31] = np.abs((data['parallax'][38] - prim['plx'][27])/prim['eplx'][27])\n"
   ]
  },
  {
   "cell_type": "code",
   "execution_count": 122,
   "metadata": {},
   "outputs": [],
   "source": [
    "#97292\n",
    "Nsigma[32] = np.abs((data['pmra'][39] - prim['pmra'][28])/prim['epmra'][28])\n",
    "dec[32] = np.abs((data['pmdec'][39] - prim['pmdec'][28])/prim['epmdec'][28])\n",
    "plx[32] = np.abs((data['parallax'][39] - prim['plx'][28])/prim['eplx'][28])\n"
   ]
  },
  {
   "cell_type": "code",
   "execution_count": 123,
   "metadata": {},
   "outputs": [],
   "source": [
    "#99150\n",
    "Nsigma[33] = np.abs((data['pmra'][40] - prim['pmra'][29])/prim['epmra'][29])\n",
    "dec[33] = np.abs((data['pmdec'][40] - prim['pmdec'][29])/prim['epmdec'][29])\n",
    "plx[33] = np.abs((data['parallax'][40] - prim['plx'][29])/prim['eplx'][29])\n"
   ]
  },
  {
   "cell_type": "code",
   "execution_count": 124,
   "metadata": {},
   "outputs": [],
   "source": [
    "#102141\n",
    "Nsigma[34] = np.abs((data['pmra'][41] - prim['pmra'][30])/prim['epmra'][30])\n",
    "dec[34] = np.abs((data['pmdec'][41] - prim['pmdec'][30])/prim['epmdec'][30])\n",
    "plx[34] = np.abs((data['parallax'][41] - prim['plx'][30])/prim['eplx'][30])\n"
   ]
  },
  {
   "cell_type": "code",
   "execution_count": 125,
   "metadata": {},
   "outputs": [],
   "source": [
    "#106811\n",
    "Nsigma[35] = np.abs((data['pmra'][42] - prim['pmra'][31])/prim['epmra'][31])\n",
    "dec[35] = np.abs((data['pmdec'][42] - prim['pmdec'][31])/prim['epmdec'][31])\n",
    "plx[35] = np.abs((data['parallax'][42] - prim['plx'][31])/prim['eplx'][31])\n"
   ]
  },
  {
   "cell_type": "code",
   "execution_count": 127,
   "metadata": {},
   "outputs": [],
   "source": [
    "#111802\n",
    "Nsigma[36] = np.abs((data['pmra'][43] - prim['pmra'][32])/prim['epmra'][32])\n",
    "dec[36] = np.abs((data['pmdec'][43] - prim['pmdec'][32])/prim['epmdec'][32])\n",
    "plx[36] = np.abs((data['parallax'][43] - prim['plx'][32])/prim['eplx'][32])\n"
   ]
  },
  {
   "cell_type": "code",
   "execution_count": 131,
   "metadata": {},
   "outputs": [
    {
     "data": {
      "text/plain": [
       "array([7.48375882e+01, 3.07563660e+02, 2.24558230e+03, 2.31633832e+02,\n",
       "       9.07545414e+01, 2.29842066e+01, 8.49396781e+01, 7.81677319e+01,\n",
       "       9.69957823e+01, 6.07475321e+02, 9.85252283e+01, 2.56983616e+02,\n",
       "       3.60611090e+01, 2.00722769e+02, 9.03171572e+01, 9.58347054e+01,\n",
       "       5.59716742e+02, 2.54837552e+02, 9.75317054e+01, 9.81641090e+01,\n",
       "       4.67758104e+01, 6.40633323e+01, 2.21583676e+00, 2.08167215e+02,\n",
       "       9.76014510e+01, 2.54404037e+02, 1.80527960e+02, 1.05461761e+02,\n",
       "       5.12626642e+01, 1.82601075e+02, 2.67079382e+02, 3.99934122e+02,\n",
       "       5.23070597e+02, 3.88204541e+01, 1.08850257e+03, 1.61377144e+02,\n",
       "       9.75534110e+01])"
      ]
     },
     "execution_count": 131,
     "metadata": {},
     "output_type": "execute_result"
    }
   ],
   "source": [
    "dec"
   ]
  },
  {
   "cell_type": "code",
   "execution_count": 149,
   "metadata": {},
   "outputs": [
    {
     "data": {
      "image/png": "[encoded data removed]",
      "text/plain": [
       "<Figure size 720x576 with 1 Axes>"
      ]
     },
     "metadata": {},
     "output_type": "display_data"
    }
   ],
   "source": [
    "plt.style.use('dark_background')\n",
    "fig = plt.figure(figsize = (10,8))\n",
    "nbins = 18\n",
    "plt.hist(Nsigma, bins = nbins, label = 'pmra', color='#cc6699')\n",
    "plt.title('$\\mu_{ra}$',fontsize=25, pad = 20)\n",
    "plt.xlabel('$N\\sigma$',fontsize=20, labelpad = 10)\n",
    "plt.ylabel('Number',fontsize=20,labelpad = 10)\n",
    "plt.xticks(fontsize=15)\n",
    "plt.yticks(fontsize=15)\n",
    "plt.legend()\n",
    "plt.savefig('pmra_hist.png')\n",
    "plt.show()"
   ]
  },
  {
   "cell_type": "code",
   "execution_count": 147,
   "metadata": {},
   "outputs": [
    {
     "data": {
      "image/png": "[encoded data removed]",
      "text/plain": [
       "<Figure size 720x576 with 1 Axes>"
      ]
     },
     "metadata": {},
     "output_type": "display_data"
    }
   ],
   "source": [
    "fig = plt.figure(figsize = (10,8))\n",
    "plt.hist(dec, bins = nbins, label = 'pmdec',color='#86c26e')\n",
    "plt.title('$\\mu_{dec}$',fontsize=25, pad = 20)\n",
    "plt.xlabel('$N\\sigma$',fontsize=20, labelpad = 10)\n",
    "plt.ylabel('Number',fontsize=20,labelpad = 10)\n",
    "plt.xticks(fontsize=15)\n",
    "plt.yticks(fontsize=15)\n",
    "plt.legend()\n",
    "plt.savefig('pmdec_hist.png')\n",
    "plt.show()"
   ]
  },
  {
   "cell_type": "code",
   "execution_count": 148,
   "metadata": {},
   "outputs": [
    {
     "data": {
      "image/png": "[encoded data removed]",
      "text/plain": [
       "<Figure size 720x576 with 1 Axes>"
      ]
     },
     "metadata": {},
     "output_type": "display_data"
    }
   ],
   "source": [
    "fig = plt.figure(figsize = (10,8))\n",
    "plt.hist(plx, bins = nbins, label = 'parallax')\n",
    "plt.title('$\\pi$',fontsize=25, pad = 20)\n",
    "plt.xlabel('$N\\sigma$',fontsize=20, labelpad = 10)\n",
    "plt.ylabel('Number',fontsize=20,labelpad = 10)\n",
    "plt.xticks(fontsize=15)\n",
    "plt.yticks(fontsize=15)\n",
    "plt.legend()\n",
    "plt.savefig('plx_hist.png')\n",
    "plt.show()"
   ]
  },
  {
   "cell_type": "code",
   "execution_count": null,
   "metadata": {},
   "outputs": [],
   "source": []
  }
 ],
 "metadata": {
  "kernelspec": {
   "display_name": "Python 3",
   "language": "python",
   "name": "python3"
  },
  "language_info": {
   "codemirror_mode": {
    "name": "ipython",
    "version": 3
   },
   "file_extension": ".py",
   "mimetype": "text/x-python",
   "name": "python",
   "nbconvert_exporter": "python",
   "pygments_lexer": "ipython3",
   "version": "3.7.3"
  }
 },
 "nbformat": 4,
 "nbformat_minor": 2
}
