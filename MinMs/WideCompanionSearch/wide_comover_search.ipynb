{
 "cells": [
  {
   "cell_type": "code",
   "execution_count": 1,
   "metadata": {},
   "outputs": [
    {
     "name": "stdout",
     "output_type": "stream",
     "text": [
      "Created TAP+ (v1.2.1) - Connection:\n",
      "\tHost: gea.esac.esa.int\n",
      "\tUse HTTPS: True\n",
      "\tPort: 443\n",
      "\tSSL Port: 443\n",
      "Created TAP+ (v1.2.1) - Connection:\n",
      "\tHost: geadata.esac.esa.int\n",
      "\tUse HTTPS: True\n",
      "\tPort: 443\n",
      "\tSSL Port: 443\n"
     ]
    }
   ],
   "source": [
    "import numpy as np\n",
    "from astroquery.gaia import Gaia\n",
    "import astropy.units as u\n",
    "from astropy.coordinates import SkyCoord\n",
    "Gaia.ROW_LIMIT = 2000"
   ]
  },
  {
   "cell_type": "code",
   "execution_count": 13,
   "metadata": {},
   "outputs": [],
   "source": [
    "coord_file = '/Users/mguzzetti/Desktop/MinMs/new_MinMs_coordinates.txt'\n",
    "name_file = '/Users/mguzzetti/Desktop/MinMs/MinMs_names.txt'\n",
    "plx_file ='/Users/mguzzetti/Desktop/MinMs/MinMs_plx.txt'\n",
    "ra, dec  = np.loadtxt(coord_file, unpack = True)\n",
    "names  = np.loadtxt(name_file, unpack = True)\n",
    "plx = np.loadtxt(plx_file, unpack = True)\n",
    "ra_test = ra[0:50]\n",
    "dec_test = dec[0:50]\n"
   ]
  },
  {
   "cell_type": "code",
   "execution_count": 14,
   "metadata": {},
   "outputs": [
    {
     "name": "stdout",
     "output_type": "stream",
     "text": [
      "428\n"
     ]
    }
   ],
   "source": [
    "print(int(names[0]))\n",
    "#print(ra_test)\n",
    "#print(dec_test)\n",
    "#print(np.nanmedian(np.asarray(r['pmra_error'])))\n",
    "#print(np.nanmedian(np.asarray(r['pmdec_error'])))\n",
    "#print(np.nanmedian((np.asarray(r['parallax_error']/(r['parallax'])*(1000/r['parallax'])))))     \n",
    "      "
   ]
  },
  {
   "cell_type": "code",
   "execution_count": 15,
   "metadata": {
    "scrolled": false
   },
   "outputs": [
    {
     "name": "stdout",
     "output_type": "stream",
     "text": [
      "Searching HIP 428\n",
      "INFO: Query finished. [astroquery.utils.tap.core]\n",
      "CANDIDATE FOUND\n",
      "1.4264136365104678 45.81139649778357 j= 492\n"
     ]
    },
    {
     "name": "stderr",
     "output_type": "stream",
     "text": [
      "/Users/mguzzetti/anaconda3/lib/python3.7/site-packages/ipykernel_launcher.py:20: UserWarning: Warning: converting a masked element to nan.\n"
     ]
    },
    {
     "name": "stdout",
     "output_type": "stream",
     "text": [
      "Searching HIP 439\n",
      "INFO: Query finished. [astroquery.utils.tap.core]\n",
      "Searching HIP 1475\n",
      "INFO: Query finished. [astroquery.utils.tap.core]\n",
      "Searching HIP 2552\n",
      "INFO: Query finished. [astroquery.utils.tap.core]\n",
      "Searching HIP 3937\n",
      "INFO: Query finished. [astroquery.utils.tap.core]\n",
      "Searching HIP 4569\n",
      "INFO: Query finished. [astroquery.utils.tap.core]\n",
      "Searching HIP 4856\n",
      "INFO: Query finished. [astroquery.utils.tap.core]\n",
      "Searching HIP 4872\n",
      "INFO: Query finished. [astroquery.utils.tap.core]\n",
      "CANDIDATE FOUND\n",
      "15.83942593994825 62.36588062662993 j= 1539\n",
      "Searching HIP 5496\n",
      "INFO: Query finished. [astroquery.utils.tap.core]\n",
      "Searching HIP 5643\n",
      "INFO: Query finished. [astroquery.utils.tap.core]\n",
      "Searching HIP 8051\n",
      "INFO: Query finished. [astroquery.utils.tap.core]\n",
      "Searching HIP 8768\n",
      "INFO: Query finished. [astroquery.utils.tap.core]\n",
      "Searching HIP 9291\n",
      "INFO: Query finished. [astroquery.utils.tap.core]\n",
      "Searching HIP 9724\n",
      "INFO: Query finished. [astroquery.utils.tap.core]\n",
      "Searching HIP 9786\n",
      "INFO: Query finished. [astroquery.utils.tap.core]\n",
      "Searching HIP 10279\n",
      "INFO: Query finished. [astroquery.utils.tap.core]\n",
      "Searching HIP 10395\n",
      "INFO: Query finished. [astroquery.utils.tap.core]\n",
      "Searching HIP 10617\n",
      "INFO: Query finished. [astroquery.utils.tap.core]\n",
      "CANDIDATE FOUND\n",
      "34.1497133257937 -30.967686036038145 j= 8\n",
      "Searching HIP 10812\n",
      "INFO: Query finished. [astroquery.utils.tap.core]\n",
      "Searching HIP 11048\n",
      "INFO: Query finished. [astroquery.utils.tap.core]\n",
      "Searching HIP 11964\n",
      "INFO: Query finished. [astroquery.utils.tap.core]\n",
      "Searching HIP 12097\n",
      "INFO: Query finished. [astroquery.utils.tap.core]\n",
      "Searching HIP 12781\n",
      "INFO: Query finished. [astroquery.utils.tap.core]\n",
      "Searching HIP 13218\n",
      "INFO: Query finished. [astroquery.utils.tap.core]\n",
      "Searching HIP 13389\n",
      "INFO: Query finished. [astroquery.utils.tap.core]\n",
      "Searching HIP 15220\n",
      "INFO: Query finished. [astroquery.utils.tap.core]\n",
      "CANDIDATE FOUND\n",
      "49.06135689564197 58.16737178746791 j= 1\n",
      "Searching HIP 15638\n",
      "INFO: Query finished. [astroquery.utils.tap.core]\n",
      "Searching HIP 16536\n",
      "INFO: Query finished. [astroquery.utils.tap.core]\n",
      "Searching HIP 17609\n",
      "INFO: Query finished. [astroquery.utils.tap.core]\n",
      "Searching HIP 19337\n",
      "INFO: Query finished. [astroquery.utils.tap.core]\n",
      "Searching HIP 19394\n",
      "INFO: Query finished. [astroquery.utils.tap.core]\n",
      "Searching HIP 21088\n",
      "INFO: Query finished. [astroquery.utils.tap.core]\n",
      "Searching HIP 21556\n",
      "INFO: Query finished. [astroquery.utils.tap.core]\n",
      "Searching HIP 21932\n",
      "INFO: Query finished. [astroquery.utils.tap.core]\n",
      "Searching HIP 22627\n",
      "INFO: Query finished. [astroquery.utils.tap.core]\n",
      "Searching HIP 22738\n",
      "INFO: Query finished. [astroquery.utils.tap.core]\n",
      "CANDIDATE FOUND\n",
      "73.37839399145618 -55.85849627471295 j= 1\n",
      "Searching HIP 22762\n",
      "INFO: Query finished. [astroquery.utils.tap.core]\n",
      "Searching HIP 23452\n",
      "INFO: Query finished. [astroquery.utils.tap.core]\n",
      "Searching HIP 23512\n",
      "INFO: Query finished. [astroquery.utils.tap.core]\n",
      "Searching HIP 23518\n",
      "INFO: Query finished. [astroquery.utils.tap.core]\n",
      "Searching HIP 23932\n",
      "INFO: Query finished. [astroquery.utils.tap.core]\n",
      "Searching HIP 24186\n",
      "INFO: Query finished. [astroquery.utils.tap.core]\n",
      "Searching HIP 24284\n",
      "INFO: Query finished. [astroquery.utils.tap.core]\n",
      "Searching HIP 25578\n",
      "INFO: Query finished. [astroquery.utils.tap.core]\n",
      "Searching HIP 25878\n",
      "INFO: Query finished. [astroquery.utils.tap.core]\n",
      "Searching HIP 25953\n",
      "INFO: Query finished. [astroquery.utils.tap.core]\n",
      "Searching HIP 26801\n",
      "INFO: Query finished. [astroquery.utils.tap.core]\n",
      "CANDIDATE FOUND\n",
      "85.33475234190108 53.478804107230516 j= 44\n",
      "Searching HIP 26857\n",
      "INFO: Query finished. [astroquery.utils.tap.core]\n",
      "Searching HIP 28035\n",
      "INFO: Query finished. [astroquery.utils.tap.core]\n",
      "Searching HIP 28368\n",
      "INFO: Query finished. [astroquery.utils.tap.core]\n",
      "CANDIDATE FOUND\n",
      "89.9820134797812 58.56980331096587 j= 107\n"
     ]
    }
   ],
   "source": [
    "for i in range(len(ra_test)):\n",
    "    print('Searching HIP', int(names[i]))\n",
    "    coord = SkyCoord(ra=ra_test[i], dec=dec_test[i], unit=(u.degree, u.degree), frame='icrs')\n",
    "    rad_val = 10*plx[i]/3600\n",
    "    radius = u.Quantity(rad_val, u.deg)\n",
    "    r = Gaia.query_object_async(coordinate=coord, radius=radius)\n",
    "    #print(r['ra'][0],r['dec'][0])\n",
    "    dists = 1000/r['parallax']\n",
    "    pmra = r['pmra']\n",
    "    pmdec = r['pmdec']\n",
    "    pmra_err = np.nanmedian(np.asarray(r['pmra_error']))\n",
    "    pmdec_err = np.nanmedian(np.asarray(r['pmdec_error']))\n",
    "    dist_err = np.nanmedian((np.asarray(r['parallax_error']/(r['parallax'])*(1000/r['parallax']))))\n",
    "    counter = 0\n",
    "    for j in range(len(r)):\n",
    "        if j == 0:\n",
    "            pass\n",
    "        else:\n",
    "            targ = np.array((r['pmra'][0],r['pmdec'][0],dists[0])) # target\n",
    "            s = np.array((r['pmra'][j],r['pmdec'][j],dists[j])) # stars in table \n",
    "            diff = np.abs(targ-s) #difference between the two in the 3 parameters  \n",
    "            if diff[0] < 50*pmra_err and diff[1] < 50*pmdec_err and diff[2] < 50*dist_err:\n",
    "                counter += 1\n",
    "                print(\"CANDIDATE FOUND\")\n",
    "                print('Candidate Coordinates:',r['ra'][j],r['dec'][j],'j=',j)\n",
    "                print('Primary Coordinates:',ra_test[i], dec_test[i])\n",
    "                print('Primary Distance =', 1000/plx[i])            \n",
    "    "
   ]
  },
  {
   "cell_type": "code",
   "execution_count": 22,
   "metadata": {},
   "outputs": [
    {
     "name": "stdout",
     "output_type": "stream",
     "text": [
      "rho = 309.44431834229647 arcseconds\n",
      "projected separation = 3049.7631269744948 AU\n"
     ]
    }
   ],
   "source": [
    "#HIP 4872 \n",
    "ra1 = 15.66873212\n",
    "dec1 = 62.34543864\n",
    "ra2 = 15.83942593994825\n",
    "dec2 = 62.36588062662993\n",
    "distance = 9.855611967 #pc\n",
    "sep = np.sqrt((ra1-ra2)**2+(dec1-dec2)**2)/2 #deg\n",
    "rho = 3600*sep #arcseconds\n",
    "print('rho =',rho,'arcseconds')\n",
    "AU = distance*rho \n",
    "print('projected separation =',AU,'AU')"
   ]
  },
  {
   "cell_type": "code",
   "execution_count": 23,
   "metadata": {},
   "outputs": [
    {
     "name": "stdout",
     "output_type": "stream",
     "text": [
      "rho = 230.80164749869684 arcseconds\n",
      "projected separation = 2654.213432383655 AU\n"
     ]
    }
   ],
   "source": [
    "# HIP 428\n",
    "ra1 = 1.300747867\n",
    "dec1 = 45.78591538\n",
    "ra2 = 1.4264136365104678\n",
    "dec2 = 45.81139649778357\n",
    "distance = 11.49997611 #pc\n",
    "sep = np.sqrt((ra1-ra2)**2+(dec1-dec2)**2)/2 #deg\n",
    "rho = 3600*sep #arcseconds\n",
    "print('rho =',rho,'arcseconds')\n",
    "AU = distance*rho \n",
    "print('projected separation =',AU,'AU')"
   ]
  },
  {
   "cell_type": "code",
   "execution_count": 8,
   "metadata": {},
   "outputs": [
    {
     "data": {
      "text/latex": [
       "$105^\\circ31{}^\\prime31.5331{}^{\\prime\\prime}$"
      ],
      "text/plain": [
       "<Angle 105.52542585 deg>"
      ]
     },
     "execution_count": 8,
     "metadata": {},
     "output_type": "execute_result"
    }
   ],
   "source": [
    "c1 = SkyCoord('34.17509387', ' -30.98732554', unit=(u.degree, u.degree),frame='icrs')\n",
    "c2 = SkyCoord('34.1497133257937', '-30.967686036038145', unit=(u.degree, u.degree),frame='icrs')\n",
    "sep = c1.separation(c2)\n",
    "sep*3600 \n"
   ]
  },
  {
   "cell_type": "code",
   "execution_count": 5,
   "metadata": {},
   "outputs": [
    {
     "name": "stdout",
     "output_type": "stream",
     "text": [
      "rho = 54.26618199236711 arcseconds\n",
      "projected separation = 727.8724884525951 AU\n"
     ]
    }
   ],
   "source": [
    "# HIP 10617\n",
    "\n",
    "ra1 = 34.17509387\n",
    "dec1 = -30.98732554\n",
    "ra2 = 34.1497133257937\n",
    "dec2 = -30.967686036038145\n",
    "distance = 13.41300349 #pc\n",
    "sep = np.sqrt((ra1-ra2)**2+(dec1-dec2)**2)/2 #deg\n",
    "rho = 3600*sep #arcseconds\n",
    "print('rho =',rho,'arcseconds')\n",
    "AU = distance*rho \n",
    "print('projected separation =',AU,'AU')"
   ]
  },
  {
   "cell_type": "code",
   "execution_count": 30,
   "metadata": {},
   "outputs": [
    {
     "name": "stdout",
     "output_type": "stream",
     "text": [
      "rho = 2.5239114880489733 arcseconds\n",
      "projected separation = 34.215819378242074 AU\n"
     ]
    }
   ],
   "source": [
    "# HIP 15220\n",
    "ra1 = 49.0612588\n",
    "dec1 = 58.16597305\n",
    "ra2 = 49.06135689564197\n",
    "dec2 = 58.16737178746791\n",
    "distance = 13.55666375 #pc\n",
    "sep = np.sqrt((ra1-ra2)**2+(dec1-dec2)**2)/2 #deg\n",
    "rho = 3600*sep #arcseconds\n",
    "print('rho =',rho,'arcseconds')\n",
    "AU = distance*rho \n",
    "print('projected separation =',AU,'AU')\n"
   ]
  },
  {
   "cell_type": "code",
   "execution_count": 31,
   "metadata": {},
   "outputs": [
    {
     "name": "stdout",
     "output_type": "stream",
     "text": [
      "rho = 5.353712231550217 arcseconds\n",
      "projected separation = 59.40404616637268 AU\n"
     ]
    }
   ],
   "source": [
    "# HIP 22738\n",
    "ra1 = 73.37839399145618\n",
    "dec1 = -55.85849627471295\n",
    "ra2 = 73.38097414\n",
    "dec2 = -55.85997587\n",
    "distance = 11.09586089 #pc\n",
    "sep = np.sqrt((ra1-ra2)**2+(dec1-dec2)**2)/2 #deg\n",
    "rho = 3600*sep #arcseconds\n",
    "print('rho =',rho,'arcseconds')\n",
    "AU = distance*rho \n",
    "print('projected separation =',AU,'AU')\n",
    "\n",
    " "
   ]
  },
  {
   "cell_type": "code",
   "execution_count": 32,
   "metadata": {},
   "outputs": [
    {
     "name": "stdout",
     "output_type": "stream",
     "text": [
      "rho = 79.56071384187777 arcseconds\n",
      "projected separation = 976.8441707053737 AU\n"
     ]
    }
   ],
   "source": [
    "# HIP 26801\n",
    "ra1 = 85.33475234190108\n",
    "dec1 = 53.478804107230516\n",
    "ra2 = 85.37807248\n",
    "dec2 = 53.48758139\n",
    "distance = 12.27797142 #pc\n",
    "sep = np.sqrt((ra1-ra2)**2+(dec1-dec2)**2)/2 #deg\n",
    "rho = 3600*sep #arcseconds\n",
    "print('rho =',rho,'arcseconds')\n",
    "AU = distance*rho \n",
    "print('projected separation =',AU,'AU')\n"
   ]
  },
  {
   "cell_type": "code",
   "execution_count": 33,
   "metadata": {},
   "outputs": [
    {
     "name": "stdout",
     "output_type": "stream",
     "text": [
      "rho = 140.12210727825456 arcseconds\n",
      "projected separation = 1889.6514854335708 AU\n"
     ]
    }
   ],
   "source": [
    "# HIP 28368\n",
    "ra1 = 89.9820134797812\n",
    "dec1 = 58.56980331096587\n",
    "ra2 = 89.9073752\n",
    "dec2 = 58.59191817\n",
    "distance = 13.48574841 #pc\n",
    "sep = np.sqrt((ra1-ra2)**2+(dec1-dec2)**2)/2 #deg\n",
    "rho = 3600*sep #arcseconds\n",
    "print('rho =',rho,'arcseconds')\n",
    "AU = distance*rho \n",
    "print('projected separation =',AU,'AU')\n"
   ]
  },
  {
   "cell_type": "code",
   "execution_count": null,
   "metadata": {},
   "outputs": [],
   "source": []
  }
 ],
 "metadata": {
  "kernelspec": {
   "display_name": "Python 3",
   "language": "python",
   "name": "python3"
  },
  "language_info": {
   "codemirror_mode": {
    "name": "ipython",
    "version": 3
   },
   "file_extension": ".py",
   "mimetype": "text/x-python",
   "name": "python",
   "nbconvert_exporter": "python",
   "pygments_lexer": "ipython3",
   "version": "3.7.3"
  }
 },
 "nbformat": 4,
 "nbformat_minor": 2
}
