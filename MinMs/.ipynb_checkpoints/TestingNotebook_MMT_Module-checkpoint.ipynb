{
 "cells": [
  {
   "cell_type": "code",
   "execution_count": 1,
   "metadata": {},
   "outputs": [],
   "source": [
    "from MMT_reduce_module import *"
   ]
  },
  {
   "cell_type": "code",
   "execution_count": 2,
   "metadata": {},
   "outputs": [],
   "source": [
    "from __future__ import print_function\n",
    "import numpy as np\n",
    "import scipy as sp\n",
    "import scipy.ndimage\n",
    "from astropy.io import fits\n",
    "import sys\n",
    "import numpy.ma as ma\n",
    "import math\n",
    "import pidly\n",
    "import os\n",
    "import glob\n",
    "import time\n",
    "import matplotlib.pyplot as plt\n",
    "%matplotlib inline\n",
    "from astropy.visualization import ZScaleInterval\n",
    "interval = ZScaleInterval()\n"
   ]
  },
  {
   "cell_type": "markdown",
   "metadata": {},
   "source": [
    "## MMT_reduce_module Testing\n",
    "\n",
    "#### The purpose of this notebook is to test functions in the MMT module one-by-one and examine the outputs at each step.\n",
    "\n",
    "Major to-do items (April 4, 2019): \n",
    "\n",
    "* Fix saturated data!\n",
    "    * Examine how sky frames are being made \n",
    "    * Examine how sky subtraction is being performed on science data\n",
    "    * Determine best practice of aligning saturated frames\n",
    "    * plt.imshow reduced steps\n",
    "    * Stacking size issue \n",
    "    \n",
    "* Determine how flatfield generation is being done and improve if need be\n",
    "    * Debug negative dark frames/negative flat frame issues? -- **done, 5/23**\n",
    "    * Double-check dome flat correction, now that twilight flat correction is working (with correct inputs)\n",
    "    \n",
    "More to-do items (last updated 5/23):\n",
    "* Ensure corquad correction is applied prior to analysis steps - **done, 5/23**\n",
    "* Rotation angle correction and image flip for MMT data (appears to be same VLT conventions) - update within module\n",
    "* Cross-check sky subtraction in case of very saturated data, and if small changes in rotation angle make difference\n"
   ]
  },
  {
   "cell_type": "markdown",
   "metadata": {},
   "source": [
    "### Set up paths to raw data and definitions"
   ]
  },
  {
   "cell_type": "code",
   "execution_count": null,
   "metadata": {},
   "outputs": [],
   "source": [
    "path_to_raw_sci = '/Volumes/Passport4TB/MinMs/HIP12097_MMT_20161012/0.8/'\n",
    "path_to_raw_darks = '/Volumes/Passport4TB/MinMs/20161012_Calibrations/darks/'\n",
    "path_to_raw_flats = '/Volumes/Passport4TB/MinMs/20161012_Calibrations/twilight/sky flat/20.0/'\n",
    "objname = 'HIP12097_Test_0.8s'\n",
    "flattype = 0 # 0 for sky, 1 for lamp\n",
    "saturated = 0 # 0 if unsaturated, 1 if saturated\n",
    "alignflag = 0 # 0 if single star or faint companion, 1 if equal brightness binary\n",
    "imsize = 1024"
   ]
  },
  {
   "cell_type": "markdown",
   "metadata": {},
   "source": [
    "## The following cells are each of the steps of the reduce_raw_sci function"
   ]
  },
  {
   "cell_type": "code",
   "execution_count": null,
   "metadata": {},
   "outputs": [],
   "source": [
    "# Make list of science frames and check exposure time \n",
    "scilist = glob.glob(path_to_raw_sci + 'q*.fits')\n",
    "\n",
    "print(f\"Number of science frames found: {len(scilist)} \\n\")\n"
   ]
  },
  {
   "cell_type": "code",
   "execution_count": null,
   "metadata": {},
   "outputs": [],
   "source": [
    "scitimes = [fits.getheader(im, ignore_missing_end = True)['EXPTIME'] for im in scilist]\n",
    "\n",
    "# check if all of the exposure times in the current directory are the same:\n",
    "if all(x == scitimes[0] for x in scitimes):\n",
    "    print(\"Science frame exposure time: \" + str(scitimes[0]) + \"\\n\")\n",
    "else:\n",
    "    raise Exception(\"Exposure times for given list of files do not match. \\\n",
    "    You may need to make/define separate subfolders for different exptimes.\")\n",
    "\n",
    "sci_exptime = scitimes[0]\n",
    "\n",
    "n = len(scilist)\n",
    "\n",
    "\n",
    "# get header from science frames to work with\n",
    "sciheader = fits.getheader(scilist[0])\n"
   ]
  },
  {
   "cell_type": "code",
   "execution_count": null,
   "metadata": {},
   "outputs": [],
   "source": [
    "# check for datacubes\n",
    "if len(fits.getdata(scilist[0]).shape) == 3: # check for data cubes of science frames\n",
    "    sciarray = np.zeros([imsize,imsize,n*fits.getdata(scilist[0]).shape[0]])\n",
    "else:\n",
    "    sciarray = np.zeros([imsize,imsize,n])\n",
    "\n",
    "if len(fits.getdata(scilist[0]).shape) == 3: # check for data cubes of science frames    \n",
    "    totalframes = n*fits.getdata(scilist[0]).shape[0]\n",
    "else:\n",
    "    totalframes = n"
   ]
  },
  {
   "cell_type": "code",
   "execution_count": null,
   "metadata": {},
   "outputs": [],
   "source": [
    "# in case data were rotated during observing sequence, set up empty array of rotation angles\n",
    "angle = np.zeros(totalframes)\n",
    "\n",
    "im_index = 0\n",
    "\n",
    "for ii in range(0, n):\n",
    "    \n",
    "    im = fits.getdata(scilist[ii], ignore_missing_end=True)\n",
    "    header = fits.getheader(scilist[ii],ignore_missing_end=True)\n",
    "    \n",
    "    if len(im.shape) == 3: # check for data cubes of science frames\n",
    "        assert not np.any(np.isnan(im))\n",
    "        for jj in range(0, im.shape[0]):\n",
    "            sciarray[:,:,im_index] = im[jj,:,:]\n",
    "            angle[im_index] = (header['PA'] - header['ROT']) * (np.pi/180.0)\n",
    "            im_index += 1\n",
    "    else: \n",
    "        sciarray[:,:,ii] = im  \n",
    "        angle[ii] = (header['PA'] - header['ROT']) * (np.pi/180.0)\n",
    "    header = fits.getheader(scilist[ii], ignore_missing_end=True)\n",
    "\n",
    "\n",
    "\n"
   ]
  },
  {
   "cell_type": "code",
   "execution_count": null,
   "metadata": {},
   "outputs": [],
   "source": [
    "print(angle)\n",
    "print(im)"
   ]
  },
  {
   "cell_type": "code",
   "execution_count": null,
   "metadata": {},
   "outputs": [],
   "source": [
    "#MASTER_DARK\n",
    "\n",
    "print(\"Creating and applying master darks and flats...\\n\")    \n",
    "\n",
    "# create master dark matching science exposure times\n",
    "med_dark = dark_combine(path_to_raw_darks, sci_exptime, imsize, objname) \n",
    "\n",
    "vmin, vmax = interval.get_limits(med_dark)\n",
    "plt.imshow(med_dark, vmin=vmin, vmax=vmax, origin='lower')"
   ]
  },
  {
   "cell_type": "code",
   "execution_count": null,
   "metadata": {},
   "outputs": [],
   "source": [
    "\n",
    "# subtract off the median dark frame from each of the science frames\n",
    "for ii in range (0, totalframes):\n",
    "    sciarray[:,:,ii] -= med_dark\n"
   ]
  },
  {
   "cell_type": "code",
   "execution_count": null,
   "metadata": {},
   "outputs": [],
   "source": [
    "#MEDIAN_AND_MASTER_FLAT\n",
    "\n",
    "# create the masterflat \n",
    "med_flat, master_flat, flatheader = process_flats(path_to_raw_flats, path_to_raw_darks, imsize, flattype, objname)\n",
    "\n",
    "vmin, vmax = interval.get_limits(med_flat)\n",
    "plt.imshow(med_flat, vmin=vmin, vmax=vmax, origin='lower')"
   ]
  },
  {
   "cell_type": "code",
   "execution_count": null,
   "metadata": {},
   "outputs": [],
   "source": [
    "vmin, vmax = interval.get_limits(master_flat)\n",
    "plt.imshow(master_flat, vmin=vmin, vmax=vmax, origin='lower')"
   ]
  },
  {
   "cell_type": "code",
   "execution_count": null,
   "metadata": {},
   "outputs": [],
   "source": [
    "\n",
    "# divide each science frame by the masterflat frame\n",
    "for ii in range(0, totalframes):\n",
    "    sciarray[:,:,ii] /= master_flat\n",
    "\n",
    "\n"
   ]
  },
  {
   "cell_type": "code",
   "execution_count": null,
   "metadata": {},
   "outputs": [],
   "source": [
    "#BAD_PIXEL_MAP\n",
    "\n",
    "print(\"Creating bad pixel map and correcting for bad pixels and cosmic rays. \\n\",\n",
    "     \"This may take a moment... \\n\") \n",
    "\n",
    "# create bad pixel map\n",
    "badflat = badpixelmap(med_flat, objname, flatheader)  \n",
    "\n",
    "vmin, vmax = interval.get_limits(badflat)\n",
    "plt.imshow(badflat, vmin=vmin, vmax=vmax)"
   ]
  },
  {
   "cell_type": "code",
   "execution_count": null,
   "metadata": {},
   "outputs": [],
   "source": [
    "\n",
    "# correct the bad pixels and cosmic rays\n",
    "reduced_sciarray = correct_bad_pixels(sciarray, badflat)\n",
    "\n",
    "# print(reduced_sciarray)"
   ]
  },
  {
   "cell_type": "code",
   "execution_count": null,
   "metadata": {},
   "outputs": [],
   "source": [
    "# write out a test reduced science image \n",
    "fits.writeto('test_reduced_science.fits', reduced_sciarray[:,:,0], overwrite=True)"
   ]
  },
  {
   "cell_type": "code",
   "execution_count": null,
   "metadata": {},
   "outputs": [],
   "source": [
    "#MASTER_SKY_A_AND_B\n",
    "print(\"Creating master sky from science frames...\\n\") \n",
    "\n",
    "# create median sky from stack of science images\n",
    "sky_output = create_sky_frames(reduced_sciarray, sciheader, objname, angle)\n",
    "\n"
   ]
  },
  {
   "cell_type": "code",
   "execution_count": null,
   "metadata": {},
   "outputs": [],
   "source": [
    "# get median and examine sky output:\n",
    "print(np.median(sky_output[1]))\n",
    "vmin, vmax = interval.get_limits(sky_output[1])\n",
    "plt.imshow(sky_output[1], vmin=vmin, vmax=vmax, origin='lower')"
   ]
  },
  {
   "cell_type": "code",
   "execution_count": null,
   "metadata": {},
   "outputs": [],
   "source": [
    "sky_output"
   ]
  },
  {
   "cell_type": "code",
   "execution_count": null,
   "metadata": {},
   "outputs": [],
   "source": [
    "# apply sky subtraction to each science image \n",
    "skysub_science_array, rot_flag = sky_subtract(reduced_sciarray, sky_output, angle)"
   ]
  },
  {
   "cell_type": "code",
   "execution_count": null,
   "metadata": {},
   "outputs": [],
   "source": [
    "rot_flag"
   ]
  },
  {
   "cell_type": "code",
   "execution_count": null,
   "metadata": {},
   "outputs": [],
   "source": [
    "#INDIVIDUAL_REDUCED_SCI_IMAGES\n",
    "t0=time.time()\n",
    "\n",
    "# initialize blank list to hold all of the reduced science image names\n",
    "scinames_list = []\n",
    "\n",
    "\n",
    "for ii in range(0, totalframes):\n",
    "    print(f\"Saving reduced frame #{ii}\")\n",
    "    sciname = 'reducedsci_00' + str(ii) + '.fits'\n",
    "    if ii >= 10:\n",
    "        sciname = 'reducedsci_0' + str(ii) + '.fits'\n",
    "    if ii >= 100:\n",
    "        sciname = 'reducedsci_' + str(ii) + '.fits'\n",
    "    fits.writeto(sciname, skysub_science_array[:,:,ii], sciheader, overwrite = True, output_verify='silentfix')\n",
    "    scinames_list.append(sciname)\n",
    "    \n",
    "t1=time.time()\n",
    "print(\"Time taken: \", (t1-t0)/60.)"
   ]
  },
  {
   "cell_type": "code",
   "execution_count": 3,
   "metadata": {},
   "outputs": [],
   "source": [
    "!export XPA_METHOD='unix'"
   ]
  },
  {
   "cell_type": "code",
   "execution_count": 3,
   "metadata": {},
   "outputs": [],
   "source": [
    "idl = pidly.IDL('/Applications/exelis/idl85/bin/idl')"
   ]
  },
  {
   "cell_type": "code",
   "execution_count": 4,
   "metadata": {},
   "outputs": [
    {
     "name": "stdout",
     "output_type": "stream",
     "text": [
      "% Compiled module: DS9.\n",
      "Spawning ds9 with title: ds9_1558666634\n",
      "waiting...\n",
      "waiting...\n",
      "waiting...\n",
      "it worked!\n"
     ]
    }
   ],
   "source": [
    "idl('ds9')"
   ]
  },
  {
   "cell_type": "code",
   "execution_count": 5,
   "metadata": {},
   "outputs": [
    {
     "ename": "NameError",
     "evalue": "name 'skysub_science_array' is not defined",
     "output_type": "error",
     "traceback": [
      "\u001b[0;31m---------------------------------------------------------------------------\u001b[0m",
      "\u001b[0;31mNameError\u001b[0m                                 Traceback (most recent call last)",
      "\u001b[0;32m<ipython-input-5-23086bbf4168>\u001b[0m in \u001b[0;36m<module>\u001b[0;34m()\u001b[0m\n\u001b[1;32m      3\u001b[0m \u001b[0;34m\u001b[0m\u001b[0m\n\u001b[1;32m      4\u001b[0m \u001b[0;31m# measure star positions in all of the images\u001b[0m\u001b[0;34m\u001b[0m\u001b[0;34m\u001b[0m\u001b[0;34m\u001b[0m\u001b[0m\n\u001b[0;32m----> 5\u001b[0;31m \u001b[0mxcen\u001b[0m\u001b[0;34m,\u001b[0m \u001b[0mycen\u001b[0m \u001b[0;34m=\u001b[0m \u001b[0mmeasure_star_centers\u001b[0m\u001b[0;34m(\u001b[0m\u001b[0mskysub_science_array\u001b[0m\u001b[0;34m,\u001b[0m \u001b[0mscinames_list\u001b[0m\u001b[0;34m,\u001b[0m \u001b[0msciheader\u001b[0m\u001b[0;34m,\u001b[0m \u001b[0msaturated\u001b[0m\u001b[0;34m,\u001b[0m \u001b[0malignflag\u001b[0m\u001b[0;34m,\u001b[0m \u001b[0mcurrent_dir\u001b[0m\u001b[0;34m,\u001b[0m \u001b[0msaveframes\u001b[0m \u001b[0;34m=\u001b[0m \u001b[0;32mTrue\u001b[0m\u001b[0;34m)\u001b[0m\u001b[0;34m\u001b[0m\u001b[0;34m\u001b[0m\u001b[0m\n\u001b[0m",
      "\u001b[0;31mNameError\u001b[0m: name 'skysub_science_array' is not defined"
     ]
    }
   ],
   "source": [
    "# get current directory where reduced frames are written\n",
    "current_dir = os.getcwd()\n",
    "\n",
    "# measure star positions in all of the images\n",
    "xcen, ycen = measure_star_centers(skysub_science_array, scinames_list, sciheader, saturated, alignflag, current_dir, saveframes = True)\n"
   ]
  },
  {
   "cell_type": "markdown",
   "metadata": {},
   "source": [
    "# everything below is previous testing"
   ]
  },
  {
   "cell_type": "code",
   "execution_count": null,
   "metadata": {},
   "outputs": [],
   "source": [
    "!export XPA_METHOD='unix'"
   ]
  },
  {
   "cell_type": "code",
   "execution_count": null,
   "metadata": {},
   "outputs": [],
   "source": [
    "# get current directory where reduced frames are written\n",
    "current_dir = os.getcwd()\n",
    "\n",
    "# measure star positions in all of the images\n",
    "xcen, ycen = measure_star_centers(skysub_science_array[:,:,1:3], scinames_list[1:3], sciheader, saturated, alignflag, current_dir, saveframes = True)"
   ]
  },
  {
   "cell_type": "code",
   "execution_count": null,
   "metadata": {},
   "outputs": [],
   "source": [
    "print('xcen:', xcen, 'ycen:', ycen)"
   ]
  },
  {
   "cell_type": "code",
   "execution_count": null,
   "metadata": {},
   "outputs": [],
   "source": [
    "#SHIFTED_IMAGES\n",
    "#STACKED\n",
    "#FINAL\n",
    "t0=time.time()\n",
    "# final step (!) - shift and combine all of the images.\n",
    "rotate_shift_align(xcen, ycen, angle, skysub_science_array[:,:,1:3], objname, sciheader, current_dir, imsize=1024)\n",
    "\n",
    "t1 = time.time()\n",
    "timetaken = (t1-t0)/60.\n",
    "print(f\"Completed reduction of {totalframes} images in {timetaken} minutes.\")\n",
    "\n",
    "\n",
    "\n",
    "\n"
   ]
  },
  {
   "cell_type": "code",
   "execution_count": null,
   "metadata": {},
   "outputs": [],
   "source": []
  },
  {
   "cell_type": "code",
   "execution_count": null,
   "metadata": {},
   "outputs": [],
   "source": [
    "reduced_array = glob.glob('reduced*')\n",
    "\n",
    "for ii in reduced_array:\n",
    "    reducedsci = fits.getdata(ii)\n",
    "    reducedsci_header = fits.getheader(ii)\n",
    "    \n",
    "    xcen = reducedsci_header['CRPIX1A']\n",
    "    ycen = reducedsci_header['CRPIX2A']\n",
    "    \n",
    "    vmin1, vmax1 = interval.get_limits(reducedsci)\n",
    "    plt.imshow(reducedsci, vmin=vmin1, vmax=vmax1)\n",
    "    plt.plot(xcen, ycen, marker = 'o', markersize = 10)\n",
    "    plt.show()\n",
    "\n"
   ]
  },
  {
   "cell_type": "markdown",
   "metadata": {},
   "source": []
  },
  {
   "cell_type": "code",
   "execution_count": null,
   "metadata": {},
   "outputs": [],
   "source": [
    "n = len(scinames_list)\n",
    "\n",
    "xcen = np.zeros(n)\n",
    "ycen = np.zeros(n)\n",
    "\n",
    "idl = pidly.IDL('/Applications/exelis/idl/bin/idl')\n",
    "idl_changedir = 'cd, ' + f'\"{current_dir}\"'\n",
    "idl(idl_changedir)\n",
    "\n",
    "for ii in range(0, 1):\n",
    "    # idl('name = \"'+sciname+'\"')\n",
    "    idl('name = \"'+ scinames_list[ii] +'\"')\n",
    "    idl('im=MRDFITS(name,0,/FSCALE,/SILENT)')\n",
    "    idl('tmp=SMOOTH(im,21,/EDGE_TRUNCATE)')\n",
    "    idl('tmp[0:100,*]=0.0')\n",
    "    idl('tmp[924:1023,*]=0.0')\n",
    "    idl('tmp[*,0:100]=0.0')\n",
    "    idl('tmp[*,1000:1023]=0.0')\n",
    "    idl('foo=MAX(tmp,ind,/NAN)')\n",
    "    idl('ind=ARRAY_INDICES(tmp,ind)')\n",
    "    idl('print, foo')\n",
    "    \n",
    "    if saturated == 0:\n",
    "        idl('GCNTRD,im[ind[0]-20:ind[0]+20,ind[1]-20:ind[1]+20],20,20,xcen,ycen,3.0')\n",
    "        idl('xcen += ind[0]-20.0')\n",
    "        idl('ycen += ind[1]-20.0')\n",
    "        xcen[ii], ycen[ii] = idl.xcen, idl.ycen\n",
    "    else:\n",
    "        idl('x=ind[0]')\n",
    "        idl('y=ind[1]')\n",
    "        idl('sim = im[x-20:x+20,y-20:y+20]')\n",
    "        idl('weights = (sim*0.0)+1.0')\n",
    "        idl('weights[WHERE(sim ge 0.7*MAX(sim,/NAN))]=0.0')\n",
    "        idl('fit=MPFIT2DPEAK(sim,A,WEIGHTS=weights)')\n",
    "        idl('xcen = A[4]+(x-20.0)')\n",
    "        idl('ycen = A[5]+(y-20.0)')\n",
    "        xcen[ii], ycen[ii] = idl.xcen, idl.ycen\n",
    "        idl('print, A[5]')\n",
    "\n",
    "print(xcen[ii],ycen[ii])"
   ]
  },
  {
   "cell_type": "code",
   "execution_count": null,
   "metadata": {},
   "outputs": [],
   "source": [
    "idl.A"
   ]
  },
  {
   "cell_type": "code",
   "execution_count": null,
   "metadata": {},
   "outputs": [],
   "source": [
    "\n",
    "reduce_raw_sci(path_to_raw_sci, path_to_raw_darks, path_to_raw_flats, objname, flattype, saturated, alignflag, imsize = 1024)"
   ]
  }
 ],
 "metadata": {
  "kernelspec": {
   "display_name": "Python 3",
   "language": "python",
   "name": "python3"
  },
  "language_info": {
   "codemirror_mode": {
    "name": "ipython",
    "version": 3
   },
   "file_extension": ".py",
   "mimetype": "text/x-python",
   "name": "python",
   "nbconvert_exporter": "python",
   "pygments_lexer": "ipython3",
   "version": "3.7.2"
  }
 },
 "nbformat": 4,
 "nbformat_minor": 2
}
